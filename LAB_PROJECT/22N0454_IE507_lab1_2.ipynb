{
  "nbformat": 4,
  "nbformat_minor": 0,
  "metadata": {
    "colab": {
      "name": "22N0454_IE507_lab1_2.ipynb",
      "provenance": [],
      "collapsed_sections": []
    },
    "kernelspec": {
      "name": "python3",
      "display_name": "Python 3"
    },
    "language_info": {
      "name": "python"
    }
  },
  "cells": [
    {
      "cell_type": "code",
      "execution_count": null,
      "metadata": {
        "id": "AN0wU6ZdJ5xe",
        "colab": {
          "base_uri": "https://localhost:8080/"
        },
        "outputId": "b8302f5f-d9d3-48b2-af7d-a453f5e9efac"
      },
      "outputs": [
        {
          "output_type": "stream",
          "name": "stdout",
          "text": [
            "\u001b[K     |████████████████████████████████| 9.6 MB 5.3 MB/s \n",
            "\u001b[K     |████████████████████████████████| 49 kB 5.6 MB/s \n",
            "\u001b[?25h"
          ]
        }
      ],
      "source": [
        "!pip install -q pyomo\n"
      ]
    },
    {
      "cell_type": "markdown",
      "source": [
        "Problem 2 \\\\\n",
        "$\\max \\ 0.082x_1+0.036x_2+0.0156x_3+0.033x_4+0.054x_5+0.0125y \\\\ \\text{s.t.} \\ 3x_1-3x_2+5x_3-x_4+x_5-y \\leq 80 \\\\ x_3+2x_4+4y \\geq 30 \\\\ \\frac{3x_1-1.5x_3+2x_4+1.8x_5+6x_6}{-x_2-x_4+x_5} \\leq 3.6 \\\\\n",
        "\\frac{x_1-2x_2+3x_3+4x_4+5x_5}{-x_1+x_3+x_6-2y}\\leq 6 \\\\ x_1,x_2,x_3,x_4,x_5,x_6 \\geq 0 \\\\ y\\in [-0.2,5.5] $"
      ],
      "metadata": {
        "id": "4d-HoCL_KSBr"
      }
    },
    {
      "cell_type": "markdown",
      "source": [
        "[# case 1 let we are assume that -x2-x4+x5>0\n",
        "and -x1+x3+x6-x6-2y>0 [link text](https://)"
      ],
      "metadata": {
        "id": "7yw_T2NYKR8E"
      }
    },
    {
      "cell_type": "code",
      "source": [
        "from pyomo.environ import *\n"
      ],
      "metadata": {
        "id": "EugQVYKyKVzt"
      },
      "execution_count": null,
      "outputs": []
    },
    {
      "cell_type": "code",
      "source": [
        "# create a model1\n",
        "model2 = ConcreteModel()"
      ],
      "metadata": {
        "id": "T3__80U0Kcyn"
      },
      "execution_count": null,
      "outputs": []
    },
    {
      "cell_type": "code",
      "source": [
        "# declare decision variables\n",
        "model2.x1 = Var(domain=Reals)\n",
        "model2.x2 = Var(domain=Reals)\n",
        "model2.x3 = Var(domain=Reals)\n",
        "model2.x4 = Var(domain=Reals)\n",
        "model2.x5= Var(domain=Reals)\n",
        "model2.y = Var(domain=Reals)\n",
        "model2.x6= Var(domain=Reals)\n"
      ],
      "metadata": {
        "id": "bto6uX1PLPoy"
      },
      "execution_count": null,
      "outputs": []
    },
    {
      "cell_type": "code",
      "source": [
        "# declare objective\n",
        "model2.cost = Objective(expr = 0.082*model2.x1 + 0.036*model2.x2 + 0.0156*model2.x3 +0.033*model2.x4+0.054*model2.x5+0.0125*model2.y , sense= maximize)"
      ],
      "metadata": {
        "id": "WqbUHlPMM5f-"
      },
      "execution_count": null,
      "outputs": []
    },
    {
      "cell_type": "code",
      "source": [
        "# declare constraints\n",
        "model2.constr1 = Constraint(expr = 3*model2.x1-3*model2.x2+5*model2.x3-model2.x4+model2.x5-model2.y <=80)\n",
        "model2.constr2 = Constraint(expr = model2.x3 +2*model2.x4+4*model2.y>= 30)\n",
        "model2.constr3 = Constraint(expr = 3*model2.x1 -1.5*model2.x3+2*model2.x4 +1.8*model2.x5+6*model2.x6 +3.6*model2.x2+3.6*model2.x4-3.6*model2.x5 <=0 )\n",
        "model2.constr4 = Constraint(expr = model2.x1 -2*model2.x2 +3*model2.x3+ 4*model2.x4+5*model2.x5+6*model2.x1-6*model2.x3-6*model2.x6+12*model2.y <=0)\n",
        "model2.constr6 = Constraint(expr = model2.x1>= 0)\n",
        "model2.constr7 = Constraint(expr = model2.x2>=0)\n",
        "model2.constr8 = Constraint(expr = model2.x3>= 0)\n",
        "model2.constr9= Constraint(expr = model2.x4>= 0)\n",
        "model2.constr10 = Constraint(expr = model2.x5>= 0)\n",
        "model2.constr11= Constraint(expr = model2.y>= -0.2)\n",
        "model2.constr12= Constraint(expr = model2.y<=5.5)\n",
        "model2.constr13 = Constraint(expr = model2.x6>= 0)\n"
      ],
      "metadata": {
        "id": "DOlK07IHM5lg"
      },
      "execution_count": null,
      "outputs": []
    },
    {
      "cell_type": "code",
      "source": [
        "model2.pprint()"
      ],
      "metadata": {
        "id": "f2pvCkmUN3Mi",
        "colab": {
          "base_uri": "https://localhost:8080/"
        },
        "outputId": "bdf53583-39d4-40f6-8d11-21c01241368b"
      },
      "execution_count": null,
      "outputs": [
        {
          "output_type": "stream",
          "name": "stdout",
          "text": [
            "7 Var Declarations\n",
            "    x1 : Size=1, Index=None\n",
            "        Key  : Lower : Value : Upper : Fixed : Stale : Domain\n",
            "        None :  None :  None :  None : False :  True :  Reals\n",
            "    x2 : Size=1, Index=None\n",
            "        Key  : Lower : Value : Upper : Fixed : Stale : Domain\n",
            "        None :  None :  None :  None : False :  True :  Reals\n",
            "    x3 : Size=1, Index=None\n",
            "        Key  : Lower : Value : Upper : Fixed : Stale : Domain\n",
            "        None :  None :  None :  None : False :  True :  Reals\n",
            "    x4 : Size=1, Index=None\n",
            "        Key  : Lower : Value : Upper : Fixed : Stale : Domain\n",
            "        None :  None :  None :  None : False :  True :  Reals\n",
            "    x5 : Size=1, Index=None\n",
            "        Key  : Lower : Value : Upper : Fixed : Stale : Domain\n",
            "        None :  None :  None :  None : False :  True :  Reals\n",
            "    x6 : Size=1, Index=None\n",
            "        Key  : Lower : Value : Upper : Fixed : Stale : Domain\n",
            "        None :  None :  None :  None : False :  True :  Reals\n",
            "    y : Size=1, Index=None\n",
            "        Key  : Lower : Value : Upper : Fixed : Stale : Domain\n",
            "        None :  None :  None :  None : False :  True :  Reals\n",
            "\n",
            "1 Objective Declarations\n",
            "    cost : Size=1, Index=None, Active=True\n",
            "        Key  : Active : Sense    : Expression\n",
            "        None :   True : maximize : 0.082*x1 + 0.036*x2 + 0.0156*x3 + 0.033*x4 + 0.054*x5 + 0.0125*y\n",
            "\n",
            "12 Constraint Declarations\n",
            "    constr1 : Size=1, Index=None, Active=True\n",
            "        Key  : Lower : Body                             : Upper : Active\n",
            "        None :  -Inf : 3*x1 - 3*x2 + 5*x3 - x4 + x5 - y :  80.0 :   True\n",
            "    constr10 : Size=1, Index=None, Active=True\n",
            "        Key  : Lower : Body : Upper : Active\n",
            "        None :   0.0 :   x5 :  +Inf :   True\n",
            "    constr11 : Size=1, Index=None, Active=True\n",
            "        Key  : Lower : Body : Upper : Active\n",
            "        None :  -0.2 :    y :  +Inf :   True\n",
            "    constr12 : Size=1, Index=None, Active=True\n",
            "        Key  : Lower : Body : Upper : Active\n",
            "        None :  -Inf :    y :   5.5 :   True\n",
            "    constr13 : Size=1, Index=None, Active=True\n",
            "        Key  : Lower : Body : Upper : Active\n",
            "        None :   0.0 :   x6 :  +Inf :   True\n",
            "    constr2 : Size=1, Index=None, Active=True\n",
            "        Key  : Lower : Body            : Upper : Active\n",
            "        None :  30.0 : x3 + 2*x4 + 4*y :  +Inf :   True\n",
            "    constr3 : Size=1, Index=None, Active=True\n",
            "        Key  : Lower : Body                                                            : Upper : Active\n",
            "        None :  -Inf : 3*x1 - 1.5*x3 + 2*x4 + 1.8*x5 + 6*x6 + 3.6*x2 + 3.6*x4 - 3.6*x5 :   0.0 :   True\n",
            "    constr4 : Size=1, Index=None, Active=True\n",
            "        Key  : Lower : Body                                                       : Upper : Active\n",
            "        None :  -Inf : x1 - 2*x2 + 3*x3 + 4*x4 + 5*x5 + 6*x1 - 6*x3 - 6*x6 + 12*y :   0.0 :   True\n",
            "    constr6 : Size=1, Index=None, Active=True\n",
            "        Key  : Lower : Body : Upper : Active\n",
            "        None :   0.0 :   x1 :  +Inf :   True\n",
            "    constr7 : Size=1, Index=None, Active=True\n",
            "        Key  : Lower : Body : Upper : Active\n",
            "        None :   0.0 :   x2 :  +Inf :   True\n",
            "    constr8 : Size=1, Index=None, Active=True\n",
            "        Key  : Lower : Body : Upper : Active\n",
            "        None :   0.0 :   x3 :  +Inf :   True\n",
            "    constr9 : Size=1, Index=None, Active=True\n",
            "        Key  : Lower : Body : Upper : Active\n",
            "        None :   0.0 :   x4 :  +Inf :   True\n",
            "\n",
            "20 Declarations: x1 x2 x3 x4 x5 y x6 cost constr1 constr2 constr3 constr4 constr6 constr7 constr8 constr9 constr10 constr11 constr12 constr13\n"
          ]
        }
      ]
    },
    {
      "cell_type": "code",
      "source": [
        "!apt-get install -y -qq glpk-utils"
      ],
      "metadata": {
        "id": "Asb9uq1BN4_C",
        "colab": {
          "base_uri": "https://localhost:8080/"
        },
        "outputId": "06cc5fc4-31fd-451f-a9b6-815f77de887a"
      },
      "execution_count": null,
      "outputs": [
        {
          "output_type": "stream",
          "name": "stdout",
          "text": [
            "Selecting previously unselected package libsuitesparseconfig5:amd64.\n",
            "(Reading database ... 155673 files and directories currently installed.)\n",
            "Preparing to unpack .../libsuitesparseconfig5_1%3a5.1.2-2_amd64.deb ...\n",
            "Unpacking libsuitesparseconfig5:amd64 (1:5.1.2-2) ...\n",
            "Selecting previously unselected package libamd2:amd64.\n",
            "Preparing to unpack .../libamd2_1%3a5.1.2-2_amd64.deb ...\n",
            "Unpacking libamd2:amd64 (1:5.1.2-2) ...\n",
            "Selecting previously unselected package libcolamd2:amd64.\n",
            "Preparing to unpack .../libcolamd2_1%3a5.1.2-2_amd64.deb ...\n",
            "Unpacking libcolamd2:amd64 (1:5.1.2-2) ...\n",
            "Selecting previously unselected package libglpk40:amd64.\n",
            "Preparing to unpack .../libglpk40_4.65-1_amd64.deb ...\n",
            "Unpacking libglpk40:amd64 (4.65-1) ...\n",
            "Selecting previously unselected package glpk-utils.\n",
            "Preparing to unpack .../glpk-utils_4.65-1_amd64.deb ...\n",
            "Unpacking glpk-utils (4.65-1) ...\n",
            "Setting up libsuitesparseconfig5:amd64 (1:5.1.2-2) ...\n",
            "Setting up libcolamd2:amd64 (1:5.1.2-2) ...\n",
            "Setting up libamd2:amd64 (1:5.1.2-2) ...\n",
            "Setting up libglpk40:amd64 (4.65-1) ...\n",
            "Setting up glpk-utils (4.65-1) ...\n",
            "Processing triggers for libc-bin (2.27-3ubuntu1.3) ...\n",
            "Processing triggers for man-db (2.8.3-2ubuntu0.1) ...\n"
          ]
        }
      ]
    },
    {
      "cell_type": "code",
      "source": [
        "SolverFactory('glpk', executable='/usr/bin/glpsol').solve(model2).write()"
      ],
      "metadata": {
        "id": "g16MIVACOK4V",
        "colab": {
          "base_uri": "https://localhost:8080/"
        },
        "outputId": "c40530a0-5454-4a52-843d-5f4fad265a18"
      },
      "execution_count": null,
      "outputs": [
        {
          "output_type": "stream",
          "name": "stdout",
          "text": [
            "# ==========================================================\n",
            "# = Solver Results                                         =\n",
            "# ==========================================================\n",
            "# ----------------------------------------------------------\n",
            "#   Problem Information\n",
            "# ----------------------------------------------------------\n",
            "Problem: \n",
            "- Name: unknown\n",
            "  Lower bound: 2.12102483443709\n",
            "  Upper bound: 2.12102483443709\n",
            "  Number of objectives: 1\n",
            "  Number of constraints: 13\n",
            "  Number of variables: 8\n",
            "  Number of nonzeros: 31\n",
            "  Sense: maximize\n",
            "# ----------------------------------------------------------\n",
            "#   Solver Information\n",
            "# ----------------------------------------------------------\n",
            "Solver: \n",
            "- Status: ok\n",
            "  Termination condition: optimal\n",
            "  Statistics: \n",
            "    Branch and bound: \n",
            "      Number of bounded subproblems: 0\n",
            "      Number of created subproblems: 0\n",
            "  Error rc: 0\n",
            "  Time: 0.016778230667114258\n",
            "# ----------------------------------------------------------\n",
            "#   Solution Information\n",
            "# ----------------------------------------------------------\n",
            "Solution: \n",
            "- number of solutions: 0\n",
            "  number of solutions displayed: 0\n"
          ]
        }
      ]
    },
    {
      "cell_type": "code",
      "source": [
        "# display solution\n",
        "print('\\nCost = ', model2.cost())\n",
        "print('\\nDecision Variables')\n",
        "print('x1 = ', model2.x1())\n",
        "print('x2 = ', model2.x2())\n",
        "print('x3 = ', model2.x3())\n",
        "print('x4 = ', model2.x4())\n",
        "print('x5 = ', model2.x5())\n",
        "print('x6 = ', model2.x6())\n",
        "\n",
        "print('y = ', model2.y())\n",
        "print('\\nConstraints')\n",
        "print('Constraint 1  = ', model2.constr1())\n",
        "print('Constraint 2  = ', model2.constr2())\n",
        "print('Constraint 3  = ', model2.constr3())\n",
        "print('Constraint 4  = ', model2.constr4())\n",
        "print('Constraint 6  = ', model2.constr6())\n",
        "print('Constraint 7  = ', model2.constr7())\n",
        "print('Constraint 8  = ', model2.constr8())\n",
        "print('Constraint 9  = ', model2.constr9())\n",
        "print('Constraint 10  = ', model2.constr10())\n",
        "print('Constraint 11 = ', model2.constr11())\n",
        "print('Constraint 12 = ', model2.constr12())\n",
        "print('Constraint 13 = ', model2.constr13())\n"
      ],
      "metadata": {
        "id": "EsC-vX4VOWWi",
        "colab": {
          "base_uri": "https://localhost:8080/"
        },
        "outputId": "08e6629b-a0bb-47fa-bae9-e29f9b4473ea"
      },
      "execution_count": null,
      "outputs": [
        {
          "output_type": "stream",
          "name": "stdout",
          "text": [
            "\n",
            "Cost =  2.1210248344370837\n",
            "\n",
            "Decision Variables\n",
            "x1 =  0.0\n",
            "x2 =  19.5529801324503\n",
            "x3 =  24.2384105960265\n",
            "x4 =  0.0\n",
            "x5 =  18.9072847682119\n",
            "x6 =  0.0\n",
            "y =  1.44039735099338\n",
            "\n",
            "Constraints\n",
            "Constraint 1  =  80.00000000000011\n",
            "Constraint 2  =  30.00000000000002\n",
            "Constraint 3  =  -9.947598300641403e-14\n",
            "Constraint 4  =  -4.618527782440651e-14\n",
            "Constraint 6  =  0.0\n",
            "Constraint 7  =  19.5529801324503\n",
            "Constraint 8  =  24.2384105960265\n",
            "Constraint 9  =  0.0\n",
            "Constraint 10  =  18.9072847682119\n",
            "Constraint 11 =  1.44039735099338\n",
            "Constraint 12 =  1.44039735099338\n",
            "Constraint 13 =  0.0\n"
          ]
        }
      ]
    },
    {
      "cell_type": "code",
      "source": [
        ""
      ],
      "metadata": {
        "id": "-7YUI63rMFi6"
      },
      "execution_count": null,
      "outputs": []
    },
    {
      "cell_type": "markdown",
      "source": [
        " ans 1,$ \\max \\ \\ 0.08x_1+0.036x_2+0.0156x_3+0.033x_4+0.054x_5+0.0125y \\\\ \\textbf{s.t.} \\ \\ 3x_1-3x_2+5x_3-x_4+x_5-y\\leq 180 \\\\ \\ \\ \\ x_3+2x_4+4y\\geq 30 \\\\ \\ \\ 3x_1+3.6x_2-1.5x_3+5.6x-4-1.8x_5+6x_6<=0 \\\\ \\ 7x_1-2x_2-3x_3+4x_4+5x_5-6x_6+12y<=0 \\\\ \\ x_1,x_2,x_3,x_4,x_5,x_6,\\geq 0 \\\\ \\ y\\in \\ [-0.2,5.5] $\n",
        " # case 1 let we are assume that -x2-x4+x5>0\n",
        "# and -x1+x3+x6-x6-2y>0 \n",
        "the solution are exits but \n",
        "they are not satisfy of the eqn because  we are assumption is wrong \n",
        "Constraint 1  =  80.00000000000011 are active \n",
        "Constraint 2  =  30.00000000000002 are active \n",
        "Constraint 6  =  0.0 are active \n",
        "Constraint 9  =  0.0 are active\n",
        "Constraint 13 =  0.0 are active \n"
      ],
      "metadata": {
        "id": "lxdb1okVTBiY"
      }
    },
    {
      "cell_type": "markdown",
      "source": [
        ""
      ],
      "metadata": {
        "id": "OZFt4rqKTBo_"
      }
    },
    {
      "cell_type": "markdown",
      "source": [
        "# case 2 # case 1 let we are assume that -x2-x4+x5<0\n",
        "and -x1+x3+x6-x6-2y>0 "
      ],
      "metadata": {
        "id": "i_flbmuFTBu2"
      }
    },
    {
      "cell_type": "code",
      "source": [
        ""
      ],
      "metadata": {
        "id": "oBzJN6WfN5mA"
      },
      "execution_count": null,
      "outputs": []
    },
    {
      "cell_type": "code",
      "source": [
        ""
      ],
      "metadata": {
        "id": "-GnXixzFMEbc"
      },
      "execution_count": null,
      "outputs": []
    },
    {
      "cell_type": "code",
      "source": [
        "!pip install -q pyomo\n"
      ],
      "metadata": {
        "id": "9Ct37s2hN52s"
      },
      "execution_count": null,
      "outputs": []
    },
    {
      "cell_type": "code",
      "source": [
        "from pyomo.environ import *\n"
      ],
      "metadata": {
        "id": "EoVJYfBnLyvn"
      },
      "execution_count": null,
      "outputs": []
    },
    {
      "cell_type": "code",
      "source": [
        "# create a model1\n",
        "model21 = ConcreteModel()"
      ],
      "metadata": {
        "id": "a3U04p6-MsR1"
      },
      "execution_count": null,
      "outputs": []
    },
    {
      "cell_type": "code",
      "source": [
        "# declare decision variables\n",
        "model21.x1 = Var(domain=Reals)\n",
        "model21.x2 = Var(domain=Reals)\n",
        "model21.x3 = Var(domain=Reals)\n",
        "model21.x4 = Var(domain=Reals)\n",
        "model21.x5= Var(domain=Reals)\n",
        "model21.y = Var(domain=Reals)\n",
        "model21.x6= Var(domain=Reals)\n"
      ],
      "metadata": {
        "id": "1PYhQt8gKJLL"
      },
      "execution_count": null,
      "outputs": []
    },
    {
      "cell_type": "code",
      "source": [
        "# declare objective\n",
        "model21.cost = Objective(expr = 0.082*model21.x1 + 0.036*model21.x2 + 0.0156*model21.x3 +0.033*model21.x4+0.054*model21.x5+0.125*model21.y , sense= maximize)"
      ],
      "metadata": {
        "id": "3vUnm2H-NWya"
      },
      "execution_count": null,
      "outputs": []
    },
    {
      "cell_type": "code",
      "source": [
        "# declare constraints\n",
        "model21.constr1 = Constraint(expr = 3*model21.x1-3*model21.x2+5*model21.x3-model21.x4+model21.x5-model21.y <=80)\n",
        "model21.constr2 = Constraint(expr = model21.x3 +2*model21.x4+4*model21.y>= 30)\n",
        "model21.constr3 = Constraint(expr = 3*model21.x1 -1.5*model21.x3+2*model21.x4 +1.8*model21.x5+6*model21.x6 +3.6*model21.x2+3.6*model21.x4-3.6*model21.x5 >=0 )\n",
        "model21.constr4 = Constraint(expr = model2.x1 -2*model21.x2 +3*model21.x3+ 4*model21.x4+5*model21.x5+6*model21.x1-6*model21.x3-6*model21.x6+12*model21.y <=0)\n",
        "model21.constr6 = Constraint(expr = model21.x1>= 0)\n",
        "model21.constr7 = Constraint(expr = model21.x2>=0)\n",
        "model21.constr8 = Constraint(expr = model21.x3>= 0)\n",
        "model21.constr9= Constraint(expr = model21.x4>= 0)\n",
        "model21.constr10 = Constraint(expr = model21.x5>= 0)\n",
        "model21.constr11= Constraint(expr = model21.y>= -0.2)\n",
        "model21.constr12= Constraint(expr = model21.y<=5.5)\n",
        "model21.constr13 = Constraint(expr = model21.x6>= 0)\n"
      ],
      "metadata": {
        "id": "wUckEAk8NXFN"
      },
      "execution_count": null,
      "outputs": []
    },
    {
      "cell_type": "code",
      "source": [
        "model21.pprint()"
      ],
      "metadata": {
        "colab": {
          "base_uri": "https://localhost:8080/"
        },
        "id": "Eh39uLU_NXI8",
        "outputId": "dc2f524d-40a7-4750-8bff-acf3fdbbf1b3"
      },
      "execution_count": null,
      "outputs": [
        {
          "output_type": "stream",
          "name": "stdout",
          "text": [
            "7 Var Declarations\n",
            "    x1 : Size=1, Index=None\n",
            "        Key  : Lower : Value : Upper : Fixed : Stale : Domain\n",
            "        None :  None :  None :  None : False :  True :  Reals\n",
            "    x2 : Size=1, Index=None\n",
            "        Key  : Lower : Value : Upper : Fixed : Stale : Domain\n",
            "        None :  None :  None :  None : False :  True :  Reals\n",
            "    x3 : Size=1, Index=None\n",
            "        Key  : Lower : Value : Upper : Fixed : Stale : Domain\n",
            "        None :  None :  None :  None : False :  True :  Reals\n",
            "    x4 : Size=1, Index=None\n",
            "        Key  : Lower : Value : Upper : Fixed : Stale : Domain\n",
            "        None :  None :  None :  None : False :  True :  Reals\n",
            "    x5 : Size=1, Index=None\n",
            "        Key  : Lower : Value : Upper : Fixed : Stale : Domain\n",
            "        None :  None :  None :  None : False :  True :  Reals\n",
            "    x6 : Size=1, Index=None\n",
            "        Key  : Lower : Value : Upper : Fixed : Stale : Domain\n",
            "        None :  None :  None :  None : False :  True :  Reals\n",
            "    y : Size=1, Index=None\n",
            "        Key  : Lower : Value : Upper : Fixed : Stale : Domain\n",
            "        None :  None :  None :  None : False :  True :  Reals\n",
            "\n",
            "1 Objective Declarations\n",
            "    cost : Size=1, Index=None, Active=True\n",
            "        Key  : Active : Sense    : Expression\n",
            "        None :   True : maximize : 0.082*x1 + 0.036*x2 + 0.0156*x3 + 0.033*x4 + 0.054*x5 + 0.125*y\n",
            "\n",
            "12 Constraint Declarations\n",
            "    constr1 : Size=1, Index=None, Active=True\n",
            "        Key  : Lower : Body                             : Upper : Active\n",
            "        None :  -Inf : 3*x1 - 3*x2 + 5*x3 - x4 + x5 - y :  80.0 :   True\n",
            "    constr10 : Size=1, Index=None, Active=True\n",
            "        Key  : Lower : Body : Upper : Active\n",
            "        None :   0.0 :   x5 :  +Inf :   True\n",
            "    constr11 : Size=1, Index=None, Active=True\n",
            "        Key  : Lower : Body : Upper : Active\n",
            "        None :  -0.2 :    y :  +Inf :   True\n",
            "    constr12 : Size=1, Index=None, Active=True\n",
            "        Key  : Lower : Body : Upper : Active\n",
            "        None :  -Inf :    y :   5.5 :   True\n",
            "    constr13 : Size=1, Index=None, Active=True\n",
            "        Key  : Lower : Body : Upper : Active\n",
            "        None :   0.0 :   x6 :  +Inf :   True\n",
            "    constr2 : Size=1, Index=None, Active=True\n",
            "        Key  : Lower : Body            : Upper : Active\n",
            "        None :  30.0 : x3 + 2*x4 + 4*y :  +Inf :   True\n",
            "    constr3 : Size=1, Index=None, Active=True\n",
            "        Key  : Lower : Body                                                            : Upper : Active\n",
            "        None :   0.0 : 3*x1 - 1.5*x3 + 2*x4 + 1.8*x5 + 6*x6 + 3.6*x2 + 3.6*x4 - 3.6*x5 :  +Inf :   True\n",
            "    constr4 : Size=1, Index=None, Active=True\n",
            "        Key  : Lower : Body                                                       : Upper : Active\n",
            "        None :  -Inf : x1 - 2*x2 + 3*x3 + 4*x4 + 5*x5 + 6*x1 - 6*x3 - 6*x6 + 12*y :   0.0 :   True\n",
            "    constr6 : Size=1, Index=None, Active=True\n",
            "        Key  : Lower : Body : Upper : Active\n",
            "        None :   0.0 :   x1 :  +Inf :   True\n",
            "    constr7 : Size=1, Index=None, Active=True\n",
            "        Key  : Lower : Body : Upper : Active\n",
            "        None :   0.0 :   x2 :  +Inf :   True\n",
            "    constr8 : Size=1, Index=None, Active=True\n",
            "        Key  : Lower : Body : Upper : Active\n",
            "        None :   0.0 :   x3 :  +Inf :   True\n",
            "    constr9 : Size=1, Index=None, Active=True\n",
            "        Key  : Lower : Body : Upper : Active\n",
            "        None :   0.0 :   x4 :  +Inf :   True\n",
            "\n",
            "20 Declarations: x1 x2 x3 x4 x5 y x6 cost constr1 constr2 constr3 constr4 constr6 constr7 constr8 constr9 constr10 constr11 constr12 constr13\n"
          ]
        }
      ]
    },
    {
      "cell_type": "code",
      "source": [
        "!apt-get install -y -qq glpk-utils"
      ],
      "metadata": {
        "id": "Jl4FEu-ENXNb"
      },
      "execution_count": null,
      "outputs": []
    },
    {
      "cell_type": "code",
      "source": [
        "SolverFactory('glpk', executable='/usr/bin/glpsol').solve(model21).write()"
      ],
      "metadata": {
        "colab": {
          "base_uri": "https://localhost:8080/",
          "height": 484
        },
        "id": "a4lpCYZbNXRu",
        "outputId": "a9bbac80-81d0-410d-dbdc-5b30e70e3605"
      },
      "execution_count": null,
      "outputs": [
        {
          "output_type": "error",
          "ename": "KeyError",
          "evalue": "ignored",
          "traceback": [
            "\u001b[0;31m---------------------------------------------------------------------------\u001b[0m",
            "\u001b[0;31mKeyError\u001b[0m                                  Traceback (most recent call last)",
            "\u001b[0;32m<ipython-input-19-13c03a374d6c>\u001b[0m in \u001b[0;36m<module>\u001b[0;34m()\u001b[0m\n\u001b[0;32m----> 1\u001b[0;31m \u001b[0mSolverFactory\u001b[0m\u001b[0;34m(\u001b[0m\u001b[0;34m'glpk'\u001b[0m\u001b[0;34m,\u001b[0m \u001b[0mexecutable\u001b[0m\u001b[0;34m=\u001b[0m\u001b[0;34m'/usr/bin/glpsol'\u001b[0m\u001b[0;34m)\u001b[0m\u001b[0;34m.\u001b[0m\u001b[0msolve\u001b[0m\u001b[0;34m(\u001b[0m\u001b[0mmodel21\u001b[0m\u001b[0;34m)\u001b[0m\u001b[0;34m.\u001b[0m\u001b[0mwrite\u001b[0m\u001b[0;34m(\u001b[0m\u001b[0;34m)\u001b[0m\u001b[0;34m\u001b[0m\u001b[0;34m\u001b[0m\u001b[0m\n\u001b[0m",
            "\u001b[0;32m/usr/local/lib/python3.7/dist-packages/pyomo/opt/base/solvers.py\u001b[0m in \u001b[0;36msolve\u001b[0;34m(self, *args, **kwds)\u001b[0m\n\u001b[1;32m    568\u001b[0m             \u001b[0minitial_time\u001b[0m \u001b[0;34m=\u001b[0m \u001b[0mtime\u001b[0m\u001b[0;34m.\u001b[0m\u001b[0mtime\u001b[0m\u001b[0;34m(\u001b[0m\u001b[0;34m)\u001b[0m\u001b[0;34m\u001b[0m\u001b[0;34m\u001b[0m\u001b[0m\n\u001b[1;32m    569\u001b[0m \u001b[0;34m\u001b[0m\u001b[0m\n\u001b[0;32m--> 570\u001b[0;31m             \u001b[0mself\u001b[0m\u001b[0;34m.\u001b[0m\u001b[0m_presolve\u001b[0m\u001b[0;34m(\u001b[0m\u001b[0;34m*\u001b[0m\u001b[0margs\u001b[0m\u001b[0;34m,\u001b[0m \u001b[0;34m**\u001b[0m\u001b[0mkwds\u001b[0m\u001b[0;34m)\u001b[0m\u001b[0;34m\u001b[0m\u001b[0;34m\u001b[0m\u001b[0m\n\u001b[0m\u001b[1;32m    571\u001b[0m \u001b[0;34m\u001b[0m\u001b[0m\n\u001b[1;32m    572\u001b[0m             \u001b[0mpresolve_completion_time\u001b[0m \u001b[0;34m=\u001b[0m \u001b[0mtime\u001b[0m\u001b[0;34m.\u001b[0m\u001b[0mtime\u001b[0m\u001b[0;34m(\u001b[0m\u001b[0;34m)\u001b[0m\u001b[0;34m\u001b[0m\u001b[0;34m\u001b[0m\u001b[0m\n",
            "\u001b[0;32m/usr/local/lib/python3.7/dist-packages/pyomo/opt/solver/shellcmd.py\u001b[0m in \u001b[0;36m_presolve\u001b[0;34m(self, *args, **kwds)\u001b[0m\n\u001b[1;32m    207\u001b[0m         \u001b[0mself\u001b[0m\u001b[0;34m.\u001b[0m\u001b[0m_define_signal_handlers\u001b[0m \u001b[0;34m=\u001b[0m \u001b[0mkwds\u001b[0m\u001b[0;34m.\u001b[0m\u001b[0mpop\u001b[0m\u001b[0;34m(\u001b[0m\u001b[0;34m'use_signal_handling'\u001b[0m\u001b[0;34m,\u001b[0m\u001b[0;32mNone\u001b[0m\u001b[0;34m)\u001b[0m\u001b[0;34m\u001b[0m\u001b[0;34m\u001b[0m\u001b[0m\n\u001b[1;32m    208\u001b[0m \u001b[0;34m\u001b[0m\u001b[0m\n\u001b[0;32m--> 209\u001b[0;31m         \u001b[0mOptSolver\u001b[0m\u001b[0;34m.\u001b[0m\u001b[0m_presolve\u001b[0m\u001b[0;34m(\u001b[0m\u001b[0mself\u001b[0m\u001b[0;34m,\u001b[0m \u001b[0;34m*\u001b[0m\u001b[0margs\u001b[0m\u001b[0;34m,\u001b[0m \u001b[0;34m**\u001b[0m\u001b[0mkwds\u001b[0m\u001b[0;34m)\u001b[0m\u001b[0;34m\u001b[0m\u001b[0;34m\u001b[0m\u001b[0m\n\u001b[0m\u001b[1;32m    210\u001b[0m \u001b[0;34m\u001b[0m\u001b[0m\n\u001b[1;32m    211\u001b[0m         \u001b[0;31m#\u001b[0m\u001b[0;34m\u001b[0m\u001b[0;34m\u001b[0m\u001b[0;34m\u001b[0m\u001b[0m\n",
            "\u001b[0;32m/usr/local/lib/python3.7/dist-packages/pyomo/opt/base/solvers.py\u001b[0m in \u001b[0;36m_presolve\u001b[0;34m(self, *args, **kwds)\u001b[0m\n\u001b[1;32m    668\u001b[0m                                       \u001b[0mself\u001b[0m\u001b[0;34m.\u001b[0m\u001b[0m_problem_format\u001b[0m\u001b[0;34m,\u001b[0m\u001b[0;34m\u001b[0m\u001b[0;34m\u001b[0m\u001b[0m\n\u001b[1;32m    669\u001b[0m                                       \u001b[0mself\u001b[0m\u001b[0;34m.\u001b[0m\u001b[0m_valid_problem_formats\u001b[0m\u001b[0;34m,\u001b[0m\u001b[0;34m\u001b[0m\u001b[0;34m\u001b[0m\u001b[0m\n\u001b[0;32m--> 670\u001b[0;31m                                       **kwds)\n\u001b[0m\u001b[1;32m    671\u001b[0m             \u001b[0mtotal_time\u001b[0m \u001b[0;34m=\u001b[0m \u001b[0mtime\u001b[0m\u001b[0;34m.\u001b[0m\u001b[0mtime\u001b[0m\u001b[0;34m(\u001b[0m\u001b[0;34m)\u001b[0m \u001b[0;34m-\u001b[0m \u001b[0mwrite_start_time\u001b[0m\u001b[0;34m\u001b[0m\u001b[0;34m\u001b[0m\u001b[0m\n\u001b[1;32m    672\u001b[0m             \u001b[0;32mif\u001b[0m \u001b[0mself\u001b[0m\u001b[0;34m.\u001b[0m\u001b[0m_report_timing\u001b[0m\u001b[0;34m:\u001b[0m\u001b[0;34m\u001b[0m\u001b[0;34m\u001b[0m\u001b[0m\n",
            "\u001b[0;32m/usr/local/lib/python3.7/dist-packages/pyomo/opt/base/solvers.py\u001b[0m in \u001b[0;36m_convert_problem\u001b[0;34m(self, args, problem_format, valid_problem_formats, **kwds)\u001b[0m\n\u001b[1;32m    720\u001b[0m                                \u001b[0mvalid_problem_formats\u001b[0m\u001b[0;34m,\u001b[0m\u001b[0;34m\u001b[0m\u001b[0;34m\u001b[0m\u001b[0m\n\u001b[1;32m    721\u001b[0m                                \u001b[0mself\u001b[0m\u001b[0;34m.\u001b[0m\u001b[0mhas_capability\u001b[0m\u001b[0;34m,\u001b[0m\u001b[0;34m\u001b[0m\u001b[0;34m\u001b[0m\u001b[0m\n\u001b[0;32m--> 722\u001b[0;31m                                **kwds)\n\u001b[0m\u001b[1;32m    723\u001b[0m \u001b[0;34m\u001b[0m\u001b[0m\n\u001b[1;32m    724\u001b[0m     \u001b[0;32mdef\u001b[0m \u001b[0m_default_results_format\u001b[0m\u001b[0;34m(\u001b[0m\u001b[0mself\u001b[0m\u001b[0;34m,\u001b[0m \u001b[0mprob_format\u001b[0m\u001b[0;34m)\u001b[0m\u001b[0;34m:\u001b[0m\u001b[0;34m\u001b[0m\u001b[0;34m\u001b[0m\u001b[0m\n",
            "\u001b[0;32m/usr/local/lib/python3.7/dist-packages/pyomo/opt/base/convert.py\u001b[0m in \u001b[0;36mconvert_problem\u001b[0;34m(args, target_problem_type, valid_problem_types, has_capability, **kwds)\u001b[0m\n\u001b[1;32m     99\u001b[0m                     \u001b[0mtmpkw\u001b[0m \u001b[0;34m=\u001b[0m \u001b[0mkwds\u001b[0m\u001b[0;34m\u001b[0m\u001b[0;34m\u001b[0m\u001b[0m\n\u001b[1;32m    100\u001b[0m                     \u001b[0mtmpkw\u001b[0m\u001b[0;34m[\u001b[0m\u001b[0;34m'capabilities'\u001b[0m\u001b[0;34m]\u001b[0m \u001b[0;34m=\u001b[0m \u001b[0mhas_capability\u001b[0m\u001b[0;34m\u001b[0m\u001b[0;34m\u001b[0m\u001b[0m\n\u001b[0;32m--> 101\u001b[0;31m                     \u001b[0mproblem_files\u001b[0m\u001b[0;34m,\u001b[0m \u001b[0msymbol_map\u001b[0m \u001b[0;34m=\u001b[0m \u001b[0mconverter\u001b[0m\u001b[0;34m.\u001b[0m\u001b[0mapply\u001b[0m\u001b[0;34m(\u001b[0m\u001b[0;34m*\u001b[0m\u001b[0mtmp\u001b[0m\u001b[0;34m,\u001b[0m \u001b[0;34m**\u001b[0m\u001b[0mtmpkw\u001b[0m\u001b[0;34m)\u001b[0m\u001b[0;34m\u001b[0m\u001b[0;34m\u001b[0m\u001b[0m\n\u001b[0m\u001b[1;32m    102\u001b[0m                     \u001b[0;32mreturn\u001b[0m \u001b[0mproblem_files\u001b[0m\u001b[0;34m,\u001b[0m \u001b[0mptype\u001b[0m\u001b[0;34m,\u001b[0m \u001b[0msymbol_map\u001b[0m\u001b[0;34m\u001b[0m\u001b[0;34m\u001b[0m\u001b[0m\n\u001b[1;32m    103\u001b[0m \u001b[0;34m\u001b[0m\u001b[0m\n",
            "\u001b[0;32m/usr/local/lib/python3.7/dist-packages/pyomo/solvers/plugins/converter/model.py\u001b[0m in \u001b[0;36mapply\u001b[0;34m(self, *args, **kwds)\u001b[0m\n\u001b[1;32m     80\u001b[0m                             \u001b[0mformat\u001b[0m\u001b[0;34m=\u001b[0m\u001b[0mProblemFormat\u001b[0m\u001b[0;34m.\u001b[0m\u001b[0mcpxlp\u001b[0m\u001b[0;34m,\u001b[0m\u001b[0;34m\u001b[0m\u001b[0;34m\u001b[0m\u001b[0m\n\u001b[1;32m     81\u001b[0m                             \u001b[0msolver_capability\u001b[0m\u001b[0;34m=\u001b[0m\u001b[0mcapabilities\u001b[0m\u001b[0;34m,\u001b[0m\u001b[0;34m\u001b[0m\u001b[0;34m\u001b[0m\u001b[0m\n\u001b[0;32m---> 82\u001b[0;31m                             io_options=io_options)\n\u001b[0m\u001b[1;32m     83\u001b[0m                 \u001b[0;32mreturn\u001b[0m \u001b[0;34m(\u001b[0m\u001b[0mproblem_filename\u001b[0m\u001b[0;34m,\u001b[0m\u001b[0;34m)\u001b[0m\u001b[0;34m,\u001b[0m \u001b[0msymbol_map_id\u001b[0m\u001b[0;34m\u001b[0m\u001b[0;34m\u001b[0m\u001b[0m\n\u001b[1;32m     84\u001b[0m             \u001b[0;32melse\u001b[0m\u001b[0;34m:\u001b[0m\u001b[0;34m\u001b[0m\u001b[0;34m\u001b[0m\u001b[0m\n",
            "\u001b[0;32m/usr/local/lib/python3.7/dist-packages/pyomo/core/base/block.py\u001b[0m in \u001b[0;36mwrite\u001b[0;34m(self, filename, format, solver_capability, io_options)\u001b[0m\n\u001b[1;32m   1809\u001b[0m                                           \u001b[0mfilename\u001b[0m\u001b[0;34m,\u001b[0m\u001b[0;34m\u001b[0m\u001b[0;34m\u001b[0m\u001b[0m\n\u001b[1;32m   1810\u001b[0m                                           \u001b[0msolver_capability\u001b[0m\u001b[0;34m,\u001b[0m\u001b[0;34m\u001b[0m\u001b[0;34m\u001b[0m\u001b[0m\n\u001b[0;32m-> 1811\u001b[0;31m                                           io_options)\n\u001b[0m\u001b[1;32m   1812\u001b[0m         \u001b[0msmap_id\u001b[0m \u001b[0;34m=\u001b[0m \u001b[0mid\u001b[0m\u001b[0;34m(\u001b[0m\u001b[0msmap\u001b[0m\u001b[0;34m)\u001b[0m\u001b[0;34m\u001b[0m\u001b[0;34m\u001b[0m\u001b[0m\n\u001b[1;32m   1813\u001b[0m         \u001b[0;32mif\u001b[0m \u001b[0;32mnot\u001b[0m \u001b[0mhasattr\u001b[0m\u001b[0;34m(\u001b[0m\u001b[0mself\u001b[0m\u001b[0;34m,\u001b[0m \u001b[0;34m'solutions'\u001b[0m\u001b[0;34m)\u001b[0m\u001b[0;34m:\u001b[0m\u001b[0;34m\u001b[0m\u001b[0;34m\u001b[0m\u001b[0m\n",
            "\u001b[0;32mpyomo/repn/plugins/cpxlp.pyx\u001b[0m in \u001b[0;36mpyomo.repn.plugins.cpxlp.ProblemWriter_cpxlp.__call__\u001b[0;34m()\u001b[0m\n",
            "\u001b[0;32mpyomo/repn/plugins/cpxlp.pyx\u001b[0m in \u001b[0;36mpyomo.repn.plugins.cpxlp.ProblemWriter_cpxlp.__call__\u001b[0;34m()\u001b[0m\n",
            "\u001b[0;32mpyomo/repn/plugins/cpxlp.pyx\u001b[0m in \u001b[0;36mpyomo.repn.plugins.cpxlp.ProblemWriter_cpxlp.__call__\u001b[0;34m()\u001b[0m\n",
            "\u001b[0;32mpyomo/repn/plugins/cpxlp.pyx\u001b[0m in \u001b[0;36mpyomo.repn.plugins.cpxlp.ProblemWriter_cpxlp._print_model_LP\u001b[0;34m()\u001b[0m\n",
            "\u001b[0;32mpyomo/repn/plugins/cpxlp.pyx\u001b[0m in \u001b[0;36mpyomo.repn.plugins.cpxlp.ProblemWriter_cpxlp._print_expr_canonical\u001b[0;34m()\u001b[0m\n",
            "\u001b[0;31mKeyError\u001b[0m: 140634935675472"
          ]
        }
      ]
    },
    {
      "cell_type": "code",
      "source": [
        "# display solution\n",
        "print('\\nCost = ', model21.cost())\n",
        "print('\\nDecision Variables')\n",
        "print('x1 = ', model21.x1())\n",
        "print('x2 = ', model21.x2())\n",
        "print('x3 = ', model21.x3())\n",
        "print('x4 = ', model21.x4())\n",
        "print('x5 = ', model21.x5())\n",
        "print('x6 = ', model21.x6())\n",
        "\n",
        "print('y = ', model21.y())\n",
        "print('\\nConstraints')\n",
        "print('Constraint 1  = ', model21.constr1())\n",
        "print('Constraint 2  = ', model21.constr2())\n",
        "print('Constraint 3  = ', model21.constr3())\n",
        "print('Constraint 4  = ', model21.constr4())\n",
        "print('Constraint 6  = ', model21.constr6())\n",
        "print('Constraint 7  = ', model21.constr7())\n",
        "print('Constraint 8  = ', model21.constr8())\n",
        "print('Constraint 9  = ', model21.constr9())\n",
        "print('Constraint 10  = ', model21.constr10())\n",
        "print('Constraint 11 = ', model21.constr11())\n",
        "print('Constraint 12 = ', model21.constr12())\n",
        "print('Constraint 13 = ', model21.constr12())\n"
      ],
      "metadata": {
        "id": "1KECVjElNXVo"
      },
      "execution_count": null,
      "outputs": []
    },
    {
      "cell_type": "markdown",
      "source": [
        "# there are feasible solution"
      ],
      "metadata": {
        "id": "jQZPZkfRQO80"
      }
    },
    {
      "cell_type": "markdown",
      "source": [
        ""
      ],
      "metadata": {
        "id": "ePrg8xbpQRy7"
      }
    },
    {
      "cell_type": "code",
      "source": [
        "!pip install -q pyomo\n"
      ],
      "metadata": {
        "id": "z4vESSOnNXZd"
      },
      "execution_count": null,
      "outputs": []
    },
    {
      "cell_type": "markdown",
      "source": [
        "# case 3 let we are assume that -x2-x4+x5>0\n",
        "# and -x1+x3+x6-x6-2y<0"
      ],
      "metadata": {
        "id": "KAtDeBx8lLMP"
      }
    },
    {
      "cell_type": "code",
      "source": [
        ""
      ],
      "metadata": {
        "id": "JdGkt4_ulKtb"
      },
      "execution_count": null,
      "outputs": []
    },
    {
      "cell_type": "code",
      "source": [
        "from pyomo.environ import *\n"
      ],
      "metadata": {
        "id": "kGxueubGP9ZR"
      },
      "execution_count": null,
      "outputs": []
    },
    {
      "cell_type": "code",
      "source": [
        "# create a model1\n",
        "model22 = ConcreteModel()"
      ],
      "metadata": {
        "id": "DPyt10mFP9pm"
      },
      "execution_count": null,
      "outputs": []
    },
    {
      "cell_type": "code",
      "source": [
        "# declare decision variables\n",
        "model22.x1 = Var(domain=Reals)\n",
        "model22.x2 = Var(domain=Reals)\n",
        "model22.x3 = Var(domain=Reals)\n",
        "model22.x4 = Var(domain=Reals)\n",
        "model22.x5= Var(domain=Reals)\n",
        "model22.y = Var(domain=Reals)\n",
        "model22.x6= Var(domain=Reals)\n"
      ],
      "metadata": {
        "id": "J7A4sIh1P9uA"
      },
      "execution_count": null,
      "outputs": []
    },
    {
      "cell_type": "code",
      "source": [
        "# declare objective\n",
        "model22.cost = Objective(expr = 0.082*model22.x1 + 0.036*model22.x2 + 0.0156*model22.x3 +0.033*model22.x4+0.054*model22.x5+0.125*model22.y , sense= maximize)"
      ],
      "metadata": {
        "id": "e85k99f_QLsg"
      },
      "execution_count": null,
      "outputs": []
    },
    {
      "cell_type": "code",
      "source": [
        "# declare constraints\n",
        "model22.constr1 = Constraint(expr = 3*model22.x1-3*model22.x2+5*model22.x3-model22.x4+model22.x5-model22.y <=80)\n",
        "model22.constr2 = Constraint(expr = model22.x3 +2*model22.x4+4*model22.y>= 30)\n",
        "model22.constr3 = Constraint(expr = 3*model22.x1 -1.5*model2.x3+2*model2.x4 +1.8*model2.x5+6*model2.x6 +3.6*model2.x2+3.6*model2.x4-3.6*model2.x5 <=0 )\n",
        "model22.constr4 = Constraint(expr = model2.x1 -2*model2.x2 +3*model2.x3+ 4*model2.x4+5*model2.x5+6*model2.x1-6*model2.x3-6*model2.x6+12*model2.y >=0)\n",
        "model22.constr6 = Constraint(expr = model22.x1>= 0)\n",
        "model2.constr7 = Constraint(expr = model22.x2>=0)\n",
        "model22.constr8 = Constraint(expr = model2.x3>= 0)\n",
        "model22.constr9= Constraint(expr = model22.x4>= 0)\n",
        "model22.constr10 = Constraint(expr = model22.x5>= 0)\n",
        "model22.constr11= Constraint(expr = model22.y>= -0.2)\n",
        "model22.constr12= Constraint(expr = model22.y<=5.5)\n",
        "model22.constr13 = Constraint(expr = model22.x6>= 0)\n"
      ],
      "metadata": {
        "colab": {
          "base_uri": "https://localhost:8080/"
        },
        "id": "n8jzifyuNXdy",
        "outputId": "1ad1c244-2081-4327-a2a8-ab65641ea6f4"
      },
      "execution_count": null,
      "outputs": [
        {
          "output_type": "stream",
          "name": "stdout",
          "text": [
            "WARNING: Implicitly replacing the Component attribute constr7 (type=<class\n",
            "    'pyomo.core.base.constraint.ScalarConstraint'>) on block unknown with a\n",
            "    new Component (type=<class\n",
            "    'pyomo.core.base.constraint.AbstractScalarConstraint'>). This is usually\n",
            "    indicative of a modelling error. To avoid this warning, use\n",
            "    block.del_component() and block.add_component().\n"
          ]
        }
      ]
    },
    {
      "cell_type": "code",
      "source": [
        "model22.pprint()"
      ],
      "metadata": {
        "colab": {
          "base_uri": "https://localhost:8080/"
        },
        "id": "ETEYKubZNXzc",
        "outputId": "de32f93b-7d99-4f82-f968-af7de31b5692"
      },
      "execution_count": null,
      "outputs": [
        {
          "output_type": "stream",
          "name": "stdout",
          "text": [
            "7 Var Declarations\n",
            "    x1 : Size=1, Index=None\n",
            "        Key  : Lower : Value : Upper : Fixed : Stale : Domain\n",
            "        None :  None :  None :  None : False :  True :  Reals\n",
            "    x2 : Size=1, Index=None\n",
            "        Key  : Lower : Value : Upper : Fixed : Stale : Domain\n",
            "        None :  None :  None :  None : False :  True :  Reals\n",
            "    x3 : Size=1, Index=None\n",
            "        Key  : Lower : Value : Upper : Fixed : Stale : Domain\n",
            "        None :  None :  None :  None : False :  True :  Reals\n",
            "    x4 : Size=1, Index=None\n",
            "        Key  : Lower : Value : Upper : Fixed : Stale : Domain\n",
            "        None :  None :  None :  None : False :  True :  Reals\n",
            "    x5 : Size=1, Index=None\n",
            "        Key  : Lower : Value : Upper : Fixed : Stale : Domain\n",
            "        None :  None :  None :  None : False :  True :  Reals\n",
            "    x6 : Size=1, Index=None\n",
            "        Key  : Lower : Value : Upper : Fixed : Stale : Domain\n",
            "        None :  None :  None :  None : False :  True :  Reals\n",
            "    y : Size=1, Index=None\n",
            "        Key  : Lower : Value : Upper : Fixed : Stale : Domain\n",
            "        None :  None :  None :  None : False :  True :  Reals\n",
            "\n",
            "1 Objective Declarations\n",
            "    cost : Size=1, Index=None, Active=True\n",
            "        Key  : Active : Sense    : Expression\n",
            "        None :   True : maximize : 0.082*x1 + 0.036*x2 + 0.0156*x3 + 0.033*x4 + 0.054*x5 + 0.125*y\n",
            "\n",
            "11 Constraint Declarations\n",
            "    constr1 : Size=1, Index=None, Active=True\n",
            "        Key  : Lower : Body                             : Upper : Active\n",
            "        None :  -Inf : 3*x1 - 3*x2 + 5*x3 - x4 + x5 - y :  80.0 :   True\n",
            "    constr10 : Size=1, Index=None, Active=True\n",
            "        Key  : Lower : Body : Upper : Active\n",
            "        None :   0.0 :   x5 :  +Inf :   True\n",
            "    constr11 : Size=1, Index=None, Active=True\n",
            "        Key  : Lower : Body : Upper : Active\n",
            "        None :  -0.2 :    y :  +Inf :   True\n",
            "    constr12 : Size=1, Index=None, Active=True\n",
            "        Key  : Lower : Body : Upper : Active\n",
            "        None :  -Inf :    y :   5.5 :   True\n",
            "    constr13 : Size=1, Index=None, Active=True\n",
            "        Key  : Lower : Body : Upper : Active\n",
            "        None :   0.0 :   x6 :  +Inf :   True\n",
            "    constr2 : Size=1, Index=None, Active=True\n",
            "        Key  : Lower : Body            : Upper : Active\n",
            "        None :  30.0 : x3 + 2*x4 + 4*y :  +Inf :   True\n",
            "    constr3 : Size=1, Index=None, Active=True\n",
            "        Key  : Lower : Body                                                            : Upper : Active\n",
            "        None :  -Inf : 3*x1 - 1.5*x3 + 2*x4 + 1.8*x5 + 6*x6 + 3.6*x2 + 3.6*x4 - 3.6*x5 :   0.0 :   True\n",
            "    constr4 : Size=1, Index=None, Active=True\n",
            "        Key  : Lower : Body                                                       : Upper : Active\n",
            "        None :   0.0 : x1 - 2*x2 + 3*x3 + 4*x4 + 5*x5 + 6*x1 - 6*x3 - 6*x6 + 12*y :  +Inf :   True\n",
            "    constr6 : Size=1, Index=None, Active=True\n",
            "        Key  : Lower : Body : Upper : Active\n",
            "        None :   0.0 :   x1 :  +Inf :   True\n",
            "    constr8 : Size=1, Index=None, Active=True\n",
            "        Key  : Lower : Body : Upper : Active\n",
            "        None :   0.0 :   x3 :  +Inf :   True\n",
            "    constr9 : Size=1, Index=None, Active=True\n",
            "        Key  : Lower : Body : Upper : Active\n",
            "        None :   0.0 :   x4 :  +Inf :   True\n",
            "\n",
            "19 Declarations: x1 x2 x3 x4 x5 y x6 cost constr1 constr2 constr3 constr4 constr6 constr8 constr9 constr10 constr11 constr12 constr13\n"
          ]
        }
      ]
    },
    {
      "cell_type": "code",
      "source": [
        "!apt-get install -y -qq glpk-utils"
      ],
      "metadata": {
        "id": "SIbl-SAFNX84"
      },
      "execution_count": null,
      "outputs": []
    },
    {
      "cell_type": "code",
      "source": [
        "SolverFactory('glpk', executable='/usr/bin/glpsol').solve(model22).write()"
      ],
      "metadata": {
        "colab": {
          "base_uri": "https://localhost:8080/",
          "height": 484
        },
        "id": "W6FWQ-4iWj1m",
        "outputId": "ce589fb2-a6a9-47ba-dccf-34e7c52cd50f"
      },
      "execution_count": null,
      "outputs": [
        {
          "output_type": "error",
          "ename": "KeyError",
          "evalue": "ignored",
          "traceback": [
            "\u001b[0;31m---------------------------------------------------------------------------\u001b[0m",
            "\u001b[0;31mKeyError\u001b[0m                                  Traceback (most recent call last)",
            "\u001b[0;32m<ipython-input-44-3e06dc06f030>\u001b[0m in \u001b[0;36m<module>\u001b[0;34m()\u001b[0m\n\u001b[0;32m----> 1\u001b[0;31m \u001b[0mSolverFactory\u001b[0m\u001b[0;34m(\u001b[0m\u001b[0;34m'glpk'\u001b[0m\u001b[0;34m,\u001b[0m \u001b[0mexecutable\u001b[0m\u001b[0;34m=\u001b[0m\u001b[0;34m'/usr/bin/glpsol'\u001b[0m\u001b[0;34m)\u001b[0m\u001b[0;34m.\u001b[0m\u001b[0msolve\u001b[0m\u001b[0;34m(\u001b[0m\u001b[0mmodel22\u001b[0m\u001b[0;34m)\u001b[0m\u001b[0;34m.\u001b[0m\u001b[0mwrite\u001b[0m\u001b[0;34m(\u001b[0m\u001b[0;34m)\u001b[0m\u001b[0;34m\u001b[0m\u001b[0;34m\u001b[0m\u001b[0m\n\u001b[0m",
            "\u001b[0;32m/usr/local/lib/python3.7/dist-packages/pyomo/opt/base/solvers.py\u001b[0m in \u001b[0;36msolve\u001b[0;34m(self, *args, **kwds)\u001b[0m\n\u001b[1;32m    568\u001b[0m             \u001b[0minitial_time\u001b[0m \u001b[0;34m=\u001b[0m \u001b[0mtime\u001b[0m\u001b[0;34m.\u001b[0m\u001b[0mtime\u001b[0m\u001b[0;34m(\u001b[0m\u001b[0;34m)\u001b[0m\u001b[0;34m\u001b[0m\u001b[0;34m\u001b[0m\u001b[0m\n\u001b[1;32m    569\u001b[0m \u001b[0;34m\u001b[0m\u001b[0m\n\u001b[0;32m--> 570\u001b[0;31m             \u001b[0mself\u001b[0m\u001b[0;34m.\u001b[0m\u001b[0m_presolve\u001b[0m\u001b[0;34m(\u001b[0m\u001b[0;34m*\u001b[0m\u001b[0margs\u001b[0m\u001b[0;34m,\u001b[0m \u001b[0;34m**\u001b[0m\u001b[0mkwds\u001b[0m\u001b[0;34m)\u001b[0m\u001b[0;34m\u001b[0m\u001b[0;34m\u001b[0m\u001b[0m\n\u001b[0m\u001b[1;32m    571\u001b[0m \u001b[0;34m\u001b[0m\u001b[0m\n\u001b[1;32m    572\u001b[0m             \u001b[0mpresolve_completion_time\u001b[0m \u001b[0;34m=\u001b[0m \u001b[0mtime\u001b[0m\u001b[0;34m.\u001b[0m\u001b[0mtime\u001b[0m\u001b[0;34m(\u001b[0m\u001b[0;34m)\u001b[0m\u001b[0;34m\u001b[0m\u001b[0;34m\u001b[0m\u001b[0m\n",
            "\u001b[0;32m/usr/local/lib/python3.7/dist-packages/pyomo/opt/solver/shellcmd.py\u001b[0m in \u001b[0;36m_presolve\u001b[0;34m(self, *args, **kwds)\u001b[0m\n\u001b[1;32m    207\u001b[0m         \u001b[0mself\u001b[0m\u001b[0;34m.\u001b[0m\u001b[0m_define_signal_handlers\u001b[0m \u001b[0;34m=\u001b[0m \u001b[0mkwds\u001b[0m\u001b[0;34m.\u001b[0m\u001b[0mpop\u001b[0m\u001b[0;34m(\u001b[0m\u001b[0;34m'use_signal_handling'\u001b[0m\u001b[0;34m,\u001b[0m\u001b[0;32mNone\u001b[0m\u001b[0;34m)\u001b[0m\u001b[0;34m\u001b[0m\u001b[0;34m\u001b[0m\u001b[0m\n\u001b[1;32m    208\u001b[0m \u001b[0;34m\u001b[0m\u001b[0m\n\u001b[0;32m--> 209\u001b[0;31m         \u001b[0mOptSolver\u001b[0m\u001b[0;34m.\u001b[0m\u001b[0m_presolve\u001b[0m\u001b[0;34m(\u001b[0m\u001b[0mself\u001b[0m\u001b[0;34m,\u001b[0m \u001b[0;34m*\u001b[0m\u001b[0margs\u001b[0m\u001b[0;34m,\u001b[0m \u001b[0;34m**\u001b[0m\u001b[0mkwds\u001b[0m\u001b[0;34m)\u001b[0m\u001b[0;34m\u001b[0m\u001b[0;34m\u001b[0m\u001b[0m\n\u001b[0m\u001b[1;32m    210\u001b[0m \u001b[0;34m\u001b[0m\u001b[0m\n\u001b[1;32m    211\u001b[0m         \u001b[0;31m#\u001b[0m\u001b[0;34m\u001b[0m\u001b[0;34m\u001b[0m\u001b[0;34m\u001b[0m\u001b[0m\n",
            "\u001b[0;32m/usr/local/lib/python3.7/dist-packages/pyomo/opt/base/solvers.py\u001b[0m in \u001b[0;36m_presolve\u001b[0;34m(self, *args, **kwds)\u001b[0m\n\u001b[1;32m    668\u001b[0m                                       \u001b[0mself\u001b[0m\u001b[0;34m.\u001b[0m\u001b[0m_problem_format\u001b[0m\u001b[0;34m,\u001b[0m\u001b[0;34m\u001b[0m\u001b[0;34m\u001b[0m\u001b[0m\n\u001b[1;32m    669\u001b[0m                                       \u001b[0mself\u001b[0m\u001b[0;34m.\u001b[0m\u001b[0m_valid_problem_formats\u001b[0m\u001b[0;34m,\u001b[0m\u001b[0;34m\u001b[0m\u001b[0;34m\u001b[0m\u001b[0m\n\u001b[0;32m--> 670\u001b[0;31m                                       **kwds)\n\u001b[0m\u001b[1;32m    671\u001b[0m             \u001b[0mtotal_time\u001b[0m \u001b[0;34m=\u001b[0m \u001b[0mtime\u001b[0m\u001b[0;34m.\u001b[0m\u001b[0mtime\u001b[0m\u001b[0;34m(\u001b[0m\u001b[0;34m)\u001b[0m \u001b[0;34m-\u001b[0m \u001b[0mwrite_start_time\u001b[0m\u001b[0;34m\u001b[0m\u001b[0;34m\u001b[0m\u001b[0m\n\u001b[1;32m    672\u001b[0m             \u001b[0;32mif\u001b[0m \u001b[0mself\u001b[0m\u001b[0;34m.\u001b[0m\u001b[0m_report_timing\u001b[0m\u001b[0;34m:\u001b[0m\u001b[0;34m\u001b[0m\u001b[0;34m\u001b[0m\u001b[0m\n",
            "\u001b[0;32m/usr/local/lib/python3.7/dist-packages/pyomo/opt/base/solvers.py\u001b[0m in \u001b[0;36m_convert_problem\u001b[0;34m(self, args, problem_format, valid_problem_formats, **kwds)\u001b[0m\n\u001b[1;32m    720\u001b[0m                                \u001b[0mvalid_problem_formats\u001b[0m\u001b[0;34m,\u001b[0m\u001b[0;34m\u001b[0m\u001b[0;34m\u001b[0m\u001b[0m\n\u001b[1;32m    721\u001b[0m                                \u001b[0mself\u001b[0m\u001b[0;34m.\u001b[0m\u001b[0mhas_capability\u001b[0m\u001b[0;34m,\u001b[0m\u001b[0;34m\u001b[0m\u001b[0;34m\u001b[0m\u001b[0m\n\u001b[0;32m--> 722\u001b[0;31m                                **kwds)\n\u001b[0m\u001b[1;32m    723\u001b[0m \u001b[0;34m\u001b[0m\u001b[0m\n\u001b[1;32m    724\u001b[0m     \u001b[0;32mdef\u001b[0m \u001b[0m_default_results_format\u001b[0m\u001b[0;34m(\u001b[0m\u001b[0mself\u001b[0m\u001b[0;34m,\u001b[0m \u001b[0mprob_format\u001b[0m\u001b[0;34m)\u001b[0m\u001b[0;34m:\u001b[0m\u001b[0;34m\u001b[0m\u001b[0;34m\u001b[0m\u001b[0m\n",
            "\u001b[0;32m/usr/local/lib/python3.7/dist-packages/pyomo/opt/base/convert.py\u001b[0m in \u001b[0;36mconvert_problem\u001b[0;34m(args, target_problem_type, valid_problem_types, has_capability, **kwds)\u001b[0m\n\u001b[1;32m     99\u001b[0m                     \u001b[0mtmpkw\u001b[0m \u001b[0;34m=\u001b[0m \u001b[0mkwds\u001b[0m\u001b[0;34m\u001b[0m\u001b[0;34m\u001b[0m\u001b[0m\n\u001b[1;32m    100\u001b[0m                     \u001b[0mtmpkw\u001b[0m\u001b[0;34m[\u001b[0m\u001b[0;34m'capabilities'\u001b[0m\u001b[0;34m]\u001b[0m \u001b[0;34m=\u001b[0m \u001b[0mhas_capability\u001b[0m\u001b[0;34m\u001b[0m\u001b[0;34m\u001b[0m\u001b[0m\n\u001b[0;32m--> 101\u001b[0;31m                     \u001b[0mproblem_files\u001b[0m\u001b[0;34m,\u001b[0m \u001b[0msymbol_map\u001b[0m \u001b[0;34m=\u001b[0m \u001b[0mconverter\u001b[0m\u001b[0;34m.\u001b[0m\u001b[0mapply\u001b[0m\u001b[0;34m(\u001b[0m\u001b[0;34m*\u001b[0m\u001b[0mtmp\u001b[0m\u001b[0;34m,\u001b[0m \u001b[0;34m**\u001b[0m\u001b[0mtmpkw\u001b[0m\u001b[0;34m)\u001b[0m\u001b[0;34m\u001b[0m\u001b[0;34m\u001b[0m\u001b[0m\n\u001b[0m\u001b[1;32m    102\u001b[0m                     \u001b[0;32mreturn\u001b[0m \u001b[0mproblem_files\u001b[0m\u001b[0;34m,\u001b[0m \u001b[0mptype\u001b[0m\u001b[0;34m,\u001b[0m \u001b[0msymbol_map\u001b[0m\u001b[0;34m\u001b[0m\u001b[0;34m\u001b[0m\u001b[0m\n\u001b[1;32m    103\u001b[0m \u001b[0;34m\u001b[0m\u001b[0m\n",
            "\u001b[0;32m/usr/local/lib/python3.7/dist-packages/pyomo/solvers/plugins/converter/model.py\u001b[0m in \u001b[0;36mapply\u001b[0;34m(self, *args, **kwds)\u001b[0m\n\u001b[1;32m     80\u001b[0m                             \u001b[0mformat\u001b[0m\u001b[0;34m=\u001b[0m\u001b[0mProblemFormat\u001b[0m\u001b[0;34m.\u001b[0m\u001b[0mcpxlp\u001b[0m\u001b[0;34m,\u001b[0m\u001b[0;34m\u001b[0m\u001b[0;34m\u001b[0m\u001b[0m\n\u001b[1;32m     81\u001b[0m                             \u001b[0msolver_capability\u001b[0m\u001b[0;34m=\u001b[0m\u001b[0mcapabilities\u001b[0m\u001b[0;34m,\u001b[0m\u001b[0;34m\u001b[0m\u001b[0;34m\u001b[0m\u001b[0m\n\u001b[0;32m---> 82\u001b[0;31m                             io_options=io_options)\n\u001b[0m\u001b[1;32m     83\u001b[0m                 \u001b[0;32mreturn\u001b[0m \u001b[0;34m(\u001b[0m\u001b[0mproblem_filename\u001b[0m\u001b[0;34m,\u001b[0m\u001b[0;34m)\u001b[0m\u001b[0;34m,\u001b[0m \u001b[0msymbol_map_id\u001b[0m\u001b[0;34m\u001b[0m\u001b[0;34m\u001b[0m\u001b[0m\n\u001b[1;32m     84\u001b[0m             \u001b[0;32melse\u001b[0m\u001b[0;34m:\u001b[0m\u001b[0;34m\u001b[0m\u001b[0;34m\u001b[0m\u001b[0m\n",
            "\u001b[0;32m/usr/local/lib/python3.7/dist-packages/pyomo/core/base/block.py\u001b[0m in \u001b[0;36mwrite\u001b[0;34m(self, filename, format, solver_capability, io_options)\u001b[0m\n\u001b[1;32m   1809\u001b[0m                                           \u001b[0mfilename\u001b[0m\u001b[0;34m,\u001b[0m\u001b[0;34m\u001b[0m\u001b[0;34m\u001b[0m\u001b[0m\n\u001b[1;32m   1810\u001b[0m                                           \u001b[0msolver_capability\u001b[0m\u001b[0;34m,\u001b[0m\u001b[0;34m\u001b[0m\u001b[0;34m\u001b[0m\u001b[0m\n\u001b[0;32m-> 1811\u001b[0;31m                                           io_options)\n\u001b[0m\u001b[1;32m   1812\u001b[0m         \u001b[0msmap_id\u001b[0m \u001b[0;34m=\u001b[0m \u001b[0mid\u001b[0m\u001b[0;34m(\u001b[0m\u001b[0msmap\u001b[0m\u001b[0;34m)\u001b[0m\u001b[0;34m\u001b[0m\u001b[0;34m\u001b[0m\u001b[0m\n\u001b[1;32m   1813\u001b[0m         \u001b[0;32mif\u001b[0m \u001b[0;32mnot\u001b[0m \u001b[0mhasattr\u001b[0m\u001b[0;34m(\u001b[0m\u001b[0mself\u001b[0m\u001b[0;34m,\u001b[0m \u001b[0;34m'solutions'\u001b[0m\u001b[0;34m)\u001b[0m\u001b[0;34m:\u001b[0m\u001b[0;34m\u001b[0m\u001b[0;34m\u001b[0m\u001b[0m\n",
            "\u001b[0;32mpyomo/repn/plugins/cpxlp.pyx\u001b[0m in \u001b[0;36mpyomo.repn.plugins.cpxlp.ProblemWriter_cpxlp.__call__\u001b[0;34m()\u001b[0m\n",
            "\u001b[0;32mpyomo/repn/plugins/cpxlp.pyx\u001b[0m in \u001b[0;36mpyomo.repn.plugins.cpxlp.ProblemWriter_cpxlp.__call__\u001b[0;34m()\u001b[0m\n",
            "\u001b[0;32mpyomo/repn/plugins/cpxlp.pyx\u001b[0m in \u001b[0;36mpyomo.repn.plugins.cpxlp.ProblemWriter_cpxlp.__call__\u001b[0;34m()\u001b[0m\n",
            "\u001b[0;32mpyomo/repn/plugins/cpxlp.pyx\u001b[0m in \u001b[0;36mpyomo.repn.plugins.cpxlp.ProblemWriter_cpxlp._print_model_LP\u001b[0;34m()\u001b[0m\n",
            "\u001b[0;32mpyomo/repn/plugins/cpxlp.pyx\u001b[0m in \u001b[0;36mpyomo.repn.plugins.cpxlp.ProblemWriter_cpxlp._print_expr_canonical\u001b[0;34m()\u001b[0m\n",
            "\u001b[0;31mKeyError\u001b[0m: 140634936885712"
          ]
        }
      ]
    },
    {
      "cell_type": "code",
      "source": [
        "SolverFactory('glpk', executable='/usr/bin/glpsol').solve(model22).write()"
      ],
      "metadata": {
        "colab": {
          "base_uri": "https://localhost:8080/",
          "height": 484
        },
        "id": "Eq3CshMLWj8s",
        "outputId": "2344a384-f1b1-40ef-afd8-c1a71a2ce3ab"
      },
      "execution_count": null,
      "outputs": [
        {
          "output_type": "error",
          "ename": "KeyError",
          "evalue": "ignored",
          "traceback": [
            "\u001b[0;31m---------------------------------------------------------------------------\u001b[0m",
            "\u001b[0;31mKeyError\u001b[0m                                  Traceback (most recent call last)",
            "\u001b[0;32m<ipython-input-48-3e06dc06f030>\u001b[0m in \u001b[0;36m<module>\u001b[0;34m()\u001b[0m\n\u001b[0;32m----> 1\u001b[0;31m \u001b[0mSolverFactory\u001b[0m\u001b[0;34m(\u001b[0m\u001b[0;34m'glpk'\u001b[0m\u001b[0;34m,\u001b[0m \u001b[0mexecutable\u001b[0m\u001b[0;34m=\u001b[0m\u001b[0;34m'/usr/bin/glpsol'\u001b[0m\u001b[0;34m)\u001b[0m\u001b[0;34m.\u001b[0m\u001b[0msolve\u001b[0m\u001b[0;34m(\u001b[0m\u001b[0mmodel22\u001b[0m\u001b[0;34m)\u001b[0m\u001b[0;34m.\u001b[0m\u001b[0mwrite\u001b[0m\u001b[0;34m(\u001b[0m\u001b[0;34m)\u001b[0m\u001b[0;34m\u001b[0m\u001b[0;34m\u001b[0m\u001b[0m\n\u001b[0m",
            "\u001b[0;32m/usr/local/lib/python3.7/dist-packages/pyomo/opt/base/solvers.py\u001b[0m in \u001b[0;36msolve\u001b[0;34m(self, *args, **kwds)\u001b[0m\n\u001b[1;32m    568\u001b[0m             \u001b[0minitial_time\u001b[0m \u001b[0;34m=\u001b[0m \u001b[0mtime\u001b[0m\u001b[0;34m.\u001b[0m\u001b[0mtime\u001b[0m\u001b[0;34m(\u001b[0m\u001b[0;34m)\u001b[0m\u001b[0;34m\u001b[0m\u001b[0;34m\u001b[0m\u001b[0m\n\u001b[1;32m    569\u001b[0m \u001b[0;34m\u001b[0m\u001b[0m\n\u001b[0;32m--> 570\u001b[0;31m             \u001b[0mself\u001b[0m\u001b[0;34m.\u001b[0m\u001b[0m_presolve\u001b[0m\u001b[0;34m(\u001b[0m\u001b[0;34m*\u001b[0m\u001b[0margs\u001b[0m\u001b[0;34m,\u001b[0m \u001b[0;34m**\u001b[0m\u001b[0mkwds\u001b[0m\u001b[0;34m)\u001b[0m\u001b[0;34m\u001b[0m\u001b[0;34m\u001b[0m\u001b[0m\n\u001b[0m\u001b[1;32m    571\u001b[0m \u001b[0;34m\u001b[0m\u001b[0m\n\u001b[1;32m    572\u001b[0m             \u001b[0mpresolve_completion_time\u001b[0m \u001b[0;34m=\u001b[0m \u001b[0mtime\u001b[0m\u001b[0;34m.\u001b[0m\u001b[0mtime\u001b[0m\u001b[0;34m(\u001b[0m\u001b[0;34m)\u001b[0m\u001b[0;34m\u001b[0m\u001b[0;34m\u001b[0m\u001b[0m\n",
            "\u001b[0;32m/usr/local/lib/python3.7/dist-packages/pyomo/opt/solver/shellcmd.py\u001b[0m in \u001b[0;36m_presolve\u001b[0;34m(self, *args, **kwds)\u001b[0m\n\u001b[1;32m    207\u001b[0m         \u001b[0mself\u001b[0m\u001b[0;34m.\u001b[0m\u001b[0m_define_signal_handlers\u001b[0m \u001b[0;34m=\u001b[0m \u001b[0mkwds\u001b[0m\u001b[0;34m.\u001b[0m\u001b[0mpop\u001b[0m\u001b[0;34m(\u001b[0m\u001b[0;34m'use_signal_handling'\u001b[0m\u001b[0;34m,\u001b[0m\u001b[0;32mNone\u001b[0m\u001b[0;34m)\u001b[0m\u001b[0;34m\u001b[0m\u001b[0;34m\u001b[0m\u001b[0m\n\u001b[1;32m    208\u001b[0m \u001b[0;34m\u001b[0m\u001b[0m\n\u001b[0;32m--> 209\u001b[0;31m         \u001b[0mOptSolver\u001b[0m\u001b[0;34m.\u001b[0m\u001b[0m_presolve\u001b[0m\u001b[0;34m(\u001b[0m\u001b[0mself\u001b[0m\u001b[0;34m,\u001b[0m \u001b[0;34m*\u001b[0m\u001b[0margs\u001b[0m\u001b[0;34m,\u001b[0m \u001b[0;34m**\u001b[0m\u001b[0mkwds\u001b[0m\u001b[0;34m)\u001b[0m\u001b[0;34m\u001b[0m\u001b[0;34m\u001b[0m\u001b[0m\n\u001b[0m\u001b[1;32m    210\u001b[0m \u001b[0;34m\u001b[0m\u001b[0m\n\u001b[1;32m    211\u001b[0m         \u001b[0;31m#\u001b[0m\u001b[0;34m\u001b[0m\u001b[0;34m\u001b[0m\u001b[0;34m\u001b[0m\u001b[0m\n",
            "\u001b[0;32m/usr/local/lib/python3.7/dist-packages/pyomo/opt/base/solvers.py\u001b[0m in \u001b[0;36m_presolve\u001b[0;34m(self, *args, **kwds)\u001b[0m\n\u001b[1;32m    668\u001b[0m                                       \u001b[0mself\u001b[0m\u001b[0;34m.\u001b[0m\u001b[0m_problem_format\u001b[0m\u001b[0;34m,\u001b[0m\u001b[0;34m\u001b[0m\u001b[0;34m\u001b[0m\u001b[0m\n\u001b[1;32m    669\u001b[0m                                       \u001b[0mself\u001b[0m\u001b[0;34m.\u001b[0m\u001b[0m_valid_problem_formats\u001b[0m\u001b[0;34m,\u001b[0m\u001b[0;34m\u001b[0m\u001b[0;34m\u001b[0m\u001b[0m\n\u001b[0;32m--> 670\u001b[0;31m                                       **kwds)\n\u001b[0m\u001b[1;32m    671\u001b[0m             \u001b[0mtotal_time\u001b[0m \u001b[0;34m=\u001b[0m \u001b[0mtime\u001b[0m\u001b[0;34m.\u001b[0m\u001b[0mtime\u001b[0m\u001b[0;34m(\u001b[0m\u001b[0;34m)\u001b[0m \u001b[0;34m-\u001b[0m \u001b[0mwrite_start_time\u001b[0m\u001b[0;34m\u001b[0m\u001b[0;34m\u001b[0m\u001b[0m\n\u001b[1;32m    672\u001b[0m             \u001b[0;32mif\u001b[0m \u001b[0mself\u001b[0m\u001b[0;34m.\u001b[0m\u001b[0m_report_timing\u001b[0m\u001b[0;34m:\u001b[0m\u001b[0;34m\u001b[0m\u001b[0;34m\u001b[0m\u001b[0m\n",
            "\u001b[0;32m/usr/local/lib/python3.7/dist-packages/pyomo/opt/base/solvers.py\u001b[0m in \u001b[0;36m_convert_problem\u001b[0;34m(self, args, problem_format, valid_problem_formats, **kwds)\u001b[0m\n\u001b[1;32m    720\u001b[0m                                \u001b[0mvalid_problem_formats\u001b[0m\u001b[0;34m,\u001b[0m\u001b[0;34m\u001b[0m\u001b[0;34m\u001b[0m\u001b[0m\n\u001b[1;32m    721\u001b[0m                                \u001b[0mself\u001b[0m\u001b[0;34m.\u001b[0m\u001b[0mhas_capability\u001b[0m\u001b[0;34m,\u001b[0m\u001b[0;34m\u001b[0m\u001b[0;34m\u001b[0m\u001b[0m\n\u001b[0;32m--> 722\u001b[0;31m                                **kwds)\n\u001b[0m\u001b[1;32m    723\u001b[0m \u001b[0;34m\u001b[0m\u001b[0m\n\u001b[1;32m    724\u001b[0m     \u001b[0;32mdef\u001b[0m \u001b[0m_default_results_format\u001b[0m\u001b[0;34m(\u001b[0m\u001b[0mself\u001b[0m\u001b[0;34m,\u001b[0m \u001b[0mprob_format\u001b[0m\u001b[0;34m)\u001b[0m\u001b[0;34m:\u001b[0m\u001b[0;34m\u001b[0m\u001b[0;34m\u001b[0m\u001b[0m\n",
            "\u001b[0;32m/usr/local/lib/python3.7/dist-packages/pyomo/opt/base/convert.py\u001b[0m in \u001b[0;36mconvert_problem\u001b[0;34m(args, target_problem_type, valid_problem_types, has_capability, **kwds)\u001b[0m\n\u001b[1;32m     99\u001b[0m                     \u001b[0mtmpkw\u001b[0m \u001b[0;34m=\u001b[0m \u001b[0mkwds\u001b[0m\u001b[0;34m\u001b[0m\u001b[0;34m\u001b[0m\u001b[0m\n\u001b[1;32m    100\u001b[0m                     \u001b[0mtmpkw\u001b[0m\u001b[0;34m[\u001b[0m\u001b[0;34m'capabilities'\u001b[0m\u001b[0;34m]\u001b[0m \u001b[0;34m=\u001b[0m \u001b[0mhas_capability\u001b[0m\u001b[0;34m\u001b[0m\u001b[0;34m\u001b[0m\u001b[0m\n\u001b[0;32m--> 101\u001b[0;31m                     \u001b[0mproblem_files\u001b[0m\u001b[0;34m,\u001b[0m \u001b[0msymbol_map\u001b[0m \u001b[0;34m=\u001b[0m \u001b[0mconverter\u001b[0m\u001b[0;34m.\u001b[0m\u001b[0mapply\u001b[0m\u001b[0;34m(\u001b[0m\u001b[0;34m*\u001b[0m\u001b[0mtmp\u001b[0m\u001b[0;34m,\u001b[0m \u001b[0;34m**\u001b[0m\u001b[0mtmpkw\u001b[0m\u001b[0;34m)\u001b[0m\u001b[0;34m\u001b[0m\u001b[0;34m\u001b[0m\u001b[0m\n\u001b[0m\u001b[1;32m    102\u001b[0m                     \u001b[0;32mreturn\u001b[0m \u001b[0mproblem_files\u001b[0m\u001b[0;34m,\u001b[0m \u001b[0mptype\u001b[0m\u001b[0;34m,\u001b[0m \u001b[0msymbol_map\u001b[0m\u001b[0;34m\u001b[0m\u001b[0;34m\u001b[0m\u001b[0m\n\u001b[1;32m    103\u001b[0m \u001b[0;34m\u001b[0m\u001b[0m\n",
            "\u001b[0;32m/usr/local/lib/python3.7/dist-packages/pyomo/solvers/plugins/converter/model.py\u001b[0m in \u001b[0;36mapply\u001b[0;34m(self, *args, **kwds)\u001b[0m\n\u001b[1;32m     80\u001b[0m                             \u001b[0mformat\u001b[0m\u001b[0;34m=\u001b[0m\u001b[0mProblemFormat\u001b[0m\u001b[0;34m.\u001b[0m\u001b[0mcpxlp\u001b[0m\u001b[0;34m,\u001b[0m\u001b[0;34m\u001b[0m\u001b[0;34m\u001b[0m\u001b[0m\n\u001b[1;32m     81\u001b[0m                             \u001b[0msolver_capability\u001b[0m\u001b[0;34m=\u001b[0m\u001b[0mcapabilities\u001b[0m\u001b[0;34m,\u001b[0m\u001b[0;34m\u001b[0m\u001b[0;34m\u001b[0m\u001b[0m\n\u001b[0;32m---> 82\u001b[0;31m                             io_options=io_options)\n\u001b[0m\u001b[1;32m     83\u001b[0m                 \u001b[0;32mreturn\u001b[0m \u001b[0;34m(\u001b[0m\u001b[0mproblem_filename\u001b[0m\u001b[0;34m,\u001b[0m\u001b[0;34m)\u001b[0m\u001b[0;34m,\u001b[0m \u001b[0msymbol_map_id\u001b[0m\u001b[0;34m\u001b[0m\u001b[0;34m\u001b[0m\u001b[0m\n\u001b[1;32m     84\u001b[0m             \u001b[0;32melse\u001b[0m\u001b[0;34m:\u001b[0m\u001b[0;34m\u001b[0m\u001b[0;34m\u001b[0m\u001b[0m\n",
            "\u001b[0;32m/usr/local/lib/python3.7/dist-packages/pyomo/core/base/block.py\u001b[0m in \u001b[0;36mwrite\u001b[0;34m(self, filename, format, solver_capability, io_options)\u001b[0m\n\u001b[1;32m   1809\u001b[0m                                           \u001b[0mfilename\u001b[0m\u001b[0;34m,\u001b[0m\u001b[0;34m\u001b[0m\u001b[0;34m\u001b[0m\u001b[0m\n\u001b[1;32m   1810\u001b[0m                                           \u001b[0msolver_capability\u001b[0m\u001b[0;34m,\u001b[0m\u001b[0;34m\u001b[0m\u001b[0;34m\u001b[0m\u001b[0m\n\u001b[0;32m-> 1811\u001b[0;31m                                           io_options)\n\u001b[0m\u001b[1;32m   1812\u001b[0m         \u001b[0msmap_id\u001b[0m \u001b[0;34m=\u001b[0m \u001b[0mid\u001b[0m\u001b[0;34m(\u001b[0m\u001b[0msmap\u001b[0m\u001b[0;34m)\u001b[0m\u001b[0;34m\u001b[0m\u001b[0;34m\u001b[0m\u001b[0m\n\u001b[1;32m   1813\u001b[0m         \u001b[0;32mif\u001b[0m \u001b[0;32mnot\u001b[0m \u001b[0mhasattr\u001b[0m\u001b[0;34m(\u001b[0m\u001b[0mself\u001b[0m\u001b[0;34m,\u001b[0m \u001b[0;34m'solutions'\u001b[0m\u001b[0;34m)\u001b[0m\u001b[0;34m:\u001b[0m\u001b[0;34m\u001b[0m\u001b[0;34m\u001b[0m\u001b[0m\n",
            "\u001b[0;32mpyomo/repn/plugins/cpxlp.pyx\u001b[0m in \u001b[0;36mpyomo.repn.plugins.cpxlp.ProblemWriter_cpxlp.__call__\u001b[0;34m()\u001b[0m\n",
            "\u001b[0;32mpyomo/repn/plugins/cpxlp.pyx\u001b[0m in \u001b[0;36mpyomo.repn.plugins.cpxlp.ProblemWriter_cpxlp.__call__\u001b[0;34m()\u001b[0m\n",
            "\u001b[0;32mpyomo/repn/plugins/cpxlp.pyx\u001b[0m in \u001b[0;36mpyomo.repn.plugins.cpxlp.ProblemWriter_cpxlp.__call__\u001b[0;34m()\u001b[0m\n",
            "\u001b[0;32mpyomo/repn/plugins/cpxlp.pyx\u001b[0m in \u001b[0;36mpyomo.repn.plugins.cpxlp.ProblemWriter_cpxlp._print_model_LP\u001b[0;34m()\u001b[0m\n",
            "\u001b[0;32mpyomo/repn/plugins/cpxlp.pyx\u001b[0m in \u001b[0;36mpyomo.repn.plugins.cpxlp.ProblemWriter_cpxlp._print_expr_canonical\u001b[0;34m()\u001b[0m\n",
            "\u001b[0;31mKeyError\u001b[0m: 140634936885712"
          ]
        }
      ]
    },
    {
      "cell_type": "code",
      "source": [
        "SolverFactory('glpk', executable='/usr/bin/glpsol').solve(model22).write()"
      ],
      "metadata": {
        "colab": {
          "base_uri": "https://localhost:8080/",
          "height": 484
        },
        "id": "tdmtzr6JQpxv",
        "outputId": "2ceb7e36-55dd-4a59-ba2e-852698d82158"
      },
      "execution_count": null,
      "outputs": [
        {
          "output_type": "error",
          "ename": "KeyError",
          "evalue": "ignored",
          "traceback": [
            "\u001b[0;31m---------------------------------------------------------------------------\u001b[0m",
            "\u001b[0;31mKeyError\u001b[0m                                  Traceback (most recent call last)",
            "\u001b[0;32m<ipython-input-47-3e06dc06f030>\u001b[0m in \u001b[0;36m<module>\u001b[0;34m()\u001b[0m\n\u001b[0;32m----> 1\u001b[0;31m \u001b[0mSolverFactory\u001b[0m\u001b[0;34m(\u001b[0m\u001b[0;34m'glpk'\u001b[0m\u001b[0;34m,\u001b[0m \u001b[0mexecutable\u001b[0m\u001b[0;34m=\u001b[0m\u001b[0;34m'/usr/bin/glpsol'\u001b[0m\u001b[0;34m)\u001b[0m\u001b[0;34m.\u001b[0m\u001b[0msolve\u001b[0m\u001b[0;34m(\u001b[0m\u001b[0mmodel22\u001b[0m\u001b[0;34m)\u001b[0m\u001b[0;34m.\u001b[0m\u001b[0mwrite\u001b[0m\u001b[0;34m(\u001b[0m\u001b[0;34m)\u001b[0m\u001b[0;34m\u001b[0m\u001b[0;34m\u001b[0m\u001b[0m\n\u001b[0m",
            "\u001b[0;32m/usr/local/lib/python3.7/dist-packages/pyomo/opt/base/solvers.py\u001b[0m in \u001b[0;36msolve\u001b[0;34m(self, *args, **kwds)\u001b[0m\n\u001b[1;32m    568\u001b[0m             \u001b[0minitial_time\u001b[0m \u001b[0;34m=\u001b[0m \u001b[0mtime\u001b[0m\u001b[0;34m.\u001b[0m\u001b[0mtime\u001b[0m\u001b[0;34m(\u001b[0m\u001b[0;34m)\u001b[0m\u001b[0;34m\u001b[0m\u001b[0;34m\u001b[0m\u001b[0m\n\u001b[1;32m    569\u001b[0m \u001b[0;34m\u001b[0m\u001b[0m\n\u001b[0;32m--> 570\u001b[0;31m             \u001b[0mself\u001b[0m\u001b[0;34m.\u001b[0m\u001b[0m_presolve\u001b[0m\u001b[0;34m(\u001b[0m\u001b[0;34m*\u001b[0m\u001b[0margs\u001b[0m\u001b[0;34m,\u001b[0m \u001b[0;34m**\u001b[0m\u001b[0mkwds\u001b[0m\u001b[0;34m)\u001b[0m\u001b[0;34m\u001b[0m\u001b[0;34m\u001b[0m\u001b[0m\n\u001b[0m\u001b[1;32m    571\u001b[0m \u001b[0;34m\u001b[0m\u001b[0m\n\u001b[1;32m    572\u001b[0m             \u001b[0mpresolve_completion_time\u001b[0m \u001b[0;34m=\u001b[0m \u001b[0mtime\u001b[0m\u001b[0;34m.\u001b[0m\u001b[0mtime\u001b[0m\u001b[0;34m(\u001b[0m\u001b[0;34m)\u001b[0m\u001b[0;34m\u001b[0m\u001b[0;34m\u001b[0m\u001b[0m\n",
            "\u001b[0;32m/usr/local/lib/python3.7/dist-packages/pyomo/opt/solver/shellcmd.py\u001b[0m in \u001b[0;36m_presolve\u001b[0;34m(self, *args, **kwds)\u001b[0m\n\u001b[1;32m    207\u001b[0m         \u001b[0mself\u001b[0m\u001b[0;34m.\u001b[0m\u001b[0m_define_signal_handlers\u001b[0m \u001b[0;34m=\u001b[0m \u001b[0mkwds\u001b[0m\u001b[0;34m.\u001b[0m\u001b[0mpop\u001b[0m\u001b[0;34m(\u001b[0m\u001b[0;34m'use_signal_handling'\u001b[0m\u001b[0;34m,\u001b[0m\u001b[0;32mNone\u001b[0m\u001b[0;34m)\u001b[0m\u001b[0;34m\u001b[0m\u001b[0;34m\u001b[0m\u001b[0m\n\u001b[1;32m    208\u001b[0m \u001b[0;34m\u001b[0m\u001b[0m\n\u001b[0;32m--> 209\u001b[0;31m         \u001b[0mOptSolver\u001b[0m\u001b[0;34m.\u001b[0m\u001b[0m_presolve\u001b[0m\u001b[0;34m(\u001b[0m\u001b[0mself\u001b[0m\u001b[0;34m,\u001b[0m \u001b[0;34m*\u001b[0m\u001b[0margs\u001b[0m\u001b[0;34m,\u001b[0m \u001b[0;34m**\u001b[0m\u001b[0mkwds\u001b[0m\u001b[0;34m)\u001b[0m\u001b[0;34m\u001b[0m\u001b[0;34m\u001b[0m\u001b[0m\n\u001b[0m\u001b[1;32m    210\u001b[0m \u001b[0;34m\u001b[0m\u001b[0m\n\u001b[1;32m    211\u001b[0m         \u001b[0;31m#\u001b[0m\u001b[0;34m\u001b[0m\u001b[0;34m\u001b[0m\u001b[0;34m\u001b[0m\u001b[0m\n",
            "\u001b[0;32m/usr/local/lib/python3.7/dist-packages/pyomo/opt/base/solvers.py\u001b[0m in \u001b[0;36m_presolve\u001b[0;34m(self, *args, **kwds)\u001b[0m\n\u001b[1;32m    668\u001b[0m                                       \u001b[0mself\u001b[0m\u001b[0;34m.\u001b[0m\u001b[0m_problem_format\u001b[0m\u001b[0;34m,\u001b[0m\u001b[0;34m\u001b[0m\u001b[0;34m\u001b[0m\u001b[0m\n\u001b[1;32m    669\u001b[0m                                       \u001b[0mself\u001b[0m\u001b[0;34m.\u001b[0m\u001b[0m_valid_problem_formats\u001b[0m\u001b[0;34m,\u001b[0m\u001b[0;34m\u001b[0m\u001b[0;34m\u001b[0m\u001b[0m\n\u001b[0;32m--> 670\u001b[0;31m                                       **kwds)\n\u001b[0m\u001b[1;32m    671\u001b[0m             \u001b[0mtotal_time\u001b[0m \u001b[0;34m=\u001b[0m \u001b[0mtime\u001b[0m\u001b[0;34m.\u001b[0m\u001b[0mtime\u001b[0m\u001b[0;34m(\u001b[0m\u001b[0;34m)\u001b[0m \u001b[0;34m-\u001b[0m \u001b[0mwrite_start_time\u001b[0m\u001b[0;34m\u001b[0m\u001b[0;34m\u001b[0m\u001b[0m\n\u001b[1;32m    672\u001b[0m             \u001b[0;32mif\u001b[0m \u001b[0mself\u001b[0m\u001b[0;34m.\u001b[0m\u001b[0m_report_timing\u001b[0m\u001b[0;34m:\u001b[0m\u001b[0;34m\u001b[0m\u001b[0;34m\u001b[0m\u001b[0m\n",
            "\u001b[0;32m/usr/local/lib/python3.7/dist-packages/pyomo/opt/base/solvers.py\u001b[0m in \u001b[0;36m_convert_problem\u001b[0;34m(self, args, problem_format, valid_problem_formats, **kwds)\u001b[0m\n\u001b[1;32m    720\u001b[0m                                \u001b[0mvalid_problem_formats\u001b[0m\u001b[0;34m,\u001b[0m\u001b[0;34m\u001b[0m\u001b[0;34m\u001b[0m\u001b[0m\n\u001b[1;32m    721\u001b[0m                                \u001b[0mself\u001b[0m\u001b[0;34m.\u001b[0m\u001b[0mhas_capability\u001b[0m\u001b[0;34m,\u001b[0m\u001b[0;34m\u001b[0m\u001b[0;34m\u001b[0m\u001b[0m\n\u001b[0;32m--> 722\u001b[0;31m                                **kwds)\n\u001b[0m\u001b[1;32m    723\u001b[0m \u001b[0;34m\u001b[0m\u001b[0m\n\u001b[1;32m    724\u001b[0m     \u001b[0;32mdef\u001b[0m \u001b[0m_default_results_format\u001b[0m\u001b[0;34m(\u001b[0m\u001b[0mself\u001b[0m\u001b[0;34m,\u001b[0m \u001b[0mprob_format\u001b[0m\u001b[0;34m)\u001b[0m\u001b[0;34m:\u001b[0m\u001b[0;34m\u001b[0m\u001b[0;34m\u001b[0m\u001b[0m\n",
            "\u001b[0;32m/usr/local/lib/python3.7/dist-packages/pyomo/opt/base/convert.py\u001b[0m in \u001b[0;36mconvert_problem\u001b[0;34m(args, target_problem_type, valid_problem_types, has_capability, **kwds)\u001b[0m\n\u001b[1;32m     99\u001b[0m                     \u001b[0mtmpkw\u001b[0m \u001b[0;34m=\u001b[0m \u001b[0mkwds\u001b[0m\u001b[0;34m\u001b[0m\u001b[0;34m\u001b[0m\u001b[0m\n\u001b[1;32m    100\u001b[0m                     \u001b[0mtmpkw\u001b[0m\u001b[0;34m[\u001b[0m\u001b[0;34m'capabilities'\u001b[0m\u001b[0;34m]\u001b[0m \u001b[0;34m=\u001b[0m \u001b[0mhas_capability\u001b[0m\u001b[0;34m\u001b[0m\u001b[0;34m\u001b[0m\u001b[0m\n\u001b[0;32m--> 101\u001b[0;31m                     \u001b[0mproblem_files\u001b[0m\u001b[0;34m,\u001b[0m \u001b[0msymbol_map\u001b[0m \u001b[0;34m=\u001b[0m \u001b[0mconverter\u001b[0m\u001b[0;34m.\u001b[0m\u001b[0mapply\u001b[0m\u001b[0;34m(\u001b[0m\u001b[0;34m*\u001b[0m\u001b[0mtmp\u001b[0m\u001b[0;34m,\u001b[0m \u001b[0;34m**\u001b[0m\u001b[0mtmpkw\u001b[0m\u001b[0;34m)\u001b[0m\u001b[0;34m\u001b[0m\u001b[0;34m\u001b[0m\u001b[0m\n\u001b[0m\u001b[1;32m    102\u001b[0m                     \u001b[0;32mreturn\u001b[0m \u001b[0mproblem_files\u001b[0m\u001b[0;34m,\u001b[0m \u001b[0mptype\u001b[0m\u001b[0;34m,\u001b[0m \u001b[0msymbol_map\u001b[0m\u001b[0;34m\u001b[0m\u001b[0;34m\u001b[0m\u001b[0m\n\u001b[1;32m    103\u001b[0m \u001b[0;34m\u001b[0m\u001b[0m\n",
            "\u001b[0;32m/usr/local/lib/python3.7/dist-packages/pyomo/solvers/plugins/converter/model.py\u001b[0m in \u001b[0;36mapply\u001b[0;34m(self, *args, **kwds)\u001b[0m\n\u001b[1;32m     80\u001b[0m                             \u001b[0mformat\u001b[0m\u001b[0;34m=\u001b[0m\u001b[0mProblemFormat\u001b[0m\u001b[0;34m.\u001b[0m\u001b[0mcpxlp\u001b[0m\u001b[0;34m,\u001b[0m\u001b[0;34m\u001b[0m\u001b[0;34m\u001b[0m\u001b[0m\n\u001b[1;32m     81\u001b[0m                             \u001b[0msolver_capability\u001b[0m\u001b[0;34m=\u001b[0m\u001b[0mcapabilities\u001b[0m\u001b[0;34m,\u001b[0m\u001b[0;34m\u001b[0m\u001b[0;34m\u001b[0m\u001b[0m\n\u001b[0;32m---> 82\u001b[0;31m                             io_options=io_options)\n\u001b[0m\u001b[1;32m     83\u001b[0m                 \u001b[0;32mreturn\u001b[0m \u001b[0;34m(\u001b[0m\u001b[0mproblem_filename\u001b[0m\u001b[0;34m,\u001b[0m\u001b[0;34m)\u001b[0m\u001b[0;34m,\u001b[0m \u001b[0msymbol_map_id\u001b[0m\u001b[0;34m\u001b[0m\u001b[0;34m\u001b[0m\u001b[0m\n\u001b[1;32m     84\u001b[0m             \u001b[0;32melse\u001b[0m\u001b[0;34m:\u001b[0m\u001b[0;34m\u001b[0m\u001b[0;34m\u001b[0m\u001b[0m\n",
            "\u001b[0;32m/usr/local/lib/python3.7/dist-packages/pyomo/core/base/block.py\u001b[0m in \u001b[0;36mwrite\u001b[0;34m(self, filename, format, solver_capability, io_options)\u001b[0m\n\u001b[1;32m   1809\u001b[0m                                           \u001b[0mfilename\u001b[0m\u001b[0;34m,\u001b[0m\u001b[0;34m\u001b[0m\u001b[0;34m\u001b[0m\u001b[0m\n\u001b[1;32m   1810\u001b[0m                                           \u001b[0msolver_capability\u001b[0m\u001b[0;34m,\u001b[0m\u001b[0;34m\u001b[0m\u001b[0;34m\u001b[0m\u001b[0m\n\u001b[0;32m-> 1811\u001b[0;31m                                           io_options)\n\u001b[0m\u001b[1;32m   1812\u001b[0m         \u001b[0msmap_id\u001b[0m \u001b[0;34m=\u001b[0m \u001b[0mid\u001b[0m\u001b[0;34m(\u001b[0m\u001b[0msmap\u001b[0m\u001b[0;34m)\u001b[0m\u001b[0;34m\u001b[0m\u001b[0;34m\u001b[0m\u001b[0m\n\u001b[1;32m   1813\u001b[0m         \u001b[0;32mif\u001b[0m \u001b[0;32mnot\u001b[0m \u001b[0mhasattr\u001b[0m\u001b[0;34m(\u001b[0m\u001b[0mself\u001b[0m\u001b[0;34m,\u001b[0m \u001b[0;34m'solutions'\u001b[0m\u001b[0;34m)\u001b[0m\u001b[0;34m:\u001b[0m\u001b[0;34m\u001b[0m\u001b[0;34m\u001b[0m\u001b[0m\n",
            "\u001b[0;32mpyomo/repn/plugins/cpxlp.pyx\u001b[0m in \u001b[0;36mpyomo.repn.plugins.cpxlp.ProblemWriter_cpxlp.__call__\u001b[0;34m()\u001b[0m\n",
            "\u001b[0;32mpyomo/repn/plugins/cpxlp.pyx\u001b[0m in \u001b[0;36mpyomo.repn.plugins.cpxlp.ProblemWriter_cpxlp.__call__\u001b[0;34m()\u001b[0m\n",
            "\u001b[0;32mpyomo/repn/plugins/cpxlp.pyx\u001b[0m in \u001b[0;36mpyomo.repn.plugins.cpxlp.ProblemWriter_cpxlp.__call__\u001b[0;34m()\u001b[0m\n",
            "\u001b[0;32mpyomo/repn/plugins/cpxlp.pyx\u001b[0m in \u001b[0;36mpyomo.repn.plugins.cpxlp.ProblemWriter_cpxlp._print_model_LP\u001b[0;34m()\u001b[0m\n",
            "\u001b[0;32mpyomo/repn/plugins/cpxlp.pyx\u001b[0m in \u001b[0;36mpyomo.repn.plugins.cpxlp.ProblemWriter_cpxlp._print_expr_canonical\u001b[0;34m()\u001b[0m\n",
            "\u001b[0;31mKeyError\u001b[0m: 140634936885712"
          ]
        }
      ]
    },
    {
      "cell_type": "code",
      "source": [
        "# display solution\n",
        "print('\\nCost = ', model22.cost())\n",
        "print('\\nDecision Variables')\n",
        "print('x1 = ', model22.x1())\n",
        "print('x2 = ', model22.x2())\n",
        "print('x3 = ', model22.x3())\n",
        "print('x4 = ', model22.x4())\n",
        "print('x5 = ', model22.x5())\n",
        "print('x6 = ', model22.x6())\n",
        "\n",
        "print('y = ', model22.y())\n",
        "print('\\nConstraints')\n",
        "print('Constraint 1  = ', model22.constr1())\n",
        "print('Constraint 2  = ', model22.constr2())\n",
        "print('Constraint 3  = ', model22.constr3())\n",
        "print('Constraint 4  = ', model22.constr4())\n",
        "print('Constraint 6  = ', model22.constr6())\n",
        "print('Constraint 7  = ', model22.constr7())\n",
        "print('Constraint 8  = ', model22.constr8())\n",
        "print('Constraint 9  = ', model22.constr9())\n",
        "print('Constraint 10  = ', model22.constr10())\n",
        "print('Constraint 11 = ', model22.constr11())\n",
        "print('Constraint 12 = ', model22.constr12())\n",
        "print('Constraint 13 = ', model22.constr12())\n"
      ],
      "metadata": {
        "id": "pSxkYmp7Qp28"
      },
      "execution_count": null,
      "outputs": []
    },
    {
      "cell_type": "code",
      "source": [
        ""
      ],
      "metadata": {
        "id": "peAOyZMXQp7R"
      },
      "execution_count": null,
      "outputs": []
    },
    {
      "cell_type": "markdown",
      "source": [
        "# there are feasible solution"
      ],
      "metadata": {
        "id": "g2L1scvOmogl"
      }
    },
    {
      "cell_type": "markdown",
      "source": [
        "# case 4 let we are assume that -x2-x4+x5<0\n",
        "and -x1+x3+x6-x6-2y<0"
      ],
      "metadata": {
        "id": "cZHscvBRk1zy"
      }
    },
    {
      "cell_type": "code",
      "source": [
        "!pip install -q pyomo\n"
      ],
      "metadata": {
        "id": "ZGuO8sLSQp_b"
      },
      "execution_count": null,
      "outputs": []
    },
    {
      "cell_type": "code",
      "source": [
        "from pyomo.environ import *\n"
      ],
      "metadata": {
        "id": "1JSkkDBrQqDG"
      },
      "execution_count": null,
      "outputs": []
    },
    {
      "cell_type": "code",
      "source": [
        "# create a model1\n",
        "model23 = ConcreteModel()"
      ],
      "metadata": {
        "id": "p1QHnqxXQqHi"
      },
      "execution_count": null,
      "outputs": []
    },
    {
      "cell_type": "code",
      "source": [
        "# declare decision variables\n",
        "model23.x1 = Var(domain=Reals)\n",
        "model23.x2 = Var(domain=Reals)\n",
        "model23.x3 = Var(domain=Reals)\n",
        "model23.x4 = Var(domain=Reals)\n",
        "model23.x5= Var(domain=Reals)\n",
        "model23.y = Var(domain=Reals)\n",
        "model23.x6= Var(domain=Reals)\n"
      ],
      "metadata": {
        "id": "NA4JqoijQqLm"
      },
      "execution_count": null,
      "outputs": []
    },
    {
      "cell_type": "code",
      "source": [
        "# declare objective\n",
        "model23.cost = Objective(expr = 0.082*model23.x1 + 0.036*model23.x2 + 0.0156*model23.x3 +0.033*model23.x4+0.054*model23.x5+0.125*model23.y , sense= maximize)"
      ],
      "metadata": {
        "id": "RWiU2JyqQqQb"
      },
      "execution_count": null,
      "outputs": []
    },
    {
      "cell_type": "code",
      "source": [
        "# declare constraints\n",
        "model23.constr1 = Constraint(expr = 3*model23.x1-3*model23.x2+5*model23.x3-model23.x4+model23.x5-model23.y <=80)\n",
        "model23.constr2 = Constraint(expr = model23.x3 +2*model23.x4+4*model23.y>= 30)\n",
        "model23.constr3 = Constraint(expr = 3*model23.x1 -1.5*model23.x3+2*model23.x4 +1.8*model23.x5+6*model23.x6 +3.6*model23.x2+3.6*model23.x4-3.6*model23.x5 >=0 )\n",
        "model23.constr4 = Constraint(expr = model23.x1 -2*model23.x2 +3*model23.x3+ 4*model23.x4+5*model23.x5+6*model23.x1-6*model23.x3-6*model23.x6+12*model23.y >=0)\n",
        "model23.constr6 = Constraint(expr = model23.x1>= 0)\n",
        "model23.constr7 = Constraint(expr = model23.x2>=0)\n",
        "model23.constr8 = Constraint(expr = model23.x3>= 0)\n",
        "model23.constr9= Constraint(expr = model23.x4>= 0)\n",
        "model23.constr10 = Constraint(expr = model23.x5>= 0)\n",
        "model23.constr11= Constraint(expr = model23.y>= -0.2)\n",
        "model23.constr12= Constraint(expr = model23.y<=5.5)\n",
        "model23.constr13 = Constraint(expr = model23.x6>= 0)\n",
        "\n"
      ],
      "metadata": {
        "id": "iHD1jBidQqUH"
      },
      "execution_count": null,
      "outputs": []
    },
    {
      "cell_type": "code",
      "source": [
        "model23.pprint()"
      ],
      "metadata": {
        "colab": {
          "base_uri": "https://localhost:8080/"
        },
        "id": "F07bB64PQqX7",
        "outputId": "7ffcb6fb-200e-4271-e532-cb0fc09d0807"
      },
      "execution_count": null,
      "outputs": [
        {
          "output_type": "stream",
          "name": "stdout",
          "text": [
            "7 Var Declarations\n",
            "    x1 : Size=1, Index=None\n",
            "        Key  : Lower : Value : Upper : Fixed : Stale : Domain\n",
            "        None :  None :  None :  None : False :  True :  Reals\n",
            "    x2 : Size=1, Index=None\n",
            "        Key  : Lower : Value : Upper : Fixed : Stale : Domain\n",
            "        None :  None :  None :  None : False :  True :  Reals\n",
            "    x3 : Size=1, Index=None\n",
            "        Key  : Lower : Value : Upper : Fixed : Stale : Domain\n",
            "        None :  None :  None :  None : False :  True :  Reals\n",
            "    x4 : Size=1, Index=None\n",
            "        Key  : Lower : Value : Upper : Fixed : Stale : Domain\n",
            "        None :  None :  None :  None : False :  True :  Reals\n",
            "    x5 : Size=1, Index=None\n",
            "        Key  : Lower : Value : Upper : Fixed : Stale : Domain\n",
            "        None :  None :  None :  None : False :  True :  Reals\n",
            "    x6 : Size=1, Index=None\n",
            "        Key  : Lower : Value : Upper : Fixed : Stale : Domain\n",
            "        None :  None :  None :  None : False :  True :  Reals\n",
            "    y : Size=1, Index=None\n",
            "        Key  : Lower : Value : Upper : Fixed : Stale : Domain\n",
            "        None :  None :  None :  None : False :  True :  Reals\n",
            "\n",
            "1 Objective Declarations\n",
            "    cost : Size=1, Index=None, Active=True\n",
            "        Key  : Active : Sense    : Expression\n",
            "        None :   True : maximize : 0.082*x1 + 0.036*x2 + 0.0156*x3 + 0.033*x4 + 0.054*x5 + 0.125*y\n",
            "\n",
            "12 Constraint Declarations\n",
            "    constr1 : Size=1, Index=None, Active=True\n",
            "        Key  : Lower : Body                             : Upper : Active\n",
            "        None :  -Inf : 3*x1 - 3*x2 + 5*x3 - x4 + x5 - y :  80.0 :   True\n",
            "    constr10 : Size=1, Index=None, Active=True\n",
            "        Key  : Lower : Body : Upper : Active\n",
            "        None :   0.0 :   x5 :  +Inf :   True\n",
            "    constr11 : Size=1, Index=None, Active=True\n",
            "        Key  : Lower : Body : Upper : Active\n",
            "        None :  -0.2 :    y :  +Inf :   True\n",
            "    constr12 : Size=1, Index=None, Active=True\n",
            "        Key  : Lower : Body : Upper : Active\n",
            "        None :  -Inf :    y :   5.5 :   True\n",
            "    constr13 : Size=1, Index=None, Active=True\n",
            "        Key  : Lower : Body : Upper : Active\n",
            "        None :   0.0 :   x6 :  +Inf :   True\n",
            "    constr2 : Size=1, Index=None, Active=True\n",
            "        Key  : Lower : Body            : Upper : Active\n",
            "        None :  30.0 : x3 + 2*x4 + 4*y :  +Inf :   True\n",
            "    constr3 : Size=1, Index=None, Active=True\n",
            "        Key  : Lower : Body                                                            : Upper : Active\n",
            "        None :   0.0 : 3*x1 - 1.5*x3 + 2*x4 + 1.8*x5 + 6*x6 + 3.6*x2 + 3.6*x4 - 3.6*x5 :  +Inf :   True\n",
            "    constr4 : Size=1, Index=None, Active=True\n",
            "        Key  : Lower : Body                                                       : Upper : Active\n",
            "        None :   0.0 : x1 - 2*x2 + 3*x3 + 4*x4 + 5*x5 + 6*x1 - 6*x3 - 6*x6 + 12*y :  +Inf :   True\n",
            "    constr6 : Size=1, Index=None, Active=True\n",
            "        Key  : Lower : Body : Upper : Active\n",
            "        None :   0.0 :   x1 :  +Inf :   True\n",
            "    constr7 : Size=1, Index=None, Active=True\n",
            "        Key  : Lower : Body : Upper : Active\n",
            "        None :   0.0 :   x2 :  +Inf :   True\n",
            "    constr8 : Size=1, Index=None, Active=True\n",
            "        Key  : Lower : Body : Upper : Active\n",
            "        None :   0.0 :   x3 :  +Inf :   True\n",
            "    constr9 : Size=1, Index=None, Active=True\n",
            "        Key  : Lower : Body : Upper : Active\n",
            "        None :   0.0 :   x4 :  +Inf :   True\n",
            "\n",
            "20 Declarations: x1 x2 x3 x4 x5 y x6 cost constr1 constr2 constr3 constr4 constr6 constr7 constr8 constr9 constr10 constr11 constr12 constr13\n"
          ]
        }
      ]
    },
    {
      "cell_type": "code",
      "source": [
        "!apt-get install -y -qq glpk-utils"
      ],
      "metadata": {
        "id": "CwNcpMzAWl_i"
      },
      "execution_count": null,
      "outputs": []
    },
    {
      "cell_type": "code",
      "source": [
        "SolverFactory('glpk', executable='/usr/bin/glpsol').solve(model23).write()"
      ],
      "metadata": {
        "colab": {
          "base_uri": "https://localhost:8080/"
        },
        "id": "j--7CFrMWnnE",
        "outputId": "b4e6f65c-3eb7-48ba-e4cf-f1773fccb818"
      },
      "execution_count": null,
      "outputs": [
        {
          "output_type": "stream",
          "name": "stdout",
          "text": [
            "# ==========================================================\n",
            "# = Solver Results                                         =\n",
            "# ==========================================================\n",
            "# ----------------------------------------------------------\n",
            "#   Problem Information\n",
            "# ----------------------------------------------------------\n",
            "Problem: \n",
            "- Name: unknown\n",
            "  Lower bound: -inf\n",
            "  Upper bound: inf\n",
            "  Number of objectives: 1\n",
            "  Number of constraints: 13\n",
            "  Number of variables: 8\n",
            "  Number of nonzeros: 31\n",
            "  Sense: maximize\n",
            "# ----------------------------------------------------------\n",
            "#   Solver Information\n",
            "# ----------------------------------------------------------\n",
            "Solver: \n",
            "- Status: ok\n",
            "  Termination condition: other\n",
            "  Statistics: \n",
            "    Branch and bound: \n",
            "      Number of bounded subproblems: 0\n",
            "      Number of created subproblems: 0\n",
            "  Error rc: 0\n",
            "  Time: 0.0170137882232666\n"
          ]
        }
      ]
    },
    {
      "cell_type": "code",
      "source": [
        "# display solution\n",
        "print('\\nCost = ', model21.cost())\n",
        "print('\\nDecision Variables')\n",
        "print('x1 = ', model23.x1())\n",
        "print('x2 = ', model23.x2())\n",
        "print('x3 = ', model23.x3())\n",
        "print('x4 = ', model23.x4())\n",
        "print('x5 = ', model23.x5())\n",
        "print('x6 = ', model23.x6())\n",
        "print('y = ', model23.y())\n",
        "print('\\nConstraints')\n",
        "print('Constraint 1  = ', model23.constr1())\n",
        "print('Constraint 2  = ', model23.constr2())\n",
        "print('Constraint 3  = ', model23.constr3())\n",
        "print('Constraint 4  = ', model23.constr4())\n",
        "print('Constraint 6  = ', model23.constr6())\n",
        "print('Constraint 7  = ', model23.constr7())\n",
        "print('Constraint 8  = ', model23.constr8())\n",
        "print('Constraint 9  = ', model23.constr9())\n",
        "print('Constraint 10  = ', model23.constr10())\n",
        "print('Constraint 11 = ', model23.constr11())\n",
        "print('Constraint 12 = ', model23.constr12())\n",
        "print('Constraint 13 = ', model23.constr12())\n"
      ],
      "metadata": {
        "colab": {
          "base_uri": "https://localhost:8080/",
          "height": 536
        },
        "id": "juaqvqMhWn1o",
        "outputId": "55c7e509-2d67-4714-a930-94f381226ec4"
      },
      "execution_count": null,
      "outputs": [
        {
          "output_type": "stream",
          "name": "stdout",
          "text": [
            "ERROR: evaluating object as numeric value: x1\n",
            "        (object: <class 'pyomo.core.base.var.ScalarVar'>)\n",
            "    No value for uninitialized NumericValue object x1\n"
          ]
        },
        {
          "output_type": "error",
          "ename": "ValueError",
          "evalue": "ignored",
          "traceback": [
            "\u001b[0;31m---------------------------------------------------------------------------\u001b[0m",
            "\u001b[0;31mValueError\u001b[0m                                Traceback (most recent call last)",
            "\u001b[0;32m<ipython-input-31-4d5c5db3b58b>\u001b[0m in \u001b[0;36m<module>\u001b[0;34m()\u001b[0m\n\u001b[1;32m      1\u001b[0m \u001b[0;31m# display solution\u001b[0m\u001b[0;34m\u001b[0m\u001b[0;34m\u001b[0m\u001b[0;34m\u001b[0m\u001b[0m\n\u001b[0;32m----> 2\u001b[0;31m \u001b[0mprint\u001b[0m\u001b[0;34m(\u001b[0m\u001b[0;34m'\\nCost = '\u001b[0m\u001b[0;34m,\u001b[0m \u001b[0mmodel21\u001b[0m\u001b[0;34m.\u001b[0m\u001b[0mcost\u001b[0m\u001b[0;34m(\u001b[0m\u001b[0;34m)\u001b[0m\u001b[0;34m)\u001b[0m\u001b[0;34m\u001b[0m\u001b[0;34m\u001b[0m\u001b[0m\n\u001b[0m\u001b[1;32m      3\u001b[0m \u001b[0mprint\u001b[0m\u001b[0;34m(\u001b[0m\u001b[0;34m'\\nDecision Variables'\u001b[0m\u001b[0;34m)\u001b[0m\u001b[0;34m\u001b[0m\u001b[0;34m\u001b[0m\u001b[0m\n\u001b[1;32m      4\u001b[0m \u001b[0mprint\u001b[0m\u001b[0;34m(\u001b[0m\u001b[0;34m'x1 = '\u001b[0m\u001b[0;34m,\u001b[0m \u001b[0mmodel23\u001b[0m\u001b[0;34m.\u001b[0m\u001b[0mx1\u001b[0m\u001b[0;34m(\u001b[0m\u001b[0;34m)\u001b[0m\u001b[0;34m)\u001b[0m\u001b[0;34m\u001b[0m\u001b[0;34m\u001b[0m\u001b[0m\n\u001b[1;32m      5\u001b[0m \u001b[0mprint\u001b[0m\u001b[0;34m(\u001b[0m\u001b[0;34m'x2 = '\u001b[0m\u001b[0;34m,\u001b[0m \u001b[0mmodel23\u001b[0m\u001b[0;34m.\u001b[0m\u001b[0mx2\u001b[0m\u001b[0;34m(\u001b[0m\u001b[0;34m)\u001b[0m\u001b[0;34m)\u001b[0m\u001b[0;34m\u001b[0m\u001b[0;34m\u001b[0m\u001b[0m\n",
            "\u001b[0;32m/usr/local/lib/python3.7/dist-packages/pyomo/core/base/expression.py\u001b[0m in \u001b[0;36m__call__\u001b[0;34m(self, exception)\u001b[0m\n\u001b[1;32m     54\u001b[0m         \u001b[0;32mif\u001b[0m \u001b[0mself\u001b[0m\u001b[0;34m.\u001b[0m\u001b[0mexpr\u001b[0m \u001b[0;32mis\u001b[0m \u001b[0;32mNone\u001b[0m\u001b[0;34m:\u001b[0m\u001b[0;34m\u001b[0m\u001b[0;34m\u001b[0m\u001b[0m\n\u001b[1;32m     55\u001b[0m             \u001b[0;32mreturn\u001b[0m \u001b[0;32mNone\u001b[0m\u001b[0;34m\u001b[0m\u001b[0;34m\u001b[0m\u001b[0m\n\u001b[0;32m---> 56\u001b[0;31m         \u001b[0;32mreturn\u001b[0m \u001b[0mself\u001b[0m\u001b[0;34m.\u001b[0m\u001b[0mexpr\u001b[0m\u001b[0;34m(\u001b[0m\u001b[0mexception\u001b[0m\u001b[0;34m=\u001b[0m\u001b[0mexception\u001b[0m\u001b[0;34m)\u001b[0m\u001b[0;34m\u001b[0m\u001b[0;34m\u001b[0m\u001b[0m\n\u001b[0m\u001b[1;32m     57\u001b[0m \u001b[0;34m\u001b[0m\u001b[0m\n\u001b[1;32m     58\u001b[0m     \u001b[0;32mdef\u001b[0m \u001b[0mis_named_expression_type\u001b[0m\u001b[0;34m(\u001b[0m\u001b[0mself\u001b[0m\u001b[0;34m)\u001b[0m\u001b[0;34m:\u001b[0m\u001b[0;34m\u001b[0m\u001b[0;34m\u001b[0m\u001b[0m\n",
            "\u001b[0;32mpyomo/core/expr/numeric_expr.pyx\u001b[0m in \u001b[0;36mpyomo.core.expr.numeric_expr.ExpressionBase.__call__\u001b[0;34m()\u001b[0m\n",
            "\u001b[0;32m/usr/local/lib/python3.7/dist-packages/pyomo/core/expr/visitor.py\u001b[0m in \u001b[0;36mevaluate_expression\u001b[0;34m(exp, exception, constant)\u001b[0m\n\u001b[1;32m    891\u001b[0m         \u001b[0mvisitor\u001b[0m \u001b[0;34m=\u001b[0m \u001b[0m_EvaluationVisitor\u001b[0m\u001b[0;34m(\u001b[0m\u001b[0mexception\u001b[0m\u001b[0;34m=\u001b[0m\u001b[0mexception\u001b[0m\u001b[0;34m)\u001b[0m\u001b[0;34m\u001b[0m\u001b[0;34m\u001b[0m\u001b[0m\n\u001b[1;32m    892\u001b[0m     \u001b[0;32mtry\u001b[0m\u001b[0;34m:\u001b[0m\u001b[0;34m\u001b[0m\u001b[0;34m\u001b[0m\u001b[0m\n\u001b[0;32m--> 893\u001b[0;31m         \u001b[0;32mreturn\u001b[0m \u001b[0mvisitor\u001b[0m\u001b[0;34m.\u001b[0m\u001b[0mdfs_postorder_stack\u001b[0m\u001b[0;34m(\u001b[0m\u001b[0mexp\u001b[0m\u001b[0;34m)\u001b[0m\u001b[0;34m\u001b[0m\u001b[0;34m\u001b[0m\u001b[0m\n\u001b[0m\u001b[1;32m    894\u001b[0m \u001b[0;34m\u001b[0m\u001b[0m\n\u001b[1;32m    895\u001b[0m     except ( TemplateExpressionError, ValueError, TypeError,\n",
            "\u001b[0;32m/usr/local/lib/python3.7/dist-packages/pyomo/core/expr/visitor.py\u001b[0m in \u001b[0;36mdfs_postorder_stack\u001b[0;34m(self, node)\u001b[0m\n\u001b[1;32m    573\u001b[0m                 \u001b[0m_sub\u001b[0m \u001b[0;34m=\u001b[0m \u001b[0m_argList\u001b[0m\u001b[0;34m[\u001b[0m\u001b[0m_idx\u001b[0m\u001b[0;34m]\u001b[0m\u001b[0;34m\u001b[0m\u001b[0;34m\u001b[0m\u001b[0m\n\u001b[1;32m    574\u001b[0m                 \u001b[0m_idx\u001b[0m \u001b[0;34m+=\u001b[0m \u001b[0;36m1\u001b[0m\u001b[0;34m\u001b[0m\u001b[0;34m\u001b[0m\u001b[0m\n\u001b[0;32m--> 575\u001b[0;31m                 \u001b[0mflag\u001b[0m\u001b[0;34m,\u001b[0m \u001b[0mvalue\u001b[0m \u001b[0;34m=\u001b[0m \u001b[0mself\u001b[0m\u001b[0;34m.\u001b[0m\u001b[0mvisiting_potential_leaf\u001b[0m\u001b[0;34m(\u001b[0m\u001b[0m_sub\u001b[0m\u001b[0;34m)\u001b[0m\u001b[0;34m\u001b[0m\u001b[0;34m\u001b[0m\u001b[0m\n\u001b[0m\u001b[1;32m    576\u001b[0m                 \u001b[0;32mif\u001b[0m \u001b[0mflag\u001b[0m\u001b[0;34m:\u001b[0m\u001b[0;34m\u001b[0m\u001b[0;34m\u001b[0m\u001b[0m\n\u001b[1;32m    577\u001b[0m                     \u001b[0m_result\u001b[0m\u001b[0;34m.\u001b[0m\u001b[0mappend\u001b[0m\u001b[0;34m(\u001b[0m \u001b[0mvalue\u001b[0m \u001b[0;34m)\u001b[0m\u001b[0;34m\u001b[0m\u001b[0;34m\u001b[0m\u001b[0m\n",
            "\u001b[0;32m/usr/local/lib/python3.7/dist-packages/pyomo/core/expr/visitor.py\u001b[0m in \u001b[0;36mvisiting_potential_leaf\u001b[0;34m(self, node)\u001b[0m\n\u001b[1;32m    801\u001b[0m \u001b[0;34m\u001b[0m\u001b[0m\n\u001b[1;32m    802\u001b[0m         \u001b[0;32mif\u001b[0m \u001b[0mnode\u001b[0m\u001b[0;34m.\u001b[0m\u001b[0mis_numeric_type\u001b[0m\u001b[0;34m(\u001b[0m\u001b[0;34m)\u001b[0m\u001b[0;34m:\u001b[0m\u001b[0;34m\u001b[0m\u001b[0;34m\u001b[0m\u001b[0m\n\u001b[0;32m--> 803\u001b[0;31m             \u001b[0;32mreturn\u001b[0m \u001b[0;32mTrue\u001b[0m\u001b[0;34m,\u001b[0m \u001b[0mvalue\u001b[0m\u001b[0;34m(\u001b[0m\u001b[0mnode\u001b[0m\u001b[0;34m,\u001b[0m \u001b[0mexception\u001b[0m\u001b[0;34m=\u001b[0m\u001b[0mself\u001b[0m\u001b[0;34m.\u001b[0m\u001b[0mexception\u001b[0m\u001b[0;34m)\u001b[0m\u001b[0;34m\u001b[0m\u001b[0;34m\u001b[0m\u001b[0m\n\u001b[0m\u001b[1;32m    804\u001b[0m         \u001b[0;32melif\u001b[0m \u001b[0mnode\u001b[0m\u001b[0;34m.\u001b[0m\u001b[0mis_logical_type\u001b[0m\u001b[0;34m(\u001b[0m\u001b[0;34m)\u001b[0m\u001b[0;34m:\u001b[0m\u001b[0;34m\u001b[0m\u001b[0;34m\u001b[0m\u001b[0m\n\u001b[1;32m    805\u001b[0m             \u001b[0;32mreturn\u001b[0m \u001b[0;32mTrue\u001b[0m\u001b[0;34m,\u001b[0m \u001b[0mvalue\u001b[0m\u001b[0;34m(\u001b[0m\u001b[0mnode\u001b[0m\u001b[0;34m,\u001b[0m \u001b[0mexception\u001b[0m\u001b[0;34m=\u001b[0m\u001b[0mself\u001b[0m\u001b[0;34m.\u001b[0m\u001b[0mexception\u001b[0m\u001b[0;34m)\u001b[0m\u001b[0;34m\u001b[0m\u001b[0;34m\u001b[0m\u001b[0m\n",
            "\u001b[0;32mpyomo/core/expr/numvalue.pyx\u001b[0m in \u001b[0;36mpyomo.core.expr.numvalue.value\u001b[0;34m()\u001b[0m\n",
            "\u001b[0;32mpyomo/core/expr/numvalue.pyx\u001b[0m in \u001b[0;36mpyomo.core.expr.numvalue.value\u001b[0;34m()\u001b[0m\n",
            "\u001b[0;31mValueError\u001b[0m: No value for uninitialized NumericValue object x1"
          ]
        }
      ]
    },
    {
      "cell_type": "markdown",
      "source": [
        "there is no feasible solution"
      ],
      "metadata": {
        "id": "6UKAUCts8G7f"
      }
    },
    {
      "cell_type": "code",
      "source": [
        ""
      ],
      "metadata": {
        "id": "FPCdbNVnWn6i"
      },
      "execution_count": null,
      "outputs": []
    },
    {
      "cell_type": "code",
      "source": [
        ""
      ],
      "metadata": {
        "id": "EE4zyxtYWn-s"
      },
      "execution_count": null,
      "outputs": []
    },
    {
      "cell_type": "code",
      "source": [
        ""
      ],
      "metadata": {
        "id": "kQI461RlWoDf"
      },
      "execution_count": null,
      "outputs": []
    },
    {
      "cell_type": "code",
      "source": [
        ""
      ],
      "metadata": {
        "id": "1PDWhM6mWmFH"
      },
      "execution_count": null,
      "outputs": []
    },
    {
      "cell_type": "code",
      "source": [
        ""
      ],
      "metadata": {
        "id": "_dwohuPmWmJx"
      },
      "execution_count": null,
      "outputs": []
    }
  ]
}