{
  "nbformat": 4,
  "nbformat_minor": 0,
  "metadata": {
    "colab": {
      "name": "22N0454_IE507_lab1_1.ipynb",
      "provenance": [],
      "collapsed_sections": []
    },
    "kernelspec": {
      "name": "python3",
      "display_name": "Python 3"
    },
    "language_info": {
      "name": "python"
    }
  },
  "cells": [
    {
      "cell_type": "markdown",
      "source": [
        "$\\min \\ -3x_1-2x_2+8x_3-7x_4+0.19x_5+11x_6+20.2x_7 \\\\ \\text{ s.t. }  \\sum_{1}^{7}-x_i \\geq -256 \\\\  \\sum_{1}^{7}x_i \\geq 256 \\\\ -x_2+x_3 \\geq 10 \\\\ 3x1-x_5+12x_6 \\geq -105 \\\\ 18.5x_2+30.5x_4-x_7 \\geq 28 \\\\ -x_3-4x_5+x_7 \\geq 31 \\\\ x_1 \\geq -5,x_2 \\geq0,x_3 \\geq 5,x_4 \\geq -3,x_5 \\geq -4, \\\\x_6 \\geq 0,x_7 \\geq 10 $.  \n"
      ],
      "metadata": {
        "id": "sWeOBXxzGNwh"
      }
    },
    {
      "cell_type": "markdown",
      "source": [
        "\n",
        "\n"
      ],
      "metadata": {
        "id": "cH9oqYfBLTWu"
      }
    },
    {
      "cell_type": "code",
      "execution_count": null,
      "metadata": {
        "id": "PuqZUSO4-hxn"
      },
      "outputs": [],
      "source": [
        "!pip install -q pyomo\n"
      ]
    },
    {
      "cell_type": "code",
      "source": [
        "from pyomo.environ import *"
      ],
      "metadata": {
        "id": "wQAMn_Z4-8G9"
      },
      "execution_count": null,
      "outputs": []
    },
    {
      "cell_type": "code",
      "source": [
        "# create a model1\n",
        "model1 = ConcreteModel()"
      ],
      "metadata": {
        "id": "Z5dVxGSJ-_fr"
      },
      "execution_count": null,
      "outputs": []
    },
    {
      "cell_type": "code",
      "source": [
        "# declare decision variables\n",
        "model1.x1 = Var(domain=Reals)\n",
        "model1.x2 = Var(domain=Reals)\n",
        "model1.x3 = Var(domain=Reals)\n",
        "model1.x4 = Var(domain=Reals)\n",
        "model1.x5= Var(domain=Reals)\n",
        "model1.x6 = Var(domain=Reals)\n",
        "model1.x7 = Var(domain=Reals)\n"
      ],
      "metadata": {
        "id": "ga5-9Kdt-_oQ"
      },
      "execution_count": null,
      "outputs": []
    },
    {
      "cell_type": "code",
      "source": [
        "# declare objective\n",
        "model1.cost = Objective(expr = -3*model1.x1 - 2*model1.x2 + 8*model1.x3 -7*model1.x4+.19*model1.x5+11*model1.x6+20.2*model1.x7, sense=minimize)"
      ],
      "metadata": {
        "id": "OFKTcASCAvs0"
      },
      "execution_count": null,
      "outputs": []
    },
    {
      "cell_type": "code",
      "source": [
        "# declare constraints\n",
        "model1.constr1 = Constraint(expr = model1.x1+model1.x2+model1.x3+model1.x4+model1.x5+model1.x6 +model1.x7==256)\n",
        "model1.constr2 = Constraint(expr = -1*model1.x2 +model1.x3>= 10)\n",
        "\n",
        "model1.constr3 = Constraint(expr = -3*model1.x1 + model1.x5-12*model1.x6 <= 105)\n",
        "model1.constr4 = Constraint(expr = 18.5*model1.x1 + 30.5*model1.x4 -model1.x7  >= 28)\n",
        "model1.constr5 = Constraint(expr = -1*model1.x3 -4*model1.x5+model1.x7>= 31)\n",
        "model1.constr6 = Constraint(expr = model1.x1>= -5)\n",
        "model1.constr7 = Constraint(expr = model1.x2>=0)\n",
        "model1.constr8 = Constraint(expr = model1.x3>= 5)\n",
        "model1.constr9= Constraint(expr = model1.x4>= -3)\n",
        "model1.constr10 = Constraint(expr = model1.x5>= -4)\n",
        "model1.constr11= Constraint(expr = model1.x6>= 0)\n",
        "model1.constr12= Constraint(expr = model1.x7>= 10)\n"
      ],
      "metadata": {
        "id": "X1xjuLYYBnUk"
      },
      "execution_count": null,
      "outputs": []
    },
    {
      "cell_type": "code",
      "source": [
        "model1.pprint()"
      ],
      "metadata": {
        "colab": {
          "base_uri": "https://localhost:8080/"
        },
        "id": "hn7Gj7kiGZoT",
        "outputId": "a7576560-253f-4d0d-d328-fd8c71b9c7d1"
      },
      "execution_count": null,
      "outputs": [
        {
          "output_type": "stream",
          "name": "stdout",
          "text": [
            "7 Var Declarations\n",
            "    x1 : Size=1, Index=None\n",
            "        Key  : Lower : Value : Upper : Fixed : Stale : Domain\n",
            "        None :  None :  None :  None : False :  True :  Reals\n",
            "    x2 : Size=1, Index=None\n",
            "        Key  : Lower : Value : Upper : Fixed : Stale : Domain\n",
            "        None :  None :  None :  None : False :  True :  Reals\n",
            "    x3 : Size=1, Index=None\n",
            "        Key  : Lower : Value : Upper : Fixed : Stale : Domain\n",
            "        None :  None :  None :  None : False :  True :  Reals\n",
            "    x4 : Size=1, Index=None\n",
            "        Key  : Lower : Value : Upper : Fixed : Stale : Domain\n",
            "        None :  None :  None :  None : False :  True :  Reals\n",
            "    x5 : Size=1, Index=None\n",
            "        Key  : Lower : Value : Upper : Fixed : Stale : Domain\n",
            "        None :  None :  None :  None : False :  True :  Reals\n",
            "    x6 : Size=1, Index=None\n",
            "        Key  : Lower : Value : Upper : Fixed : Stale : Domain\n",
            "        None :  None :  None :  None : False :  True :  Reals\n",
            "    x7 : Size=1, Index=None\n",
            "        Key  : Lower : Value : Upper : Fixed : Stale : Domain\n",
            "        None :  None :  None :  None : False :  True :  Reals\n",
            "\n",
            "1 Objective Declarations\n",
            "    cost : Size=1, Index=None, Active=True\n",
            "        Key  : Active : Sense    : Expression\n",
            "        None :   True : minimize : -3*x1 - 2*x2 + 8*x3 - 7*x4 + 0.19*x5 + 11*x6 + 20.2*x7\n",
            "\n",
            "12 Constraint Declarations\n",
            "    constr1 : Size=1, Index=None, Active=True\n",
            "        Key  : Lower : Body                             : Upper : Active\n",
            "        None : 256.0 : x1 + x2 + x3 + x4 + x5 + x6 + x7 : 256.0 :   True\n",
            "    constr10 : Size=1, Index=None, Active=True\n",
            "        Key  : Lower : Body : Upper : Active\n",
            "        None :  -4.0 :   x5 :  +Inf :   True\n",
            "    constr11 : Size=1, Index=None, Active=True\n",
            "        Key  : Lower : Body : Upper : Active\n",
            "        None :   0.0 :   x6 :  +Inf :   True\n",
            "    constr12 : Size=1, Index=None, Active=True\n",
            "        Key  : Lower : Body : Upper : Active\n",
            "        None :  10.0 :   x7 :  +Inf :   True\n",
            "    constr2 : Size=1, Index=None, Active=True\n",
            "        Key  : Lower : Body      : Upper : Active\n",
            "        None :  10.0 : - x2 + x3 :  +Inf :   True\n",
            "    constr3 : Size=1, Index=None, Active=True\n",
            "        Key  : Lower : Body               : Upper : Active\n",
            "        None :  -Inf : -3*x1 + x5 - 12*x6 : 105.0 :   True\n",
            "    constr4 : Size=1, Index=None, Active=True\n",
            "        Key  : Lower : Body                   : Upper : Active\n",
            "        None :  28.0 : 18.5*x1 + 30.5*x4 - x7 :  +Inf :   True\n",
            "    constr5 : Size=1, Index=None, Active=True\n",
            "        Key  : Lower : Body             : Upper : Active\n",
            "        None :  31.0 : - x3 - 4*x5 + x7 :  +Inf :   True\n",
            "    constr6 : Size=1, Index=None, Active=True\n",
            "        Key  : Lower : Body : Upper : Active\n",
            "        None :  -5.0 :   x1 :  +Inf :   True\n",
            "    constr7 : Size=1, Index=None, Active=True\n",
            "        Key  : Lower : Body : Upper : Active\n",
            "        None :   0.0 :   x2 :  +Inf :   True\n",
            "    constr8 : Size=1, Index=None, Active=True\n",
            "        Key  : Lower : Body : Upper : Active\n",
            "        None :   5.0 :   x3 :  +Inf :   True\n",
            "    constr9 : Size=1, Index=None, Active=True\n",
            "        Key  : Lower : Body : Upper : Active\n",
            "        None :  -3.0 :   x4 :  +Inf :   True\n",
            "\n",
            "20 Declarations: x1 x2 x3 x4 x5 x6 x7 cost constr1 constr2 constr3 constr4 constr5 constr6 constr7 constr8 constr9 constr10 constr11 constr12\n"
          ]
        }
      ]
    },
    {
      "cell_type": "markdown",
      "source": [
        ""
      ],
      "metadata": {
        "id": "HI-yKV3bGMiZ"
      }
    },
    {
      "cell_type": "code",
      "source": [
        "!apt-get install -y -qq glpk-utils"
      ],
      "metadata": {
        "colab": {
          "base_uri": "https://localhost:8080/"
        },
        "id": "BziPaE5jFgUA",
        "outputId": "bcbe3a51-c972-4086-9711-1760e83e14c8"
      },
      "execution_count": null,
      "outputs": [
        {
          "output_type": "stream",
          "name": "stdout",
          "text": [
            "Selecting previously unselected package libsuitesparseconfig5:amd64.\n",
            "(Reading database ... 155673 files and directories currently installed.)\n",
            "Preparing to unpack .../libsuitesparseconfig5_1%3a5.1.2-2_amd64.deb ...\n",
            "Unpacking libsuitesparseconfig5:amd64 (1:5.1.2-2) ...\n",
            "Selecting previously unselected package libamd2:amd64.\n",
            "Preparing to unpack .../libamd2_1%3a5.1.2-2_amd64.deb ...\n",
            "Unpacking libamd2:amd64 (1:5.1.2-2) ...\n",
            "Selecting previously unselected package libcolamd2:amd64.\n",
            "Preparing to unpack .../libcolamd2_1%3a5.1.2-2_amd64.deb ...\n",
            "Unpacking libcolamd2:amd64 (1:5.1.2-2) ...\n",
            "Selecting previously unselected package libglpk40:amd64.\n",
            "Preparing to unpack .../libglpk40_4.65-1_amd64.deb ...\n",
            "Unpacking libglpk40:amd64 (4.65-1) ...\n",
            "Selecting previously unselected package glpk-utils.\n",
            "Preparing to unpack .../glpk-utils_4.65-1_amd64.deb ...\n",
            "Unpacking glpk-utils (4.65-1) ...\n",
            "Setting up libsuitesparseconfig5:amd64 (1:5.1.2-2) ...\n",
            "Setting up libcolamd2:amd64 (1:5.1.2-2) ...\n",
            "Setting up libamd2:amd64 (1:5.1.2-2) ...\n",
            "Setting up libglpk40:amd64 (4.65-1) ...\n",
            "Setting up glpk-utils (4.65-1) ...\n",
            "Processing triggers for libc-bin (2.27-3ubuntu1.3) ...\n",
            "Processing triggers for man-db (2.8.3-2ubuntu0.1) ...\n"
          ]
        }
      ]
    },
    {
      "cell_type": "code",
      "source": [
        "SolverFactory('glpk', executable='/usr/bin/glpsol').solve(model1).write()"
      ],
      "metadata": {
        "colab": {
          "base_uri": "https://localhost:8080/"
        },
        "id": "GoQHgLjDFnHP",
        "outputId": "3c75a425-1953-4e5d-87fb-e7232c60c3c0"
      },
      "execution_count": null,
      "outputs": [
        {
          "output_type": "stream",
          "name": "stdout",
          "text": [
            "# ==========================================================\n",
            "# = Solver Results                                         =\n",
            "# ==========================================================\n",
            "# ----------------------------------------------------------\n",
            "#   Problem Information\n",
            "# ----------------------------------------------------------\n",
            "Problem: \n",
            "- Name: unknown\n",
            "  Lower bound: -1010.76\n",
            "  Upper bound: -1010.76\n",
            "  Number of objectives: 1\n",
            "  Number of constraints: 13\n",
            "  Number of variables: 8\n",
            "  Number of nonzeros: 26\n",
            "  Sense: minimize\n",
            "# ----------------------------------------------------------\n",
            "#   Solver Information\n",
            "# ----------------------------------------------------------\n",
            "Solver: \n",
            "- Status: ok\n",
            "  Termination condition: optimal\n",
            "  Statistics: \n",
            "    Branch and bound: \n",
            "      Number of bounded subproblems: 0\n",
            "      Number of created subproblems: 0\n",
            "  Error rc: 0\n",
            "  Time: 0.011832475662231445\n",
            "# ----------------------------------------------------------\n",
            "#   Solution Information\n",
            "# ----------------------------------------------------------\n",
            "Solution: \n",
            "- number of solutions: 0\n",
            "  number of solutions displayed: 0\n"
          ]
        }
      ]
    },
    {
      "cell_type": "code",
      "source": [
        "# display solution\n",
        "print('\\nCost = ', model1.cost())\n",
        "\n",
        "print('\\nDecision Variables')\n",
        "print('x1 = ', model1.x1())\n",
        "print('x2 = ', model1.x2())\n",
        "print('x3 = ', model1.x3())\n",
        "print('x4 = ', model1.x4())\n",
        "print('x5 = ', model1.x5())\n",
        "print('x6 = ', model1.x6())\n",
        "print('x7 = ', model1.x7())\n",
        "\n",
        "\n",
        "\n",
        "print('\\nConstraints')\n",
        "print('Constraint 1  = ', model1.constr1())\n",
        "print('Constraint 2  = ', model1.constr2())\n",
        "print('Constraint 3  = ', model1.constr3())\n",
        "print('Constraint 4  = ', model1.constr4())\n",
        "print('Constraint 5  = ', model1.constr5())\n",
        "print('Constraint 6  = ', model1.constr6())\n",
        "print('Constraint 7  = ', model1.constr7())\n",
        "print('Constraint 8  = ', model1.constr8())\n",
        "print('Constraint 9  = ', model1.constr9())\n",
        "print('Constraint 10  = ', model1.constr10())\n",
        "print('Constraint 11 = ', model1.constr11())\n",
        "print('Constraint 12 = ', model1.constr12())\n"
      ],
      "metadata": {
        "colab": {
          "base_uri": "https://localhost:8080/"
        },
        "id": "3-oWyz6UFv8A",
        "outputId": "f330fa25-44ce-4fd5-942f-8d4f4fdbef88"
      },
      "execution_count": null,
      "outputs": [
        {
          "output_type": "stream",
          "name": "stdout",
          "text": [
            "\n",
            "Cost =  -1010.76\n",
            "\n",
            "Decision Variables\n",
            "x1 =  -5.0\n",
            "x2 =  0.0\n",
            "x3 =  10.0\n",
            "x4 =  230.0\n",
            "x5 =  -4.0\n",
            "x6 =  0.0\n",
            "x7 =  25.0\n",
            "\n",
            "Constraints\n",
            "Constraint 1  =  256.0\n",
            "Constraint 2  =  10.0\n",
            "Constraint 3  =  11.0\n",
            "Constraint 4  =  6897.5\n",
            "Constraint 5  =  31.0\n",
            "Constraint 6  =  -5.0\n",
            "Constraint 7  =  0.0\n",
            "Constraint 8  =  10.0\n",
            "Constraint 9  =  230.0\n",
            "Constraint 10  =  -4.0\n",
            "Constraint 11 =  0.0\n",
            "Constraint 12 =  25.0\n"
          ]
        }
      ]
    },
    {
      "cell_type": "code",
      "source": [
        ""
      ],
      "metadata": {
        "id": "Sd0wnsoCIMCq"
      },
      "execution_count": null,
      "outputs": []
    },
    {
      "cell_type": "code",
      "source": [
        ""
      ],
      "metadata": {
        "id": "BAxqcltcIMGU"
      },
      "execution_count": null,
      "outputs": []
    },
    {
      "cell_type": "markdown",
      "source": [
        "Ans:\n",
        "the objettive value are :-1010.7600\\\\\n",
        " value of the  decision variables are  and optimal point are: \\\\\n",
        "x1 =  -5.0, \\\\\n",
        "x2 =  0.0, \\\\\n",
        "x3 =  10.0, \\\\\n",
        "x4 =  230.0, \\\\\n",
        "x5 =  -4.0, \\\\\n",
        "x6 =  0.0, \\\\\n",
        "x7 =  24.999 \\\\\n",
        "Constraints activities are= \\\\\n",
        " constraint 1  active because LHS = $ = -256 = RHS $ \\\\ , \n",
        " constraint 2  active because LHS = $ = 256 = RHS $ \\\\\n",
        " constraint 3 are active because LHS = $  = 10 = RHS $ \\\\\n",
        " constraint 4 are  inactive since LHS = are non equal to rhs\\\\\n",
        "constraint 5 are  inactive since LHS = are non equal to rhs"
      ],
      "metadata": {
        "id": "lPIEo5ZuF40v"
      }
    }
  ]
}