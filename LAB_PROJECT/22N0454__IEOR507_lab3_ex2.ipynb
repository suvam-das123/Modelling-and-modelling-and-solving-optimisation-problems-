{
  "nbformat": 4,
  "nbformat_minor": 0,
  "metadata": {
    "colab": {
      "name": "22N0454_ IEOR507_lab3_ex2.ipynb",
      "provenance": [],
      "collapsed_sections": []
    },
    "kernelspec": {
      "name": "python3",
      "display_name": "Python 3"
    },
    "language_info": {
      "name": "python"
    }
  },
  "cells": [
    {
      "cell_type": "code",
      "execution_count": 233,
      "metadata": {
        "id": "U9kyW6neNFBq"
      },
      "outputs": [],
      "source": [
        ""
      ]
    },
    {
      "cell_type": "markdown",
      "source": [
        "x0 is co course,x1 is c1 course , x2 is c2 course, x3 is c3 course ,x4  is course c4, x5 is course c5, x6 iscourse c6, x7 course c7,  x8 course is x8,x9 is course c9\n",
        " max   4x0+3x1+6x2+5x3+2x4+6x5+4x6+8x7+8x8+6x9\n",
        " x0+x1+x2+x3+x4+x5+x6+x7+x8+x9>=26,\n",
        "x0+x1+x2+x3+x4+x5+x6+x7+x8+x9<=8,\n",
        "x1+x7<=1,\n",
        "x1+x9<=1,\n",
        "x2+x8<=1,\n",
        "x4+x5<=2,\n",
        "x0+x2+x1++x3>=1\n",
        "x0+x2+x1++x3<=2,\n",
        "x5+x9<=1,\n",
        "x6+x8+x9<=2,\n",
        "\n",
        "\n"
      ],
      "metadata": {
        "id": "nh_kPlDiUmYS"
      }
    },
    {
      "cell_type": "markdown",
      "source": [
        ""
      ],
      "metadata": {
        "id": "_QyymPe9uNPj"
      }
    },
    {
      "cell_type": "code",
      "source": [
        "!pip install  -q pyomo"
      ],
      "metadata": {
        "id": "oygJ2iduNKgQ"
      },
      "execution_count": 234,
      "outputs": []
    },
    {
      "cell_type": "code",
      "source": [
        "from pyomo.environ import *"
      ],
      "metadata": {
        "id": "WXCSCqKJNqLB"
      },
      "execution_count": 235,
      "outputs": []
    },
    {
      "cell_type": "code",
      "source": [
        "import numpy as np"
      ],
      "metadata": {
        "id": "e1h4Li0DQoNr"
      },
      "execution_count": 236,
      "outputs": []
    },
    {
      "cell_type": "code",
      "source": [
        "model=ConcreteModel()\n"
      ],
      "metadata": {
        "id": "PbRVAnQeNzmV"
      },
      "execution_count": 237,
      "outputs": []
    },
    {
      "cell_type": "code",
      "source": [
        ""
      ],
      "metadata": {
        "id": "CWlc7o2dulE-"
      },
      "execution_count": 237,
      "outputs": []
    },
    {
      "cell_type": "code",
      "source": [
        ""
      ],
      "metadata": {
        "id": "lRz1NOS8Nzs5"
      },
      "execution_count": 237,
      "outputs": []
    },
    {
      "cell_type": "code",
      "source": [
        "M=11\n",
        "N=10\n"
      ],
      "metadata": {
        "id": "UgWybAPwNzwr"
      },
      "execution_count": 238,
      "outputs": []
    },
    {
      "cell_type": "code",
      "source": [
        "row_indices=np.arange(M)\n",
        "print(row_indices)"
      ],
      "metadata": {
        "id": "kztevLfosTPi",
        "colab": {
          "base_uri": "https://localhost:8080/"
        },
        "outputId": "02af7c2e-ae1c-4a43-f8e5-0f3760b0ebc9"
      },
      "execution_count": 239,
      "outputs": [
        {
          "output_type": "stream",
          "name": "stdout",
          "text": [
            "[ 0  1  2  3  4  5  6  7  8  9 10]\n"
          ]
        }
      ]
    },
    {
      "cell_type": "code",
      "source": [
        "obj_coef_c=np.array([4,3,6,5,2,6,4,8,8,6])\n",
        "constr_coef=np.array([[-4,-3,-6,-5,-2,-6,-4,-8,-8,-6],[-1,-1,-1,-1,-1,-1,-1,-1,-1,-1],[1,1,1,1,1,1,1,1,1,1],[0,0,1,0,0,0,0,1,0,0],[0,1,0,0,0,0,0,0,0,1],[0,0,1,0,0,0,0,0,1,0],[0,0,0,1,1,0,0,0,0,0],[-1,-1,-1,-1,0,0,0,0,0,0],[1,1,1,1,0,0,0,0,0,0],[0,0,0,0,0,1,0,0,0,1],[0,0,0,0,0,0,1,0,1,1]])\n",
        "constr_rhs_b=([-26,-4,8,1,1,1,2,-1,2,1,2,])\n"
      ],
      "metadata": {
        "id": "49Wh06cxNz0Z"
      },
      "execution_count": 240,
      "outputs": []
    },
    {
      "cell_type": "code",
      "source": [
        "col_indices = np.arange(N)\n",
        "print(col_indices)"
      ],
      "metadata": {
        "id": "ZtRt9UpGOyc2",
        "colab": {
          "base_uri": "https://localhost:8080/"
        },
        "outputId": "7bb41ee5-63c3-45a0-823c-6d114062666d"
      },
      "execution_count": 241,
      "outputs": [
        {
          "output_type": "stream",
          "name": "stdout",
          "text": [
            "[0 1 2 3 4 5 6 7 8 9]\n"
          ]
        }
      ]
    },
    {
      "cell_type": "code",
      "source": [
        "model.x = Var(col_indices,domain=Binary)\n",
        "\n"
      ],
      "metadata": {
        "id": "7Julb4sXOyhq"
      },
      "execution_count": 242,
      "outputs": []
    },
    {
      "cell_type": "code",
      "source": [
        "model.constraints = ConstraintList()"
      ],
      "metadata": {
        "id": "KPk_d4mEgx13"
      },
      "execution_count": 243,
      "outputs": []
    },
    {
      "cell_type": "code",
      "source": [
        "for i in row_indices:\n",
        "  model.constraints.add(sum(constr_coef[i][j]*model.x[j] for j in col_indices) <= constr_rhs_b[i])"
      ],
      "metadata": {
        "id": "SBThzXcEOyll"
      },
      "execution_count": 244,
      "outputs": []
    },
    {
      "cell_type": "code",
      "source": [
        ""
      ],
      "metadata": {
        "id": "hxX8Vir4OUMJ"
      },
      "execution_count": 244,
      "outputs": []
    },
    {
      "cell_type": "code",
      "source": [
        "model.objective = Objective(expr =summation(obj_coef_c,model.x), sense=maximize)\n",
        "model.pprint() "
      ],
      "metadata": {
        "id": "SlqWZOcaOUQO",
        "colab": {
          "base_uri": "https://localhost:8080/"
        },
        "outputId": "3fdd7264-3bb3-4a13-a6fb-77c27512c64b"
      },
      "execution_count": 245,
      "outputs": [
        {
          "output_type": "stream",
          "name": "stdout",
          "text": [
            "2 Set Declarations\n",
            "    constraints_index : Size=1, Index=None, Ordered=Insertion\n",
            "        Key  : Dimen : Domain : Size : Members\n",
            "        None :     1 :    Any :   11 : {1, 2, 3, 4, 5, 6, 7, 8, 9, 10, 11}\n",
            "    x_index : Size=1, Index=None, Ordered=False\n",
            "        Key  : Dimen : Domain : Size : Members\n",
            "        None :     1 :    Any :   10 : {0, 1, 2, 3, 4, 5, 6, 7, 8, 9}\n",
            "\n",
            "1 Var Declarations\n",
            "    x : Size=10, Index=x_index\n",
            "        Key : Lower : Value : Upper : Fixed : Stale : Domain\n",
            "          0 :     0 :  None :     1 : False :  True : Binary\n",
            "          1 :     0 :  None :     1 : False :  True : Binary\n",
            "          2 :     0 :  None :     1 : False :  True : Binary\n",
            "          3 :     0 :  None :     1 : False :  True : Binary\n",
            "          4 :     0 :  None :     1 : False :  True : Binary\n",
            "          5 :     0 :  None :     1 : False :  True : Binary\n",
            "          6 :     0 :  None :     1 : False :  True : Binary\n",
            "          7 :     0 :  None :     1 : False :  True : Binary\n",
            "          8 :     0 :  None :     1 : False :  True : Binary\n",
            "          9 :     0 :  None :     1 : False :  True : Binary\n",
            "\n",
            "1 Objective Declarations\n",
            "    objective : Size=1, Index=None, Active=True\n",
            "        Key  : Active : Sense    : Expression\n",
            "        None :   True : maximize : 4*x[0] + 3*x[1] + 6*x[2] + 5*x[3] + 2*x[4] + 6*x[5] + 4*x[6] + 8*x[7] + 8*x[8] + 6*x[9]\n",
            "\n",
            "1 Constraint Declarations\n",
            "    constraints : Size=11, Index=constraints_index, Active=True\n",
            "        Key : Lower : Body                                                                                     : Upper : Active\n",
            "          1 :  -Inf : -4*x[0] - 3*x[1] - 6*x[2] - 5*x[3] - 2*x[4] - 6*x[5] - 4*x[6] - 8*x[7] - 8*x[8] - 6*x[9] : -26.0 :   True\n",
            "          2 :  -Inf :                    - x[0] - x[1] - x[2] - x[3] - x[4] - x[5] - x[6] - x[7] - x[8] - x[9] :  -4.0 :   True\n",
            "          3 :  -Inf :                      x[0] + x[1] + x[2] + x[3] + x[4] + x[5] + x[6] + x[7] + x[8] + x[9] :   8.0 :   True\n",
            "          4 :  -Inf :                                                                              x[2] + x[7] :   1.0 :   True\n",
            "          5 :  -Inf :                                                                              x[1] + x[9] :   1.0 :   True\n",
            "          6 :  -Inf :                                                                              x[2] + x[8] :   1.0 :   True\n",
            "          7 :  -Inf :                                                                              x[3] + x[4] :   2.0 :   True\n",
            "          8 :  -Inf :                                                              - x[0] - x[1] - x[2] - x[3] :  -1.0 :   True\n",
            "          9 :  -Inf :                                                                x[0] + x[1] + x[2] + x[3] :   2.0 :   True\n",
            "         10 :  -Inf :                                                                              x[5] + x[9] :   1.0 :   True\n",
            "         11 :  -Inf :                                                                       x[6] + x[8] + x[9] :   2.0 :   True\n",
            "\n",
            "5 Declarations: x_index x constraints_index constraints objective\n"
          ]
        }
      ]
    },
    {
      "cell_type": "code",
      "source": [
        "!apt-get install -y -qq coinor-cbc"
      ],
      "metadata": {
        "id": "awynAPROOz50"
      },
      "execution_count": 246,
      "outputs": []
    },
    {
      "cell_type": "code",
      "source": [
        "\n",
        "opt_cbc = SolverFactory('cbc')"
      ],
      "metadata": {
        "id": "CU7gSE6_Oz-H"
      },
      "execution_count": 247,
      "outputs": []
    },
    {
      "cell_type": "code",
      "source": [
        "result = opt_cbc.solve(model)\n",
        "print(result)\n",
        "\n",
        "print('Solver status:', result.solver.status)\n",
        "print('Solver termination condition:',result.solver.termination_condition)\n",
        "print('Solver time:',result.solver.time)\n"
      ],
      "metadata": {
        "id": "gscDYX9kO0CO",
        "colab": {
          "base_uri": "https://localhost:8080/"
        },
        "outputId": "7a5ca598-b6e3-4ba2-b183-1798e4315111"
      },
      "execution_count": 248,
      "outputs": [
        {
          "output_type": "stream",
          "name": "stdout",
          "text": [
            "\n",
            "Problem: \n",
            "- Name: unknown\n",
            "  Lower bound: 37.0\n",
            "  Upper bound: 37.0\n",
            "  Number of objectives: 1\n",
            "  Number of constraints: 10\n",
            "  Number of variables: 10\n",
            "  Number of binary variables: 10\n",
            "  Number of integer variables: 10\n",
            "  Number of nonzeros: 10\n",
            "  Sense: maximize\n",
            "Solver: \n",
            "- Status: ok\n",
            "  User time: -1.0\n",
            "  System time: 0.0\n",
            "  Wallclock time: 0.0\n",
            "  Termination condition: optimal\n",
            "  Termination message: Model was solved to optimality (subject to tolerances), and an optimal solution is available.\n",
            "  Statistics: \n",
            "    Branch and bound: \n",
            "      Number of bounded subproblems: 0\n",
            "      Number of created subproblems: 0\n",
            "    Black box: \n",
            "      Number of iterations: 0\n",
            "  Error rc: 0\n",
            "  Time: 0.023654937744140625\n",
            "Solution: \n",
            "- number of solutions: 0\n",
            "  number of solutions displayed: 0\n",
            "\n",
            "Solver status: ok\n",
            "Solver termination condition: optimal\n",
            "Solver time: 0.023654937744140625\n"
          ]
        }
      ]
    },
    {
      "cell_type": "code",
      "source": [
        "# display solution\n",
        "print('\\nObjective = ', model.objective())\n",
        "\n",
        "print('\\nDecision Variables')\n",
        "for i in col_indices:\n",
        "  print('x'+str(i+0)+'= ', model.x[i].value)\n",
        " \n",
        " \n",
        "print('\\nConstraints')\n",
        "model.constraints.display()"
      ],
      "metadata": {
        "id": "GUc3GKX3O0GJ",
        "colab": {
          "base_uri": "https://localhost:8080/"
        },
        "outputId": "c05c05a0-5bcd-449d-ed95-0d15ceb586d5"
      },
      "execution_count": 249,
      "outputs": [
        {
          "output_type": "stream",
          "name": "stdout",
          "text": [
            "\n",
            "Objective =  37.0\n",
            "\n",
            "Decision Variables\n",
            "x0=  1.0\n",
            "x1=  0.0\n",
            "x2=  0.0\n",
            "x3=  1.0\n",
            "x4=  1.0\n",
            "x5=  1.0\n",
            "x6=  1.0\n",
            "x7=  1.0\n",
            "x8=  1.0\n",
            "x9=  0.0\n",
            "\n",
            "Constraints\n",
            "constraints : Size=11\n",
            "    Key : Lower : Body  : Upper\n",
            "      1 :  None : -37.0 : -26.0\n",
            "      2 :  None :  -7.0 :  -4.0\n",
            "      3 :  None :   7.0 :   8.0\n",
            "      4 :  None :   1.0 :   1.0\n",
            "      5 :  None :   0.0 :   1.0\n",
            "      6 :  None :   1.0 :   1.0\n",
            "      7 :  None :   2.0 :   2.0\n",
            "      8 :  None :  -2.0 :  -1.0\n",
            "      9 :  None :   2.0 :   2.0\n",
            "     10 :  None :   1.0 :   1.0\n",
            "     11 :  None :   2.0 :   2.0\n"
          ]
        }
      ]
    },
    {
      "cell_type": "markdown",
      "source": [
        "3. [R] Solver your MILP using cbc solver and report the optimal values of the variables and the objective function value.\n",
        "\n"
      ],
      "metadata": {
        "id": "Wt-g5c4JiIvf"
      }
    },
    {
      "cell_type": "markdown",
      "source": [
        "the maximam vaule =  37.0\n",
        "\n",
        "\n",
        "Decision Variables\n",
        "x0=  1.0\n",
        "x1=  0.0\n",
        "x2=  0.0\n",
        "x3=  1.0\n",
        "x4=  1.0\n",
        "x5=  1.0\n",
        "x6=  1.0\n",
        "x7=  1.0\n",
        "x8=  1.0\n",
        "x9=  0.0\n",
        "\n",
        "\n"
      ],
      "metadata": {
        "id": "uj8bECrzcnvR"
      }
    },
    {
      "cell_type": "markdown",
      "source": [
        "#4\n",
        " domain is reals"
      ],
      "metadata": {
        "id": "GnQiY5u39bZN"
      }
    },
    {
      "cell_type": "code",
      "source": [
        "model1=ConcreteModel()\n"
      ],
      "metadata": {
        "id": "LJ89tbiTy-gm"
      },
      "execution_count": 250,
      "outputs": []
    },
    {
      "cell_type": "code",
      "source": [
        "M=11\n",
        "N=10\n"
      ],
      "metadata": {
        "id": "KIuFmgIky-uY"
      },
      "execution_count": 251,
      "outputs": []
    },
    {
      "cell_type": "code",
      "source": [
        "row_indices=np.arange(M)\n",
        "print(row_indices)"
      ],
      "metadata": {
        "colab": {
          "base_uri": "https://localhost:8080/"
        },
        "id": "5vReuJqTy-0q",
        "outputId": "86cd2faa-e330-4a9b-ace6-ec58d857eac8"
      },
      "execution_count": 252,
      "outputs": [
        {
          "output_type": "stream",
          "name": "stdout",
          "text": [
            "[ 0  1  2  3  4  5  6  7  8  9 10]\n"
          ]
        }
      ]
    },
    {
      "cell_type": "code",
      "source": [
        "obj_coef_c=np.array([4,3,6,5,2,6,4,8,8,6])\n",
        "constr_coef=np.array([[-4,-3,-6,-5,-2,-6,-4,-8,-8,-6],[-1,-1,-1,-1,-1,-1,-1,-1,-1,-1],[1,1,1,1,1,1,1,1,1,1],[0,0,1,0,0,0,0,1,0,0],[0,1,0,0,0,0,0,0,0,1],[0,0,1,0,0,0,0,0,1,0],[0,0,0,1,1,0,0,0,0,0],[-1,-1,-1,-1,0,0,0,0,0,0],[1,1,1,1,0,0,0,0,0,0],[0,0,0,0,0,1,0,0,0,1],[0,0,0,0,0,0,1,0,1,1]])\n",
        "constr_rhs_b=([-26,-4,8,1,1,1,2,-1,2,1,2,])\n",
        "lb=np.array([0,0,0,0,0,0,0,0,0,0])\n",
        "ub=np.array([1,1,1,1,1,1,1,1,1,1]) \n",
        "\n"
      ],
      "metadata": {
        "id": "VUBpzWlSy-4u"
      },
      "execution_count": 253,
      "outputs": []
    },
    {
      "cell_type": "code",
      "source": [
        "col_indices = np.arange(N)\n",
        "print(col_indices)"
      ],
      "metadata": {
        "colab": {
          "base_uri": "https://localhost:8080/"
        },
        "id": "yEAfZIL9y-8v",
        "outputId": "1274373a-6cad-4b6d-f7a4-eade6dd73f43"
      },
      "execution_count": 254,
      "outputs": [
        {
          "output_type": "stream",
          "name": "stdout",
          "text": [
            "[0 1 2 3 4 5 6 7 8 9]\n"
          ]
        }
      ]
    },
    {
      "cell_type": "code",
      "source": [
        "model1.x = Var(col_indices,domain=Reals)\n"
      ],
      "metadata": {
        "id": "qx8JFIToy_BB"
      },
      "execution_count": 255,
      "outputs": []
    },
    {
      "cell_type": "code",
      "source": [
        "for i in col_indices:\n",
        "  model1.x[i].setlb(lb[i])\n",
        "  model1.x[i].setub(ub[i])\n"
      ],
      "metadata": {
        "id": "Pmoamh-42k4u"
      },
      "execution_count": 256,
      "outputs": []
    },
    {
      "cell_type": "code",
      "source": [
        "model1.constraints = ConstraintList()"
      ],
      "metadata": {
        "id": "aFjwghyFy_Fb"
      },
      "execution_count": 257,
      "outputs": []
    },
    {
      "cell_type": "code",
      "source": [
        "for i in row_indices:\n",
        "  model1.constraints.add(sum(constr_coef[i][j]*model1.x[j] for j in col_indices) <= constr_rhs_b[i])"
      ],
      "metadata": {
        "id": "Jko4H1hZy_I9"
      },
      "execution_count": 258,
      "outputs": []
    },
    {
      "cell_type": "code",
      "source": [
        "model1.objective = Objective(expr =summation(obj_coef_c,model1.x), sense=maximize)\n",
        "model1.pprint() "
      ],
      "metadata": {
        "colab": {
          "base_uri": "https://localhost:8080/"
        },
        "id": "p2PGAeg2y_Mf",
        "outputId": "3df5319a-66b1-4f74-d9f1-e385465d26d0"
      },
      "execution_count": 259,
      "outputs": [
        {
          "output_type": "stream",
          "name": "stdout",
          "text": [
            "2 Set Declarations\n",
            "    constraints_index : Size=1, Index=None, Ordered=Insertion\n",
            "        Key  : Dimen : Domain : Size : Members\n",
            "        None :     1 :    Any :   11 : {1, 2, 3, 4, 5, 6, 7, 8, 9, 10, 11}\n",
            "    x_index : Size=1, Index=None, Ordered=False\n",
            "        Key  : Dimen : Domain : Size : Members\n",
            "        None :     1 :    Any :   10 : {0, 1, 2, 3, 4, 5, 6, 7, 8, 9}\n",
            "\n",
            "1 Var Declarations\n",
            "    x : Size=10, Index=x_index\n",
            "        Key : Lower : Value : Upper : Fixed : Stale : Domain\n",
            "          0 :     0 :  None :     1 : False :  True :  Reals\n",
            "          1 :     0 :  None :     1 : False :  True :  Reals\n",
            "          2 :     0 :  None :     1 : False :  True :  Reals\n",
            "          3 :     0 :  None :     1 : False :  True :  Reals\n",
            "          4 :     0 :  None :     1 : False :  True :  Reals\n",
            "          5 :     0 :  None :     1 : False :  True :  Reals\n",
            "          6 :     0 :  None :     1 : False :  True :  Reals\n",
            "          7 :     0 :  None :     1 : False :  True :  Reals\n",
            "          8 :     0 :  None :     1 : False :  True :  Reals\n",
            "          9 :     0 :  None :     1 : False :  True :  Reals\n",
            "\n",
            "1 Objective Declarations\n",
            "    objective : Size=1, Index=None, Active=True\n",
            "        Key  : Active : Sense    : Expression\n",
            "        None :   True : maximize : 4*x[0] + 3*x[1] + 6*x[2] + 5*x[3] + 2*x[4] + 6*x[5] + 4*x[6] + 8*x[7] + 8*x[8] + 6*x[9]\n",
            "\n",
            "1 Constraint Declarations\n",
            "    constraints : Size=11, Index=constraints_index, Active=True\n",
            "        Key : Lower : Body                                                                                     : Upper : Active\n",
            "          1 :  -Inf : -4*x[0] - 3*x[1] - 6*x[2] - 5*x[3] - 2*x[4] - 6*x[5] - 4*x[6] - 8*x[7] - 8*x[8] - 6*x[9] : -26.0 :   True\n",
            "          2 :  -Inf :                    - x[0] - x[1] - x[2] - x[3] - x[4] - x[5] - x[6] - x[7] - x[8] - x[9] :  -4.0 :   True\n",
            "          3 :  -Inf :                      x[0] + x[1] + x[2] + x[3] + x[4] + x[5] + x[6] + x[7] + x[8] + x[9] :   8.0 :   True\n",
            "          4 :  -Inf :                                                                              x[2] + x[7] :   1.0 :   True\n",
            "          5 :  -Inf :                                                                              x[1] + x[9] :   1.0 :   True\n",
            "          6 :  -Inf :                                                                              x[2] + x[8] :   1.0 :   True\n",
            "          7 :  -Inf :                                                                              x[3] + x[4] :   2.0 :   True\n",
            "          8 :  -Inf :                                                              - x[0] - x[1] - x[2] - x[3] :  -1.0 :   True\n",
            "          9 :  -Inf :                                                                x[0] + x[1] + x[2] + x[3] :   2.0 :   True\n",
            "         10 :  -Inf :                                                                              x[5] + x[9] :   1.0 :   True\n",
            "         11 :  -Inf :                                                                       x[6] + x[8] + x[9] :   2.0 :   True\n",
            "\n",
            "5 Declarations: x_index x constraints_index constraints objective\n"
          ]
        }
      ]
    },
    {
      "cell_type": "code",
      "source": [
        "!apt-get install -y -qq coinor-cbc"
      ],
      "metadata": {
        "id": "wTvzz7ccz07e"
      },
      "execution_count": 260,
      "outputs": []
    },
    {
      "cell_type": "code",
      "source": [
        "\n",
        "opt_cbc = SolverFactory('cbc')"
      ],
      "metadata": {
        "id": "vAEnTfF1z1D2"
      },
      "execution_count": 261,
      "outputs": []
    },
    {
      "cell_type": "code",
      "source": [
        "result = opt_cbc.solve(model1)\n",
        "print(result)\n",
        "\n",
        "print('Solver status:', result.solver.status)\n",
        "print('Solver termination condition:',result.solver.termination_condition)\n",
        "print('Solver time:',result.solver.time)\n"
      ],
      "metadata": {
        "colab": {
          "base_uri": "https://localhost:8080/"
        },
        "id": "insrgGKlz1Hh",
        "outputId": "b5c37c67-3fb2-4d73-8215-8f61e7f314cc"
      },
      "execution_count": 262,
      "outputs": [
        {
          "output_type": "stream",
          "name": "stdout",
          "text": [
            "\n",
            "Problem: \n",
            "- Name: unknown\n",
            "  Lower bound: 37.0\n",
            "  Upper bound: 37.0\n",
            "  Number of objectives: 1\n",
            "  Number of constraints: 12\n",
            "  Number of variables: 11\n",
            "  Number of nonzeros: 10\n",
            "  Sense: maximize\n",
            "Solver: \n",
            "- Status: ok\n",
            "  User time: -1.0\n",
            "  System time: 0.0\n",
            "  Wallclock time: 0.0\n",
            "  Termination condition: optimal\n",
            "  Termination message: Model was solved to optimality (subject to tolerances), and an optimal solution is available.\n",
            "  Statistics: \n",
            "    Branch and bound: \n",
            "      Number of bounded subproblems: None\n",
            "      Number of created subproblems: None\n",
            "    Black box: \n",
            "      Number of iterations: 3\n",
            "  Error rc: 0\n",
            "  Time: 0.04980158805847168\n",
            "Solution: \n",
            "- number of solutions: 0\n",
            "  number of solutions displayed: 0\n",
            "\n",
            "Solver status: ok\n",
            "Solver termination condition: optimal\n",
            "Solver time: 0.04980158805847168\n"
          ]
        }
      ]
    },
    {
      "cell_type": "code",
      "source": [
        "# display solution\n",
        "print('\\nObjective = ', model1.objective())\n",
        "\n",
        "print('\\nDecision Variables')\n",
        "for i in col_indices:\n",
        "  print('x'+str(i+0)+'= ', model1.x[i].value)\n",
        " \n",
        " \n",
        "print('\\nConstraints')\n",
        "model1.constraints.display()\n"
      ],
      "metadata": {
        "colab": {
          "base_uri": "https://localhost:8080/"
        },
        "id": "N3xx8-lqy_P7",
        "outputId": "5de7bec2-f95e-4ea6-b51a-da1f74fb20d4"
      },
      "execution_count": 263,
      "outputs": [
        {
          "output_type": "stream",
          "name": "stdout",
          "text": [
            "\n",
            "Objective =  37.0\n",
            "\n",
            "Decision Variables\n",
            "x0=  1.0\n",
            "x1=  0.0\n",
            "x2=  0.0\n",
            "x3=  1.0\n",
            "x4=  1.0\n",
            "x5=  1.0\n",
            "x6=  1.0\n",
            "x7=  1.0\n",
            "x8=  1.0\n",
            "x9=  0.0\n",
            "\n",
            "Constraints\n",
            "constraints : Size=11\n",
            "    Key : Lower : Body  : Upper\n",
            "      1 :  None : -37.0 : -26.0\n",
            "      2 :  None :  -7.0 :  -4.0\n",
            "      3 :  None :   7.0 :   8.0\n",
            "      4 :  None :   1.0 :   1.0\n",
            "      5 :  None :   0.0 :   1.0\n",
            "      6 :  None :   1.0 :   1.0\n",
            "      7 :  None :   2.0 :   2.0\n",
            "      8 :  None :  -2.0 :  -1.0\n",
            "      9 :  None :   2.0 :   2.0\n",
            "     10 :  None :   1.0 :   1.0\n",
            "     11 :  None :   2.0 :   2.0\n"
          ]
        }
      ]
    },
    {
      "cell_type": "markdown",
      "source": [
        "there is no chnages of optimal value when used binary and when used reals domain\n",
        "in this qustion \n",
        "\n"
      ],
      "metadata": {
        "id": "k7JthPdO92rf"
      }
    },
    {
      "cell_type": "markdown",
      "source": [
        "5 ans-if the constrint is satifys that is not meaning  is optimal sulution  exits if may or may not be optimal solution\n",
        "\n",
        "---\n",
        "\n",
        "\n",
        "\n",
        "\n"
      ],
      "metadata": {
        "id": "aKPWdnj5FhsX"
      }
    },
    {
      "cell_type": "markdown",
      "source": [
        "\n",
        "#6 qustion new objetive function\n",
        "\n",
        "max   4x0+3x1+6x2+5x3+2x4+6x5+4x6+8x7+8x8+6x9\n",
        "new add constriant \n",
        "x10+x5<=1,\n",
        "x10+x6<=1\n",
        "\n"
      ],
      "metadata": {
        "id": "pvIw5qVK0PSo"
      }
    },
    {
      "cell_type": "code",
      "source": [
        ""
      ],
      "metadata": {
        "id": "LlQzGPgRy_Tw"
      },
      "execution_count": 263,
      "outputs": []
    },
    {
      "cell_type": "code",
      "source": [
        "model.objective.deactivate()\n",
        "M = 12\n",
        "model.x10= Var(domain=Binary) \n",
        "model.constraints.add(expr = model.x10+ model.x[5] <=1)\n",
        "model.constraints.add(expr = model.x10+ model.x[6] <=1)"
      ],
      "metadata": {
        "id": "XUetM7lX00XB",
        "colab": {
          "base_uri": "https://localhost:8080/"
        },
        "outputId": "200f950c-3f7d-4846-c9dc-d70bedbcbd74"
      },
      "execution_count": 264,
      "outputs": [
        {
          "output_type": "execute_result",
          "data": {
            "text/plain": [
              "<pyomo.core.base.constraint._GeneralConstraintData at 0x7fd42656aa60>"
            ]
          },
          "metadata": {},
          "execution_count": 264
        }
      ]
    },
    {
      "cell_type": "code",
      "source": [
        "model.new_objective = Objective(expr =12* model.x10 + summation(obj_coef_c,model.x) ,sense=maximize)"
      ],
      "metadata": {
        "id": "DloRFbkN00ba"
      },
      "execution_count": 265,
      "outputs": []
    },
    {
      "cell_type": "code",
      "source": [
        "model.pprint() "
      ],
      "metadata": {
        "id": "QA5mZ7OmyP_C",
        "colab": {
          "base_uri": "https://localhost:8080/"
        },
        "outputId": "7f6de853-0aaf-464b-bab1-f60d1561cb55"
      },
      "execution_count": 266,
      "outputs": [
        {
          "output_type": "stream",
          "name": "stdout",
          "text": [
            "2 Set Declarations\n",
            "    constraints_index : Size=1, Index=None, Ordered=Insertion\n",
            "        Key  : Dimen : Domain : Size : Members\n",
            "        None :     1 :    Any :   13 : {1, 2, 3, 4, 5, 6, 7, 8, 9, 10, 11, 12, 13}\n",
            "    x_index : Size=1, Index=None, Ordered=False\n",
            "        Key  : Dimen : Domain : Size : Members\n",
            "        None :     1 :    Any :   10 : {0, 1, 2, 3, 4, 5, 6, 7, 8, 9}\n",
            "\n",
            "2 Var Declarations\n",
            "    x : Size=10, Index=x_index\n",
            "        Key : Lower : Value : Upper : Fixed : Stale : Domain\n",
            "          0 :     0 :   1.0 :     1 : False :  True : Binary\n",
            "          1 :     0 :   0.0 :     1 : False :  True : Binary\n",
            "          2 :     0 :   0.0 :     1 : False :  True : Binary\n",
            "          3 :     0 :   1.0 :     1 : False :  True : Binary\n",
            "          4 :     0 :   1.0 :     1 : False :  True : Binary\n",
            "          5 :     0 :   1.0 :     1 : False :  True : Binary\n",
            "          6 :     0 :   1.0 :     1 : False :  True : Binary\n",
            "          7 :     0 :   1.0 :     1 : False :  True : Binary\n",
            "          8 :     0 :   1.0 :     1 : False :  True : Binary\n",
            "          9 :     0 :   0.0 :     1 : False :  True : Binary\n",
            "    x10 : Size=1, Index=None\n",
            "        Key  : Lower : Value : Upper : Fixed : Stale : Domain\n",
            "        None :     0 :  None :     1 : False :  True : Binary\n",
            "\n",
            "2 Objective Declarations\n",
            "    new_objective : Size=1, Index=None, Active=True\n",
            "        Key  : Active : Sense    : Expression\n",
            "        None :   True : maximize : 12*x10 + (4*x[0] + 3*x[1] + 6*x[2] + 5*x[3] + 2*x[4] + 6*x[5] + 4*x[6] + 8*x[7] + 8*x[8] + 6*x[9])\n",
            "    objective : Size=1, Index=None, Active=False\n",
            "        Key  : Active : Sense    : Expression\n",
            "        None :  False : maximize : 4*x[0] + 3*x[1] + 6*x[2] + 5*x[3] + 2*x[4] + 6*x[5] + 4*x[6] + 8*x[7] + 8*x[8] + 6*x[9]\n",
            "\n",
            "1 Constraint Declarations\n",
            "    constraints : Size=13, Index=constraints_index, Active=True\n",
            "        Key : Lower : Body                                                                                     : Upper : Active\n",
            "          1 :  -Inf : -4*x[0] - 3*x[1] - 6*x[2] - 5*x[3] - 2*x[4] - 6*x[5] - 4*x[6] - 8*x[7] - 8*x[8] - 6*x[9] : -26.0 :   True\n",
            "          2 :  -Inf :                    - x[0] - x[1] - x[2] - x[3] - x[4] - x[5] - x[6] - x[7] - x[8] - x[9] :  -4.0 :   True\n",
            "          3 :  -Inf :                      x[0] + x[1] + x[2] + x[3] + x[4] + x[5] + x[6] + x[7] + x[8] + x[9] :   8.0 :   True\n",
            "          4 :  -Inf :                                                                              x[2] + x[7] :   1.0 :   True\n",
            "          5 :  -Inf :                                                                              x[1] + x[9] :   1.0 :   True\n",
            "          6 :  -Inf :                                                                              x[2] + x[8] :   1.0 :   True\n",
            "          7 :  -Inf :                                                                              x[3] + x[4] :   2.0 :   True\n",
            "          8 :  -Inf :                                                              - x[0] - x[1] - x[2] - x[3] :  -1.0 :   True\n",
            "          9 :  -Inf :                                                                x[0] + x[1] + x[2] + x[3] :   2.0 :   True\n",
            "         10 :  -Inf :                                                                              x[5] + x[9] :   1.0 :   True\n",
            "         11 :  -Inf :                                                                       x[6] + x[8] + x[9] :   2.0 :   True\n",
            "         12 :  -Inf :                                                                               x10 + x[5] :   1.0 :   True\n",
            "         13 :  -Inf :                                                                               x10 + x[6] :   1.0 :   True\n",
            "\n",
            "7 Declarations: x_index x constraints_index constraints objective x10 new_objective\n"
          ]
        }
      ]
    },
    {
      "cell_type": "code",
      "source": [
        "result = opt_cbc.solve(model)\n",
        "print(result)\n",
        "\n",
        "print('Solver status:', result.solver.status)\n",
        "print('Solver termination condition:',result.solver.termination_condition)\n",
        "print('Solver time:',result.solver.time)\n"
      ],
      "metadata": {
        "id": "1pvBAucLyQDH",
        "colab": {
          "base_uri": "https://localhost:8080/"
        },
        "outputId": "8855b1f3-328e-45b9-c8ad-f45f45117903"
      },
      "execution_count": 267,
      "outputs": [
        {
          "output_type": "stream",
          "name": "stdout",
          "text": [
            "\n",
            "Problem: \n",
            "- Name: unknown\n",
            "  Lower bound: 45.0\n",
            "  Upper bound: 45.0\n",
            "  Number of objectives: 1\n",
            "  Number of constraints: 12\n",
            "  Number of variables: 11\n",
            "  Number of binary variables: 11\n",
            "  Number of integer variables: 11\n",
            "  Number of nonzeros: 11\n",
            "  Sense: maximize\n",
            "Solver: \n",
            "- Status: ok\n",
            "  User time: -1.0\n",
            "  System time: 0.0\n",
            "  Wallclock time: 0.01\n",
            "  Termination condition: optimal\n",
            "  Termination message: Model was solved to optimality (subject to tolerances), and an optimal solution is available.\n",
            "  Statistics: \n",
            "    Branch and bound: \n",
            "      Number of bounded subproblems: 0\n",
            "      Number of created subproblems: 0\n",
            "    Black box: \n",
            "      Number of iterations: 0\n",
            "  Error rc: 0\n",
            "  Time: 0.04939007759094238\n",
            "Solution: \n",
            "- number of solutions: 0\n",
            "  number of solutions displayed: 0\n",
            "\n",
            "Solver status: ok\n",
            "Solver termination condition: optimal\n",
            "Solver time: 0.04939007759094238\n"
          ]
        }
      ]
    },
    {
      "cell_type": "code",
      "source": [
        "\n",
        "# display solution\n",
        "print('\\nObjective = ', model.new_objective())\n",
        "\n",
        "print('\\nDecision Variables')\n",
        "for i in col_indices:\n",
        "  print('x'+str(i+0)+'= ', model.x[i].value)\n",
        " \n",
        "print('x10 = ', model.x10.value)  \n",
        "\n",
        "print('\\nConstraints')\n",
        "model.constraints.display()"
      ],
      "metadata": {
        "colab": {
          "base_uri": "https://localhost:8080/"
        },
        "id": "vqREN_MloVPH",
        "outputId": "fdb8c1da-d51d-4df7-9728-15a14671bc5e"
      },
      "execution_count": 268,
      "outputs": [
        {
          "output_type": "stream",
          "name": "stdout",
          "text": [
            "\n",
            "Objective =  45.0\n",
            "\n",
            "Decision Variables\n",
            "x0=  1.0\n",
            "x1=  0.0\n",
            "x2=  0.0\n",
            "x3=  1.0\n",
            "x4=  1.0\n",
            "x5=  0.0\n",
            "x6=  0.0\n",
            "x7=  1.0\n",
            "x8=  1.0\n",
            "x9=  1.0\n",
            "x10 =  1.0\n",
            "\n",
            "Constraints\n",
            "constraints : Size=13\n",
            "    Key : Lower : Body  : Upper\n",
            "      1 :  None : -33.0 : -26.0\n",
            "      2 :  None :  -6.0 :  -4.0\n",
            "      3 :  None :   6.0 :   8.0\n",
            "      4 :  None :   1.0 :   1.0\n",
            "      5 :  None :   1.0 :   1.0\n",
            "      6 :  None :   1.0 :   1.0\n",
            "      7 :  None :   2.0 :   2.0\n",
            "      8 :  None :  -2.0 :  -1.0\n",
            "      9 :  None :   2.0 :   2.0\n",
            "     10 :  None :   1.0 :   1.0\n",
            "     11 :  None :   2.0 :   2.0\n",
            "     12 :  None :   1.0 :   1.0\n",
            "     13 :  None :   1.0 :   1.0\n"
          ]
        }
      ]
    },
    {
      "cell_type": "code",
      "source": [
        ""
      ],
      "metadata": {
        "id": "VH6C4_OdolcA"
      },
      "execution_count": 268,
      "outputs": []
    },
    {
      "cell_type": "markdown",
      "source": [
        " 7 ans_*the* maximum value are=  45.0\n",
        "\n",
        "Decision Variables\n",
        "x0=  1.0\n",
        "x1=  0.0\n",
        "x2=  0.0\n",
        "x3=  1.0\n",
        "x4=  1.0\n",
        "x5=  0.0\n",
        "x6=  0.0\n",
        "x7=  1.0\n",
        "x8=  1.0\n",
        "x9=  1.0\n",
        "x10 =  **1.0**"
      ],
      "metadata": {
        "id": "QafPe4O-5xk3"
      }
    },
    {
      "cell_type": "code",
      "source": [
        "model1.objective.deactivate()\n",
        "M = 12\n",
        "model1.x10= Var(domain=Reals) \n",
        "model1.constraints.add(expr = model1.x10+ model1.x[5] <=1)\n",
        "model1.constraints.add(expr = model1.x10+ model1.x[6] <=1)"
      ],
      "metadata": {
        "id": "X_k8lzV65yjf",
        "colab": {
          "base_uri": "https://localhost:8080/"
        },
        "outputId": "ec3e7e0f-d56f-4cf9-a032-1185116bc32e"
      },
      "execution_count": 269,
      "outputs": [
        {
          "output_type": "execute_result",
          "data": {
            "text/plain": [
              "<pyomo.core.base.constraint._GeneralConstraintData at 0x7fd42656a520>"
            ]
          },
          "metadata": {},
          "execution_count": 269
        }
      ]
    },
    {
      "cell_type": "markdown",
      "source": [
        ""
      ],
      "metadata": {
        "id": "jmnkKr_bLhAH"
      }
    },
    {
      "cell_type": "code",
      "source": [
        "model1.new_objective = Objective(expr =12* model1.x10 + summation(obj_coef_c,model1.x) ,sense=maximize)"
      ],
      "metadata": {
        "id": "WkPKh1i6Jitp"
      },
      "execution_count": 270,
      "outputs": []
    },
    {
      "cell_type": "code",
      "source": [
        "model1.pprint() "
      ],
      "metadata": {
        "id": "oJB8J1YpJj9N",
        "outputId": "9a4659a1-ac1f-479e-cb8c-155a06f5cb9d",
        "colab": {
          "base_uri": "https://localhost:8080/"
        }
      },
      "execution_count": 271,
      "outputs": [
        {
          "output_type": "stream",
          "name": "stdout",
          "text": [
            "2 Set Declarations\n",
            "    constraints_index : Size=1, Index=None, Ordered=Insertion\n",
            "        Key  : Dimen : Domain : Size : Members\n",
            "        None :     1 :    Any :   13 : {1, 2, 3, 4, 5, 6, 7, 8, 9, 10, 11, 12, 13}\n",
            "    x_index : Size=1, Index=None, Ordered=False\n",
            "        Key  : Dimen : Domain : Size : Members\n",
            "        None :     1 :    Any :   10 : {0, 1, 2, 3, 4, 5, 6, 7, 8, 9}\n",
            "\n",
            "2 Var Declarations\n",
            "    x : Size=10, Index=x_index\n",
            "        Key : Lower : Value : Upper : Fixed : Stale : Domain\n",
            "          0 :     0 :   1.0 :     1 : False :  True :  Reals\n",
            "          1 :     0 :   0.0 :     1 : False :  True :  Reals\n",
            "          2 :     0 :   0.0 :     1 : False :  True :  Reals\n",
            "          3 :     0 :   1.0 :     1 : False :  True :  Reals\n",
            "          4 :     0 :   1.0 :     1 : False :  True :  Reals\n",
            "          5 :     0 :   1.0 :     1 : False :  True :  Reals\n",
            "          6 :     0 :   1.0 :     1 : False :  True :  Reals\n",
            "          7 :     0 :   1.0 :     1 : False :  True :  Reals\n",
            "          8 :     0 :   1.0 :     1 : False :  True :  Reals\n",
            "          9 :     0 :   0.0 :     1 : False :  True :  Reals\n",
            "    x10 : Size=1, Index=None\n",
            "        Key  : Lower : Value : Upper : Fixed : Stale : Domain\n",
            "        None :  None :  None :  None : False :  True :  Reals\n",
            "\n",
            "2 Objective Declarations\n",
            "    new_objective : Size=1, Index=None, Active=True\n",
            "        Key  : Active : Sense    : Expression\n",
            "        None :   True : maximize : 12*x10 + (4*x[0] + 3*x[1] + 6*x[2] + 5*x[3] + 2*x[4] + 6*x[5] + 4*x[6] + 8*x[7] + 8*x[8] + 6*x[9])\n",
            "    objective : Size=1, Index=None, Active=False\n",
            "        Key  : Active : Sense    : Expression\n",
            "        None :  False : maximize : 4*x[0] + 3*x[1] + 6*x[2] + 5*x[3] + 2*x[4] + 6*x[5] + 4*x[6] + 8*x[7] + 8*x[8] + 6*x[9]\n",
            "\n",
            "1 Constraint Declarations\n",
            "    constraints : Size=13, Index=constraints_index, Active=True\n",
            "        Key : Lower : Body                                                                                     : Upper : Active\n",
            "          1 :  -Inf : -4*x[0] - 3*x[1] - 6*x[2] - 5*x[3] - 2*x[4] - 6*x[5] - 4*x[6] - 8*x[7] - 8*x[8] - 6*x[9] : -26.0 :   True\n",
            "          2 :  -Inf :                    - x[0] - x[1] - x[2] - x[3] - x[4] - x[5] - x[6] - x[7] - x[8] - x[9] :  -4.0 :   True\n",
            "          3 :  -Inf :                      x[0] + x[1] + x[2] + x[3] + x[4] + x[5] + x[6] + x[7] + x[8] + x[9] :   8.0 :   True\n",
            "          4 :  -Inf :                                                                              x[2] + x[7] :   1.0 :   True\n",
            "          5 :  -Inf :                                                                              x[1] + x[9] :   1.0 :   True\n",
            "          6 :  -Inf :                                                                              x[2] + x[8] :   1.0 :   True\n",
            "          7 :  -Inf :                                                                              x[3] + x[4] :   2.0 :   True\n",
            "          8 :  -Inf :                                                              - x[0] - x[1] - x[2] - x[3] :  -1.0 :   True\n",
            "          9 :  -Inf :                                                                x[0] + x[1] + x[2] + x[3] :   2.0 :   True\n",
            "         10 :  -Inf :                                                                              x[5] + x[9] :   1.0 :   True\n",
            "         11 :  -Inf :                                                                       x[6] + x[8] + x[9] :   2.0 :   True\n",
            "         12 :  -Inf :                                                                               x10 + x[5] :   1.0 :   True\n",
            "         13 :  -Inf :                                                                               x10 + x[6] :   1.0 :   True\n",
            "\n",
            "7 Declarations: x_index x constraints_index constraints objective x10 new_objective\n"
          ]
        }
      ]
    },
    {
      "cell_type": "code",
      "source": [
        "result = opt_cbc.solve(model1)\n",
        "print(result)\n",
        "\n",
        "print('Solver status:', result.solver.status)\n",
        "print('Solver termination condition:',result.solver.termination_condition)\n",
        "print('Solver time:',result.solver.time)\n"
      ],
      "metadata": {
        "id": "6v3JUIVHJqy5",
        "outputId": "1f81b780-4d36-44ee-da7d-57b982d1cdfe",
        "colab": {
          "base_uri": "https://localhost:8080/"
        }
      },
      "execution_count": 272,
      "outputs": [
        {
          "output_type": "stream",
          "name": "stdout",
          "text": [
            "\n",
            "Problem: \n",
            "- Name: unknown\n",
            "  Lower bound: 45.0\n",
            "  Upper bound: 45.0\n",
            "  Number of objectives: 1\n",
            "  Number of constraints: 14\n",
            "  Number of variables: 12\n",
            "  Number of nonzeros: 11\n",
            "  Sense: maximize\n",
            "Solver: \n",
            "- Status: ok\n",
            "  User time: -1.0\n",
            "  System time: 0.0\n",
            "  Wallclock time: 0.0\n",
            "  Termination condition: optimal\n",
            "  Termination message: Model was solved to optimality (subject to tolerances), and an optimal solution is available.\n",
            "  Statistics: \n",
            "    Branch and bound: \n",
            "      Number of bounded subproblems: None\n",
            "      Number of created subproblems: None\n",
            "    Black box: \n",
            "      Number of iterations: 6\n",
            "  Error rc: 0\n",
            "  Time: 0.04853034019470215\n",
            "Solution: \n",
            "- number of solutions: 0\n",
            "  number of solutions displayed: 0\n",
            "\n",
            "Solver status: ok\n",
            "Solver termination condition: optimal\n",
            "Solver time: 0.04853034019470215\n"
          ]
        }
      ]
    },
    {
      "cell_type": "code",
      "source": [
        "\n",
        "# display solution\n",
        "print('\\nObjective = ', model1.new_objective())\n",
        "\n",
        "print('\\nDecision Variables')\n",
        "for i in col_indices:\n",
        "  print('x'+str(i+0)+'= ', model1.x[i].value)\n",
        " \n",
        "print('x10 = ', model1.x10.value)  \n",
        "\n",
        "print('\\nConstraints')\n",
        "model.constraints.display()"
      ],
      "metadata": {
        "id": "hrzAQ-jRJwN5",
        "outputId": "ad6570c5-f741-456a-b7a4-0660406960e7",
        "colab": {
          "base_uri": "https://localhost:8080/"
        }
      },
      "execution_count": 273,
      "outputs": [
        {
          "output_type": "stream",
          "name": "stdout",
          "text": [
            "\n",
            "Objective =  45.0\n",
            "\n",
            "Decision Variables\n",
            "x0=  1.0\n",
            "x1=  0.0\n",
            "x2=  0.0\n",
            "x3=  1.0\n",
            "x4=  1.0\n",
            "x5=  0.0\n",
            "x6=  0.0\n",
            "x7=  1.0\n",
            "x8=  1.0\n",
            "x9=  1.0\n",
            "x10 =  1.0\n",
            "\n",
            "Constraints\n",
            "constraints : Size=13\n",
            "    Key : Lower : Body  : Upper\n",
            "      1 :  None : -33.0 : -26.0\n",
            "      2 :  None :  -6.0 :  -4.0\n",
            "      3 :  None :   6.0 :   8.0\n",
            "      4 :  None :   1.0 :   1.0\n",
            "      5 :  None :   1.0 :   1.0\n",
            "      6 :  None :   1.0 :   1.0\n",
            "      7 :  None :   2.0 :   2.0\n",
            "      8 :  None :  -2.0 :  -1.0\n",
            "      9 :  None :   2.0 :   2.0\n",
            "     10 :  None :   1.0 :   1.0\n",
            "     11 :  None :   2.0 :   2.0\n",
            "     12 :  None :   1.0 :   1.0\n",
            "     13 :  None :   1.0 :   1.0\n"
          ]
        }
      ]
    },
    {
      "cell_type": "markdown",
      "source": [
        ""
      ],
      "metadata": {
        "id": "kasu_TK7Lkks"
      }
    },
    {
      "cell_type": "markdown",
      "source": [
        "in this case this qustion ans are same but in genral the  will not same "
      ],
      "metadata": {
        "id": "1XgvB45FLteP"
      }
    },
    {
      "cell_type": "code",
      "source": [
        ""
      ],
      "metadata": {
        "id": "Hduk__0uL4y6"
      },
      "execution_count": null,
      "outputs": []
    },
    {
      "cell_type": "code",
      "source": [
        ""
      ],
      "metadata": {
        "id": "odKRvbU_L44G"
      },
      "execution_count": null,
      "outputs": []
    },
    {
      "cell_type": "code",
      "source": [
        ""
      ],
      "metadata": {
        "id": "N-THAomdL49J"
      },
      "execution_count": null,
      "outputs": []
    },
    {
      "cell_type": "code",
      "source": [
        ""
      ],
      "metadata": {
        "id": "CfOH4QSqL5Gl"
      },
      "execution_count": null,
      "outputs": []
    },
    {
      "cell_type": "code",
      "source": [
        ""
      ],
      "metadata": {
        "id": "AzB69bRqL5Mp"
      },
      "execution_count": null,
      "outputs": []
    },
    {
      "cell_type": "code",
      "source": [
        ""
      ],
      "metadata": {
        "id": "ehUj6NOPL5RB"
      },
      "execution_count": null,
      "outputs": []
    }
  ]
}