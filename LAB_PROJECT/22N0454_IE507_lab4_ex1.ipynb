{
  "nbformat": 4,
  "nbformat_minor": 0,
  "metadata": {
    "colab": {
      "name": "22N0454_IE507_lab4_ex1.ipynb",
      "provenance": [],
      "collapsed_sections": []
    },
    "kernelspec": {
      "name": "python3",
      "display_name": "Python 3"
    },
    "language_info": {
      "name": "python"
    }
  },
  "cells": [
    {
      "cell_type": "markdown",
      "source": [
        "\n",
        "\n",
        "max 0.65x1 + 0.75x2 − 5.85x3 − 8.35x4 − 12.38x5 + 30x6,\n",
        "s.t. − 0.5x1 − 3.8x3 − 0.9x4 + 0.9x5 ≤ 24.8,\n",
        "x1 − x4 − x6 ≤ 0.8,\n",
        "−2.9x2 − 1.9x3 − 0.9x6 ≤ −71.4,\n",
        "4.7x4 + 8.02x5 + 6.15x6 ≤ 95,\n",
        "−0.7x1 − 1.4x2 + 7.9x3 − 2.9x4 + 0.9x5 ≤ −47,\n",
        "xi ≥ 0 ∀i ∈ {1, 2, . . . , 6},\n"
      ],
      "metadata": {
        "id": "QhgyzYriO0Y2"
      }
    },
    {
      "cell_type": "code",
      "execution_count": null,
      "metadata": {
        "id": "t3yqqWY7HA0X"
      },
      "outputs": [],
      "source": [
        "!pip install -q pyomo"
      ]
    },
    {
      "cell_type": "code",
      "source": [
        "from pyomo.environ import * "
      ],
      "metadata": {
        "id": "ognZ67oXPR9P"
      },
      "execution_count": null,
      "outputs": []
    },
    {
      "cell_type": "code",
      "source": [
        "import numpy as np"
      ],
      "metadata": {
        "id": "5YL3-vXDPlSi"
      },
      "execution_count": null,
      "outputs": []
    },
    {
      "cell_type": "code",
      "source": [
        "coef = np.loadtxt('lab4_ex1_coef.txt' ,delimiter=',')"
      ],
      "metadata": {
        "id": "iDmOPn4IPnIW"
      },
      "execution_count": null,
      "outputs": []
    },
    {
      "cell_type": "code",
      "source": [
        "print(coef.shape)\n",
        "print('Num rows:',coef.shape[0])\n",
        "print('Num cols:',coef.shape[1])\n",
        "\n"
      ],
      "metadata": {
        "colab": {
          "base_uri": "https://localhost:8080/"
        },
        "id": "Qfv5HqxTVin3",
        "outputId": "94ef11ff-0dfa-4c45-a505-f1410a5980d3"
      },
      "execution_count": null,
      "outputs": [
        {
          "output_type": "stream",
          "name": "stdout",
          "text": [
            "(6, 7)\n",
            "Num rows: 6\n",
            "Num cols: 7\n"
          ]
        }
      ]
    },
    {
      "cell_type": "code",
      "source": [
        "print(coef)"
      ],
      "metadata": {
        "id": "SdueHjPfWrHq",
        "colab": {
          "base_uri": "https://localhost:8080/"
        },
        "outputId": "8ffa08ba-facb-41d8-b4c0-f30a49e46832"
      },
      "execution_count": null,
      "outputs": [
        {
          "output_type": "stream",
          "name": "stdout",
          "text": [
            "[[  0.65   0.75  -5.85  -8.35 -12.38  30.     0.  ]\n",
            " [ -0.5    0.    -3.8   -0.9    0.9    0.    24.8 ]\n",
            " [  1.     0.     0.    -1.     0.    -1.     0.8 ]\n",
            " [  0.    -2.9   -1.9    0.     0.    -0.9  -71.4 ]\n",
            " [  0.     0.     0.     4.7    8.02   6.15  95.  ]\n",
            " [ -0.7   -1.4    7.9   -2.9    0.9    0.   -47.  ]]\n"
          ]
        }
      ]
    },
    {
      "cell_type": "code",
      "source": [
        "# create a model\n",
        "model_lab4 = ConcreteModel()"
      ],
      "metadata": {
        "id": "JLKusKuLWy5W"
      },
      "execution_count": null,
      "outputs": []
    },
    {
      "cell_type": "code",
      "source": [
        "N = coef.shape[1]-1"
      ],
      "metadata": {
        "id": "wv5C9YXKXH_g"
      },
      "execution_count": null,
      "outputs": []
    },
    {
      "cell_type": "code",
      "source": [
        "M = coef.shape[0]-1"
      ],
      "metadata": {
        "id": "qfHSFxwKWzDi"
      },
      "execution_count": null,
      "outputs": []
    },
    {
      "cell_type": "code",
      "source": [
        "obj_coef = coef[0,:-1]\n",
        "print(obj_coef.shape)\n",
        "print(obj_coef)\n"
      ],
      "metadata": {
        "colab": {
          "base_uri": "https://localhost:8080/"
        },
        "id": "jJwnh9ruWzLQ",
        "outputId": "acc93403-b3ab-4126-d16b-01ee2954e9f8"
      },
      "execution_count": null,
      "outputs": [
        {
          "output_type": "stream",
          "name": "stdout",
          "text": [
            "(6,)\n",
            "[  0.65   0.75  -5.85  -8.35 -12.38  30.  ]\n"
          ]
        }
      ]
    },
    {
      "cell_type": "code",
      "source": [
        "constr_coef = coef[1:,:-1]\n",
        "print(constr_coef.shape)\n",
        "print(constr_coef)"
      ],
      "metadata": {
        "colab": {
          "base_uri": "https://localhost:8080/"
        },
        "id": "VHMUlv_mWzRo",
        "outputId": "b234053d-6a45-4953-c83f-a4179b147940"
      },
      "execution_count": null,
      "outputs": [
        {
          "output_type": "stream",
          "name": "stdout",
          "text": [
            "(5, 6)\n",
            "[[-0.5   0.   -3.8  -0.9   0.9   0.  ]\n",
            " [ 1.    0.    0.   -1.    0.   -1.  ]\n",
            " [ 0.   -2.9  -1.9   0.    0.   -0.9 ]\n",
            " [ 0.    0.    0.    4.7   8.02  6.15]\n",
            " [-0.7  -1.4   7.9  -2.9   0.9   0.  ]]\n"
          ]
        }
      ]
    },
    {
      "cell_type": "code",
      "source": [
        "constr_rhs = coef[1:,-1]\n",
        "print(constr_rhs.shape)\n",
        "print(constr_rhs)"
      ],
      "metadata": {
        "colab": {
          "base_uri": "https://localhost:8080/"
        },
        "id": "nbjI4Wz3WzVO",
        "outputId": "db85959e-ab55-4c7c-a7f3-14d0fbd8713e"
      },
      "execution_count": null,
      "outputs": [
        {
          "output_type": "stream",
          "name": "stdout",
          "text": [
            "(5,)\n",
            "[ 24.8   0.8 -71.4  95.  -47. ]\n"
          ]
        }
      ]
    },
    {
      "cell_type": "code",
      "source": [
        "lower_bound = 0\n",
        "upper_bound = np.inf"
      ],
      "metadata": {
        "id": "z0CxgC4UWzZA"
      },
      "execution_count": null,
      "outputs": []
    },
    {
      "cell_type": "code",
      "source": [
        "col_indices = np.arange(N)\n",
        "print(col_indices)"
      ],
      "metadata": {
        "colab": {
          "base_uri": "https://localhost:8080/"
        },
        "id": "nRIkQVQMXbmg",
        "outputId": "379063a2-8086-436e-85ed-460658472ac0"
      },
      "execution_count": null,
      "outputs": [
        {
          "output_type": "stream",
          "name": "stdout",
          "text": [
            "[0 1 2 3 4 5]\n"
          ]
        }
      ]
    },
    {
      "cell_type": "code",
      "source": [
        "model_lab4.x = Var(col_indices)"
      ],
      "metadata": {
        "id": "PM2kUmmlXbq7"
      },
      "execution_count": null,
      "outputs": []
    },
    {
      "cell_type": "code",
      "source": [
        "row_indices = np.arange(M)\n",
        "print(row_indices)"
      ],
      "metadata": {
        "colab": {
          "base_uri": "https://localhost:8080/"
        },
        "id": "lFfiP83HXkxn",
        "outputId": "88a3fea8-00d9-4f2a-c9cd-4ceddc8e2cc1"
      },
      "execution_count": null,
      "outputs": [
        {
          "output_type": "stream",
          "name": "stdout",
          "text": [
            "[0 1 2 3 4]\n"
          ]
        }
      ]
    },
    {
      "cell_type": "code",
      "source": [
        "model_lab4.constraints = ConstraintList()"
      ],
      "metadata": {
        "id": "UuNBfw7WXk1w"
      },
      "execution_count": null,
      "outputs": []
    },
    {
      "cell_type": "code",
      "source": [
        "for i in row_indices:\n",
        "  model_lab4.constraints.add(summation(constr_coef[i],model_lab4.x) <= constr_rhs[i])"
      ],
      "metadata": {
        "id": "clDp8AToXpZz"
      },
      "execution_count": null,
      "outputs": []
    },
    {
      "cell_type": "code",
      "source": [
        "for j in col_indices:\n",
        "  model_lab4.x[j].setlb(lower_bound)\n",
        "  model_lab4.x[j].setub(upper_bound)"
      ],
      "metadata": {
        "id": "4EMo8292XpeK"
      },
      "execution_count": null,
      "outputs": []
    },
    {
      "cell_type": "code",
      "source": [
        "model_lab4.objective = Objective(expr = summation(obj_coef,model_lab4.x), sense=maximize)"
      ],
      "metadata": {
        "id": "9-6cwHLCXxHZ"
      },
      "execution_count": null,
      "outputs": []
    },
    {
      "cell_type": "code",
      "source": [
        "model_lab4.pprint()"
      ],
      "metadata": {
        "colab": {
          "base_uri": "https://localhost:8080/"
        },
        "id": "REppFUZjXxMD",
        "outputId": "153224d5-75b1-40c8-a8c5-5b306f7bde85"
      },
      "execution_count": null,
      "outputs": [
        {
          "output_type": "stream",
          "name": "stdout",
          "text": [
            "2 Set Declarations\n",
            "    constraints_index : Size=1, Index=None, Ordered=Insertion\n",
            "        Key  : Dimen : Domain : Size : Members\n",
            "        None :     1 :    Any :    5 : {1, 2, 3, 4, 5}\n",
            "    x_index : Size=1, Index=None, Ordered=False\n",
            "        Key  : Dimen : Domain : Size : Members\n",
            "        None :     1 :    Any :    6 : {0, 1, 2, 3, 4, 5}\n",
            "\n",
            "1 Var Declarations\n",
            "    x : Size=6, Index=x_index\n",
            "        Key : Lower : Value : Upper : Fixed : Stale : Domain\n",
            "          0 :     0 :  None :  None : False :  True :  Reals\n",
            "          1 :     0 :  None :  None : False :  True :  Reals\n",
            "          2 :     0 :  None :  None : False :  True :  Reals\n",
            "          3 :     0 :  None :  None : False :  True :  Reals\n",
            "          4 :     0 :  None :  None : False :  True :  Reals\n",
            "          5 :     0 :  None :  None : False :  True :  Reals\n",
            "\n",
            "1 Objective Declarations\n",
            "    objective : Size=1, Index=None, Active=True\n",
            "        Key  : Active : Sense    : Expression\n",
            "        None :   True : maximize : 0.65*x[0] + 0.75*x[1] - 5.85*x[2] - 8.35*x[3] - 12.38*x[4] + 30.0*x[5]\n",
            "\n",
            "1 Constraint Declarations\n",
            "    constraints : Size=5, Index=constraints_index, Active=True\n",
            "        Key : Lower : Body                                                  : Upper : Active\n",
            "          1 :  -Inf :            -0.5*x[0] - 3.8*x[2] - 0.9*x[3] + 0.9*x[4] :  24.8 :   True\n",
            "          2 :  -Inf :                                    x[0] - x[3] - x[5] :   0.8 :   True\n",
            "          3 :  -Inf :                       -2.9*x[1] - 1.9*x[2] - 0.9*x[5] : -71.4 :   True\n",
            "          4 :  -Inf :                      4.7*x[3] + 8.02*x[4] + 6.15*x[5] :  95.0 :   True\n",
            "          5 :  -Inf : -0.7*x[0] - 1.4*x[1] + 7.9*x[2] - 2.9*x[3] + 0.9*x[4] : -47.0 :   True\n",
            "\n",
            "5 Declarations: x_index x constraints_index constraints objective\n"
          ]
        }
      ]
    },
    {
      "cell_type": "code",
      "source": [],
      "metadata": {
        "id": "WtGo0J6rc8_1"
      },
      "execution_count": null,
      "outputs": []
    },
    {
      "cell_type": "code",
      "source": [
        "!apt-get install -y -qq coinor-cbc\n"
      ],
      "metadata": {
        "id": "9CnxqmkyaBQT"
      },
      "execution_count": null,
      "outputs": []
    },
    {
      "cell_type": "code",
      "source": [
        "opt_cbc = SolverFactory('cbc')"
      ],
      "metadata": {
        "id": "FdfwemNXaBU-"
      },
      "execution_count": null,
      "outputs": []
    },
    {
      "cell_type": "code",
      "source": [
        "result = opt_cbc.solve(model_lab4)\n",
        "print('Solver status:', result.solver.status)\n",
        "print('Solver termination condition:',result.solver.termination_condition)"
      ],
      "metadata": {
        "colab": {
          "base_uri": "https://localhost:8080/"
        },
        "id": "uBMmXGgGaBZL",
        "outputId": "541a31a1-4317-4ae7-c48a-3c8ed8047dec"
      },
      "execution_count": null,
      "outputs": [
        {
          "output_type": "stream",
          "name": "stderr",
          "text": [
            "WARNING:pyomo.core:Loading a SolverResults object with a warning status into model.name=\"unknown\";\n",
            "  - termination condition: unbounded\n",
            "  - message from solver: <undefined>\n"
          ]
        },
        {
          "output_type": "stream",
          "name": "stdout",
          "text": [
            "Solver status: warning\n",
            "Solver termination condition: unbounded\n"
          ]
        }
      ]
    },
    {
      "cell_type": "code",
      "source": [],
      "metadata": {
        "id": "Rl_HUgXfXxQM"
      },
      "execution_count": null,
      "outputs": []
    },
    {
      "cell_type": "markdown",
      "source": [
        "solver status and  termination condition is wrning and unbounded,\n",
        "beaucse the upper bound if inf   then cosntrint and objective go to inf  then Solver termination condition: unbounded\n",
        "variable are non negetive upper bound are not bounded then constraint are not  satify.\n"
      ],
      "metadata": {
        "id": "PLTMoDmu_vvJ"
      }
    },
    {
      "cell_type": "markdown",
      "source": [
        "now chnages to sense= minimize"
      ],
      "metadata": {
        "id": "gmIxrtmOanUI"
      }
    },
    {
      "cell_type": "code",
      "source": [
        "model_lab4.objective.set_sense(minimize)"
      ],
      "metadata": {
        "id": "qM50GoGpXxU6"
      },
      "execution_count": null,
      "outputs": []
    },
    {
      "cell_type": "code",
      "source": [
        "model_lab4.pprint()"
      ],
      "metadata": {
        "colab": {
          "base_uri": "https://localhost:8080/"
        },
        "id": "oi71JqtTc-IC",
        "outputId": "1a8e290e-9023-47bd-a25f-2f49b0d83c21"
      },
      "execution_count": null,
      "outputs": [
        {
          "output_type": "stream",
          "name": "stdout",
          "text": [
            "2 Set Declarations\n",
            "    constraints_index : Size=1, Index=None, Ordered=Insertion\n",
            "        Key  : Dimen : Domain : Size : Members\n",
            "        None :     1 :    Any :    5 : {1, 2, 3, 4, 5}\n",
            "    x_index : Size=1, Index=None, Ordered=False\n",
            "        Key  : Dimen : Domain : Size : Members\n",
            "        None :     1 :    Any :    6 : {0, 1, 2, 3, 4, 5}\n",
            "\n",
            "1 Var Declarations\n",
            "    x : Size=6, Index=x_index\n",
            "        Key : Lower : Value : Upper : Fixed : Stale : Domain\n",
            "          0 :     0 :  None :  None : False :  True :  Reals\n",
            "          1 :     0 :  None :  None : False :  True :  Reals\n",
            "          2 :     0 :  None :  None : False :  True :  Reals\n",
            "          3 :     0 :  None :  None : False :  True :  Reals\n",
            "          4 :     0 :  None :  None : False :  True :  Reals\n",
            "          5 :     0 :  None :  None : False :  True :  Reals\n",
            "\n",
            "1 Objective Declarations\n",
            "    objective : Size=1, Index=None, Active=True\n",
            "        Key  : Active : Sense    : Expression\n",
            "        None :   True : minimize : 0.65*x[0] + 0.75*x[1] - 5.85*x[2] - 8.35*x[3] - 12.38*x[4] + 30.0*x[5]\n",
            "\n",
            "1 Constraint Declarations\n",
            "    constraints : Size=5, Index=constraints_index, Active=True\n",
            "        Key : Lower : Body                                                  : Upper : Active\n",
            "          1 :  -Inf :            -0.5*x[0] - 3.8*x[2] - 0.9*x[3] + 0.9*x[4] :  24.8 :   True\n",
            "          2 :  -Inf :                                    x[0] - x[3] - x[5] :   0.8 :   True\n",
            "          3 :  -Inf :                       -2.9*x[1] - 1.9*x[2] - 0.9*x[5] : -71.4 :   True\n",
            "          4 :  -Inf :                      4.7*x[3] + 8.02*x[4] + 6.15*x[5] :  95.0 :   True\n",
            "          5 :  -Inf : -0.7*x[0] - 1.4*x[1] + 7.9*x[2] - 2.9*x[3] + 0.9*x[4] : -47.0 :   True\n",
            "\n",
            "5 Declarations: x_index x constraints_index constraints objective\n"
          ]
        }
      ]
    },
    {
      "cell_type": "code",
      "source": [
        "result = opt_cbc.solve(model_lab4)\n",
        "print('Solver status:', result.solver.status)\n",
        "print('Solver termination condition:',result.solver.termination_condition)"
      ],
      "metadata": {
        "colab": {
          "base_uri": "https://localhost:8080/"
        },
        "id": "38pQS1B9c-Mw",
        "outputId": "e9a6fb2c-aecf-4888-d459-e5d1ea6e2d1a"
      },
      "execution_count": null,
      "outputs": [
        {
          "output_type": "stream",
          "name": "stderr",
          "text": [
            "WARNING:pyomo.core:Loading a SolverResults object with a warning status into model.name=\"unknown\";\n",
            "  - termination condition: unbounded\n",
            "  - message from solver: <undefined>\n"
          ]
        },
        {
          "output_type": "stream",
          "name": "stdout",
          "text": [
            "Solver status: warning\n",
            "Solver termination condition: unbounded\n"
          ]
        }
      ]
    },
    {
      "cell_type": "markdown",
      "source": [
        "is unbounded becuase upper bounded is inf now if upper bound is finite in this case cheek"
      ],
      "metadata": {
        "id": "P7u0aQVWdU6m"
      }
    },
    {
      "cell_type": "code",
      "source": [
        "model_lab4.objective.set_sense(maximize)"
      ],
      "metadata": {
        "id": "J4QzpZ2ec-RX"
      },
      "execution_count": null,
      "outputs": []
    },
    {
      "cell_type": "code",
      "source": [
        "lower_bound_1=0\n",
        "upper_bound_1=500"
      ],
      "metadata": {
        "id": "0J20Nxhkc-VR"
      },
      "execution_count": null,
      "outputs": []
    },
    {
      "cell_type": "code",
      "source": [
        "for j in col_indices:\n",
        "  model_lab4.x[j].setlb(lower_bound_1)\n",
        "  model_lab4.x[j].setub(upper_bound_1)"
      ],
      "metadata": {
        "id": "Ea1E_9QHc-ZH"
      },
      "execution_count": null,
      "outputs": []
    },
    {
      "cell_type": "code",
      "source": [
        "model_lab4.pprint()"
      ],
      "metadata": {
        "colab": {
          "base_uri": "https://localhost:8080/"
        },
        "id": "LhXyb0woc-dJ",
        "outputId": "2382f6ae-adc5-4ff7-a5f1-dc8f8d4570ae"
      },
      "execution_count": null,
      "outputs": [
        {
          "output_type": "stream",
          "name": "stdout",
          "text": [
            "2 Set Declarations\n",
            "    constraints_index : Size=1, Index=None, Ordered=Insertion\n",
            "        Key  : Dimen : Domain : Size : Members\n",
            "        None :     1 :    Any :    5 : {1, 2, 3, 4, 5}\n",
            "    x_index : Size=1, Index=None, Ordered=False\n",
            "        Key  : Dimen : Domain : Size : Members\n",
            "        None :     1 :    Any :    6 : {0, 1, 2, 3, 4, 5}\n",
            "\n",
            "1 Var Declarations\n",
            "    x : Size=6, Index=x_index\n",
            "        Key : Lower : Value : Upper : Fixed : Stale : Domain\n",
            "          0 :     0 :  None :   500 : False :  True :  Reals\n",
            "          1 :     0 :  None :   500 : False :  True :  Reals\n",
            "          2 :     0 :  None :   500 : False :  True :  Reals\n",
            "          3 :     0 :  None :   500 : False :  True :  Reals\n",
            "          4 :     0 :  None :   500 : False :  True :  Reals\n",
            "          5 :     0 :  None :   500 : False :  True :  Reals\n",
            "\n",
            "1 Objective Declarations\n",
            "    objective : Size=1, Index=None, Active=True\n",
            "        Key  : Active : Sense    : Expression\n",
            "        None :   True : maximize : 0.65*x[0] + 0.75*x[1] - 5.85*x[2] - 8.35*x[3] - 12.38*x[4] + 30.0*x[5]\n",
            "\n",
            "1 Constraint Declarations\n",
            "    constraints : Size=5, Index=constraints_index, Active=True\n",
            "        Key : Lower : Body                                                  : Upper : Active\n",
            "          1 :  -Inf :            -0.5*x[0] - 3.8*x[2] - 0.9*x[3] + 0.9*x[4] :  24.8 :   True\n",
            "          2 :  -Inf :                                    x[0] - x[3] - x[5] :   0.8 :   True\n",
            "          3 :  -Inf :                       -2.9*x[1] - 1.9*x[2] - 0.9*x[5] : -71.4 :   True\n",
            "          4 :  -Inf :                      4.7*x[3] + 8.02*x[4] + 6.15*x[5] :  95.0 :   True\n",
            "          5 :  -Inf : -0.7*x[0] - 1.4*x[1] + 7.9*x[2] - 2.9*x[3] + 0.9*x[4] : -47.0 :   True\n",
            "\n",
            "5 Declarations: x_index x constraints_index constraints objective\n"
          ]
        }
      ]
    },
    {
      "cell_type": "code",
      "source": [
        "result = opt_cbc.solve(model_lab4)\n",
        "print('Solver status:', result.solver.status)\n",
        "print('Solver termination condition:',result.solver.termination_condition)"
      ],
      "metadata": {
        "id": "VPtz-kV5c-hB",
        "colab": {
          "base_uri": "https://localhost:8080/"
        },
        "outputId": "01cacc48-5b2d-4771-8031-6f255ce8bf23"
      },
      "execution_count": null,
      "outputs": [
        {
          "output_type": "stream",
          "name": "stdout",
          "text": [
            "Solver status: ok\n",
            "Solver termination condition: optimal\n"
          ]
        }
      ]
    },
    {
      "cell_type": "code",
      "source": [
        "# display solution\n",
        "print('\\nObjective = ', model_lab4.objective())\n",
        "\n",
        "print('\\nDecision Variables')\n",
        "for i in col_indices:\n",
        "  print('x[',i,'] = ', model_lab4.x[i].value)\n",
        "\n",
        "print('\\nConstraints')\n",
        "model_lab4.constraints.display()"
      ],
      "metadata": {
        "colab": {
          "base_uri": "https://localhost:8080/"
        },
        "id": "OmORHkCP8SIm",
        "outputId": "4a4bd4c5-6cca-454f-e9ac-0bd8f11bd2ea"
      },
      "execution_count": null,
      "outputs": [
        {
          "output_type": "stream",
          "name": "stdout",
          "text": [
            "\n",
            "Objective =  848.9752701\n",
            "\n",
            "Decision Variables\n",
            "x[ 0 ] =  16.247154\n",
            "x[ 1 ] =  500.0\n",
            "x[ 2 ] =  0.0\n",
            "x[ 3 ] =  0.0\n",
            "x[ 4 ] =  0.0\n",
            "x[ 5 ] =  15.447154\n",
            "\n",
            "Constraints\n",
            "constraints : Size=5\n",
            "    Key : Lower : Body               : Upper\n",
            "      1 :  None :          -8.123577 :  24.8\n",
            "      2 :  None : 0.7999999999999989 :   0.8\n",
            "      3 :  None :      -1463.9024386 : -71.4\n",
            "      4 :  None :         94.9999971 :  95.0\n",
            "      5 :  None :       -711.3730078 : -47.0\n"
          ]
        }
      ]
    },
    {
      "cell_type": "code",
      "source": [],
      "metadata": {
        "colab": {
          "base_uri": "https://localhost:8080/",
          "height": 287
        },
        "id": "AU7qOLZWQ_CK",
        "outputId": "7f02c000-1e18-4cd9-8624-db4bef49d7b1"
      },
      "execution_count": null,
      "outputs": [
        {
          "output_type": "error",
          "ename": "AttributeError",
          "evalue": "ignored",
          "traceback": [
            "\u001b[0;31m---------------------------------------------------------------------------\u001b[0m",
            "\u001b[0;31mAttributeError\u001b[0m                            Traceback (most recent call last)",
            "\u001b[0;32m<ipython-input-65-0b74e9713d2f>\u001b[0m in \u001b[0;36m<module>\u001b[0;34m\u001b[0m\n\u001b[0;32m----> 1\u001b[0;31m \u001b[0mmodel_lab4\u001b[0m\u001b[0;34m.\u001b[0m\u001b[0msense\u001b[0m\u001b[0;34m.\u001b[0m\u001b[0mdeactivate\u001b[0m\u001b[0;34m(\u001b[0m\u001b[0;34m)\u001b[0m\u001b[0;34m\u001b[0m\u001b[0;34m\u001b[0m\u001b[0m\n\u001b[0m",
            "\u001b[0;32m/usr/local/lib/python3.7/dist-packages/pyomo/core/base/block.py\u001b[0m in \u001b[0;36m__getattr__\u001b[0;34m(self, val)\u001b[0m\n\u001b[1;32m    618\u001b[0m         \u001b[0;31m# throw the \"normal\" AttributeError\u001b[0m\u001b[0;34m\u001b[0m\u001b[0;34m\u001b[0m\u001b[0;34m\u001b[0m\u001b[0m\n\u001b[1;32m    619\u001b[0m         raise AttributeError(\"'%s' object has no attribute '%s'\"\n\u001b[0;32m--> 620\u001b[0;31m                              % (self.__class__.__name__, val))\n\u001b[0m\u001b[1;32m    621\u001b[0m \u001b[0;34m\u001b[0m\u001b[0m\n\u001b[1;32m    622\u001b[0m     \u001b[0;32mdef\u001b[0m \u001b[0m__setattr__\u001b[0m\u001b[0;34m(\u001b[0m\u001b[0mself\u001b[0m\u001b[0;34m,\u001b[0m \u001b[0mname\u001b[0m\u001b[0;34m,\u001b[0m \u001b[0mval\u001b[0m\u001b[0;34m)\u001b[0m\u001b[0;34m:\u001b[0m\u001b[0;34m\u001b[0m\u001b[0;34m\u001b[0m\u001b[0m\n",
            "\u001b[0;31mAttributeError\u001b[0m: 'ConcreteModel' object has no attribute 'sense'"
          ]
        }
      ]
    },
    {
      "cell_type": "markdown",
      "source": [
        "upper bound is bound then optimal solution are exits, constraint are satifys this then optimal solution exit\n",
        "bjective =  848.9752701\n",
        "\n",
        "Decision Variables\n",
        "x[ 0 ] =  16.247154\n",
        "x[ 1 ] =  500.0\n",
        "x[ 2 ] =  0.0\n",
        "x[ 3 ] =  0.0\n",
        "x[ 4 ] =  0.0\n",
        "x[ 5 ] =  15.447154\n",
        " constraint 2 and constraint 4 are active "
      ],
      "metadata": {
        "id": "dP7N1u6nB-M9"
      }
    },
    {
      "cell_type": "code",
      "source": [],
      "metadata": {
        "id": "vgnm3CzoRIZN"
      },
      "execution_count": null,
      "outputs": []
    }
  ]
}