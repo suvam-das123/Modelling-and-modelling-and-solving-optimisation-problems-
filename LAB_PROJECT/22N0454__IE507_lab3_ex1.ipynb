{
  "nbformat": 4,
  "nbformat_minor": 0,
  "metadata": {
    "colab": {
      "name": "22N0454_ IE507_lab3_ex1.ipynb",
      "provenance": [],
      "collapsed_sections": []
    },
    "kernelspec": {
      "name": "python3",
      "display_name": "Python 3"
    },
    "language_info": {
      "name": "python"
    }
  },
  "cells": [
    {
      "cell_type": "markdown",
      "source": [
        "solved by **glpk**"
      ],
      "metadata": {
        "id": "c21j8vC-Srtf"
      }
    },
    {
      "cell_type": "code",
      "execution_count": 64,
      "metadata": {
        "id": "XtmN-AwGIgAG"
      },
      "outputs": [],
      "source": [
        "!pip install -q pyomo "
      ]
    },
    {
      "cell_type": "code",
      "source": [
        "from pyomo.environ import *"
      ],
      "metadata": {
        "id": "vIzUU4CtInYI"
      },
      "execution_count": 65,
      "outputs": []
    },
    {
      "cell_type": "code",
      "source": [
        "model1=ConcreteModel()\n"
      ],
      "metadata": {
        "id": "ZS8fyHbcIvSx"
      },
      "execution_count": 66,
      "outputs": []
    },
    {
      "cell_type": "code",
      "source": [
        "import numpy as np"
      ],
      "metadata": {
        "id": "E0o52atWP_51"
      },
      "execution_count": 67,
      "outputs": []
    },
    {
      "cell_type": "code",
      "source": [
        "N=3\n",
        "M=3\n",
        "lb=np.array([2,1,1])\n",
        "ub=np.array([np.inf,np.inf,np.inf])\n",
        "obj_coef_c= np.array([2,-2,2])\n",
        "constr_coef_A= np.array([[2,-1,2],[1,-4,2],[-2,2,1]])\n",
        "constr_rhs_b=np.array([6,-15,-8])\n",
        "row_indices=np.arange(M)\n",
        "print(row_indices)\n",
        "col_indices=np.arange(N)\n",
        "print(col_indices)"
      ],
      "metadata": {
        "id": "YZLgN7-uIvX9",
        "colab": {
          "base_uri": "https://localhost:8080/"
        },
        "outputId": "5150b4c1-d6b9-4e29-f727-8ce3081bca14"
      },
      "execution_count": 68,
      "outputs": [
        {
          "output_type": "stream",
          "name": "stdout",
          "text": [
            "[0 1 2]\n",
            "[0 1 2]\n"
          ]
        }
      ]
    },
    {
      "cell_type": "code",
      "source": [
        "model1.x=Var(col_indices)\n",
        "model1.constraints=ConstraintList()"
      ],
      "metadata": {
        "id": "bNKbZ48bIvb4"
      },
      "execution_count": 69,
      "outputs": []
    },
    {
      "cell_type": "code",
      "source": [
        "for i in col_indices:\n",
        "  model1.x[i].setlb(lb[i])\n",
        "  model1.x[i].setub(ub[i])"
      ],
      "metadata": {
        "id": "ALdm5nduQlmh"
      },
      "execution_count": 70,
      "outputs": []
    },
    {
      "cell_type": "code",
      "source": [
        ""
      ],
      "metadata": {
        "id": "CJ61nUhvRm0x"
      },
      "execution_count": 70,
      "outputs": []
    },
    {
      "cell_type": "code",
      "source": [
        "for i in row_indices:\n",
        "      model1.constraints.add(sum(constr_coef_A[i][j]*model1.x[j] for j in col_indices) <= constr_rhs_b[i])"
      ],
      "metadata": {
        "id": "53UqunJUQlqp"
      },
      "execution_count": 71,
      "outputs": []
    },
    {
      "cell_type": "code",
      "source": [
        "model1.objective = Objective(expr =summation(obj_coef_c,model1.x), sense=minimize)\n",
        "model1.pprint() "
      ],
      "metadata": {
        "colab": {
          "base_uri": "https://localhost:8080/"
        },
        "id": "XYGZPyP-RXar",
        "outputId": "734dbe62-f04d-428a-ed07-d8bcbf131fc0"
      },
      "execution_count": 72,
      "outputs": [
        {
          "output_type": "stream",
          "name": "stdout",
          "text": [
            "2 Set Declarations\n",
            "    constraints_index : Size=1, Index=None, Ordered=Insertion\n",
            "        Key  : Dimen : Domain : Size : Members\n",
            "        None :     1 :    Any :    3 : {1, 2, 3}\n",
            "    x_index : Size=1, Index=None, Ordered=False\n",
            "        Key  : Dimen : Domain : Size : Members\n",
            "        None :     1 :    Any :    3 : {0, 1, 2}\n",
            "\n",
            "1 Var Declarations\n",
            "    x : Size=3, Index=x_index\n",
            "        Key : Lower : Value : Upper : Fixed : Stale : Domain\n",
            "          0 :     2 :  None :  None : False :  True :  Reals\n",
            "          1 :     1 :  None :  None : False :  True :  Reals\n",
            "          2 :     1 :  None :  None : False :  True :  Reals\n",
            "\n",
            "1 Objective Declarations\n",
            "    objective : Size=1, Index=None, Active=True\n",
            "        Key  : Active : Sense    : Expression\n",
            "        None :   True : minimize : 2*x[0] - 2*x[1] + 2*x[2]\n",
            "\n",
            "1 Constraint Declarations\n",
            "    constraints : Size=3, Index=constraints_index, Active=True\n",
            "        Key : Lower : Body                    : Upper : Active\n",
            "          1 :  -Inf :  2*x[0] - x[1] + 2*x[2] :   6.0 :   True\n",
            "          2 :  -Inf :  x[0] - 4*x[1] + 2*x[2] : -15.0 :   True\n",
            "          3 :  -Inf : -2*x[0] + 2*x[1] + x[2] :  -8.0 :   True\n",
            "\n",
            "5 Declarations: x_index x constraints_index constraints objective\n"
          ]
        }
      ]
    },
    {
      "cell_type": "code",
      "source": [
        "!apt-get install -y -qq glpk-utils"
      ],
      "metadata": {
        "id": "tLqxzO3pRXoR"
      },
      "execution_count": 73,
      "outputs": []
    },
    {
      "cell_type": "code",
      "source": [
        "opt = SolverFactory('glpk', executable='/usr/bin/glpsol')\n",
        "#.solve(model1).write()\n",
        "result = opt.solve(model1)\n",
        "print(result)\n",
        "\n",
        "print('Solver status:', result.solver.status)\n",
        "print('Solver termination condition:',result.solver.termination_condition)"
      ],
      "metadata": {
        "colab": {
          "base_uri": "https://localhost:8080/"
        },
        "id": "fCWirJ1RRoWF",
        "outputId": "5604a299-f17a-4467-e872-df1a224590d0"
      },
      "execution_count": 74,
      "outputs": [
        {
          "output_type": "stream",
          "name": "stdout",
          "text": [
            "\n",
            "Problem: \n",
            "- Name: unknown\n",
            "  Lower bound: -inf\n",
            "  Upper bound: inf\n",
            "  Number of objectives: 1\n",
            "  Number of constraints: 4\n",
            "  Number of variables: 4\n",
            "  Number of nonzeros: 10\n",
            "  Sense: minimize\n",
            "Solver: \n",
            "- Status: ok\n",
            "  Termination condition: other\n",
            "  Statistics: \n",
            "    Branch and bound: \n",
            "      Number of bounded subproblems: 0\n",
            "      Number of created subproblems: 0\n",
            "  Error rc: 0\n",
            "  Time: 0.01510000228881836\n",
            "\n",
            "Solver status: ok\n",
            "Solver termination condition: other\n"
          ]
        }
      ]
    },
    {
      "cell_type": "markdown",
      "source": [
        "solved by cbc"
      ],
      "metadata": {
        "id": "JB6qtRoCS0yP"
      }
    },
    {
      "cell_type": "code",
      "source": [
        "!apt-get install -y -qq coinor-cbc"
      ],
      "metadata": {
        "id": "mLmxSgxcRsP5"
      },
      "execution_count": 75,
      "outputs": []
    },
    {
      "cell_type": "code",
      "source": [
        ""
      ],
      "metadata": {
        "id": "qHbafvzgS0WC"
      },
      "execution_count": 75,
      "outputs": []
    },
    {
      "cell_type": "code",
      "source": [
        "opt_cbc = SolverFactory('cbc')"
      ],
      "metadata": {
        "id": "dQN8sHmyUivD"
      },
      "execution_count": 76,
      "outputs": []
    },
    {
      "cell_type": "code",
      "source": [
        "result = opt_cbc.solve(model1)\n",
        "print(result)\n",
        "\n",
        "print('Solver status:', result.solver.status)\n",
        "print('Solver termination condition:',result.solver.termination_condition)"
      ],
      "metadata": {
        "colab": {
          "base_uri": "https://localhost:8080/"
        },
        "id": "75gnD_nPRsm4",
        "outputId": "8137a497-f4e6-43d1-8fed-0eb47d6df177"
      },
      "execution_count": 77,
      "outputs": [
        {
          "output_type": "stream",
          "name": "stderr",
          "text": [
            "WARNING:pyomo.core:Loading a SolverResults object with a warning status into model.name=\"unknown\";\n",
            "  - termination condition: infeasible\n",
            "  - message from solver: <undefined>\n"
          ]
        },
        {
          "output_type": "stream",
          "name": "stdout",
          "text": [
            "\n",
            "Problem: \n",
            "- Name: unknown\n",
            "  Lower bound: None\n",
            "  Upper bound: inf\n",
            "  Number of objectives: 1\n",
            "  Number of constraints: 4\n",
            "  Number of variables: 4\n",
            "  Number of nonzeros: 3\n",
            "  Sense: minimize\n",
            "Solver: \n",
            "- Status: warning\n",
            "  User time: -1.0\n",
            "  System time: 0.0\n",
            "  Wallclock time: 0.0\n",
            "  Termination condition: infeasible\n",
            "  Termination message: Model was proven to be infeasible.\n",
            "  Statistics: \n",
            "    Branch and bound: \n",
            "      Number of bounded subproblems: 0\n",
            "      Number of created subproblems: 0\n",
            "    Black box: \n",
            "      Number of iterations: 0\n",
            "  Error rc: 0\n",
            "  Time: 0.020425796508789062\n",
            "\n",
            "Solver status: warning\n",
            "Solver termination condition: infeasible\n"
          ]
        }
      ]
    },
    {
      "cell_type": "code",
      "source": [
        ""
      ],
      "metadata": {
        "id": "78pbcOC_VAC9"
      },
      "execution_count": 77,
      "outputs": []
    },
    {
      "cell_type": "markdown",
      "source": [
        "glpk solver  is fast by cbc solver , and glpk Solver termination condition not meaningfull define but cbc solver is define what is solver termination condition all says that [fesible yeah not fesible] that reson we are to choose cbc solver\n"
      ],
      "metadata": {
        "id": "kfd4xrS-S8B2"
      }
    },
    {
      "cell_type": "markdown",
      "source": [
        "Change the optimization problem to a maximization problem and re-solve."
      ],
      "metadata": {
        "id": "FzPLyiVOVM9a"
      }
    },
    {
      "cell_type": "code",
      "source": [
        "model1.objective.set_sense(maximize)"
      ],
      "metadata": {
        "id": "FI7R_6ghVAS_"
      },
      "execution_count": 78,
      "outputs": []
    },
    {
      "cell_type": "code",
      "source": [
        "model1.pprint()"
      ],
      "metadata": {
        "colab": {
          "base_uri": "https://localhost:8080/"
        },
        "id": "MU8ztPxLVAWm",
        "outputId": "18ad711a-23d7-4542-f3ef-b3e26977cb22"
      },
      "execution_count": 79,
      "outputs": [
        {
          "output_type": "stream",
          "name": "stdout",
          "text": [
            "2 Set Declarations\n",
            "    constraints_index : Size=1, Index=None, Ordered=Insertion\n",
            "        Key  : Dimen : Domain : Size : Members\n",
            "        None :     1 :    Any :    3 : {1, 2, 3}\n",
            "    x_index : Size=1, Index=None, Ordered=False\n",
            "        Key  : Dimen : Domain : Size : Members\n",
            "        None :     1 :    Any :    3 : {0, 1, 2}\n",
            "\n",
            "1 Var Declarations\n",
            "    x : Size=3, Index=x_index\n",
            "        Key : Lower : Value : Upper : Fixed : Stale : Domain\n",
            "          0 :     2 :  None :  None : False :  True :  Reals\n",
            "          1 :     1 :  None :  None : False :  True :  Reals\n",
            "          2 :     1 :  None :  None : False :  True :  Reals\n",
            "\n",
            "1 Objective Declarations\n",
            "    objective : Size=1, Index=None, Active=True\n",
            "        Key  : Active : Sense    : Expression\n",
            "        None :   True : maximize : 2*x[0] - 2*x[1] + 2*x[2]\n",
            "\n",
            "1 Constraint Declarations\n",
            "    constraints : Size=3, Index=constraints_index, Active=True\n",
            "        Key : Lower : Body                    : Upper : Active\n",
            "          1 :  -Inf :  2*x[0] - x[1] + 2*x[2] :   6.0 :   True\n",
            "          2 :  -Inf :  x[0] - 4*x[1] + 2*x[2] : -15.0 :   True\n",
            "          3 :  -Inf : -2*x[0] + 2*x[1] + x[2] :  -8.0 :   True\n",
            "\n",
            "5 Declarations: x_index x constraints_index constraints objective\n"
          ]
        }
      ]
    },
    {
      "cell_type": "code",
      "source": [
        "result = opt_cbc.solve(model1)\n",
        "print(result)\n",
        "\n",
        "print('Solver status:', result.solver.status)\n",
        "print('Solver termination condition:',result.solver.termination_condition)"
      ],
      "metadata": {
        "colab": {
          "base_uri": "https://localhost:8080/"
        },
        "id": "1E__W6e9VAd1",
        "outputId": "95a58778-0bd1-4fb7-e8fd-30c357ed0883"
      },
      "execution_count": 80,
      "outputs": [
        {
          "output_type": "stream",
          "name": "stderr",
          "text": [
            "WARNING:pyomo.core:Loading a SolverResults object with a warning status into model.name=\"unknown\";\n",
            "  - termination condition: infeasible\n",
            "  - message from solver: <undefined>\n"
          ]
        },
        {
          "output_type": "stream",
          "name": "stdout",
          "text": [
            "\n",
            "Problem: \n",
            "- Name: unknown\n",
            "  Lower bound: -inf\n",
            "  Upper bound: None\n",
            "  Number of objectives: 1\n",
            "  Number of constraints: 4\n",
            "  Number of variables: 4\n",
            "  Number of nonzeros: 3\n",
            "  Sense: maximize\n",
            "Solver: \n",
            "- Status: warning\n",
            "  User time: -1.0\n",
            "  System time: 0.0\n",
            "  Wallclock time: 0.0\n",
            "  Termination condition: infeasible\n",
            "  Termination message: Model was proven to be infeasible.\n",
            "  Statistics: \n",
            "    Branch and bound: \n",
            "      Number of bounded subproblems: 0\n",
            "      Number of created subproblems: 0\n",
            "    Black box: \n",
            "      Number of iterations: 0\n",
            "  Error rc: 0\n",
            "  Time: 0.033754587173461914\n",
            "\n",
            "Solver status: warning\n",
            "Solver termination condition: infeasible\n"
          ]
        }
      ]
    },
    {
      "cell_type": "code",
      "source": [
        ""
      ],
      "metadata": {
        "id": "8evjVjGrVAj9"
      },
      "execution_count": 80,
      "outputs": []
    },
    {
      "cell_type": "markdown",
      "source": [
        "not fesible solution "
      ],
      "metadata": {
        "id": "4oLzCvdVV0tb"
      }
    },
    {
      "cell_type": "markdown",
      "source": [
        "Add upper bounds on x2, x3 as x2 ≤ 5, x3 ≤ 10 and re-solve"
      ],
      "metadata": {
        "id": "Z82vQVxPXY8x"
      }
    },
    {
      "cell_type": "code",
      "source": [
        "model1.x[1].setub(5)\n",
        "model1.x[2].setub(10)\n",
        "model1.pprint()\n",
        "model1.objective.set_sense(minimize)"
      ],
      "metadata": {
        "colab": {
          "base_uri": "https://localhost:8080/"
        },
        "id": "vWNXbsrBVAm6",
        "outputId": "4a565aad-46e8-4c31-962d-0cc6078e96ed"
      },
      "execution_count": 81,
      "outputs": [
        {
          "output_type": "stream",
          "name": "stdout",
          "text": [
            "2 Set Declarations\n",
            "    constraints_index : Size=1, Index=None, Ordered=Insertion\n",
            "        Key  : Dimen : Domain : Size : Members\n",
            "        None :     1 :    Any :    3 : {1, 2, 3}\n",
            "    x_index : Size=1, Index=None, Ordered=False\n",
            "        Key  : Dimen : Domain : Size : Members\n",
            "        None :     1 :    Any :    3 : {0, 1, 2}\n",
            "\n",
            "1 Var Declarations\n",
            "    x : Size=3, Index=x_index\n",
            "        Key : Lower : Value : Upper : Fixed : Stale : Domain\n",
            "          0 :     2 :  None :  None : False :  True :  Reals\n",
            "          1 :     1 :  None :     5 : False :  True :  Reals\n",
            "          2 :     1 :  None :    10 : False :  True :  Reals\n",
            "\n",
            "1 Objective Declarations\n",
            "    objective : Size=1, Index=None, Active=True\n",
            "        Key  : Active : Sense    : Expression\n",
            "        None :   True : maximize : 2*x[0] - 2*x[1] + 2*x[2]\n",
            "\n",
            "1 Constraint Declarations\n",
            "    constraints : Size=3, Index=constraints_index, Active=True\n",
            "        Key : Lower : Body                    : Upper : Active\n",
            "          1 :  -Inf :  2*x[0] - x[1] + 2*x[2] :   6.0 :   True\n",
            "          2 :  -Inf :  x[0] - 4*x[1] + 2*x[2] : -15.0 :   True\n",
            "          3 :  -Inf : -2*x[0] + 2*x[1] + x[2] :  -8.0 :   True\n",
            "\n",
            "5 Declarations: x_index x constraints_index constraints objective\n"
          ]
        }
      ]
    },
    {
      "cell_type": "code",
      "source": [
        "result = opt_cbc.solve(model1)\n",
        "print(result)\n",
        "\n",
        "print('Solver status:', result.solver.status)\n",
        "print('Solver termination condition:',result.solver.termination_condition)"
      ],
      "metadata": {
        "colab": {
          "base_uri": "https://localhost:8080/"
        },
        "id": "4N1KV3psVAqb",
        "outputId": "0956966c-34e1-4788-9937-1e466ac39300"
      },
      "execution_count": 82,
      "outputs": [
        {
          "output_type": "stream",
          "name": "stderr",
          "text": [
            "WARNING:pyomo.core:Loading a SolverResults object with a warning status into model.name=\"unknown\";\n",
            "  - termination condition: infeasible\n",
            "  - message from solver: <undefined>\n"
          ]
        },
        {
          "output_type": "stream",
          "name": "stdout",
          "text": [
            "\n",
            "Problem: \n",
            "- Name: unknown\n",
            "  Lower bound: None\n",
            "  Upper bound: inf\n",
            "  Number of objectives: 1\n",
            "  Number of constraints: 4\n",
            "  Number of variables: 4\n",
            "  Number of nonzeros: 3\n",
            "  Sense: minimize\n",
            "Solver: \n",
            "- Status: warning\n",
            "  User time: -1.0\n",
            "  System time: 0.0\n",
            "  Wallclock time: 0.0\n",
            "  Termination condition: infeasible\n",
            "  Termination message: Model was proven to be infeasible.\n",
            "  Statistics: \n",
            "    Branch and bound: \n",
            "      Number of bounded subproblems: 0\n",
            "      Number of created subproblems: 0\n",
            "    Black box: \n",
            "      Number of iterations: 0\n",
            "  Error rc: 0\n",
            "  Time: 0.03880190849304199\n",
            "\n",
            "Solver status: warning\n",
            "Solver termination condition: infeasible\n"
          ]
        }
      ]
    },
    {
      "cell_type": "markdown",
      "source": [
        "\n",
        "they are infisible solution"
      ],
      "metadata": {
        "id": "oMEhn3OeWLse"
      }
    },
    {
      "cell_type": "markdown",
      "source": [
        ""
      ],
      "metadata": {
        "id": "SCl95-vQWFY_"
      }
    },
    {
      "cell_type": "markdown",
      "source": [
        "c) Add a new constraint −x2 + x3 ≤ 16 and re-solve\n"
      ],
      "metadata": {
        "id": "lks2yQCgQEOc"
      }
    },
    {
      "cell_type": "code",
      "source": [
        "model1.x[1].setub(np.inf)\n",
        "model1.x[2].setub(np.inf)\n"
      ],
      "metadata": {
        "id": "Lson4PGHVAyF"
      },
      "execution_count": 83,
      "outputs": []
    },
    {
      "cell_type": "code",
      "source": [
        "model1.constraints.add(expr = -model1.x[1]+model1.x[2] <=16)"
      ],
      "metadata": {
        "colab": {
          "base_uri": "https://localhost:8080/"
        },
        "id": "DU55xzuvVA1N",
        "outputId": "597a02ae-f314-4071-90e3-479022280a74"
      },
      "execution_count": 84,
      "outputs": [
        {
          "output_type": "execute_result",
          "data": {
            "text/plain": [
              "<pyomo.core.base.constraint._GeneralConstraintData at 0x7f96fa39f130>"
            ]
          },
          "metadata": {},
          "execution_count": 84
        }
      ]
    },
    {
      "cell_type": "markdown",
      "source": [
        ""
      ],
      "metadata": {
        "id": "6Ls00M1LbiQs"
      }
    },
    {
      "cell_type": "code",
      "source": [
        "model1.pprint()"
      ],
      "metadata": {
        "colab": {
          "base_uri": "https://localhost:8080/"
        },
        "id": "R8581oZrdR7k",
        "outputId": "215d4098-db7d-479f-846c-921e4c53dd81"
      },
      "execution_count": 85,
      "outputs": [
        {
          "output_type": "stream",
          "name": "stdout",
          "text": [
            "2 Set Declarations\n",
            "    constraints_index : Size=1, Index=None, Ordered=Insertion\n",
            "        Key  : Dimen : Domain : Size : Members\n",
            "        None :     1 :    Any :    4 : {1, 2, 3, 4}\n",
            "    x_index : Size=1, Index=None, Ordered=False\n",
            "        Key  : Dimen : Domain : Size : Members\n",
            "        None :     1 :    Any :    3 : {0, 1, 2}\n",
            "\n",
            "1 Var Declarations\n",
            "    x : Size=3, Index=x_index\n",
            "        Key : Lower : Value : Upper : Fixed : Stale : Domain\n",
            "          0 :     2 :  None :  None : False :  True :  Reals\n",
            "          1 :     1 :  None :  None : False :  True :  Reals\n",
            "          2 :     1 :  None :  None : False :  True :  Reals\n",
            "\n",
            "1 Objective Declarations\n",
            "    objective : Size=1, Index=None, Active=True\n",
            "        Key  : Active : Sense    : Expression\n",
            "        None :   True : minimize : 2*x[0] - 2*x[1] + 2*x[2]\n",
            "\n",
            "1 Constraint Declarations\n",
            "    constraints : Size=4, Index=constraints_index, Active=True\n",
            "        Key : Lower : Body                    : Upper : Active\n",
            "          1 :  -Inf :  2*x[0] - x[1] + 2*x[2] :   6.0 :   True\n",
            "          2 :  -Inf :  x[0] - 4*x[1] + 2*x[2] : -15.0 :   True\n",
            "          3 :  -Inf : -2*x[0] + 2*x[1] + x[2] :  -8.0 :   True\n",
            "          4 :  -Inf :           - x[1] + x[2] :  16.0 :   True\n",
            "\n",
            "5 Declarations: x_index x constraints_index constraints objective\n"
          ]
        }
      ]
    },
    {
      "cell_type": "code",
      "source": [
        "result = opt_cbc.solve(model1)\n",
        "print(result)\n",
        "\n",
        "print('Solver status:', result.solver.status)\n",
        "print('Solver termination condition:',result.solver.termination_condition)"
      ],
      "metadata": {
        "colab": {
          "base_uri": "https://localhost:8080/"
        },
        "id": "NW9YxmA6dR_0",
        "outputId": "cda13e74-6c73-462b-b8c0-a292a210c1fb"
      },
      "execution_count": 86,
      "outputs": [
        {
          "output_type": "stream",
          "name": "stderr",
          "text": [
            "WARNING:pyomo.core:Loading a SolverResults object with a warning status into model.name=\"unknown\";\n",
            "  - termination condition: infeasible\n",
            "  - message from solver: <undefined>\n"
          ]
        },
        {
          "output_type": "stream",
          "name": "stdout",
          "text": [
            "\n",
            "Problem: \n",
            "- Name: unknown\n",
            "  Lower bound: None\n",
            "  Upper bound: 11.0\n",
            "  Number of objectives: 1\n",
            "  Number of constraints: 5\n",
            "  Number of variables: 4\n",
            "  Number of nonzeros: 0\n",
            "  Sense: minimize\n",
            "Solver: \n",
            "- Status: warning\n",
            "  User time: -1.0\n",
            "  System time: 0.0\n",
            "  Wallclock time: 0.0\n",
            "  Termination condition: infeasible\n",
            "  Termination message: Model was proven to be infeasible.\n",
            "  Statistics: \n",
            "    Branch and bound: \n",
            "      Number of bounded subproblems: 0\n",
            "      Number of created subproblems: 0\n",
            "    Black box: \n",
            "      Number of iterations: 0\n",
            "  Error rc: 0\n",
            "  Time: 0.02599334716796875\n",
            "\n",
            "Solver status: warning\n",
            "Solver termination condition: infeasible\n"
          ]
        }
      ]
    },
    {
      "cell_type": "markdown",
      "source": [
        "infisible solution"
      ],
      "metadata": {
        "id": "WCA4G_oVWTVB"
      }
    },
    {
      "cell_type": "markdown",
      "source": [
        "(d) Deactivate the objective of problem (OP) and construct a new objective of the form\n",
        "min x1 + 2x2 + 3x3 and deactivate the constraint 2x1 − x2 + 2x3 ≤ 6 and add a different\n",
        "constraint x2 + x3 ≥ 25"
      ],
      "metadata": {
        "id": "MpWH_z9uQW4p"
      }
    },
    {
      "cell_type": "code",
      "source": [
        "new_constr_coef =[0,1,1]\n",
        "new_constr_rhs=25\n",
        "model1.constraints.add(sum(new_constr_coef[j]*model1.x[j] for j in col_indices) >= new_constr_rhs)\n",
        "\n"
      ],
      "metadata": {
        "colab": {
          "base_uri": "https://localhost:8080/"
        },
        "id": "D68ZJiSddSEs",
        "outputId": "718b54e1-cc2b-47ae-ac9b-c46e5c2f7c79"
      },
      "execution_count": 87,
      "outputs": [
        {
          "output_type": "execute_result",
          "data": {
            "text/plain": [
              "<pyomo.core.base.constraint._GeneralConstraintData at 0x7f96fa39f750>"
            ]
          },
          "metadata": {},
          "execution_count": 87
        }
      ]
    },
    {
      "cell_type": "code",
      "source": [
        "model1.constraints[1].deactivate()\n",
        "model1.constraints[4].deactivate()\n",
        "\n",
        "model1.objective.deactivate()\n",
        "\n",
        "model1.new_objective = Objective(expr = model1.x[0 ]+ 2*model1.x[1]+3*model1.x[2])\n"
      ],
      "metadata": {
        "id": "zFf_R9CJhEE_"
      },
      "execution_count": 88,
      "outputs": []
    },
    {
      "cell_type": "code",
      "source": [
        "model1.objective.set_sense(minimize)"
      ],
      "metadata": {
        "id": "qv_B7rmIdSIp"
      },
      "execution_count": 89,
      "outputs": []
    },
    {
      "cell_type": "code",
      "source": [
        "model1.pprint()"
      ],
      "metadata": {
        "colab": {
          "base_uri": "https://localhost:8080/"
        },
        "id": "RLmjVWAgdSVD",
        "outputId": "aa8ca163-89c3-4e3c-820f-19a744ec8cb0"
      },
      "execution_count": 90,
      "outputs": [
        {
          "output_type": "stream",
          "name": "stdout",
          "text": [
            "2 Set Declarations\n",
            "    constraints_index : Size=1, Index=None, Ordered=Insertion\n",
            "        Key  : Dimen : Domain : Size : Members\n",
            "        None :     1 :    Any :    5 : {1, 2, 3, 4, 5}\n",
            "    x_index : Size=1, Index=None, Ordered=False\n",
            "        Key  : Dimen : Domain : Size : Members\n",
            "        None :     1 :    Any :    3 : {0, 1, 2}\n",
            "\n",
            "1 Var Declarations\n",
            "    x : Size=3, Index=x_index\n",
            "        Key : Lower : Value : Upper : Fixed : Stale : Domain\n",
            "          0 :     2 :  None :  None : False :  True :  Reals\n",
            "          1 :     1 :  None :  None : False :  True :  Reals\n",
            "          2 :     1 :  None :  None : False :  True :  Reals\n",
            "\n",
            "2 Objective Declarations\n",
            "    new_objective : Size=1, Index=None, Active=True\n",
            "        Key  : Active : Sense    : Expression\n",
            "        None :   True : minimize : x[0] + 2*x[1] + 3*x[2]\n",
            "    objective : Size=1, Index=None, Active=False\n",
            "        Key  : Active : Sense    : Expression\n",
            "        None :  False : minimize : 2*x[0] - 2*x[1] + 2*x[2]\n",
            "\n",
            "1 Constraint Declarations\n",
            "    constraints : Size=5, Index=constraints_index, Active=True\n",
            "        Key : Lower : Body                    : Upper : Active\n",
            "          1 :  -Inf :  2*x[0] - x[1] + 2*x[2] :   6.0 :  False\n",
            "          2 :  -Inf :  x[0] - 4*x[1] + 2*x[2] : -15.0 :   True\n",
            "          3 :  -Inf : -2*x[0] + 2*x[1] + x[2] :  -8.0 :   True\n",
            "          4 :  -Inf :           - x[1] + x[2] :  16.0 :  False\n",
            "          5 :  25.0 :             x[1] + x[2] :  +Inf :   True\n",
            "\n",
            "6 Declarations: x_index x constraints_index constraints objective new_objective\n"
          ]
        }
      ]
    },
    {
      "cell_type": "code",
      "source": [
        "!apt-get install -y -qq coinor-cbc\n"
      ],
      "metadata": {
        "id": "vqYn1drHj32c"
      },
      "execution_count": 91,
      "outputs": []
    },
    {
      "cell_type": "code",
      "source": [
        "opt_cbc = SolverFactory('cbc')"
      ],
      "metadata": {
        "id": "VYLDJFPgkLHN"
      },
      "execution_count": 92,
      "outputs": []
    },
    {
      "cell_type": "code",
      "source": [
        "result = opt_cbc.solve(model1)\n",
        "print(result)\n",
        "\n",
        "print('Solver status:', result.solver.status)\n",
        "print('Solver termination condition:',result.solver.termination_condition)\n",
        "print('Solver time:',result.solver.time)\n"
      ],
      "metadata": {
        "colab": {
          "base_uri": "https://localhost:8080/"
        },
        "id": "LkIrROnldSbm",
        "outputId": "4dff4632-4867-4f15-a16d-e16817f29284"
      },
      "execution_count": 93,
      "outputs": [
        {
          "output_type": "stream",
          "name": "stdout",
          "text": [
            "\n",
            "Problem: \n",
            "- Name: unknown\n",
            "  Lower bound: 79.5\n",
            "  Upper bound: 79.5\n",
            "  Number of objectives: 1\n",
            "  Number of constraints: 4\n",
            "  Number of variables: 4\n",
            "  Number of nonzeros: 3\n",
            "  Sense: minimize\n",
            "Solver: \n",
            "- Status: ok\n",
            "  User time: -1.0\n",
            "  System time: 0.0\n",
            "  Wallclock time: 0.0\n",
            "  Termination condition: optimal\n",
            "  Termination message: Model was solved to optimality (subject to tolerances), and an optimal solution is available.\n",
            "  Statistics: \n",
            "    Branch and bound: \n",
            "      Number of bounded subproblems: None\n",
            "      Number of created subproblems: None\n",
            "    Black box: \n",
            "      Number of iterations: 2\n",
            "  Error rc: 0\n",
            "  Time: 0.022576332092285156\n",
            "Solution: \n",
            "- number of solutions: 0\n",
            "  number of solutions displayed: 0\n",
            "\n",
            "Solver status: ok\n",
            "Solver termination condition: optimal\n",
            "Solver time: 0.022576332092285156\n"
          ]
        }
      ]
    },
    {
      "cell_type": "markdown",
      "source": [
        "optimal solution"
      ],
      "metadata": {
        "id": "bJHHuRPDWb7v"
      }
    },
    {
      "cell_type": "code",
      "source": [
        "#display solution\n",
        "print('\\nObjective = ', model1.new_objective())\n",
        "\n",
        "print('\\nDecision Variables')\n",
        "for i in col_indices:\n",
        "  print('x'+str(i+1)+'= ', model1.x[i].value)\n",
        " \n",
        " \n",
        "print('\\nConstraints')\n",
        "model1.constraints.display()"
      ],
      "metadata": {
        "id": "ueKMD0UljlrC",
        "colab": {
          "base_uri": "https://localhost:8080/"
        },
        "outputId": "09d1c523-91ab-4fe2-e672-34fd865f69d7"
      },
      "execution_count": 94,
      "outputs": [
        {
          "output_type": "stream",
          "name": "stdout",
          "text": [
            "\n",
            "Objective =  79.5\n",
            "\n",
            "Decision Variables\n",
            "x1=  28.5\n",
            "x2=  24.0\n",
            "x3=  1.0\n",
            "\n",
            "Constraints\n",
            "constraints : Size=5\n",
            "    Key : Lower : Body  : Upper\n",
            "      2 :  None : -65.5 : -15.0\n",
            "      3 :  None :  -8.0 :  -8.0\n",
            "      5 :  25.0 :  25.0 :  None\n"
          ]
        }
      ]
    },
    {
      "cell_type": "code",
      "source": [
        ""
      ],
      "metadata": {
        "id": "xGt4ieEnQ4Pd"
      },
      "execution_count": 94,
      "outputs": []
    },
    {
      "cell_type": "markdown",
      "source": [
        "the minimum value are  =  79.5\n",
        "\n",
        "Decision Variables\n",
        "x1=  28.5\n",
        "x2=  24.0\n",
        "x3=  1.0\n",
        "consrint 1 are inactive, and constarint 2 are in active, costraint 3 are active"
      ],
      "metadata": {
        "id": "z5_i0b9LWhbb"
      }
    },
    {
      "cell_type": "code",
      "source": [
        ""
      ],
      "metadata": {
        "id": "mOjj9UWsWlX-"
      },
      "execution_count": 94,
      "outputs": []
    }
  ]
}