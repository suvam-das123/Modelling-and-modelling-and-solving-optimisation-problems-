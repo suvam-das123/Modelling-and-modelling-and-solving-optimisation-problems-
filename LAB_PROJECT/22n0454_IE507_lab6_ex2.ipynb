{
  "nbformat": 4,
  "nbformat_minor": 0,
  "metadata": {
    "colab": {
      "provenance": []
    },
    "kernelspec": {
      "name": "python3",
      "display_name": "Python 3"
    },
    "language_info": {
      "name": "python"
    }
  },
  "cells": [
    {
      "cell_type": "markdown",
      "source": [
        "\n",
        "\n",
        "1)\n",
        " frist we take one machine chhek 12 locate if one locate is possible then it will be 1 othere all  are zero ,, then 1 st constraint sum is 1, same  second machine locate one location then it is 1 other all  are zero, same asa other  all are same\n",
        "\n",
        " decision variable are,,\n",
        "Factory 0 locate 0 : x[0,0]\n",
        "Factory 0 locate 1 : x[0,1]\n",
        "Factory 0 locate 2 : x[0,2]\n",
        "Factory 0 locate 3 : x[0,3]\n",
        "Factory 0 locate 4 : x[0,4]\n",
        "Factory 0 locate 5 : x[0,5]\n",
        "Factory 0 locate 6 : x[0,6]\n",
        "Factory 0 locate 7 : x[0,7]\n",
        "Factory 0 locate 8 : x[0,8]\n",
        "Factory 0 locate 9 : x[0,9]\n",
        "Factory 0 locate 10 : x[0,10]\n",
        "Factory 0 locate 11 : x[0,11],\n",
        " all variable are \n",
        "similarly factory i locate j : are x[i,j]\n",
        " we are  to find one factory locate 1 position then costraint sum would be =1\n",
        "\n",
        "\n",
        "\n",
        "\n",
        "\n",
        " the constraint are\n",
        "x[0,0] + x[0,1] + x[0,2] + x[0,3] + x[0,4] + x[0,5] + x[0,6] + x[0,7] + x[0,8] + x[0,9] + x[0,10] + x[0,11] =   1.0 ,,  \n",
        "                         x[1,0] + x[1,1] + x[1,2] + x[1,3] + x[1,4] + x[1,5] + x[1,6] + x[1,7] + x[1,8] + x[1,9] + x[1,10] + x[1,11] =   1.0 ,,   \n",
        "          3 :              x[2,0] + x[2,1] + x[2,2] + x[2,3] + x[2,4] + x[2,5] + x[2,6] + x[2,7] + x[2,8] + x[2,9] + x[2,10] + x[2,11] = 1.0 ,,\n",
        "          4 :               x[3,0] + x[3,1] + x[3,2] + x[3,3] + x[3,4] + x[3,5] + x[3,6] + x[3,7] + x[3,8] + x[3,9] + x[3,10] + x[3,11]=1.0 , ,\n",
        "          5 :                x[4,0] + x[4,1] + x[4,2] + x[4,3] + x[4,4] + x[4,5] + x[4,6] + x[4,7] + x[4,8] + x[4,9] + x[4,10] + x[4,11] =  1.0 ,,\n",
        "          6 :               x[5,0] + x[5,1] + x[5,2] + x[5,3] + x[5,4] + x[5,5] + x[5,6] + x[5,7] + x[5,8] + x[5,9] + x[5,10] + x[5,11] =1.0 , , \n",
        "          7 :              x[6,0] + x[6,1] + x[6,2] + x[6,3] + x[6,4] + x[6,5] + x[6,6] + x[6,7] + x[6,8] + x[6,9] + x[6,10] + x[6,11] =  1.0 ,,  \n",
        "          8 :                x[7,0] + x[7,1] + x[7,2] + x[7,3] + x[7,4] + x[7,5] + x[7,6] + x[7,7] + x[7,8] + x[7,9] + x[7,10] + x[7,11] =   1.0 ,, \n",
        "          9 :                x[8,0] + x[8,1] + x[8,2] + x[8,3] + x[8,4] + x[8,5] + x[8,6] + x[8,7] + x[8,8] + x[8,9] + x[8,10] + x[8,11] =   1.0  ,,\n",
        "         10 :             x[9,0] + x[9,1] + x[9,2] + x[9,3] + x[9,4] + x[9,5] + x[9,6] + x[9,7] + x[9,8] + x[9,9] + x[9,10] + x[9,11] =1.0 ,,\n",
        "         11 :  x[10,0] + x[10,1] + x[10,2] + x[10,3] + x[10,4] + x[10,5] + x[10,6] + x[10,7] + x[10,8] + x[10,9] + x[10,10] + x[10,11] =1.0,,  \n",
        "         12 :   x[11,0] + x[11,1] + x[11,2] + x[11,3] + x[11,4] + x[11,5] + x[11,6] + x[11,7] + x[11,8] + x[11,9] + x[11,10] + x[11,11] = 1.0 ,,\n",
        "         13 :             x[0,0] + x[1,0] + x[2,0] + x[3,0] + x[4,0] + x[5,0] + x[6,0] + x[7,0] + x[8,0] + x[9,0] + x[10,0] + x[11,0] =   1.0 ,,\n",
        "         14 :              x[0,1] + x[1,1] + x[2,1] + x[3,1] + x[4,1] + x[5,1] + x[6,1] + x[7,1] + x[8,1] + x[9,1] + x[10,1] + x[11,1] =   1.0 ,   \n",
        "         15 :             x[0,2] + x[1,2] + x[2,2] + x[3,2] + x[4,2] + x[5,2] + x[6,2] + x[7,2] + x[8,2] + x[9,2] + x[10,2] + x[11,2] = 1.0 ,  \n",
        "         16 :               x[0,3] + x[1,3] + x[2,3] + x[3,3] + x[4,3] + x[5,3] + x[6,3] + x[7,3] + x[8,3] + x[9,3] + x[10,3] + x[11,3] = 1.0, ,   \n",
        "         17 :               x[0,4] + x[1,4] + x[2,4] + x[3,4] + x[4,4] + x[5,4] + x[6,4] + x[7,4] + x[8,4] + x[9,4] + x[10,4] + x[11,4] =   1.0 ,, \n",
        "         18 :                x[0,5] + x[1,5] + x[2,5] + x[3,5] + x[4,5] + x[5,5] + x[6,5] + x[7,5] + x[8,5] + x[9,5] + x[10,5] + x[11,5] =  1.0 , , \n",
        "         19 :               x[0,6] + x[1,6] + x[2,6] + x[3,6] + x[4,6] + x[5,6] + x[6,6] + x[7,6] + x[8,6] + x[9,6] + x[10,6] + x[11,6] =   1.0 ,  \n",
        "         20 :               x[0,7] + x[1,7] + x[2,7] + x[3,7] + x[4,7] + x[5,7] + x[6,7] + x[7,7] + x[8,7] + x[9,7] + x[10,7] + x[11,7] =  1.0 ,,  \n",
        "         21 :              x[0,8] + x[1,8] + x[2,8] + x[3,8] + x[4,8] + x[5,8] + x[6,8] + x[7,8] + x[8,8] + x[9,8] + x[10,8] + x[11,8] =  1.0 ,,\n",
        "         22 :               x[0,9] + x[1,9] + x[2,9] + x[3,9] + x[4,9] + x[5,9] + x[6,9] + x[7,9] + x[8,9] + x[9,9] + x[10,9] + x[11,9] =  1.0 ,,\n",
        "         23 :   x[0,10] + x[1,10] + x[2,10] + x[3,10] + x[4,10] + x[5,10] + x[6,10] + x[7,10] + x[8,10] + x[9,10] + x[10,10] + x[11,10] =   1.0 ,,  \n",
        "         24 :  x[0,11] + x[1,11] + x[2,11] + x[3,11] + x[4,11] + x[5,11] + x[6,11] + x[7,11] + x[8,11] + x[9,11] + x[10,11] + x[11,11] =1,,\n",
        "\n",
        "\n",
        "\n",
        "       the obje function are : minimize : 21.0*x[0,0] + 25.0*x[0,1] + 18.0*x[0,2] + 19.0*x[0,3] + 23.0*x[0,4] + 24.0*x[0,5] + 16.0*x[0,6] + 17.0*x[0,7] + 21.0*x[0,8] + 23.0*x[0,9] + 19.0*x[0,10] + 21.0*x[0,11] + 19.0*x[1,0] + 22.0*x[1,1] + 19.0*x[1,2] + 19.0*x[1,3] + 23.0*x[1,4] + 21.0*x[1,5] + 15.0*x[1,6] + 20.0*x[1,7] + 16.0*x[1,8] + 17.0*x[1,9] + 17.0*x[1,10] + 24.0*x[1,11] + 21.0*x[2,0] + 19.0*x[2,1] + 20.0*x[2,2] + 18.0*x[2,3] + 22.0*x[2,4] + 24.0*x[2,5] + 14.0*x[2,6] + 16.0*x[2,7] + 18.0*x[2,8] + 16.0*x[2,9] + 20.0*x[2,10] + 24.0*x[2,11] + 19.0*x[3,0] + 22.0*x[3,1] + 17.0*x[3,2] + 17.0*x[3,3] + 22.0*x[3,4] + 22.0*x[3,5] + 18.0*x[3,6] + 18.0*x[3,7] + 20.0*x[3,8] + 21.0*x[3,9] + 23.0*x[3,10] + 23.0*x[3,11] + 18.0*x[4,0] + 22.0*x[4,1] + 15.0*x[4,2] + 15.0*x[4,3] + 23.0*x[4,4] + 23.0*x[4,5] + 21.0*x[4,6] + 25.0*x[4,7] + 24.0*x[4,8] + 19.0*x[4,9] + 21.0*x[4,10] + 23.0*x[4,11] + 23.0*x[5,0] + 19.0*x[5,1] + 19.0*x[5,2] + 14.0*x[5,3] + 24.0*x[5,4] + 21.0*x[5,5] + 23.0*x[5,6] + 21.0*x[5,7] + 20.0*x[5,8] + 20.0*x[5,9] + 22.0*x[5,10] + 19.0*x[5,11] + 21.0*x[6,0] + 16.0*x[6,1] + 27.0*x[6,2] + 17.0*x[6,3] + 26.0*x[6,4] + 27.0*x[6,5] + 16.0*x[6,6] + 19.0*x[6,7] + 24.0*x[6,8] + 20.0*x[6,9] + 20.0*x[6,10] + 23.0*x[6,11] + 22.0*x[7,0] + 17.0*x[7,1] + 21.0*x[7,2] + 15.0*x[7,3] + 23.0*x[7,4] + 24.0*x[7,5] + 24.0*x[7,6] + 20.0*x[7,7] + 22.0*x[7,8] + 19.0*x[7,9] + 23.0*x[7,10] + 21.0*x[7,11] + 23.0*x[8,0] + 24.0*x[8,1] + 18.0*x[8,2] + 19.0*x[8,3] + 22.0*x[8,4] + 23.0*x[8,5] + 21.0*x[8,6] + 18.0*x[8,7] + 23.0*x[8,8] + 15.0*x[8,9] + 25.0*x[8,10] + 21.0*x[8,11] + 18.0*x[9,0] + 21.0*x[9,1] + 21.0*x[9,2] + 18.0*x[9,3] + 26.0*x[9,4] + 24.0*x[9,5] + 18.0*x[9,6] + 17.0*x[9,7] + 18.0*x[9,8] + 20.0*x[9,9] + 21.0*x[9,10] + 20.0*x[9,11] + 19.0*x[10,0] + 12.0*x[10,1] + 21.0*x[10,2] + 19.0*x[10,3] + 23.0*x[10,4] + 20.0*x[10,5] + 22.0*x[10,6] + 19.0*x[10,7] + 17.0*x[10,8] + 19.0*x[10,9] + 20.0*x[10,10] + 24.0*x[10,11] + 18.0*x[11,0] + 22.0*x[11,1] + 24.0*x[11,2] + 17.0*x[11,3] + 21.0*x[11,4] + 28.0*x[11,5] + 18.0*x[11,6] + 16.0*x[11,7] + 22.0*x[11,8] + 24.0*x[11,9] + 25.0*x[11,10] + 24.0*x[11,11]\n",
        ",,\n",
        "if x[i,j]= 1 then i factory loctate j "
      ],
      "metadata": {
        "id": "9kHA_-q-gRT3"
      }
    },
    {
      "cell_type": "code",
      "execution_count": null,
      "metadata": {
        "id": "YS4QkXm5cdkw"
      },
      "outputs": [],
      "source": [
        "!pip install -q pyomo"
      ]
    },
    {
      "cell_type": "code",
      "source": [
        "from pyomo.environ import *"
      ],
      "metadata": {
        "id": "9_00WokJdPOC"
      },
      "execution_count": null,
      "outputs": []
    },
    {
      "cell_type": "code",
      "source": [
        "import numpy as np"
      ],
      "metadata": {
        "id": "HtTaMlIodXR7"
      },
      "execution_count": null,
      "outputs": []
    },
    {
      "cell_type": "code",
      "source": [
        "import pandas as pd"
      ],
      "metadata": {
        "id": "SPG2AsVMdaWE"
      },
      "execution_count": null,
      "outputs": []
    },
    {
      "cell_type": "code",
      "source": [
        "df=np.loadtxt('lab6_ex2.txt' ,delimiter=',')"
      ],
      "metadata": {
        "id": "A6-jbzDrdeZd"
      },
      "execution_count": null,
      "outputs": []
    },
    {
      "cell_type": "code",
      "source": [
        "df"
      ],
      "metadata": {
        "id": "D5l0pBpaeDTX",
        "outputId": "93fd062e-5fd8-4736-82ff-c2ced62ed6e9",
        "colab": {
          "base_uri": "https://localhost:8080/"
        }
      },
      "execution_count": null,
      "outputs": [
        {
          "output_type": "execute_result",
          "data": {
            "text/plain": [
              "array([[21., 25., 18., 19., 23., 24., 16., 17., 21., 23., 19., 21.],\n",
              "       [19., 22., 19., 19., 23., 21., 15., 20., 16., 17., 17., 24.],\n",
              "       [21., 19., 20., 18., 22., 24., 14., 16., 18., 16., 20., 24.],\n",
              "       [19., 22., 17., 17., 22., 22., 18., 18., 20., 21., 23., 23.],\n",
              "       [18., 22., 15., 15., 23., 23., 21., 25., 24., 19., 21., 23.],\n",
              "       [23., 19., 19., 14., 24., 21., 23., 21., 20., 20., 22., 19.],\n",
              "       [21., 16., 27., 17., 26., 27., 16., 19., 24., 20., 20., 23.],\n",
              "       [22., 17., 21., 15., 23., 24., 24., 20., 22., 19., 23., 21.],\n",
              "       [23., 24., 18., 19., 22., 23., 21., 18., 23., 15., 25., 21.],\n",
              "       [18., 21., 21., 18., 26., 24., 18., 17., 18., 20., 21., 20.],\n",
              "       [19., 12., 21., 19., 23., 20., 22., 19., 17., 19., 20., 24.],\n",
              "       [18., 22., 24., 17., 21., 28., 18., 16., 22., 24., 25., 24.]])"
            ]
          },
          "metadata": {},
          "execution_count": 68
        }
      ]
    },
    {
      "cell_type": "code",
      "source": [
        "len(df)"
      ],
      "metadata": {
        "colab": {
          "base_uri": "https://localhost:8080/"
        },
        "id": "O3WnUNpRjISj",
        "outputId": "41ca0e02-de35-479a-f3c7-c77a33601dd8"
      },
      "execution_count": null,
      "outputs": [
        {
          "output_type": "execute_result",
          "data": {
            "text/plain": [
              "12"
            ]
          },
          "metadata": {},
          "execution_count": 69
        }
      ]
    },
    {
      "cell_type": "code",
      "source": [
        "model=ConcreteModel()"
      ],
      "metadata": {
        "id": "35OXRxRTjNuZ"
      },
      "execution_count": null,
      "outputs": []
    },
    {
      "cell_type": "code",
      "source": [
        "M = df.shape[1]"
      ],
      "metadata": {
        "id": "WzV0Digjjf6K"
      },
      "execution_count": null,
      "outputs": []
    },
    {
      "cell_type": "code",
      "source": [
        "N = df.shape[0]"
      ],
      "metadata": {
        "id": "T6uoMvmVjh2S"
      },
      "execution_count": null,
      "outputs": []
    },
    {
      "cell_type": "code",
      "source": [
        "row_indices=range(M)\n",
        "col_indices=range(N)\n",
        "print(row_indices)"
      ],
      "metadata": {
        "id": "TOcWRNQzjqKz",
        "colab": {
          "base_uri": "https://localhost:8080/"
        },
        "outputId": "6efb10fd-f4fa-430a-d9e3-8106aae0cb09"
      },
      "execution_count": null,
      "outputs": [
        {
          "output_type": "stream",
          "name": "stdout",
          "text": [
            "range(0, 12)\n"
          ]
        }
      ]
    },
    {
      "cell_type": "code",
      "source": [
        "model=ConcreteModel()"
      ],
      "metadata": {
        "id": "BGuGxtCyjxto"
      },
      "execution_count": null,
      "outputs": []
    },
    {
      "cell_type": "code",
      "source": [
        "model.x=Var(row_indices,col_indices, domain=Binary)"
      ],
      "metadata": {
        "id": "kXqIgeS8jzq_"
      },
      "execution_count": null,
      "outputs": []
    },
    {
      "cell_type": "code",
      "source": [
        "model.constraint=ConstraintList()"
      ],
      "metadata": {
        "id": "UVhkSprJmK05"
      },
      "execution_count": null,
      "outputs": []
    },
    {
      "cell_type": "code",
      "source": [
        "model.objective = Objective(expr=sum(model.x[i,j]*df[i,j] for i in row_indices for j in col_indices),sense=minimize)"
      ],
      "metadata": {
        "id": "XsOeNWdEj_BK"
      },
      "execution_count": null,
      "outputs": []
    },
    {
      "cell_type": "code",
      "source": [
        "for i in range(len(row_indices)):\n",
        "  model.constraint.add(expr = sum(model.x[i,j] for j in col_indices)==1)"
      ],
      "metadata": {
        "id": "dlUDmqvTki8V"
      },
      "execution_count": null,
      "outputs": []
    },
    {
      "cell_type": "code",
      "source": [
        "for j in range(len(col_indices)):\n",
        "  model.constraint.add(expr=sum(model.x[i,j] for i in row_indices) == 1)"
      ],
      "metadata": {
        "id": "q9GTi3mQko_t"
      },
      "execution_count": null,
      "outputs": []
    },
    {
      "cell_type": "code",
      "source": [
        "model.pprint()"
      ],
      "metadata": {
        "colab": {
          "base_uri": "https://localhost:8080/"
        },
        "id": "J2aXkyQykOCQ",
        "outputId": "7992d7e0-7920-4280-edc3-b9075c322fcf"
      },
      "execution_count": null,
      "outputs": [
        {
          "output_type": "stream",
          "name": "stdout",
          "text": [
            "4 Set Declarations\n",
            "    constraint_index : Size=1, Index=None, Ordered=Insertion\n",
            "        Key  : Dimen : Domain : Size : Members\n",
            "        None :     1 :    Any :   24 : {1, 2, 3, 4, 5, 6, 7, 8, 9, 10, 11, 12, 13, 14, 15, 16, 17, 18, 19, 20, 21, 22, 23, 24}\n",
            "    x_index : Size=1, Index=None, Ordered=True\n",
            "        Key  : Dimen : Domain              : Size : Members\n",
            "        None :     2 : x_index_0*x_index_1 :  144 : {(0, 0), (0, 1), (0, 2), (0, 3), (0, 4), (0, 5), (0, 6), (0, 7), (0, 8), (0, 9), (0, 10), (0, 11), (1, 0), (1, 1), (1, 2), (1, 3), (1, 4), (1, 5), (1, 6), (1, 7), (1, 8), (1, 9), (1, 10), (1, 11), (2, 0), (2, 1), (2, 2), (2, 3), (2, 4), (2, 5), (2, 6), (2, 7), (2, 8), (2, 9), (2, 10), (2, 11), (3, 0), (3, 1), (3, 2), (3, 3), (3, 4), (3, 5), (3, 6), (3, 7), (3, 8), (3, 9), (3, 10), (3, 11), (4, 0), (4, 1), (4, 2), (4, 3), (4, 4), (4, 5), (4, 6), (4, 7), (4, 8), (4, 9), (4, 10), (4, 11), (5, 0), (5, 1), (5, 2), (5, 3), (5, 4), (5, 5), (5, 6), (5, 7), (5, 8), (5, 9), (5, 10), (5, 11), (6, 0), (6, 1), (6, 2), (6, 3), (6, 4), (6, 5), (6, 6), (6, 7), (6, 8), (6, 9), (6, 10), (6, 11), (7, 0), (7, 1), (7, 2), (7, 3), (7, 4), (7, 5), (7, 6), (7, 7), (7, 8), (7, 9), (7, 10), (7, 11), (8, 0), (8, 1), (8, 2), (8, 3), (8, 4), (8, 5), (8, 6), (8, 7), (8, 8), (8, 9), (8, 10), (8, 11), (9, 0), (9, 1), (9, 2), (9, 3), (9, 4), (9, 5), (9, 6), (9, 7), (9, 8), (9, 9), (9, 10), (9, 11), (10, 0), (10, 1), (10, 2), (10, 3), (10, 4), (10, 5), (10, 6), (10, 7), (10, 8), (10, 9), (10, 10), (10, 11), (11, 0), (11, 1), (11, 2), (11, 3), (11, 4), (11, 5), (11, 6), (11, 7), (11, 8), (11, 9), (11, 10), (11, 11)}\n",
            "    x_index_0 : Size=1, Index=None, Ordered=Insertion\n",
            "        Key  : Dimen : Domain : Size : Members\n",
            "        None :     1 :    Any :   12 : {0, 1, 2, 3, 4, 5, 6, 7, 8, 9, 10, 11}\n",
            "    x_index_1 : Size=1, Index=None, Ordered=Insertion\n",
            "        Key  : Dimen : Domain : Size : Members\n",
            "        None :     1 :    Any :   12 : {0, 1, 2, 3, 4, 5, 6, 7, 8, 9, 10, 11}\n",
            "\n",
            "1 Var Declarations\n",
            "    x : Size=144, Index=x_index\n",
            "        Key      : Lower : Value : Upper : Fixed : Stale : Domain\n",
            "          (0, 0) :     0 :  None :     1 : False :  True : Binary\n",
            "          (0, 1) :     0 :  None :     1 : False :  True : Binary\n",
            "          (0, 2) :     0 :  None :     1 : False :  True : Binary\n",
            "          (0, 3) :     0 :  None :     1 : False :  True : Binary\n",
            "          (0, 4) :     0 :  None :     1 : False :  True : Binary\n",
            "          (0, 5) :     0 :  None :     1 : False :  True : Binary\n",
            "          (0, 6) :     0 :  None :     1 : False :  True : Binary\n",
            "          (0, 7) :     0 :  None :     1 : False :  True : Binary\n",
            "          (0, 8) :     0 :  None :     1 : False :  True : Binary\n",
            "          (0, 9) :     0 :  None :     1 : False :  True : Binary\n",
            "         (0, 10) :     0 :  None :     1 : False :  True : Binary\n",
            "         (0, 11) :     0 :  None :     1 : False :  True : Binary\n",
            "          (1, 0) :     0 :  None :     1 : False :  True : Binary\n",
            "          (1, 1) :     0 :  None :     1 : False :  True : Binary\n",
            "          (1, 2) :     0 :  None :     1 : False :  True : Binary\n",
            "          (1, 3) :     0 :  None :     1 : False :  True : Binary\n",
            "          (1, 4) :     0 :  None :     1 : False :  True : Binary\n",
            "          (1, 5) :     0 :  None :     1 : False :  True : Binary\n",
            "          (1, 6) :     0 :  None :     1 : False :  True : Binary\n",
            "          (1, 7) :     0 :  None :     1 : False :  True : Binary\n",
            "          (1, 8) :     0 :  None :     1 : False :  True : Binary\n",
            "          (1, 9) :     0 :  None :     1 : False :  True : Binary\n",
            "         (1, 10) :     0 :  None :     1 : False :  True : Binary\n",
            "         (1, 11) :     0 :  None :     1 : False :  True : Binary\n",
            "          (2, 0) :     0 :  None :     1 : False :  True : Binary\n",
            "          (2, 1) :     0 :  None :     1 : False :  True : Binary\n",
            "          (2, 2) :     0 :  None :     1 : False :  True : Binary\n",
            "          (2, 3) :     0 :  None :     1 : False :  True : Binary\n",
            "          (2, 4) :     0 :  None :     1 : False :  True : Binary\n",
            "          (2, 5) :     0 :  None :     1 : False :  True : Binary\n",
            "          (2, 6) :     0 :  None :     1 : False :  True : Binary\n",
            "          (2, 7) :     0 :  None :     1 : False :  True : Binary\n",
            "          (2, 8) :     0 :  None :     1 : False :  True : Binary\n",
            "          (2, 9) :     0 :  None :     1 : False :  True : Binary\n",
            "         (2, 10) :     0 :  None :     1 : False :  True : Binary\n",
            "         (2, 11) :     0 :  None :     1 : False :  True : Binary\n",
            "          (3, 0) :     0 :  None :     1 : False :  True : Binary\n",
            "          (3, 1) :     0 :  None :     1 : False :  True : Binary\n",
            "          (3, 2) :     0 :  None :     1 : False :  True : Binary\n",
            "          (3, 3) :     0 :  None :     1 : False :  True : Binary\n",
            "          (3, 4) :     0 :  None :     1 : False :  True : Binary\n",
            "          (3, 5) :     0 :  None :     1 : False :  True : Binary\n",
            "          (3, 6) :     0 :  None :     1 : False :  True : Binary\n",
            "          (3, 7) :     0 :  None :     1 : False :  True : Binary\n",
            "          (3, 8) :     0 :  None :     1 : False :  True : Binary\n",
            "          (3, 9) :     0 :  None :     1 : False :  True : Binary\n",
            "         (3, 10) :     0 :  None :     1 : False :  True : Binary\n",
            "         (3, 11) :     0 :  None :     1 : False :  True : Binary\n",
            "          (4, 0) :     0 :  None :     1 : False :  True : Binary\n",
            "          (4, 1) :     0 :  None :     1 : False :  True : Binary\n",
            "          (4, 2) :     0 :  None :     1 : False :  True : Binary\n",
            "          (4, 3) :     0 :  None :     1 : False :  True : Binary\n",
            "          (4, 4) :     0 :  None :     1 : False :  True : Binary\n",
            "          (4, 5) :     0 :  None :     1 : False :  True : Binary\n",
            "          (4, 6) :     0 :  None :     1 : False :  True : Binary\n",
            "          (4, 7) :     0 :  None :     1 : False :  True : Binary\n",
            "          (4, 8) :     0 :  None :     1 : False :  True : Binary\n",
            "          (4, 9) :     0 :  None :     1 : False :  True : Binary\n",
            "         (4, 10) :     0 :  None :     1 : False :  True : Binary\n",
            "         (4, 11) :     0 :  None :     1 : False :  True : Binary\n",
            "          (5, 0) :     0 :  None :     1 : False :  True : Binary\n",
            "          (5, 1) :     0 :  None :     1 : False :  True : Binary\n",
            "          (5, 2) :     0 :  None :     1 : False :  True : Binary\n",
            "          (5, 3) :     0 :  None :     1 : False :  True : Binary\n",
            "          (5, 4) :     0 :  None :     1 : False :  True : Binary\n",
            "          (5, 5) :     0 :  None :     1 : False :  True : Binary\n",
            "          (5, 6) :     0 :  None :     1 : False :  True : Binary\n",
            "          (5, 7) :     0 :  None :     1 : False :  True : Binary\n",
            "          (5, 8) :     0 :  None :     1 : False :  True : Binary\n",
            "          (5, 9) :     0 :  None :     1 : False :  True : Binary\n",
            "         (5, 10) :     0 :  None :     1 : False :  True : Binary\n",
            "         (5, 11) :     0 :  None :     1 : False :  True : Binary\n",
            "          (6, 0) :     0 :  None :     1 : False :  True : Binary\n",
            "          (6, 1) :     0 :  None :     1 : False :  True : Binary\n",
            "          (6, 2) :     0 :  None :     1 : False :  True : Binary\n",
            "          (6, 3) :     0 :  None :     1 : False :  True : Binary\n",
            "          (6, 4) :     0 :  None :     1 : False :  True : Binary\n",
            "          (6, 5) :     0 :  None :     1 : False :  True : Binary\n",
            "          (6, 6) :     0 :  None :     1 : False :  True : Binary\n",
            "          (6, 7) :     0 :  None :     1 : False :  True : Binary\n",
            "          (6, 8) :     0 :  None :     1 : False :  True : Binary\n",
            "          (6, 9) :     0 :  None :     1 : False :  True : Binary\n",
            "         (6, 10) :     0 :  None :     1 : False :  True : Binary\n",
            "         (6, 11) :     0 :  None :     1 : False :  True : Binary\n",
            "          (7, 0) :     0 :  None :     1 : False :  True : Binary\n",
            "          (7, 1) :     0 :  None :     1 : False :  True : Binary\n",
            "          (7, 2) :     0 :  None :     1 : False :  True : Binary\n",
            "          (7, 3) :     0 :  None :     1 : False :  True : Binary\n",
            "          (7, 4) :     0 :  None :     1 : False :  True : Binary\n",
            "          (7, 5) :     0 :  None :     1 : False :  True : Binary\n",
            "          (7, 6) :     0 :  None :     1 : False :  True : Binary\n",
            "          (7, 7) :     0 :  None :     1 : False :  True : Binary\n",
            "          (7, 8) :     0 :  None :     1 : False :  True : Binary\n",
            "          (7, 9) :     0 :  None :     1 : False :  True : Binary\n",
            "         (7, 10) :     0 :  None :     1 : False :  True : Binary\n",
            "         (7, 11) :     0 :  None :     1 : False :  True : Binary\n",
            "          (8, 0) :     0 :  None :     1 : False :  True : Binary\n",
            "          (8, 1) :     0 :  None :     1 : False :  True : Binary\n",
            "          (8, 2) :     0 :  None :     1 : False :  True : Binary\n",
            "          (8, 3) :     0 :  None :     1 : False :  True : Binary\n",
            "          (8, 4) :     0 :  None :     1 : False :  True : Binary\n",
            "          (8, 5) :     0 :  None :     1 : False :  True : Binary\n",
            "          (8, 6) :     0 :  None :     1 : False :  True : Binary\n",
            "          (8, 7) :     0 :  None :     1 : False :  True : Binary\n",
            "          (8, 8) :     0 :  None :     1 : False :  True : Binary\n",
            "          (8, 9) :     0 :  None :     1 : False :  True : Binary\n",
            "         (8, 10) :     0 :  None :     1 : False :  True : Binary\n",
            "         (8, 11) :     0 :  None :     1 : False :  True : Binary\n",
            "          (9, 0) :     0 :  None :     1 : False :  True : Binary\n",
            "          (9, 1) :     0 :  None :     1 : False :  True : Binary\n",
            "          (9, 2) :     0 :  None :     1 : False :  True : Binary\n",
            "          (9, 3) :     0 :  None :     1 : False :  True : Binary\n",
            "          (9, 4) :     0 :  None :     1 : False :  True : Binary\n",
            "          (9, 5) :     0 :  None :     1 : False :  True : Binary\n",
            "          (9, 6) :     0 :  None :     1 : False :  True : Binary\n",
            "          (9, 7) :     0 :  None :     1 : False :  True : Binary\n",
            "          (9, 8) :     0 :  None :     1 : False :  True : Binary\n",
            "          (9, 9) :     0 :  None :     1 : False :  True : Binary\n",
            "         (9, 10) :     0 :  None :     1 : False :  True : Binary\n",
            "         (9, 11) :     0 :  None :     1 : False :  True : Binary\n",
            "         (10, 0) :     0 :  None :     1 : False :  True : Binary\n",
            "         (10, 1) :     0 :  None :     1 : False :  True : Binary\n",
            "         (10, 2) :     0 :  None :     1 : False :  True : Binary\n",
            "         (10, 3) :     0 :  None :     1 : False :  True : Binary\n",
            "         (10, 4) :     0 :  None :     1 : False :  True : Binary\n",
            "         (10, 5) :     0 :  None :     1 : False :  True : Binary\n",
            "         (10, 6) :     0 :  None :     1 : False :  True : Binary\n",
            "         (10, 7) :     0 :  None :     1 : False :  True : Binary\n",
            "         (10, 8) :     0 :  None :     1 : False :  True : Binary\n",
            "         (10, 9) :     0 :  None :     1 : False :  True : Binary\n",
            "        (10, 10) :     0 :  None :     1 : False :  True : Binary\n",
            "        (10, 11) :     0 :  None :     1 : False :  True : Binary\n",
            "         (11, 0) :     0 :  None :     1 : False :  True : Binary\n",
            "         (11, 1) :     0 :  None :     1 : False :  True : Binary\n",
            "         (11, 2) :     0 :  None :     1 : False :  True : Binary\n",
            "         (11, 3) :     0 :  None :     1 : False :  True : Binary\n",
            "         (11, 4) :     0 :  None :     1 : False :  True : Binary\n",
            "         (11, 5) :     0 :  None :     1 : False :  True : Binary\n",
            "         (11, 6) :     0 :  None :     1 : False :  True : Binary\n",
            "         (11, 7) :     0 :  None :     1 : False :  True : Binary\n",
            "         (11, 8) :     0 :  None :     1 : False :  True : Binary\n",
            "         (11, 9) :     0 :  None :     1 : False :  True : Binary\n",
            "        (11, 10) :     0 :  None :     1 : False :  True : Binary\n",
            "        (11, 11) :     0 :  None :     1 : False :  True : Binary\n",
            "\n",
            "1 Objective Declarations\n",
            "    objective : Size=1, Index=None, Active=True\n",
            "        Key  : Active : Sense    : Expression\n",
            "        None :   True : minimize : 21.0*x[0,0] + 25.0*x[0,1] + 18.0*x[0,2] + 19.0*x[0,3] + 23.0*x[0,4] + 24.0*x[0,5] + 16.0*x[0,6] + 17.0*x[0,7] + 21.0*x[0,8] + 23.0*x[0,9] + 19.0*x[0,10] + 21.0*x[0,11] + 19.0*x[1,0] + 22.0*x[1,1] + 19.0*x[1,2] + 19.0*x[1,3] + 23.0*x[1,4] + 21.0*x[1,5] + 15.0*x[1,6] + 20.0*x[1,7] + 16.0*x[1,8] + 17.0*x[1,9] + 17.0*x[1,10] + 24.0*x[1,11] + 21.0*x[2,0] + 19.0*x[2,1] + 20.0*x[2,2] + 18.0*x[2,3] + 22.0*x[2,4] + 24.0*x[2,5] + 14.0*x[2,6] + 16.0*x[2,7] + 18.0*x[2,8] + 16.0*x[2,9] + 20.0*x[2,10] + 24.0*x[2,11] + 19.0*x[3,0] + 22.0*x[3,1] + 17.0*x[3,2] + 17.0*x[3,3] + 22.0*x[3,4] + 22.0*x[3,5] + 18.0*x[3,6] + 18.0*x[3,7] + 20.0*x[3,8] + 21.0*x[3,9] + 23.0*x[3,10] + 23.0*x[3,11] + 18.0*x[4,0] + 22.0*x[4,1] + 15.0*x[4,2] + 15.0*x[4,3] + 23.0*x[4,4] + 23.0*x[4,5] + 21.0*x[4,6] + 25.0*x[4,7] + 24.0*x[4,8] + 19.0*x[4,9] + 21.0*x[4,10] + 23.0*x[4,11] + 23.0*x[5,0] + 19.0*x[5,1] + 19.0*x[5,2] + 14.0*x[5,3] + 24.0*x[5,4] + 21.0*x[5,5] + 23.0*x[5,6] + 21.0*x[5,7] + 20.0*x[5,8] + 20.0*x[5,9] + 22.0*x[5,10] + 19.0*x[5,11] + 21.0*x[6,0] + 16.0*x[6,1] + 27.0*x[6,2] + 17.0*x[6,3] + 26.0*x[6,4] + 27.0*x[6,5] + 16.0*x[6,6] + 19.0*x[6,7] + 24.0*x[6,8] + 20.0*x[6,9] + 20.0*x[6,10] + 23.0*x[6,11] + 22.0*x[7,0] + 17.0*x[7,1] + 21.0*x[7,2] + 15.0*x[7,3] + 23.0*x[7,4] + 24.0*x[7,5] + 24.0*x[7,6] + 20.0*x[7,7] + 22.0*x[7,8] + 19.0*x[7,9] + 23.0*x[7,10] + 21.0*x[7,11] + 23.0*x[8,0] + 24.0*x[8,1] + 18.0*x[8,2] + 19.0*x[8,3] + 22.0*x[8,4] + 23.0*x[8,5] + 21.0*x[8,6] + 18.0*x[8,7] + 23.0*x[8,8] + 15.0*x[8,9] + 25.0*x[8,10] + 21.0*x[8,11] + 18.0*x[9,0] + 21.0*x[9,1] + 21.0*x[9,2] + 18.0*x[9,3] + 26.0*x[9,4] + 24.0*x[9,5] + 18.0*x[9,6] + 17.0*x[9,7] + 18.0*x[9,8] + 20.0*x[9,9] + 21.0*x[9,10] + 20.0*x[9,11] + 19.0*x[10,0] + 12.0*x[10,1] + 21.0*x[10,2] + 19.0*x[10,3] + 23.0*x[10,4] + 20.0*x[10,5] + 22.0*x[10,6] + 19.0*x[10,7] + 17.0*x[10,8] + 19.0*x[10,9] + 20.0*x[10,10] + 24.0*x[10,11] + 18.0*x[11,0] + 22.0*x[11,1] + 24.0*x[11,2] + 17.0*x[11,3] + 21.0*x[11,4] + 28.0*x[11,5] + 18.0*x[11,6] + 16.0*x[11,7] + 22.0*x[11,8] + 24.0*x[11,9] + 25.0*x[11,10] + 24.0*x[11,11]\n",
            "\n",
            "1 Constraint Declarations\n",
            "    constraint : Size=24, Index=constraint_index, Active=True\n",
            "        Key : Lower : Body                                                                                                                    : Upper : Active\n",
            "          1 :   1.0 :             x[0,0] + x[0,1] + x[0,2] + x[0,3] + x[0,4] + x[0,5] + x[0,6] + x[0,7] + x[0,8] + x[0,9] + x[0,10] + x[0,11] :   1.0 :   True\n",
            "          2 :   1.0 :             x[1,0] + x[1,1] + x[1,2] + x[1,3] + x[1,4] + x[1,5] + x[1,6] + x[1,7] + x[1,8] + x[1,9] + x[1,10] + x[1,11] :   1.0 :   True\n",
            "          3 :   1.0 :             x[2,0] + x[2,1] + x[2,2] + x[2,3] + x[2,4] + x[2,5] + x[2,6] + x[2,7] + x[2,8] + x[2,9] + x[2,10] + x[2,11] :   1.0 :   True\n",
            "          4 :   1.0 :             x[3,0] + x[3,1] + x[3,2] + x[3,3] + x[3,4] + x[3,5] + x[3,6] + x[3,7] + x[3,8] + x[3,9] + x[3,10] + x[3,11] :   1.0 :   True\n",
            "          5 :   1.0 :             x[4,0] + x[4,1] + x[4,2] + x[4,3] + x[4,4] + x[4,5] + x[4,6] + x[4,7] + x[4,8] + x[4,9] + x[4,10] + x[4,11] :   1.0 :   True\n",
            "          6 :   1.0 :             x[5,0] + x[5,1] + x[5,2] + x[5,3] + x[5,4] + x[5,5] + x[5,6] + x[5,7] + x[5,8] + x[5,9] + x[5,10] + x[5,11] :   1.0 :   True\n",
            "          7 :   1.0 :             x[6,0] + x[6,1] + x[6,2] + x[6,3] + x[6,4] + x[6,5] + x[6,6] + x[6,7] + x[6,8] + x[6,9] + x[6,10] + x[6,11] :   1.0 :   True\n",
            "          8 :   1.0 :             x[7,0] + x[7,1] + x[7,2] + x[7,3] + x[7,4] + x[7,5] + x[7,6] + x[7,7] + x[7,8] + x[7,9] + x[7,10] + x[7,11] :   1.0 :   True\n",
            "          9 :   1.0 :             x[8,0] + x[8,1] + x[8,2] + x[8,3] + x[8,4] + x[8,5] + x[8,6] + x[8,7] + x[8,8] + x[8,9] + x[8,10] + x[8,11] :   1.0 :   True\n",
            "         10 :   1.0 :             x[9,0] + x[9,1] + x[9,2] + x[9,3] + x[9,4] + x[9,5] + x[9,6] + x[9,7] + x[9,8] + x[9,9] + x[9,10] + x[9,11] :   1.0 :   True\n",
            "         11 :   1.0 : x[10,0] + x[10,1] + x[10,2] + x[10,3] + x[10,4] + x[10,5] + x[10,6] + x[10,7] + x[10,8] + x[10,9] + x[10,10] + x[10,11] :   1.0 :   True\n",
            "         12 :   1.0 : x[11,0] + x[11,1] + x[11,2] + x[11,3] + x[11,4] + x[11,5] + x[11,6] + x[11,7] + x[11,8] + x[11,9] + x[11,10] + x[11,11] :   1.0 :   True\n",
            "         13 :   1.0 :             x[0,0] + x[1,0] + x[2,0] + x[3,0] + x[4,0] + x[5,0] + x[6,0] + x[7,0] + x[8,0] + x[9,0] + x[10,0] + x[11,0] :   1.0 :   True\n",
            "         14 :   1.0 :             x[0,1] + x[1,1] + x[2,1] + x[3,1] + x[4,1] + x[5,1] + x[6,1] + x[7,1] + x[8,1] + x[9,1] + x[10,1] + x[11,1] :   1.0 :   True\n",
            "         15 :   1.0 :             x[0,2] + x[1,2] + x[2,2] + x[3,2] + x[4,2] + x[5,2] + x[6,2] + x[7,2] + x[8,2] + x[9,2] + x[10,2] + x[11,2] :   1.0 :   True\n",
            "         16 :   1.0 :             x[0,3] + x[1,3] + x[2,3] + x[3,3] + x[4,3] + x[5,3] + x[6,3] + x[7,3] + x[8,3] + x[9,3] + x[10,3] + x[11,3] :   1.0 :   True\n",
            "         17 :   1.0 :             x[0,4] + x[1,4] + x[2,4] + x[3,4] + x[4,4] + x[5,4] + x[6,4] + x[7,4] + x[8,4] + x[9,4] + x[10,4] + x[11,4] :   1.0 :   True\n",
            "         18 :   1.0 :             x[0,5] + x[1,5] + x[2,5] + x[3,5] + x[4,5] + x[5,5] + x[6,5] + x[7,5] + x[8,5] + x[9,5] + x[10,5] + x[11,5] :   1.0 :   True\n",
            "         19 :   1.0 :             x[0,6] + x[1,6] + x[2,6] + x[3,6] + x[4,6] + x[5,6] + x[6,6] + x[7,6] + x[8,6] + x[9,6] + x[10,6] + x[11,6] :   1.0 :   True\n",
            "         20 :   1.0 :             x[0,7] + x[1,7] + x[2,7] + x[3,7] + x[4,7] + x[5,7] + x[6,7] + x[7,7] + x[8,7] + x[9,7] + x[10,7] + x[11,7] :   1.0 :   True\n",
            "         21 :   1.0 :             x[0,8] + x[1,8] + x[2,8] + x[3,8] + x[4,8] + x[5,8] + x[6,8] + x[7,8] + x[8,8] + x[9,8] + x[10,8] + x[11,8] :   1.0 :   True\n",
            "         22 :   1.0 :             x[0,9] + x[1,9] + x[2,9] + x[3,9] + x[4,9] + x[5,9] + x[6,9] + x[7,9] + x[8,9] + x[9,9] + x[10,9] + x[11,9] :   1.0 :   True\n",
            "         23 :   1.0 : x[0,10] + x[1,10] + x[2,10] + x[3,10] + x[4,10] + x[5,10] + x[6,10] + x[7,10] + x[8,10] + x[9,10] + x[10,10] + x[11,10] :   1.0 :   True\n",
            "         24 :   1.0 : x[0,11] + x[1,11] + x[2,11] + x[3,11] + x[4,11] + x[5,11] + x[6,11] + x[7,11] + x[8,11] + x[9,11] + x[10,11] + x[11,11] :   1.0 :   True\n",
            "\n",
            "7 Declarations: x_index_0 x_index_1 x_index x constraint_index constraint objective\n"
          ]
        }
      ]
    },
    {
      "cell_type": "markdown",
      "source": [],
      "metadata": {
        "id": "qnnBMQ3HxqRB"
      }
    },
    {
      "cell_type": "code",
      "source": [
        "!apt-get install -y -qq coinor-cbc"
      ],
      "metadata": {
        "id": "Fr9HA0kvkPJe"
      },
      "execution_count": null,
      "outputs": []
    },
    {
      "cell_type": "code",
      "source": [
        "opt_cbc= SolverFactory('cbc',)"
      ],
      "metadata": {
        "id": "e0kXpa0Dmw0g"
      },
      "execution_count": null,
      "outputs": []
    },
    {
      "cell_type": "code",
      "source": [
        "result = opt_cbc.solve(model)\n",
        "print('solver statuas:',result.solver.status)\n",
        "print('solver termination condition:',result.solver.termination_condition)"
      ],
      "metadata": {
        "colab": {
          "base_uri": "https://localhost:8080/"
        },
        "id": "VrE0PjRam0hV",
        "outputId": "0ea55e6a-029b-4e18-f3e4-d4073011e82e"
      },
      "execution_count": null,
      "outputs": [
        {
          "output_type": "stream",
          "name": "stdout",
          "text": [
            "solver statuas: ok\n",
            "solver termination condition: optimal\n"
          ]
        }
      ]
    },
    {
      "cell_type": "code",
      "source": [
        "#displaty solution\n",
        "print('\\nObjective=',model.objective())\n",
        "print('\\n decision variable')\n",
        "for i  in row_indices:\n",
        "  for j in col_indices:\n",
        "    print('Factory',i+1,'locate',j+1,':',model.x[i,j].value)\n",
        "print('\\nconstraint')\n",
        "model.constraint.display()"
      ],
      "metadata": {
        "colab": {
          "base_uri": "https://localhost:8080/"
        },
        "id": "MmJIqOi9m2Ds",
        "outputId": "5a1f02ae-d4dc-4326-99f7-a7de805078f3"
      },
      "execution_count": null,
      "outputs": [
        {
          "output_type": "stream",
          "name": "stdout",
          "text": [
            "\n",
            "Objective= 204.0\n",
            "\n",
            " decision variable\n",
            "Factory 1 locate 1 : 0.0\n",
            "Factory 1 locate 2 : 0.0\n",
            "Factory 1 locate 3 : 0.0\n",
            "Factory 1 locate 4 : 0.0\n",
            "Factory 1 locate 5 : 0.0\n",
            "Factory 1 locate 6 : 0.0\n",
            "Factory 1 locate 7 : 0.0\n",
            "Factory 1 locate 8 : 0.0\n",
            "Factory 1 locate 9 : 0.0\n",
            "Factory 1 locate 10 : 0.0\n",
            "Factory 1 locate 11 : 1.0\n",
            "Factory 1 locate 12 : 0.0\n",
            "Factory 2 locate 1 : 0.0\n",
            "Factory 2 locate 2 : 0.0\n",
            "Factory 2 locate 3 : 0.0\n",
            "Factory 2 locate 4 : 0.0\n",
            "Factory 2 locate 5 : 0.0\n",
            "Factory 2 locate 6 : 0.0\n",
            "Factory 2 locate 7 : 0.0\n",
            "Factory 2 locate 8 : 0.0\n",
            "Factory 2 locate 9 : 1.0\n",
            "Factory 2 locate 10 : 0.0\n",
            "Factory 2 locate 11 : 0.0\n",
            "Factory 2 locate 12 : 0.0\n",
            "Factory 3 locate 1 : 0.0\n",
            "Factory 3 locate 2 : 0.0\n",
            "Factory 3 locate 3 : 0.0\n",
            "Factory 3 locate 4 : 0.0\n",
            "Factory 3 locate 5 : 0.0\n",
            "Factory 3 locate 6 : 0.0\n",
            "Factory 3 locate 7 : 0.0\n",
            "Factory 3 locate 8 : 1.0\n",
            "Factory 3 locate 9 : 0.0\n",
            "Factory 3 locate 10 : 0.0\n",
            "Factory 3 locate 11 : 0.0\n",
            "Factory 3 locate 12 : 0.0\n",
            "Factory 4 locate 1 : 0.0\n",
            "Factory 4 locate 2 : 0.0\n",
            "Factory 4 locate 3 : 0.0\n",
            "Factory 4 locate 4 : 0.0\n",
            "Factory 4 locate 5 : 0.0\n",
            "Factory 4 locate 6 : 1.0\n",
            "Factory 4 locate 7 : 0.0\n",
            "Factory 4 locate 8 : 0.0\n",
            "Factory 4 locate 9 : 0.0\n",
            "Factory 4 locate 10 : 0.0\n",
            "Factory 4 locate 11 : 0.0\n",
            "Factory 4 locate 12 : 0.0\n",
            "Factory 5 locate 1 : 0.0\n",
            "Factory 5 locate 2 : 0.0\n",
            "Factory 5 locate 3 : 1.0\n",
            "Factory 5 locate 4 : 0.0\n",
            "Factory 5 locate 5 : 0.0\n",
            "Factory 5 locate 6 : 0.0\n",
            "Factory 5 locate 7 : 0.0\n",
            "Factory 5 locate 8 : 0.0\n",
            "Factory 5 locate 9 : 0.0\n",
            "Factory 5 locate 10 : 0.0\n",
            "Factory 5 locate 11 : 0.0\n",
            "Factory 5 locate 12 : 0.0\n",
            "Factory 6 locate 1 : 0.0\n",
            "Factory 6 locate 2 : 0.0\n",
            "Factory 6 locate 3 : 0.0\n",
            "Factory 6 locate 4 : 0.0\n",
            "Factory 6 locate 5 : 0.0\n",
            "Factory 6 locate 6 : 0.0\n",
            "Factory 6 locate 7 : 0.0\n",
            "Factory 6 locate 8 : 0.0\n",
            "Factory 6 locate 9 : 0.0\n",
            "Factory 6 locate 10 : 0.0\n",
            "Factory 6 locate 11 : 0.0\n",
            "Factory 6 locate 12 : 1.0\n",
            "Factory 7 locate 1 : 0.0\n",
            "Factory 7 locate 2 : 0.0\n",
            "Factory 7 locate 3 : 0.0\n",
            "Factory 7 locate 4 : 0.0\n",
            "Factory 7 locate 5 : 0.0\n",
            "Factory 7 locate 6 : 0.0\n",
            "Factory 7 locate 7 : 1.0\n",
            "Factory 7 locate 8 : 0.0\n",
            "Factory 7 locate 9 : 0.0\n",
            "Factory 7 locate 10 : 0.0\n",
            "Factory 7 locate 11 : 0.0\n",
            "Factory 7 locate 12 : 0.0\n",
            "Factory 8 locate 1 : 0.0\n",
            "Factory 8 locate 2 : 0.0\n",
            "Factory 8 locate 3 : 0.0\n",
            "Factory 8 locate 4 : 1.0\n",
            "Factory 8 locate 5 : 0.0\n",
            "Factory 8 locate 6 : 0.0\n",
            "Factory 8 locate 7 : 0.0\n",
            "Factory 8 locate 8 : 0.0\n",
            "Factory 8 locate 9 : 0.0\n",
            "Factory 8 locate 10 : 0.0\n",
            "Factory 8 locate 11 : 0.0\n",
            "Factory 8 locate 12 : 0.0\n",
            "Factory 9 locate 1 : 0.0\n",
            "Factory 9 locate 2 : 0.0\n",
            "Factory 9 locate 3 : 0.0\n",
            "Factory 9 locate 4 : 0.0\n",
            "Factory 9 locate 5 : 0.0\n",
            "Factory 9 locate 6 : 0.0\n",
            "Factory 9 locate 7 : 0.0\n",
            "Factory 9 locate 8 : 0.0\n",
            "Factory 9 locate 9 : 0.0\n",
            "Factory 9 locate 10 : 1.0\n",
            "Factory 9 locate 11 : 0.0\n",
            "Factory 9 locate 12 : 0.0\n",
            "Factory 10 locate 1 : 1.0\n",
            "Factory 10 locate 2 : 0.0\n",
            "Factory 10 locate 3 : 0.0\n",
            "Factory 10 locate 4 : 0.0\n",
            "Factory 10 locate 5 : 0.0\n",
            "Factory 10 locate 6 : 0.0\n",
            "Factory 10 locate 7 : 0.0\n",
            "Factory 10 locate 8 : 0.0\n",
            "Factory 10 locate 9 : 0.0\n",
            "Factory 10 locate 10 : 0.0\n",
            "Factory 10 locate 11 : 0.0\n",
            "Factory 10 locate 12 : 0.0\n",
            "Factory 11 locate 1 : 0.0\n",
            "Factory 11 locate 2 : 1.0\n",
            "Factory 11 locate 3 : 0.0\n",
            "Factory 11 locate 4 : 0.0\n",
            "Factory 11 locate 5 : 0.0\n",
            "Factory 11 locate 6 : 0.0\n",
            "Factory 11 locate 7 : 0.0\n",
            "Factory 11 locate 8 : 0.0\n",
            "Factory 11 locate 9 : 0.0\n",
            "Factory 11 locate 10 : 0.0\n",
            "Factory 11 locate 11 : 0.0\n",
            "Factory 11 locate 12 : 0.0\n",
            "Factory 12 locate 1 : 0.0\n",
            "Factory 12 locate 2 : 0.0\n",
            "Factory 12 locate 3 : 0.0\n",
            "Factory 12 locate 4 : 0.0\n",
            "Factory 12 locate 5 : 1.0\n",
            "Factory 12 locate 6 : 0.0\n",
            "Factory 12 locate 7 : 0.0\n",
            "Factory 12 locate 8 : 0.0\n",
            "Factory 12 locate 9 : 0.0\n",
            "Factory 12 locate 10 : 0.0\n",
            "Factory 12 locate 11 : 0.0\n",
            "Factory 12 locate 12 : 0.0\n",
            "\n",
            "constraint\n",
            "constraint : Size=24\n",
            "    Key : Lower : Body : Upper\n",
            "      1 :   1.0 :  1.0 :   1.0\n",
            "      2 :   1.0 :  1.0 :   1.0\n",
            "      3 :   1.0 :  1.0 :   1.0\n",
            "      4 :   1.0 :  1.0 :   1.0\n",
            "      5 :   1.0 :  1.0 :   1.0\n",
            "      6 :   1.0 :  1.0 :   1.0\n",
            "      7 :   1.0 :  1.0 :   1.0\n",
            "      8 :   1.0 :  1.0 :   1.0\n",
            "      9 :   1.0 :  1.0 :   1.0\n",
            "     10 :   1.0 :  1.0 :   1.0\n",
            "     11 :   1.0 :  1.0 :   1.0\n",
            "     12 :   1.0 :  1.0 :   1.0\n",
            "     13 :   1.0 :  1.0 :   1.0\n",
            "     14 :   1.0 :  1.0 :   1.0\n",
            "     15 :   1.0 :  1.0 :   1.0\n",
            "     16 :   1.0 :  1.0 :   1.0\n",
            "     17 :   1.0 :  1.0 :   1.0\n",
            "     18 :   1.0 :  1.0 :   1.0\n",
            "     19 :   1.0 :  1.0 :   1.0\n",
            "     20 :   1.0 :  1.0 :   1.0\n",
            "     21 :   1.0 :  1.0 :   1.0\n",
            "     22 :   1.0 :  1.0 :   1.0\n",
            "     23 :   1.0 :  1.0 :   1.0\n",
            "     24 :   1.0 :  1.0 :   1.0\n"
          ]
        }
      ]
    },
    {
      "cell_type": "markdown",
      "source": [
        "8)\n",
        "Objective= 204.0\n",
        "Factory 1 locate 11 : 1.0\n",
        "\n",
        "\n",
        "Factory 2 locate 9 : 1.0\n",
        "\n",
        "\n",
        "Factory 3 locate 8 : 1.0\n",
        "\n",
        "\n",
        "Factory 4 locate 6 : 1.0\n",
        "\n",
        "Factory 5 locate 3 : 1.0\n",
        "\n",
        "Factory 6 locate 12 : 1.0\n",
        "\n",
        "Factory 7 locate 7 : 1.0\n",
        "\n",
        "Factory 8 locate 4 : 1.0\n",
        "\n",
        "\n",
        "Factory 9 locate 10 : 1.0\n",
        "\n",
        "Factory 10 locate 1 : 1.0\n",
        "\n",
        "\n",
        "Factory 11 locate 2 : 1.0\n",
        "\n",
        "\n",
        "Factory 12 locate 5 : 1.0\n",
        "\n",
        "\n"
      ],
      "metadata": {
        "id": "NcUSeaOScYrJ"
      }
    },
    {
      "cell_type": "markdown",
      "source": [
        "Now change the binary in your model to continuous variables , take the variabe are non real"
      ],
      "metadata": {
        "id": "n1Nf0JhLb6_X"
      }
    },
    {
      "cell_type": "code",
      "source": [
        "model.x.domain = NonNegativeReals"
      ],
      "metadata": {
        "id": "zIzawF3jn_a1"
      },
      "execution_count": null,
      "outputs": []
    },
    {
      "cell_type": "code",
      "source": [
        "model.pprint()"
      ],
      "metadata": {
        "colab": {
          "base_uri": "https://localhost:8080/"
        },
        "id": "Bw-IOJqmn_nW",
        "outputId": "e4a4eac0-7cf3-40cf-b917-a50ea7516259"
      },
      "execution_count": null,
      "outputs": [
        {
          "output_type": "stream",
          "name": "stdout",
          "text": [
            "4 Set Declarations\n",
            "    constraint_index : Size=1, Index=None, Ordered=Insertion\n",
            "        Key  : Dimen : Domain : Size : Members\n",
            "        None :     1 :    Any :   24 : {1, 2, 3, 4, 5, 6, 7, 8, 9, 10, 11, 12, 13, 14, 15, 16, 17, 18, 19, 20, 21, 22, 23, 24}\n",
            "    x_index : Size=1, Index=None, Ordered=True\n",
            "        Key  : Dimen : Domain              : Size : Members\n",
            "        None :     2 : x_index_0*x_index_1 :  144 : {(0, 0), (0, 1), (0, 2), (0, 3), (0, 4), (0, 5), (0, 6), (0, 7), (0, 8), (0, 9), (0, 10), (0, 11), (1, 0), (1, 1), (1, 2), (1, 3), (1, 4), (1, 5), (1, 6), (1, 7), (1, 8), (1, 9), (1, 10), (1, 11), (2, 0), (2, 1), (2, 2), (2, 3), (2, 4), (2, 5), (2, 6), (2, 7), (2, 8), (2, 9), (2, 10), (2, 11), (3, 0), (3, 1), (3, 2), (3, 3), (3, 4), (3, 5), (3, 6), (3, 7), (3, 8), (3, 9), (3, 10), (3, 11), (4, 0), (4, 1), (4, 2), (4, 3), (4, 4), (4, 5), (4, 6), (4, 7), (4, 8), (4, 9), (4, 10), (4, 11), (5, 0), (5, 1), (5, 2), (5, 3), (5, 4), (5, 5), (5, 6), (5, 7), (5, 8), (5, 9), (5, 10), (5, 11), (6, 0), (6, 1), (6, 2), (6, 3), (6, 4), (6, 5), (6, 6), (6, 7), (6, 8), (6, 9), (6, 10), (6, 11), (7, 0), (7, 1), (7, 2), (7, 3), (7, 4), (7, 5), (7, 6), (7, 7), (7, 8), (7, 9), (7, 10), (7, 11), (8, 0), (8, 1), (8, 2), (8, 3), (8, 4), (8, 5), (8, 6), (8, 7), (8, 8), (8, 9), (8, 10), (8, 11), (9, 0), (9, 1), (9, 2), (9, 3), (9, 4), (9, 5), (9, 6), (9, 7), (9, 8), (9, 9), (9, 10), (9, 11), (10, 0), (10, 1), (10, 2), (10, 3), (10, 4), (10, 5), (10, 6), (10, 7), (10, 8), (10, 9), (10, 10), (10, 11), (11, 0), (11, 1), (11, 2), (11, 3), (11, 4), (11, 5), (11, 6), (11, 7), (11, 8), (11, 9), (11, 10), (11, 11)}\n",
            "    x_index_0 : Size=1, Index=None, Ordered=Insertion\n",
            "        Key  : Dimen : Domain : Size : Members\n",
            "        None :     1 :    Any :   12 : {0, 1, 2, 3, 4, 5, 6, 7, 8, 9, 10, 11}\n",
            "    x_index_1 : Size=1, Index=None, Ordered=Insertion\n",
            "        Key  : Dimen : Domain : Size : Members\n",
            "        None :     1 :    Any :   12 : {0, 1, 2, 3, 4, 5, 6, 7, 8, 9, 10, 11}\n",
            "\n",
            "1 Var Declarations\n",
            "    x : Size=144, Index=x_index\n",
            "        Key      : Lower : Value : Upper : Fixed : Stale : Domain\n",
            "          (0, 0) :     0 :   0.0 :  None : False : False : NonNegativeReals\n",
            "          (0, 1) :     0 :   0.0 :  None : False : False : NonNegativeReals\n",
            "          (0, 2) :     0 :   0.0 :  None : False : False : NonNegativeReals\n",
            "          (0, 3) :     0 :   0.0 :  None : False : False : NonNegativeReals\n",
            "          (0, 4) :     0 :   0.0 :  None : False : False : NonNegativeReals\n",
            "          (0, 5) :     0 :   0.0 :  None : False : False : NonNegativeReals\n",
            "          (0, 6) :     0 :   0.0 :  None : False : False : NonNegativeReals\n",
            "          (0, 7) :     0 :   0.0 :  None : False : False : NonNegativeReals\n",
            "          (0, 8) :     0 :   0.0 :  None : False : False : NonNegativeReals\n",
            "          (0, 9) :     0 :   0.0 :  None : False : False : NonNegativeReals\n",
            "         (0, 10) :     0 :   1.0 :  None : False : False : NonNegativeReals\n",
            "         (0, 11) :     0 :   0.0 :  None : False : False : NonNegativeReals\n",
            "          (1, 0) :     0 :   0.0 :  None : False : False : NonNegativeReals\n",
            "          (1, 1) :     0 :   0.0 :  None : False : False : NonNegativeReals\n",
            "          (1, 2) :     0 :   0.0 :  None : False : False : NonNegativeReals\n",
            "          (1, 3) :     0 :   0.0 :  None : False : False : NonNegativeReals\n",
            "          (1, 4) :     0 :   0.0 :  None : False : False : NonNegativeReals\n",
            "          (1, 5) :     0 :   0.0 :  None : False : False : NonNegativeReals\n",
            "          (1, 6) :     0 :   0.0 :  None : False : False : NonNegativeReals\n",
            "          (1, 7) :     0 :   0.0 :  None : False : False : NonNegativeReals\n",
            "          (1, 8) :     0 :   1.0 :  None : False : False : NonNegativeReals\n",
            "          (1, 9) :     0 :   0.0 :  None : False : False : NonNegativeReals\n",
            "         (1, 10) :     0 :   0.0 :  None : False : False : NonNegativeReals\n",
            "         (1, 11) :     0 :   0.0 :  None : False : False : NonNegativeReals\n",
            "          (2, 0) :     0 :   0.0 :  None : False : False : NonNegativeReals\n",
            "          (2, 1) :     0 :   0.0 :  None : False : False : NonNegativeReals\n",
            "          (2, 2) :     0 :   0.0 :  None : False : False : NonNegativeReals\n",
            "          (2, 3) :     0 :   0.0 :  None : False : False : NonNegativeReals\n",
            "          (2, 4) :     0 :   0.0 :  None : False : False : NonNegativeReals\n",
            "          (2, 5) :     0 :   0.0 :  None : False : False : NonNegativeReals\n",
            "          (2, 6) :     0 :   0.0 :  None : False : False : NonNegativeReals\n",
            "          (2, 7) :     0 :   1.0 :  None : False : False : NonNegativeReals\n",
            "          (2, 8) :     0 :   0.0 :  None : False : False : NonNegativeReals\n",
            "          (2, 9) :     0 :   0.0 :  None : False : False : NonNegativeReals\n",
            "         (2, 10) :     0 :   0.0 :  None : False : False : NonNegativeReals\n",
            "         (2, 11) :     0 :   0.0 :  None : False : False : NonNegativeReals\n",
            "          (3, 0) :     0 :   0.0 :  None : False : False : NonNegativeReals\n",
            "          (3, 1) :     0 :   0.0 :  None : False : False : NonNegativeReals\n",
            "          (3, 2) :     0 :   0.0 :  None : False : False : NonNegativeReals\n",
            "          (3, 3) :     0 :   0.0 :  None : False : False : NonNegativeReals\n",
            "          (3, 4) :     0 :   0.0 :  None : False : False : NonNegativeReals\n",
            "          (3, 5) :     0 :   1.0 :  None : False : False : NonNegativeReals\n",
            "          (3, 6) :     0 :   0.0 :  None : False : False : NonNegativeReals\n",
            "          (3, 7) :     0 :   0.0 :  None : False : False : NonNegativeReals\n",
            "          (3, 8) :     0 :   0.0 :  None : False : False : NonNegativeReals\n",
            "          (3, 9) :     0 :   0.0 :  None : False : False : NonNegativeReals\n",
            "         (3, 10) :     0 :   0.0 :  None : False : False : NonNegativeReals\n",
            "         (3, 11) :     0 :   0.0 :  None : False : False : NonNegativeReals\n",
            "          (4, 0) :     0 :   0.0 :  None : False : False : NonNegativeReals\n",
            "          (4, 1) :     0 :   0.0 :  None : False : False : NonNegativeReals\n",
            "          (4, 2) :     0 :   1.0 :  None : False : False : NonNegativeReals\n",
            "          (4, 3) :     0 :   0.0 :  None : False : False : NonNegativeReals\n",
            "          (4, 4) :     0 :   0.0 :  None : False : False : NonNegativeReals\n",
            "          (4, 5) :     0 :   0.0 :  None : False : False : NonNegativeReals\n",
            "          (4, 6) :     0 :   0.0 :  None : False : False : NonNegativeReals\n",
            "          (4, 7) :     0 :   0.0 :  None : False : False : NonNegativeReals\n",
            "          (4, 8) :     0 :   0.0 :  None : False : False : NonNegativeReals\n",
            "          (4, 9) :     0 :   0.0 :  None : False : False : NonNegativeReals\n",
            "         (4, 10) :     0 :   0.0 :  None : False : False : NonNegativeReals\n",
            "         (4, 11) :     0 :   0.0 :  None : False : False : NonNegativeReals\n",
            "          (5, 0) :     0 :   0.0 :  None : False : False : NonNegativeReals\n",
            "          (5, 1) :     0 :   0.0 :  None : False : False : NonNegativeReals\n",
            "          (5, 2) :     0 :   0.0 :  None : False : False : NonNegativeReals\n",
            "          (5, 3) :     0 :   0.0 :  None : False : False : NonNegativeReals\n",
            "          (5, 4) :     0 :   0.0 :  None : False : False : NonNegativeReals\n",
            "          (5, 5) :     0 :   0.0 :  None : False : False : NonNegativeReals\n",
            "          (5, 6) :     0 :   0.0 :  None : False : False : NonNegativeReals\n",
            "          (5, 7) :     0 :   0.0 :  None : False : False : NonNegativeReals\n",
            "          (5, 8) :     0 :   0.0 :  None : False : False : NonNegativeReals\n",
            "          (5, 9) :     0 :   0.0 :  None : False : False : NonNegativeReals\n",
            "         (5, 10) :     0 :   0.0 :  None : False : False : NonNegativeReals\n",
            "         (5, 11) :     0 :   1.0 :  None : False : False : NonNegativeReals\n",
            "          (6, 0) :     0 :   0.0 :  None : False : False : NonNegativeReals\n",
            "          (6, 1) :     0 :   0.0 :  None : False : False : NonNegativeReals\n",
            "          (6, 2) :     0 :   0.0 :  None : False : False : NonNegativeReals\n",
            "          (6, 3) :     0 :   0.0 :  None : False : False : NonNegativeReals\n",
            "          (6, 4) :     0 :   0.0 :  None : False : False : NonNegativeReals\n",
            "          (6, 5) :     0 :   0.0 :  None : False : False : NonNegativeReals\n",
            "          (6, 6) :     0 :   1.0 :  None : False : False : NonNegativeReals\n",
            "          (6, 7) :     0 :   0.0 :  None : False : False : NonNegativeReals\n",
            "          (6, 8) :     0 :   0.0 :  None : False : False : NonNegativeReals\n",
            "          (6, 9) :     0 :   0.0 :  None : False : False : NonNegativeReals\n",
            "         (6, 10) :     0 :   0.0 :  None : False : False : NonNegativeReals\n",
            "         (6, 11) :     0 :   0.0 :  None : False : False : NonNegativeReals\n",
            "          (7, 0) :     0 :   0.0 :  None : False : False : NonNegativeReals\n",
            "          (7, 1) :     0 :   0.0 :  None : False : False : NonNegativeReals\n",
            "          (7, 2) :     0 :   0.0 :  None : False : False : NonNegativeReals\n",
            "          (7, 3) :     0 :   1.0 :  None : False : False : NonNegativeReals\n",
            "          (7, 4) :     0 :   0.0 :  None : False : False : NonNegativeReals\n",
            "          (7, 5) :     0 :   0.0 :  None : False : False : NonNegativeReals\n",
            "          (7, 6) :     0 :   0.0 :  None : False : False : NonNegativeReals\n",
            "          (7, 7) :     0 :   0.0 :  None : False : False : NonNegativeReals\n",
            "          (7, 8) :     0 :   0.0 :  None : False : False : NonNegativeReals\n",
            "          (7, 9) :     0 :   0.0 :  None : False : False : NonNegativeReals\n",
            "         (7, 10) :     0 :   0.0 :  None : False : False : NonNegativeReals\n",
            "         (7, 11) :     0 :   0.0 :  None : False : False : NonNegativeReals\n",
            "          (8, 0) :     0 :   0.0 :  None : False : False : NonNegativeReals\n",
            "          (8, 1) :     0 :   0.0 :  None : False : False : NonNegativeReals\n",
            "          (8, 2) :     0 :   0.0 :  None : False : False : NonNegativeReals\n",
            "          (8, 3) :     0 :   0.0 :  None : False : False : NonNegativeReals\n",
            "          (8, 4) :     0 :   0.0 :  None : False : False : NonNegativeReals\n",
            "          (8, 5) :     0 :   0.0 :  None : False : False : NonNegativeReals\n",
            "          (8, 6) :     0 :   0.0 :  None : False : False : NonNegativeReals\n",
            "          (8, 7) :     0 :   0.0 :  None : False : False : NonNegativeReals\n",
            "          (8, 8) :     0 :   0.0 :  None : False : False : NonNegativeReals\n",
            "          (8, 9) :     0 :   1.0 :  None : False : False : NonNegativeReals\n",
            "         (8, 10) :     0 :   0.0 :  None : False : False : NonNegativeReals\n",
            "         (8, 11) :     0 :   0.0 :  None : False : False : NonNegativeReals\n",
            "          (9, 0) :     0 :   1.0 :  None : False : False : NonNegativeReals\n",
            "          (9, 1) :     0 :   0.0 :  None : False : False : NonNegativeReals\n",
            "          (9, 2) :     0 :   0.0 :  None : False : False : NonNegativeReals\n",
            "          (9, 3) :     0 :   0.0 :  None : False : False : NonNegativeReals\n",
            "          (9, 4) :     0 :   0.0 :  None : False : False : NonNegativeReals\n",
            "          (9, 5) :     0 :   0.0 :  None : False : False : NonNegativeReals\n",
            "          (9, 6) :     0 :   0.0 :  None : False : False : NonNegativeReals\n",
            "          (9, 7) :     0 :   0.0 :  None : False : False : NonNegativeReals\n",
            "          (9, 8) :     0 :   0.0 :  None : False : False : NonNegativeReals\n",
            "          (9, 9) :     0 :   0.0 :  None : False : False : NonNegativeReals\n",
            "         (9, 10) :     0 :   0.0 :  None : False : False : NonNegativeReals\n",
            "         (9, 11) :     0 :   0.0 :  None : False : False : NonNegativeReals\n",
            "         (10, 0) :     0 :   0.0 :  None : False : False : NonNegativeReals\n",
            "         (10, 1) :     0 :   1.0 :  None : False : False : NonNegativeReals\n",
            "         (10, 2) :     0 :   0.0 :  None : False : False : NonNegativeReals\n",
            "         (10, 3) :     0 :   0.0 :  None : False : False : NonNegativeReals\n",
            "         (10, 4) :     0 :   0.0 :  None : False : False : NonNegativeReals\n",
            "         (10, 5) :     0 :   0.0 :  None : False : False : NonNegativeReals\n",
            "         (10, 6) :     0 :   0.0 :  None : False : False : NonNegativeReals\n",
            "         (10, 7) :     0 :   0.0 :  None : False : False : NonNegativeReals\n",
            "         (10, 8) :     0 :   0.0 :  None : False : False : NonNegativeReals\n",
            "         (10, 9) :     0 :   0.0 :  None : False : False : NonNegativeReals\n",
            "        (10, 10) :     0 :   0.0 :  None : False : False : NonNegativeReals\n",
            "        (10, 11) :     0 :   0.0 :  None : False : False : NonNegativeReals\n",
            "         (11, 0) :     0 :   0.0 :  None : False : False : NonNegativeReals\n",
            "         (11, 1) :     0 :   0.0 :  None : False : False : NonNegativeReals\n",
            "         (11, 2) :     0 :   0.0 :  None : False : False : NonNegativeReals\n",
            "         (11, 3) :     0 :   0.0 :  None : False : False : NonNegativeReals\n",
            "         (11, 4) :     0 :   1.0 :  None : False : False : NonNegativeReals\n",
            "         (11, 5) :     0 :   0.0 :  None : False : False : NonNegativeReals\n",
            "         (11, 6) :     0 :   0.0 :  None : False : False : NonNegativeReals\n",
            "         (11, 7) :     0 :   0.0 :  None : False : False : NonNegativeReals\n",
            "         (11, 8) :     0 :   0.0 :  None : False : False : NonNegativeReals\n",
            "         (11, 9) :     0 :   0.0 :  None : False : False : NonNegativeReals\n",
            "        (11, 10) :     0 :   0.0 :  None : False : False : NonNegativeReals\n",
            "        (11, 11) :     0 :   0.0 :  None : False : False : NonNegativeReals\n",
            "\n",
            "1 Objective Declarations\n",
            "    objective : Size=1, Index=None, Active=True\n",
            "        Key  : Active : Sense    : Expression\n",
            "        None :   True : minimize : 21.0*x[0,0] + 25.0*x[0,1] + 18.0*x[0,2] + 19.0*x[0,3] + 23.0*x[0,4] + 24.0*x[0,5] + 16.0*x[0,6] + 17.0*x[0,7] + 21.0*x[0,8] + 23.0*x[0,9] + 19.0*x[0,10] + 21.0*x[0,11] + 19.0*x[1,0] + 22.0*x[1,1] + 19.0*x[1,2] + 19.0*x[1,3] + 23.0*x[1,4] + 21.0*x[1,5] + 15.0*x[1,6] + 20.0*x[1,7] + 16.0*x[1,8] + 17.0*x[1,9] + 17.0*x[1,10] + 24.0*x[1,11] + 21.0*x[2,0] + 19.0*x[2,1] + 20.0*x[2,2] + 18.0*x[2,3] + 22.0*x[2,4] + 24.0*x[2,5] + 14.0*x[2,6] + 16.0*x[2,7] + 18.0*x[2,8] + 16.0*x[2,9] + 20.0*x[2,10] + 24.0*x[2,11] + 19.0*x[3,0] + 22.0*x[3,1] + 17.0*x[3,2] + 17.0*x[3,3] + 22.0*x[3,4] + 22.0*x[3,5] + 18.0*x[3,6] + 18.0*x[3,7] + 20.0*x[3,8] + 21.0*x[3,9] + 23.0*x[3,10] + 23.0*x[3,11] + 18.0*x[4,0] + 22.0*x[4,1] + 15.0*x[4,2] + 15.0*x[4,3] + 23.0*x[4,4] + 23.0*x[4,5] + 21.0*x[4,6] + 25.0*x[4,7] + 24.0*x[4,8] + 19.0*x[4,9] + 21.0*x[4,10] + 23.0*x[4,11] + 23.0*x[5,0] + 19.0*x[5,1] + 19.0*x[5,2] + 14.0*x[5,3] + 24.0*x[5,4] + 21.0*x[5,5] + 23.0*x[5,6] + 21.0*x[5,7] + 20.0*x[5,8] + 20.0*x[5,9] + 22.0*x[5,10] + 19.0*x[5,11] + 21.0*x[6,0] + 16.0*x[6,1] + 27.0*x[6,2] + 17.0*x[6,3] + 26.0*x[6,4] + 27.0*x[6,5] + 16.0*x[6,6] + 19.0*x[6,7] + 24.0*x[6,8] + 20.0*x[6,9] + 20.0*x[6,10] + 23.0*x[6,11] + 22.0*x[7,0] + 17.0*x[7,1] + 21.0*x[7,2] + 15.0*x[7,3] + 23.0*x[7,4] + 24.0*x[7,5] + 24.0*x[7,6] + 20.0*x[7,7] + 22.0*x[7,8] + 19.0*x[7,9] + 23.0*x[7,10] + 21.0*x[7,11] + 23.0*x[8,0] + 24.0*x[8,1] + 18.0*x[8,2] + 19.0*x[8,3] + 22.0*x[8,4] + 23.0*x[8,5] + 21.0*x[8,6] + 18.0*x[8,7] + 23.0*x[8,8] + 15.0*x[8,9] + 25.0*x[8,10] + 21.0*x[8,11] + 18.0*x[9,0] + 21.0*x[9,1] + 21.0*x[9,2] + 18.0*x[9,3] + 26.0*x[9,4] + 24.0*x[9,5] + 18.0*x[9,6] + 17.0*x[9,7] + 18.0*x[9,8] + 20.0*x[9,9] + 21.0*x[9,10] + 20.0*x[9,11] + 19.0*x[10,0] + 12.0*x[10,1] + 21.0*x[10,2] + 19.0*x[10,3] + 23.0*x[10,4] + 20.0*x[10,5] + 22.0*x[10,6] + 19.0*x[10,7] + 17.0*x[10,8] + 19.0*x[10,9] + 20.0*x[10,10] + 24.0*x[10,11] + 18.0*x[11,0] + 22.0*x[11,1] + 24.0*x[11,2] + 17.0*x[11,3] + 21.0*x[11,4] + 28.0*x[11,5] + 18.0*x[11,6] + 16.0*x[11,7] + 22.0*x[11,8] + 24.0*x[11,9] + 25.0*x[11,10] + 24.0*x[11,11]\n",
            "\n",
            "1 Constraint Declarations\n",
            "    constraint : Size=24, Index=constraint_index, Active=True\n",
            "        Key : Lower : Body                                                                                                                    : Upper : Active\n",
            "          1 :   1.0 :             x[0,0] + x[0,1] + x[0,2] + x[0,3] + x[0,4] + x[0,5] + x[0,6] + x[0,7] + x[0,8] + x[0,9] + x[0,10] + x[0,11] :   1.0 :   True\n",
            "          2 :   1.0 :             x[1,0] + x[1,1] + x[1,2] + x[1,3] + x[1,4] + x[1,5] + x[1,6] + x[1,7] + x[1,8] + x[1,9] + x[1,10] + x[1,11] :   1.0 :   True\n",
            "          3 :   1.0 :             x[2,0] + x[2,1] + x[2,2] + x[2,3] + x[2,4] + x[2,5] + x[2,6] + x[2,7] + x[2,8] + x[2,9] + x[2,10] + x[2,11] :   1.0 :   True\n",
            "          4 :   1.0 :             x[3,0] + x[3,1] + x[3,2] + x[3,3] + x[3,4] + x[3,5] + x[3,6] + x[3,7] + x[3,8] + x[3,9] + x[3,10] + x[3,11] :   1.0 :   True\n",
            "          5 :   1.0 :             x[4,0] + x[4,1] + x[4,2] + x[4,3] + x[4,4] + x[4,5] + x[4,6] + x[4,7] + x[4,8] + x[4,9] + x[4,10] + x[4,11] :   1.0 :   True\n",
            "          6 :   1.0 :             x[5,0] + x[5,1] + x[5,2] + x[5,3] + x[5,4] + x[5,5] + x[5,6] + x[5,7] + x[5,8] + x[5,9] + x[5,10] + x[5,11] :   1.0 :   True\n",
            "          7 :   1.0 :             x[6,0] + x[6,1] + x[6,2] + x[6,3] + x[6,4] + x[6,5] + x[6,6] + x[6,7] + x[6,8] + x[6,9] + x[6,10] + x[6,11] :   1.0 :   True\n",
            "          8 :   1.0 :             x[7,0] + x[7,1] + x[7,2] + x[7,3] + x[7,4] + x[7,5] + x[7,6] + x[7,7] + x[7,8] + x[7,9] + x[7,10] + x[7,11] :   1.0 :   True\n",
            "          9 :   1.0 :             x[8,0] + x[8,1] + x[8,2] + x[8,3] + x[8,4] + x[8,5] + x[8,6] + x[8,7] + x[8,8] + x[8,9] + x[8,10] + x[8,11] :   1.0 :   True\n",
            "         10 :   1.0 :             x[9,0] + x[9,1] + x[9,2] + x[9,3] + x[9,4] + x[9,5] + x[9,6] + x[9,7] + x[9,8] + x[9,9] + x[9,10] + x[9,11] :   1.0 :   True\n",
            "         11 :   1.0 : x[10,0] + x[10,1] + x[10,2] + x[10,3] + x[10,4] + x[10,5] + x[10,6] + x[10,7] + x[10,8] + x[10,9] + x[10,10] + x[10,11] :   1.0 :   True\n",
            "         12 :   1.0 : x[11,0] + x[11,1] + x[11,2] + x[11,3] + x[11,4] + x[11,5] + x[11,6] + x[11,7] + x[11,8] + x[11,9] + x[11,10] + x[11,11] :   1.0 :   True\n",
            "         13 :   1.0 :             x[0,0] + x[1,0] + x[2,0] + x[3,0] + x[4,0] + x[5,0] + x[6,0] + x[7,0] + x[8,0] + x[9,0] + x[10,0] + x[11,0] :   1.0 :   True\n",
            "         14 :   1.0 :             x[0,1] + x[1,1] + x[2,1] + x[3,1] + x[4,1] + x[5,1] + x[6,1] + x[7,1] + x[8,1] + x[9,1] + x[10,1] + x[11,1] :   1.0 :   True\n",
            "         15 :   1.0 :             x[0,2] + x[1,2] + x[2,2] + x[3,2] + x[4,2] + x[5,2] + x[6,2] + x[7,2] + x[8,2] + x[9,2] + x[10,2] + x[11,2] :   1.0 :   True\n",
            "         16 :   1.0 :             x[0,3] + x[1,3] + x[2,3] + x[3,3] + x[4,3] + x[5,3] + x[6,3] + x[7,3] + x[8,3] + x[9,3] + x[10,3] + x[11,3] :   1.0 :   True\n",
            "         17 :   1.0 :             x[0,4] + x[1,4] + x[2,4] + x[3,4] + x[4,4] + x[5,4] + x[6,4] + x[7,4] + x[8,4] + x[9,4] + x[10,4] + x[11,4] :   1.0 :   True\n",
            "         18 :   1.0 :             x[0,5] + x[1,5] + x[2,5] + x[3,5] + x[4,5] + x[5,5] + x[6,5] + x[7,5] + x[8,5] + x[9,5] + x[10,5] + x[11,5] :   1.0 :   True\n",
            "         19 :   1.0 :             x[0,6] + x[1,6] + x[2,6] + x[3,6] + x[4,6] + x[5,6] + x[6,6] + x[7,6] + x[8,6] + x[9,6] + x[10,6] + x[11,6] :   1.0 :   True\n",
            "         20 :   1.0 :             x[0,7] + x[1,7] + x[2,7] + x[3,7] + x[4,7] + x[5,7] + x[6,7] + x[7,7] + x[8,7] + x[9,7] + x[10,7] + x[11,7] :   1.0 :   True\n",
            "         21 :   1.0 :             x[0,8] + x[1,8] + x[2,8] + x[3,8] + x[4,8] + x[5,8] + x[6,8] + x[7,8] + x[8,8] + x[9,8] + x[10,8] + x[11,8] :   1.0 :   True\n",
            "         22 :   1.0 :             x[0,9] + x[1,9] + x[2,9] + x[3,9] + x[4,9] + x[5,9] + x[6,9] + x[7,9] + x[8,9] + x[9,9] + x[10,9] + x[11,9] :   1.0 :   True\n",
            "         23 :   1.0 : x[0,10] + x[1,10] + x[2,10] + x[3,10] + x[4,10] + x[5,10] + x[6,10] + x[7,10] + x[8,10] + x[9,10] + x[10,10] + x[11,10] :   1.0 :   True\n",
            "         24 :   1.0 : x[0,11] + x[1,11] + x[2,11] + x[3,11] + x[4,11] + x[5,11] + x[6,11] + x[7,11] + x[8,11] + x[9,11] + x[10,11] + x[11,11] :   1.0 :   True\n",
            "\n",
            "7 Declarations: x_index_0 x_index_1 x_index x constraint_index constraint objective\n"
          ]
        }
      ]
    },
    {
      "cell_type": "code",
      "source": [
        "!apt-get install -y -qq coinor-cbc"
      ],
      "metadata": {
        "id": "ZerDDUsbndnH"
      },
      "execution_count": null,
      "outputs": []
    },
    {
      "cell_type": "code",
      "source": [
        "opt_cbc= SolverFactory('cbc',)"
      ],
      "metadata": {
        "id": "iN97OvkqpyiK"
      },
      "execution_count": null,
      "outputs": []
    },
    {
      "cell_type": "code",
      "source": [
        "result = opt_cbc.solve(model)\n",
        "print('solver statuas:',result.solver.status)\n",
        "print('solver termination condition:',result.solver.termination_condition)"
      ],
      "metadata": {
        "colab": {
          "base_uri": "https://localhost:8080/"
        },
        "id": "CaKQyEsoqCdg",
        "outputId": "93986a93-4879-426e-d4e5-8a7d52ffe658"
      },
      "execution_count": null,
      "outputs": [
        {
          "output_type": "stream",
          "name": "stdout",
          "text": [
            "solver statuas: ok\n",
            "solver termination condition: optimal\n"
          ]
        }
      ]
    },
    {
      "cell_type": "code",
      "source": [
        "#displaty solution\n",
        "print('\\nObjective=',model.objective())\n",
        "print('\\n decision variable')\n",
        "for i  in row_indices:\n",
        "  for j in col_indices:\n",
        "    print('Factory',i+1,'locate',j+1,':',model.x[i,j].value)\n",
        "print('\\nconstraint')\n",
        "model.constraint.display()\n"
      ],
      "metadata": {
        "colab": {
          "base_uri": "https://localhost:8080/"
        },
        "id": "tP2yhvoLqHuW",
        "outputId": "e18ffbc5-c6b3-4a07-f835-aeca787143bf"
      },
      "execution_count": null,
      "outputs": [
        {
          "output_type": "stream",
          "name": "stdout",
          "text": [
            "\n",
            "Objective= 204.0\n",
            "\n",
            " decision variable\n",
            "Factory 1 locate 1 : 0.0\n",
            "Factory 1 locate 2 : 0.0\n",
            "Factory 1 locate 3 : 0.0\n",
            "Factory 1 locate 4 : 0.0\n",
            "Factory 1 locate 5 : 0.0\n",
            "Factory 1 locate 6 : 0.0\n",
            "Factory 1 locate 7 : 0.0\n",
            "Factory 1 locate 8 : 0.0\n",
            "Factory 1 locate 9 : 0.0\n",
            "Factory 1 locate 10 : 0.0\n",
            "Factory 1 locate 11 : 1.0\n",
            "Factory 1 locate 12 : 0.0\n",
            "Factory 2 locate 1 : 0.0\n",
            "Factory 2 locate 2 : 0.0\n",
            "Factory 2 locate 3 : 0.0\n",
            "Factory 2 locate 4 : 0.0\n",
            "Factory 2 locate 5 : 0.0\n",
            "Factory 2 locate 6 : 0.0\n",
            "Factory 2 locate 7 : 0.0\n",
            "Factory 2 locate 8 : 0.0\n",
            "Factory 2 locate 9 : 1.0\n",
            "Factory 2 locate 10 : 0.0\n",
            "Factory 2 locate 11 : 0.0\n",
            "Factory 2 locate 12 : 0.0\n",
            "Factory 3 locate 1 : 0.0\n",
            "Factory 3 locate 2 : 0.0\n",
            "Factory 3 locate 3 : 0.0\n",
            "Factory 3 locate 4 : 0.0\n",
            "Factory 3 locate 5 : 0.0\n",
            "Factory 3 locate 6 : 0.0\n",
            "Factory 3 locate 7 : 0.0\n",
            "Factory 3 locate 8 : 1.0\n",
            "Factory 3 locate 9 : 0.0\n",
            "Factory 3 locate 10 : 0.0\n",
            "Factory 3 locate 11 : 0.0\n",
            "Factory 3 locate 12 : 0.0\n",
            "Factory 4 locate 1 : 0.0\n",
            "Factory 4 locate 2 : 0.0\n",
            "Factory 4 locate 3 : 0.0\n",
            "Factory 4 locate 4 : 0.0\n",
            "Factory 4 locate 5 : 0.0\n",
            "Factory 4 locate 6 : 1.0\n",
            "Factory 4 locate 7 : 0.0\n",
            "Factory 4 locate 8 : 0.0\n",
            "Factory 4 locate 9 : 0.0\n",
            "Factory 4 locate 10 : 0.0\n",
            "Factory 4 locate 11 : 0.0\n",
            "Factory 4 locate 12 : 0.0\n",
            "Factory 5 locate 1 : 0.0\n",
            "Factory 5 locate 2 : 0.0\n",
            "Factory 5 locate 3 : 1.0\n",
            "Factory 5 locate 4 : 0.0\n",
            "Factory 5 locate 5 : 0.0\n",
            "Factory 5 locate 6 : 0.0\n",
            "Factory 5 locate 7 : 0.0\n",
            "Factory 5 locate 8 : 0.0\n",
            "Factory 5 locate 9 : 0.0\n",
            "Factory 5 locate 10 : 0.0\n",
            "Factory 5 locate 11 : 0.0\n",
            "Factory 5 locate 12 : 0.0\n",
            "Factory 6 locate 1 : 0.0\n",
            "Factory 6 locate 2 : 0.0\n",
            "Factory 6 locate 3 : 0.0\n",
            "Factory 6 locate 4 : 0.0\n",
            "Factory 6 locate 5 : 0.0\n",
            "Factory 6 locate 6 : 0.0\n",
            "Factory 6 locate 7 : 0.0\n",
            "Factory 6 locate 8 : 0.0\n",
            "Factory 6 locate 9 : 0.0\n",
            "Factory 6 locate 10 : 0.0\n",
            "Factory 6 locate 11 : 0.0\n",
            "Factory 6 locate 12 : 1.0\n",
            "Factory 7 locate 1 : 0.0\n",
            "Factory 7 locate 2 : 0.0\n",
            "Factory 7 locate 3 : 0.0\n",
            "Factory 7 locate 4 : 0.0\n",
            "Factory 7 locate 5 : 0.0\n",
            "Factory 7 locate 6 : 0.0\n",
            "Factory 7 locate 7 : 1.0\n",
            "Factory 7 locate 8 : 0.0\n",
            "Factory 7 locate 9 : 0.0\n",
            "Factory 7 locate 10 : 0.0\n",
            "Factory 7 locate 11 : 0.0\n",
            "Factory 7 locate 12 : 0.0\n",
            "Factory 8 locate 1 : 0.0\n",
            "Factory 8 locate 2 : 0.0\n",
            "Factory 8 locate 3 : 0.0\n",
            "Factory 8 locate 4 : 1.0\n",
            "Factory 8 locate 5 : 0.0\n",
            "Factory 8 locate 6 : 0.0\n",
            "Factory 8 locate 7 : 0.0\n",
            "Factory 8 locate 8 : 0.0\n",
            "Factory 8 locate 9 : 0.0\n",
            "Factory 8 locate 10 : 0.0\n",
            "Factory 8 locate 11 : 0.0\n",
            "Factory 8 locate 12 : 0.0\n",
            "Factory 9 locate 1 : 0.0\n",
            "Factory 9 locate 2 : 0.0\n",
            "Factory 9 locate 3 : 0.0\n",
            "Factory 9 locate 4 : 0.0\n",
            "Factory 9 locate 5 : 0.0\n",
            "Factory 9 locate 6 : 0.0\n",
            "Factory 9 locate 7 : 0.0\n",
            "Factory 9 locate 8 : 0.0\n",
            "Factory 9 locate 9 : 0.0\n",
            "Factory 9 locate 10 : 1.0\n",
            "Factory 9 locate 11 : 0.0\n",
            "Factory 9 locate 12 : 0.0\n",
            "Factory 10 locate 1 : 1.0\n",
            "Factory 10 locate 2 : 0.0\n",
            "Factory 10 locate 3 : 0.0\n",
            "Factory 10 locate 4 : 0.0\n",
            "Factory 10 locate 5 : 0.0\n",
            "Factory 10 locate 6 : 0.0\n",
            "Factory 10 locate 7 : 0.0\n",
            "Factory 10 locate 8 : 0.0\n",
            "Factory 10 locate 9 : 0.0\n",
            "Factory 10 locate 10 : 0.0\n",
            "Factory 10 locate 11 : 0.0\n",
            "Factory 10 locate 12 : 0.0\n",
            "Factory 11 locate 1 : 0.0\n",
            "Factory 11 locate 2 : 1.0\n",
            "Factory 11 locate 3 : 0.0\n",
            "Factory 11 locate 4 : 0.0\n",
            "Factory 11 locate 5 : 0.0\n",
            "Factory 11 locate 6 : 0.0\n",
            "Factory 11 locate 7 : 0.0\n",
            "Factory 11 locate 8 : 0.0\n",
            "Factory 11 locate 9 : 0.0\n",
            "Factory 11 locate 10 : 0.0\n",
            "Factory 11 locate 11 : 0.0\n",
            "Factory 11 locate 12 : 0.0\n",
            "Factory 12 locate 1 : 0.0\n",
            "Factory 12 locate 2 : 0.0\n",
            "Factory 12 locate 3 : 0.0\n",
            "Factory 12 locate 4 : 0.0\n",
            "Factory 12 locate 5 : 1.0\n",
            "Factory 12 locate 6 : 0.0\n",
            "Factory 12 locate 7 : 0.0\n",
            "Factory 12 locate 8 : 0.0\n",
            "Factory 12 locate 9 : 0.0\n",
            "Factory 12 locate 10 : 0.0\n",
            "Factory 12 locate 11 : 0.0\n",
            "Factory 12 locate 12 : 0.0\n",
            "\n",
            "constraint\n",
            "constraint : Size=24\n",
            "    Key : Lower : Body : Upper\n",
            "      1 :   1.0 :  1.0 :   1.0\n",
            "      2 :   1.0 :  1.0 :   1.0\n",
            "      3 :   1.0 :  1.0 :   1.0\n",
            "      4 :   1.0 :  1.0 :   1.0\n",
            "      5 :   1.0 :  1.0 :   1.0\n",
            "      6 :   1.0 :  1.0 :   1.0\n",
            "      7 :   1.0 :  1.0 :   1.0\n",
            "      8 :   1.0 :  1.0 :   1.0\n",
            "      9 :   1.0 :  1.0 :   1.0\n",
            "     10 :   1.0 :  1.0 :   1.0\n",
            "     11 :   1.0 :  1.0 :   1.0\n",
            "     12 :   1.0 :  1.0 :   1.0\n",
            "     13 :   1.0 :  1.0 :   1.0\n",
            "     14 :   1.0 :  1.0 :   1.0\n",
            "     15 :   1.0 :  1.0 :   1.0\n",
            "     16 :   1.0 :  1.0 :   1.0\n",
            "     17 :   1.0 :  1.0 :   1.0\n",
            "     18 :   1.0 :  1.0 :   1.0\n",
            "     19 :   1.0 :  1.0 :   1.0\n",
            "     20 :   1.0 :  1.0 :   1.0\n",
            "     21 :   1.0 :  1.0 :   1.0\n",
            "     22 :   1.0 :  1.0 :   1.0\n",
            "     23 :   1.0 :  1.0 :   1.0\n",
            "     24 :   1.0 :  1.0 :   1.0\n"
          ]
        }
      ]
    },
    {
      "cell_type": "markdown",
      "source": [
        "9)\n",
        "the cost are\n",
        " 204.0\n",
        "Factory 1 locate 11 : 1.0\n",
        "\n",
        "\n",
        "Factory 2 locate 9 : 1.0\n",
        "\n",
        "\n",
        "Factory 3 locate 8 : 1.0\n",
        "\n",
        "\n",
        "Factory 4 locate 6 : 1.0\n",
        "\n",
        "Factory 5 locate 3 : 1.0\n",
        "\n",
        "Factory 6 locate 12 : 1.0\n",
        "\n",
        "Factory 7 locate 7 : 1.0\n",
        "\n",
        "Factory 8 locate 4 : 1.0\n",
        "\n",
        "\n",
        "Factory 9 locate 10 : 1.0\n",
        "\n",
        "Factory 10 locate 1 : 1.0\n",
        "\n",
        "\n",
        "Factory 11 locate 2 : 1.0\n",
        "\n",
        "\n",
        "Factory 12 locate 5 : 1.0\n",
        "\n",
        "\n"
      ],
      "metadata": {
        "id": "Js7-o6OifdZ9"
      }
    },
    {
      "cell_type": "markdown",
      "source": [
        "10) yes,the optimal cost both problem are same,\n",
        "yes,\n",
        "the values of the variables stil interger ,\n",
        "in this problem lp and interger solution are intersetion together therefor \n",
        "the values of the variables stil interge in this case (but other case is maye be different value )\n",
        "\n",
        "\n",
        "\n",
        "\n",
        "\n"
      ],
      "metadata": {
        "id": "kx9G9oZpYsue"
      }
    },
    {
      "cell_type": "markdown",
      "source": [
        "12)facility 3 cannot be assigned to location 4, facility\n",
        "9 cannot be assigned to location 6 and facility 4 cannot be assigned to location 10, \n",
        "# then this all route take large value , this minimization problem then dose't change the optmial cost\n",
        "\n",
        "\n"
      ],
      "metadata": {
        "id": "lgp5j4agUxPB"
      }
    },
    {
      "cell_type": "code",
      "source": [
        "\n",
        "df[2,3]=200000\n",
        "df[8,5]=300000\n",
        "df[3,9]=500000"
      ],
      "metadata": {
        "id": "EKHQogCQtf0d"
      },
      "execution_count": null,
      "outputs": []
    },
    {
      "cell_type": "code",
      "source": [],
      "metadata": {
        "id": "Hz_4MbgNUw6y"
      },
      "execution_count": null,
      "outputs": []
    },
    {
      "cell_type": "code",
      "source": [
        "df"
      ],
      "metadata": {
        "id": "E1z_NAJLtw_2",
        "colab": {
          "base_uri": "https://localhost:8080/"
        },
        "outputId": "b7f631c5-5e45-4f69-a45a-3655785b6f47"
      },
      "execution_count": null,
      "outputs": [
        {
          "output_type": "execute_result",
          "data": {
            "text/plain": [
              "array([[2.1e+01, 2.5e+01, 1.8e+01, 1.9e+01, 2.3e+01, 2.4e+01, 1.6e+01,\n",
              "        1.7e+01, 2.1e+01, 2.3e+01, 1.9e+01, 2.1e+01],\n",
              "       [1.9e+01, 2.2e+01, 1.9e+01, 1.9e+01, 2.3e+01, 2.1e+01, 1.5e+01,\n",
              "        2.0e+01, 1.6e+01, 1.7e+01, 1.7e+01, 2.4e+01],\n",
              "       [2.1e+01, 1.9e+01, 2.0e+01, 2.0e+05, 2.2e+01, 2.4e+01, 1.4e+01,\n",
              "        1.6e+01, 1.8e+01, 1.6e+01, 2.0e+01, 2.4e+01],\n",
              "       [1.9e+01, 2.2e+01, 1.7e+01, 1.7e+01, 2.2e+01, 2.2e+01, 1.8e+01,\n",
              "        1.8e+01, 2.0e+01, 5.0e+05, 2.3e+01, 2.3e+01],\n",
              "       [1.8e+01, 2.2e+01, 1.5e+01, 1.5e+01, 2.3e+01, 2.3e+01, 2.1e+01,\n",
              "        2.5e+01, 2.4e+01, 1.9e+01, 2.1e+01, 2.3e+01],\n",
              "       [2.3e+01, 1.9e+01, 1.9e+01, 1.4e+01, 2.4e+01, 2.1e+01, 2.3e+01,\n",
              "        2.1e+01, 2.0e+01, 2.0e+01, 2.2e+01, 1.9e+01],\n",
              "       [2.1e+01, 1.6e+01, 2.7e+01, 1.7e+01, 2.6e+01, 2.7e+01, 1.6e+01,\n",
              "        1.9e+01, 2.4e+01, 2.0e+01, 2.0e+01, 2.3e+01],\n",
              "       [2.2e+01, 1.7e+01, 2.1e+01, 1.5e+01, 2.3e+01, 2.4e+01, 2.4e+01,\n",
              "        2.0e+01, 2.2e+01, 1.9e+01, 2.3e+01, 2.1e+01],\n",
              "       [2.3e+01, 2.4e+01, 1.8e+01, 1.9e+01, 2.2e+01, 3.0e+05, 2.1e+01,\n",
              "        1.8e+01, 2.3e+01, 1.5e+01, 2.5e+01, 2.1e+01],\n",
              "       [1.8e+01, 2.1e+01, 2.1e+01, 1.8e+01, 2.6e+01, 2.4e+01, 1.8e+01,\n",
              "        1.7e+01, 1.8e+01, 2.0e+01, 2.1e+01, 2.0e+01],\n",
              "       [1.9e+01, 1.2e+01, 2.1e+01, 1.9e+01, 2.3e+01, 2.0e+01, 2.2e+01,\n",
              "        1.9e+01, 1.7e+01, 1.9e+01, 2.0e+01, 2.4e+01],\n",
              "       [1.8e+01, 2.2e+01, 2.4e+01, 1.7e+01, 2.1e+01, 2.8e+01, 1.8e+01,\n",
              "        1.6e+01, 2.2e+01, 2.4e+01, 2.5e+01, 2.4e+01]])"
            ]
          },
          "metadata": {},
          "execution_count": 92
        }
      ]
    },
    {
      "cell_type": "code",
      "source": [
        "#N=len(data_file.columns)-1"
      ],
      "metadata": {
        "id": "IrdzK-pkvRwN"
      },
      "execution_count": null,
      "outputs": []
    },
    {
      "cell_type": "code",
      "source": [
        "#model=ConcreteModel()"
      ],
      "metadata": {
        "id": "7WjZDr3Svp5-"
      },
      "execution_count": null,
      "outputs": []
    },
    {
      "cell_type": "code",
      "source": [
        "#model.constraint=ConstraintList()"
      ],
      "metadata": {
        "id": "-SRo8a_ixB3w"
      },
      "execution_count": null,
      "outputs": []
    },
    {
      "cell_type": "code",
      "source": [
        "row_indices=range(M)\n",
        "col_indices=range(N)"
      ],
      "metadata": {
        "id": "RYtHpTWtvqAw"
      },
      "execution_count": null,
      "outputs": []
    },
    {
      "cell_type": "code",
      "source": [
        "model.x.domain = Binary"
      ],
      "metadata": {
        "id": "TDmevARCvqJM"
      },
      "execution_count": null,
      "outputs": []
    },
    {
      "cell_type": "code",
      "source": [
        "model.objective.deactivate()"
      ],
      "metadata": {
        "id": "kVkVFfYrzAjL"
      },
      "execution_count": null,
      "outputs": []
    },
    {
      "cell_type": "code",
      "source": [
        "model.objective = Objective(expr=sum(model.x[i,j]*df[i,j] for i in row_indices for j in col_indices),sense=minimize)"
      ],
      "metadata": {
        "id": "HxWh5H6Cv-VT",
        "colab": {
          "base_uri": "https://localhost:8080/"
        },
        "outputId": "61d76ee9-eeb1-4f88-8180-d8bc8a8dd40f"
      },
      "execution_count": null,
      "outputs": [
        {
          "output_type": "stream",
          "name": "stderr",
          "text": [
            "WARNING:pyomo.core:Implicitly replacing the Component attribute objective (type=<class 'pyomo.core.base.objective.ScalarObjective'>) on block unknown with a new Component (type=<class 'pyomo.core.base.objective.ScalarObjective'>).\n",
            "This is usually indicative of a modelling error.\n",
            "To avoid this warning, use block.del_component() and block.add_component().\n"
          ]
        }
      ]
    },
    {
      "cell_type": "code",
      "source": [
        "#for i in range(len(row_indices)):\n",
        " # model.constraint.add(expr = sum(model.x[i,j] for j in col_indices)==1)"
      ],
      "metadata": {
        "id": "Xfnarmj2wClI"
      },
      "execution_count": null,
      "outputs": []
    },
    {
      "cell_type": "code",
      "source": [
        "#for i in range(len(row_indices)):\n",
        " # model.constraint.add(expr = sum(model.x[i,j] for j in col_indices)==1)"
      ],
      "metadata": {
        "id": "7fxeREAowy99"
      },
      "execution_count": null,
      "outputs": []
    },
    {
      "cell_type": "code",
      "source": [
        "model.pprint()"
      ],
      "metadata": {
        "id": "UUfoBVbKwCqj",
        "colab": {
          "base_uri": "https://localhost:8080/"
        },
        "outputId": "486e8a2e-89b6-4a0e-916f-8f39462d8d41"
      },
      "execution_count": null,
      "outputs": [
        {
          "output_type": "stream",
          "name": "stdout",
          "text": [
            "4 Set Declarations\n",
            "    constraint_index : Size=1, Index=None, Ordered=Insertion\n",
            "        Key  : Dimen : Domain : Size : Members\n",
            "        None :     1 :    Any :   24 : {1, 2, 3, 4, 5, 6, 7, 8, 9, 10, 11, 12, 13, 14, 15, 16, 17, 18, 19, 20, 21, 22, 23, 24}\n",
            "    x_index : Size=1, Index=None, Ordered=True\n",
            "        Key  : Dimen : Domain              : Size : Members\n",
            "        None :     2 : x_index_0*x_index_1 :  144 : {(0, 0), (0, 1), (0, 2), (0, 3), (0, 4), (0, 5), (0, 6), (0, 7), (0, 8), (0, 9), (0, 10), (0, 11), (1, 0), (1, 1), (1, 2), (1, 3), (1, 4), (1, 5), (1, 6), (1, 7), (1, 8), (1, 9), (1, 10), (1, 11), (2, 0), (2, 1), (2, 2), (2, 3), (2, 4), (2, 5), (2, 6), (2, 7), (2, 8), (2, 9), (2, 10), (2, 11), (3, 0), (3, 1), (3, 2), (3, 3), (3, 4), (3, 5), (3, 6), (3, 7), (3, 8), (3, 9), (3, 10), (3, 11), (4, 0), (4, 1), (4, 2), (4, 3), (4, 4), (4, 5), (4, 6), (4, 7), (4, 8), (4, 9), (4, 10), (4, 11), (5, 0), (5, 1), (5, 2), (5, 3), (5, 4), (5, 5), (5, 6), (5, 7), (5, 8), (5, 9), (5, 10), (5, 11), (6, 0), (6, 1), (6, 2), (6, 3), (6, 4), (6, 5), (6, 6), (6, 7), (6, 8), (6, 9), (6, 10), (6, 11), (7, 0), (7, 1), (7, 2), (7, 3), (7, 4), (7, 5), (7, 6), (7, 7), (7, 8), (7, 9), (7, 10), (7, 11), (8, 0), (8, 1), (8, 2), (8, 3), (8, 4), (8, 5), (8, 6), (8, 7), (8, 8), (8, 9), (8, 10), (8, 11), (9, 0), (9, 1), (9, 2), (9, 3), (9, 4), (9, 5), (9, 6), (9, 7), (9, 8), (9, 9), (9, 10), (9, 11), (10, 0), (10, 1), (10, 2), (10, 3), (10, 4), (10, 5), (10, 6), (10, 7), (10, 8), (10, 9), (10, 10), (10, 11), (11, 0), (11, 1), (11, 2), (11, 3), (11, 4), (11, 5), (11, 6), (11, 7), (11, 8), (11, 9), (11, 10), (11, 11)}\n",
            "    x_index_0 : Size=1, Index=None, Ordered=Insertion\n",
            "        Key  : Dimen : Domain : Size : Members\n",
            "        None :     1 :    Any :   12 : {0, 1, 2, 3, 4, 5, 6, 7, 8, 9, 10, 11}\n",
            "    x_index_1 : Size=1, Index=None, Ordered=Insertion\n",
            "        Key  : Dimen : Domain : Size : Members\n",
            "        None :     1 :    Any :   12 : {0, 1, 2, 3, 4, 5, 6, 7, 8, 9, 10, 11}\n",
            "\n",
            "1 Var Declarations\n",
            "    x : Size=144, Index=x_index\n",
            "        Key      : Lower : Value : Upper : Fixed : Stale : Domain\n",
            "          (0, 0) :     0 :   0.0 :     1 : False : False : Binary\n",
            "          (0, 1) :     0 :   0.0 :     1 : False : False : Binary\n",
            "          (0, 2) :     0 :   0.0 :     1 : False : False : Binary\n",
            "          (0, 3) :     0 :   0.0 :     1 : False : False : Binary\n",
            "          (0, 4) :     0 :   0.0 :     1 : False : False : Binary\n",
            "          (0, 5) :     0 :   0.0 :     1 : False : False : Binary\n",
            "          (0, 6) :     0 :   0.0 :     1 : False : False : Binary\n",
            "          (0, 7) :     0 :   0.0 :     1 : False : False : Binary\n",
            "          (0, 8) :     0 :   0.0 :     1 : False : False : Binary\n",
            "          (0, 9) :     0 :   0.0 :     1 : False : False : Binary\n",
            "         (0, 10) :     0 :   1.0 :     1 : False : False : Binary\n",
            "         (0, 11) :     0 :   0.0 :     1 : False : False : Binary\n",
            "          (1, 0) :     0 :   0.0 :     1 : False : False : Binary\n",
            "          (1, 1) :     0 :   0.0 :     1 : False : False : Binary\n",
            "          (1, 2) :     0 :   0.0 :     1 : False : False : Binary\n",
            "          (1, 3) :     0 :   0.0 :     1 : False : False : Binary\n",
            "          (1, 4) :     0 :   0.0 :     1 : False : False : Binary\n",
            "          (1, 5) :     0 :   0.0 :     1 : False : False : Binary\n",
            "          (1, 6) :     0 :   0.0 :     1 : False : False : Binary\n",
            "          (1, 7) :     0 :   0.0 :     1 : False : False : Binary\n",
            "          (1, 8) :     0 :   1.0 :     1 : False : False : Binary\n",
            "          (1, 9) :     0 :   0.0 :     1 : False : False : Binary\n",
            "         (1, 10) :     0 :   0.0 :     1 : False : False : Binary\n",
            "         (1, 11) :     0 :   0.0 :     1 : False : False : Binary\n",
            "          (2, 0) :     0 :   0.0 :     1 : False : False : Binary\n",
            "          (2, 1) :     0 :   0.0 :     1 : False : False : Binary\n",
            "          (2, 2) :     0 :   0.0 :     1 : False : False : Binary\n",
            "          (2, 3) :     0 :   0.0 :     1 : False : False : Binary\n",
            "          (2, 4) :     0 :   0.0 :     1 : False : False : Binary\n",
            "          (2, 5) :     0 :   0.0 :     1 : False : False : Binary\n",
            "          (2, 6) :     0 :   0.0 :     1 : False : False : Binary\n",
            "          (2, 7) :     0 :   1.0 :     1 : False : False : Binary\n",
            "          (2, 8) :     0 :   0.0 :     1 : False : False : Binary\n",
            "          (2, 9) :     0 :   0.0 :     1 : False : False : Binary\n",
            "         (2, 10) :     0 :   0.0 :     1 : False : False : Binary\n",
            "         (2, 11) :     0 :   0.0 :     1 : False : False : Binary\n",
            "          (3, 0) :     0 :   0.0 :     1 : False : False : Binary\n",
            "          (3, 1) :     0 :   0.0 :     1 : False : False : Binary\n",
            "          (3, 2) :     0 :   0.0 :     1 : False : False : Binary\n",
            "          (3, 3) :     0 :   0.0 :     1 : False : False : Binary\n",
            "          (3, 4) :     0 :   0.0 :     1 : False : False : Binary\n",
            "          (3, 5) :     0 :   1.0 :     1 : False : False : Binary\n",
            "          (3, 6) :     0 :   0.0 :     1 : False : False : Binary\n",
            "          (3, 7) :     0 :   0.0 :     1 : False : False : Binary\n",
            "          (3, 8) :     0 :   0.0 :     1 : False : False : Binary\n",
            "          (3, 9) :     0 :   0.0 :     1 : False : False : Binary\n",
            "         (3, 10) :     0 :   0.0 :     1 : False : False : Binary\n",
            "         (3, 11) :     0 :   0.0 :     1 : False : False : Binary\n",
            "          (4, 0) :     0 :   0.0 :     1 : False : False : Binary\n",
            "          (4, 1) :     0 :   0.0 :     1 : False : False : Binary\n",
            "          (4, 2) :     0 :   1.0 :     1 : False : False : Binary\n",
            "          (4, 3) :     0 :   0.0 :     1 : False : False : Binary\n",
            "          (4, 4) :     0 :   0.0 :     1 : False : False : Binary\n",
            "          (4, 5) :     0 :   0.0 :     1 : False : False : Binary\n",
            "          (4, 6) :     0 :   0.0 :     1 : False : False : Binary\n",
            "          (4, 7) :     0 :   0.0 :     1 : False : False : Binary\n",
            "          (4, 8) :     0 :   0.0 :     1 : False : False : Binary\n",
            "          (4, 9) :     0 :   0.0 :     1 : False : False : Binary\n",
            "         (4, 10) :     0 :   0.0 :     1 : False : False : Binary\n",
            "         (4, 11) :     0 :   0.0 :     1 : False : False : Binary\n",
            "          (5, 0) :     0 :   0.0 :     1 : False : False : Binary\n",
            "          (5, 1) :     0 :   0.0 :     1 : False : False : Binary\n",
            "          (5, 2) :     0 :   0.0 :     1 : False : False : Binary\n",
            "          (5, 3) :     0 :   0.0 :     1 : False : False : Binary\n",
            "          (5, 4) :     0 :   0.0 :     1 : False : False : Binary\n",
            "          (5, 5) :     0 :   0.0 :     1 : False : False : Binary\n",
            "          (5, 6) :     0 :   0.0 :     1 : False : False : Binary\n",
            "          (5, 7) :     0 :   0.0 :     1 : False : False : Binary\n",
            "          (5, 8) :     0 :   0.0 :     1 : False : False : Binary\n",
            "          (5, 9) :     0 :   0.0 :     1 : False : False : Binary\n",
            "         (5, 10) :     0 :   0.0 :     1 : False : False : Binary\n",
            "         (5, 11) :     0 :   1.0 :     1 : False : False : Binary\n",
            "          (6, 0) :     0 :   0.0 :     1 : False : False : Binary\n",
            "          (6, 1) :     0 :   0.0 :     1 : False : False : Binary\n",
            "          (6, 2) :     0 :   0.0 :     1 : False : False : Binary\n",
            "          (6, 3) :     0 :   0.0 :     1 : False : False : Binary\n",
            "          (6, 4) :     0 :   0.0 :     1 : False : False : Binary\n",
            "          (6, 5) :     0 :   0.0 :     1 : False : False : Binary\n",
            "          (6, 6) :     0 :   1.0 :     1 : False : False : Binary\n",
            "          (6, 7) :     0 :   0.0 :     1 : False : False : Binary\n",
            "          (6, 8) :     0 :   0.0 :     1 : False : False : Binary\n",
            "          (6, 9) :     0 :   0.0 :     1 : False : False : Binary\n",
            "         (6, 10) :     0 :   0.0 :     1 : False : False : Binary\n",
            "         (6, 11) :     0 :   0.0 :     1 : False : False : Binary\n",
            "          (7, 0) :     0 :   0.0 :     1 : False : False : Binary\n",
            "          (7, 1) :     0 :   0.0 :     1 : False : False : Binary\n",
            "          (7, 2) :     0 :   0.0 :     1 : False : False : Binary\n",
            "          (7, 3) :     0 :   1.0 :     1 : False : False : Binary\n",
            "          (7, 4) :     0 :   0.0 :     1 : False : False : Binary\n",
            "          (7, 5) :     0 :   0.0 :     1 : False : False : Binary\n",
            "          (7, 6) :     0 :   0.0 :     1 : False : False : Binary\n",
            "          (7, 7) :     0 :   0.0 :     1 : False : False : Binary\n",
            "          (7, 8) :     0 :   0.0 :     1 : False : False : Binary\n",
            "          (7, 9) :     0 :   0.0 :     1 : False : False : Binary\n",
            "         (7, 10) :     0 :   0.0 :     1 : False : False : Binary\n",
            "         (7, 11) :     0 :   0.0 :     1 : False : False : Binary\n",
            "          (8, 0) :     0 :   0.0 :     1 : False : False : Binary\n",
            "          (8, 1) :     0 :   0.0 :     1 : False : False : Binary\n",
            "          (8, 2) :     0 :   0.0 :     1 : False : False : Binary\n",
            "          (8, 3) :     0 :   0.0 :     1 : False : False : Binary\n",
            "          (8, 4) :     0 :   0.0 :     1 : False : False : Binary\n",
            "          (8, 5) :     0 :   0.0 :     1 : False : False : Binary\n",
            "          (8, 6) :     0 :   0.0 :     1 : False : False : Binary\n",
            "          (8, 7) :     0 :   0.0 :     1 : False : False : Binary\n",
            "          (8, 8) :     0 :   0.0 :     1 : False : False : Binary\n",
            "          (8, 9) :     0 :   1.0 :     1 : False : False : Binary\n",
            "         (8, 10) :     0 :   0.0 :     1 : False : False : Binary\n",
            "         (8, 11) :     0 :   0.0 :     1 : False : False : Binary\n",
            "          (9, 0) :     0 :   1.0 :     1 : False : False : Binary\n",
            "          (9, 1) :     0 :   0.0 :     1 : False : False : Binary\n",
            "          (9, 2) :     0 :   0.0 :     1 : False : False : Binary\n",
            "          (9, 3) :     0 :   0.0 :     1 : False : False : Binary\n",
            "          (9, 4) :     0 :   0.0 :     1 : False : False : Binary\n",
            "          (9, 5) :     0 :   0.0 :     1 : False : False : Binary\n",
            "          (9, 6) :     0 :   0.0 :     1 : False : False : Binary\n",
            "          (9, 7) :     0 :   0.0 :     1 : False : False : Binary\n",
            "          (9, 8) :     0 :   0.0 :     1 : False : False : Binary\n",
            "          (9, 9) :     0 :   0.0 :     1 : False : False : Binary\n",
            "         (9, 10) :     0 :   0.0 :     1 : False : False : Binary\n",
            "         (9, 11) :     0 :   0.0 :     1 : False : False : Binary\n",
            "         (10, 0) :     0 :   0.0 :     1 : False : False : Binary\n",
            "         (10, 1) :     0 :   1.0 :     1 : False : False : Binary\n",
            "         (10, 2) :     0 :   0.0 :     1 : False : False : Binary\n",
            "         (10, 3) :     0 :   0.0 :     1 : False : False : Binary\n",
            "         (10, 4) :     0 :   0.0 :     1 : False : False : Binary\n",
            "         (10, 5) :     0 :   0.0 :     1 : False : False : Binary\n",
            "         (10, 6) :     0 :   0.0 :     1 : False : False : Binary\n",
            "         (10, 7) :     0 :   0.0 :     1 : False : False : Binary\n",
            "         (10, 8) :     0 :   0.0 :     1 : False : False : Binary\n",
            "         (10, 9) :     0 :   0.0 :     1 : False : False : Binary\n",
            "        (10, 10) :     0 :   0.0 :     1 : False : False : Binary\n",
            "        (10, 11) :     0 :   0.0 :     1 : False : False : Binary\n",
            "         (11, 0) :     0 :   0.0 :     1 : False : False : Binary\n",
            "         (11, 1) :     0 :   0.0 :     1 : False : False : Binary\n",
            "         (11, 2) :     0 :   0.0 :     1 : False : False : Binary\n",
            "         (11, 3) :     0 :   0.0 :     1 : False : False : Binary\n",
            "         (11, 4) :     0 :   1.0 :     1 : False : False : Binary\n",
            "         (11, 5) :     0 :   0.0 :     1 : False : False : Binary\n",
            "         (11, 6) :     0 :   0.0 :     1 : False : False : Binary\n",
            "         (11, 7) :     0 :   0.0 :     1 : False : False : Binary\n",
            "         (11, 8) :     0 :   0.0 :     1 : False : False : Binary\n",
            "         (11, 9) :     0 :   0.0 :     1 : False : False : Binary\n",
            "        (11, 10) :     0 :   0.0 :     1 : False : False : Binary\n",
            "        (11, 11) :     0 :   0.0 :     1 : False : False : Binary\n",
            "\n",
            "1 Objective Declarations\n",
            "    objective : Size=1, Index=None, Active=True\n",
            "        Key  : Active : Sense    : Expression\n",
            "        None :   True : minimize : 21.0*x[0,0] + 25.0*x[0,1] + 18.0*x[0,2] + 19.0*x[0,3] + 23.0*x[0,4] + 24.0*x[0,5] + 16.0*x[0,6] + 17.0*x[0,7] + 21.0*x[0,8] + 23.0*x[0,9] + 19.0*x[0,10] + 21.0*x[0,11] + 19.0*x[1,0] + 22.0*x[1,1] + 19.0*x[1,2] + 19.0*x[1,3] + 23.0*x[1,4] + 21.0*x[1,5] + 15.0*x[1,6] + 20.0*x[1,7] + 16.0*x[1,8] + 17.0*x[1,9] + 17.0*x[1,10] + 24.0*x[1,11] + 21.0*x[2,0] + 19.0*x[2,1] + 20.0*x[2,2] + 200000.0*x[2,3] + 22.0*x[2,4] + 24.0*x[2,5] + 14.0*x[2,6] + 16.0*x[2,7] + 18.0*x[2,8] + 16.0*x[2,9] + 20.0*x[2,10] + 24.0*x[2,11] + 19.0*x[3,0] + 22.0*x[3,1] + 17.0*x[3,2] + 17.0*x[3,3] + 22.0*x[3,4] + 22.0*x[3,5] + 18.0*x[3,6] + 18.0*x[3,7] + 20.0*x[3,8] + 500000.0*x[3,9] + 23.0*x[3,10] + 23.0*x[3,11] + 18.0*x[4,0] + 22.0*x[4,1] + 15.0*x[4,2] + 15.0*x[4,3] + 23.0*x[4,4] + 23.0*x[4,5] + 21.0*x[4,6] + 25.0*x[4,7] + 24.0*x[4,8] + 19.0*x[4,9] + 21.0*x[4,10] + 23.0*x[4,11] + 23.0*x[5,0] + 19.0*x[5,1] + 19.0*x[5,2] + 14.0*x[5,3] + 24.0*x[5,4] + 21.0*x[5,5] + 23.0*x[5,6] + 21.0*x[5,7] + 20.0*x[5,8] + 20.0*x[5,9] + 22.0*x[5,10] + 19.0*x[5,11] + 21.0*x[6,0] + 16.0*x[6,1] + 27.0*x[6,2] + 17.0*x[6,3] + 26.0*x[6,4] + 27.0*x[6,5] + 16.0*x[6,6] + 19.0*x[6,7] + 24.0*x[6,8] + 20.0*x[6,9] + 20.0*x[6,10] + 23.0*x[6,11] + 22.0*x[7,0] + 17.0*x[7,1] + 21.0*x[7,2] + 15.0*x[7,3] + 23.0*x[7,4] + 24.0*x[7,5] + 24.0*x[7,6] + 20.0*x[7,7] + 22.0*x[7,8] + 19.0*x[7,9] + 23.0*x[7,10] + 21.0*x[7,11] + 23.0*x[8,0] + 24.0*x[8,1] + 18.0*x[8,2] + 19.0*x[8,3] + 22.0*x[8,4] + 300000.0*x[8,5] + 21.0*x[8,6] + 18.0*x[8,7] + 23.0*x[8,8] + 15.0*x[8,9] + 25.0*x[8,10] + 21.0*x[8,11] + 18.0*x[9,0] + 21.0*x[9,1] + 21.0*x[9,2] + 18.0*x[9,3] + 26.0*x[9,4] + 24.0*x[9,5] + 18.0*x[9,6] + 17.0*x[9,7] + 18.0*x[9,8] + 20.0*x[9,9] + 21.0*x[9,10] + 20.0*x[9,11] + 19.0*x[10,0] + 12.0*x[10,1] + 21.0*x[10,2] + 19.0*x[10,3] + 23.0*x[10,4] + 20.0*x[10,5] + 22.0*x[10,6] + 19.0*x[10,7] + 17.0*x[10,8] + 19.0*x[10,9] + 20.0*x[10,10] + 24.0*x[10,11] + 18.0*x[11,0] + 22.0*x[11,1] + 24.0*x[11,2] + 17.0*x[11,3] + 21.0*x[11,4] + 28.0*x[11,5] + 18.0*x[11,6] + 16.0*x[11,7] + 22.0*x[11,8] + 24.0*x[11,9] + 25.0*x[11,10] + 24.0*x[11,11]\n",
            "\n",
            "1 Constraint Declarations\n",
            "    constraint : Size=24, Index=constraint_index, Active=True\n",
            "        Key : Lower : Body                                                                                                                    : Upper : Active\n",
            "          1 :   1.0 :             x[0,0] + x[0,1] + x[0,2] + x[0,3] + x[0,4] + x[0,5] + x[0,6] + x[0,7] + x[0,8] + x[0,9] + x[0,10] + x[0,11] :   1.0 :   True\n",
            "          2 :   1.0 :             x[1,0] + x[1,1] + x[1,2] + x[1,3] + x[1,4] + x[1,5] + x[1,6] + x[1,7] + x[1,8] + x[1,9] + x[1,10] + x[1,11] :   1.0 :   True\n",
            "          3 :   1.0 :             x[2,0] + x[2,1] + x[2,2] + x[2,3] + x[2,4] + x[2,5] + x[2,6] + x[2,7] + x[2,8] + x[2,9] + x[2,10] + x[2,11] :   1.0 :   True\n",
            "          4 :   1.0 :             x[3,0] + x[3,1] + x[3,2] + x[3,3] + x[3,4] + x[3,5] + x[3,6] + x[3,7] + x[3,8] + x[3,9] + x[3,10] + x[3,11] :   1.0 :   True\n",
            "          5 :   1.0 :             x[4,0] + x[4,1] + x[4,2] + x[4,3] + x[4,4] + x[4,5] + x[4,6] + x[4,7] + x[4,8] + x[4,9] + x[4,10] + x[4,11] :   1.0 :   True\n",
            "          6 :   1.0 :             x[5,0] + x[5,1] + x[5,2] + x[5,3] + x[5,4] + x[5,5] + x[5,6] + x[5,7] + x[5,8] + x[5,9] + x[5,10] + x[5,11] :   1.0 :   True\n",
            "          7 :   1.0 :             x[6,0] + x[6,1] + x[6,2] + x[6,3] + x[6,4] + x[6,5] + x[6,6] + x[6,7] + x[6,8] + x[6,9] + x[6,10] + x[6,11] :   1.0 :   True\n",
            "          8 :   1.0 :             x[7,0] + x[7,1] + x[7,2] + x[7,3] + x[7,4] + x[7,5] + x[7,6] + x[7,7] + x[7,8] + x[7,9] + x[7,10] + x[7,11] :   1.0 :   True\n",
            "          9 :   1.0 :             x[8,0] + x[8,1] + x[8,2] + x[8,3] + x[8,4] + x[8,5] + x[8,6] + x[8,7] + x[8,8] + x[8,9] + x[8,10] + x[8,11] :   1.0 :   True\n",
            "         10 :   1.0 :             x[9,0] + x[9,1] + x[9,2] + x[9,3] + x[9,4] + x[9,5] + x[9,6] + x[9,7] + x[9,8] + x[9,9] + x[9,10] + x[9,11] :   1.0 :   True\n",
            "         11 :   1.0 : x[10,0] + x[10,1] + x[10,2] + x[10,3] + x[10,4] + x[10,5] + x[10,6] + x[10,7] + x[10,8] + x[10,9] + x[10,10] + x[10,11] :   1.0 :   True\n",
            "         12 :   1.0 : x[11,0] + x[11,1] + x[11,2] + x[11,3] + x[11,4] + x[11,5] + x[11,6] + x[11,7] + x[11,8] + x[11,9] + x[11,10] + x[11,11] :   1.0 :   True\n",
            "         13 :   1.0 :             x[0,0] + x[1,0] + x[2,0] + x[3,0] + x[4,0] + x[5,0] + x[6,0] + x[7,0] + x[8,0] + x[9,0] + x[10,0] + x[11,0] :   1.0 :   True\n",
            "         14 :   1.0 :             x[0,1] + x[1,1] + x[2,1] + x[3,1] + x[4,1] + x[5,1] + x[6,1] + x[7,1] + x[8,1] + x[9,1] + x[10,1] + x[11,1] :   1.0 :   True\n",
            "         15 :   1.0 :             x[0,2] + x[1,2] + x[2,2] + x[3,2] + x[4,2] + x[5,2] + x[6,2] + x[7,2] + x[8,2] + x[9,2] + x[10,2] + x[11,2] :   1.0 :   True\n",
            "         16 :   1.0 :             x[0,3] + x[1,3] + x[2,3] + x[3,3] + x[4,3] + x[5,3] + x[6,3] + x[7,3] + x[8,3] + x[9,3] + x[10,3] + x[11,3] :   1.0 :   True\n",
            "         17 :   1.0 :             x[0,4] + x[1,4] + x[2,4] + x[3,4] + x[4,4] + x[5,4] + x[6,4] + x[7,4] + x[8,4] + x[9,4] + x[10,4] + x[11,4] :   1.0 :   True\n",
            "         18 :   1.0 :             x[0,5] + x[1,5] + x[2,5] + x[3,5] + x[4,5] + x[5,5] + x[6,5] + x[7,5] + x[8,5] + x[9,5] + x[10,5] + x[11,5] :   1.0 :   True\n",
            "         19 :   1.0 :             x[0,6] + x[1,6] + x[2,6] + x[3,6] + x[4,6] + x[5,6] + x[6,6] + x[7,6] + x[8,6] + x[9,6] + x[10,6] + x[11,6] :   1.0 :   True\n",
            "         20 :   1.0 :             x[0,7] + x[1,7] + x[2,7] + x[3,7] + x[4,7] + x[5,7] + x[6,7] + x[7,7] + x[8,7] + x[9,7] + x[10,7] + x[11,7] :   1.0 :   True\n",
            "         21 :   1.0 :             x[0,8] + x[1,8] + x[2,8] + x[3,8] + x[4,8] + x[5,8] + x[6,8] + x[7,8] + x[8,8] + x[9,8] + x[10,8] + x[11,8] :   1.0 :   True\n",
            "         22 :   1.0 :             x[0,9] + x[1,9] + x[2,9] + x[3,9] + x[4,9] + x[5,9] + x[6,9] + x[7,9] + x[8,9] + x[9,9] + x[10,9] + x[11,9] :   1.0 :   True\n",
            "         23 :   1.0 : x[0,10] + x[1,10] + x[2,10] + x[3,10] + x[4,10] + x[5,10] + x[6,10] + x[7,10] + x[8,10] + x[9,10] + x[10,10] + x[11,10] :   1.0 :   True\n",
            "         24 :   1.0 : x[0,11] + x[1,11] + x[2,11] + x[3,11] + x[4,11] + x[5,11] + x[6,11] + x[7,11] + x[8,11] + x[9,11] + x[10,11] + x[11,11] :   1.0 :   True\n",
            "\n",
            "7 Declarations: x_index_0 x_index_1 x_index x constraint_index constraint objective\n"
          ]
        }
      ]
    },
    {
      "cell_type": "code",
      "source": [
        "!apt-get install -y -qq coinor-cbc"
      ],
      "metadata": {
        "id": "K-_GmD2pwHpF"
      },
      "execution_count": null,
      "outputs": []
    },
    {
      "cell_type": "code",
      "source": [
        "opt_cbc= SolverFactory('cbc',)"
      ],
      "metadata": {
        "id": "NZv3I_jtwI0T"
      },
      "execution_count": null,
      "outputs": []
    },
    {
      "cell_type": "code",
      "source": [
        "result = opt_cbc.solve(model)\n",
        "print('solver statuas:',result.solver.status)\n",
        "print('solver termination condition:',result.solver.termination_condition)"
      ],
      "metadata": {
        "id": "49EwutS-wI4T",
        "colab": {
          "base_uri": "https://localhost:8080/"
        },
        "outputId": "390d75ec-95fe-47bf-d51e-2c1f61cf497d"
      },
      "execution_count": null,
      "outputs": [
        {
          "output_type": "stream",
          "name": "stdout",
          "text": [
            "solver statuas: ok\n",
            "solver termination condition: optimal\n"
          ]
        }
      ]
    },
    {
      "cell_type": "code",
      "source": [
        "#displaty solution\n",
        "print('\\nObjective=',model.objective())\n",
        "print('\\n decision variable')\n",
        "for i  in row_indices:\n",
        "  for j in col_indices:\n",
        "       print('Factory',i+1,'locate',j+1,':',model.x[i,j].value)\n",
        "print('\\nconstraint')\n",
        "model.constraint.display()"
      ],
      "metadata": {
        "id": "KCI1TBxDwMsA",
        "colab": {
          "base_uri": "https://localhost:8080/"
        },
        "outputId": "a9e143b1-6356-47a2-b124-4a857b9d9849"
      },
      "execution_count": null,
      "outputs": [
        {
          "output_type": "stream",
          "name": "stdout",
          "text": [
            "\n",
            "Objective= 204.0\n",
            "\n",
            " decision variable\n",
            "Factory 1 locate 1 : 0.0\n",
            "Factory 1 locate 2 : 0.0\n",
            "Factory 1 locate 3 : 0.0\n",
            "Factory 1 locate 4 : 0.0\n",
            "Factory 1 locate 5 : 0.0\n",
            "Factory 1 locate 6 : 0.0\n",
            "Factory 1 locate 7 : 0.0\n",
            "Factory 1 locate 8 : 0.0\n",
            "Factory 1 locate 9 : 0.0\n",
            "Factory 1 locate 10 : 0.0\n",
            "Factory 1 locate 11 : 1.0\n",
            "Factory 1 locate 12 : 0.0\n",
            "Factory 2 locate 1 : 0.0\n",
            "Factory 2 locate 2 : 0.0\n",
            "Factory 2 locate 3 : 0.0\n",
            "Factory 2 locate 4 : 0.0\n",
            "Factory 2 locate 5 : 0.0\n",
            "Factory 2 locate 6 : 0.0\n",
            "Factory 2 locate 7 : 0.0\n",
            "Factory 2 locate 8 : 0.0\n",
            "Factory 2 locate 9 : 1.0\n",
            "Factory 2 locate 10 : 0.0\n",
            "Factory 2 locate 11 : 0.0\n",
            "Factory 2 locate 12 : 0.0\n",
            "Factory 3 locate 1 : 0.0\n",
            "Factory 3 locate 2 : 0.0\n",
            "Factory 3 locate 3 : 0.0\n",
            "Factory 3 locate 4 : 0.0\n",
            "Factory 3 locate 5 : 0.0\n",
            "Factory 3 locate 6 : 0.0\n",
            "Factory 3 locate 7 : 0.0\n",
            "Factory 3 locate 8 : 1.0\n",
            "Factory 3 locate 9 : 0.0\n",
            "Factory 3 locate 10 : 0.0\n",
            "Factory 3 locate 11 : 0.0\n",
            "Factory 3 locate 12 : 0.0\n",
            "Factory 4 locate 1 : 0.0\n",
            "Factory 4 locate 2 : 0.0\n",
            "Factory 4 locate 3 : 0.0\n",
            "Factory 4 locate 4 : 0.0\n",
            "Factory 4 locate 5 : 0.0\n",
            "Factory 4 locate 6 : 1.0\n",
            "Factory 4 locate 7 : 0.0\n",
            "Factory 4 locate 8 : 0.0\n",
            "Factory 4 locate 9 : 0.0\n",
            "Factory 4 locate 10 : 0.0\n",
            "Factory 4 locate 11 : 0.0\n",
            "Factory 4 locate 12 : 0.0\n",
            "Factory 5 locate 1 : 0.0\n",
            "Factory 5 locate 2 : 0.0\n",
            "Factory 5 locate 3 : 1.0\n",
            "Factory 5 locate 4 : 0.0\n",
            "Factory 5 locate 5 : 0.0\n",
            "Factory 5 locate 6 : 0.0\n",
            "Factory 5 locate 7 : 0.0\n",
            "Factory 5 locate 8 : 0.0\n",
            "Factory 5 locate 9 : 0.0\n",
            "Factory 5 locate 10 : 0.0\n",
            "Factory 5 locate 11 : 0.0\n",
            "Factory 5 locate 12 : 0.0\n",
            "Factory 6 locate 1 : 0.0\n",
            "Factory 6 locate 2 : 0.0\n",
            "Factory 6 locate 3 : 0.0\n",
            "Factory 6 locate 4 : 0.0\n",
            "Factory 6 locate 5 : 0.0\n",
            "Factory 6 locate 6 : 0.0\n",
            "Factory 6 locate 7 : 0.0\n",
            "Factory 6 locate 8 : 0.0\n",
            "Factory 6 locate 9 : 0.0\n",
            "Factory 6 locate 10 : 0.0\n",
            "Factory 6 locate 11 : 0.0\n",
            "Factory 6 locate 12 : 1.0\n",
            "Factory 7 locate 1 : 0.0\n",
            "Factory 7 locate 2 : 0.0\n",
            "Factory 7 locate 3 : 0.0\n",
            "Factory 7 locate 4 : 0.0\n",
            "Factory 7 locate 5 : 0.0\n",
            "Factory 7 locate 6 : 0.0\n",
            "Factory 7 locate 7 : 1.0\n",
            "Factory 7 locate 8 : 0.0\n",
            "Factory 7 locate 9 : 0.0\n",
            "Factory 7 locate 10 : 0.0\n",
            "Factory 7 locate 11 : 0.0\n",
            "Factory 7 locate 12 : 0.0\n",
            "Factory 8 locate 1 : 0.0\n",
            "Factory 8 locate 2 : 0.0\n",
            "Factory 8 locate 3 : 0.0\n",
            "Factory 8 locate 4 : 1.0\n",
            "Factory 8 locate 5 : 0.0\n",
            "Factory 8 locate 6 : 0.0\n",
            "Factory 8 locate 7 : 0.0\n",
            "Factory 8 locate 8 : 0.0\n",
            "Factory 8 locate 9 : 0.0\n",
            "Factory 8 locate 10 : 0.0\n",
            "Factory 8 locate 11 : 0.0\n",
            "Factory 8 locate 12 : 0.0\n",
            "Factory 9 locate 1 : 0.0\n",
            "Factory 9 locate 2 : 0.0\n",
            "Factory 9 locate 3 : 0.0\n",
            "Factory 9 locate 4 : 0.0\n",
            "Factory 9 locate 5 : 0.0\n",
            "Factory 9 locate 6 : 0.0\n",
            "Factory 9 locate 7 : 0.0\n",
            "Factory 9 locate 8 : 0.0\n",
            "Factory 9 locate 9 : 0.0\n",
            "Factory 9 locate 10 : 1.0\n",
            "Factory 9 locate 11 : 0.0\n",
            "Factory 9 locate 12 : 0.0\n",
            "Factory 10 locate 1 : 1.0\n",
            "Factory 10 locate 2 : 0.0\n",
            "Factory 10 locate 3 : 0.0\n",
            "Factory 10 locate 4 : 0.0\n",
            "Factory 10 locate 5 : 0.0\n",
            "Factory 10 locate 6 : 0.0\n",
            "Factory 10 locate 7 : 0.0\n",
            "Factory 10 locate 8 : 0.0\n",
            "Factory 10 locate 9 : 0.0\n",
            "Factory 10 locate 10 : 0.0\n",
            "Factory 10 locate 11 : 0.0\n",
            "Factory 10 locate 12 : 0.0\n",
            "Factory 11 locate 1 : 0.0\n",
            "Factory 11 locate 2 : 1.0\n",
            "Factory 11 locate 3 : 0.0\n",
            "Factory 11 locate 4 : 0.0\n",
            "Factory 11 locate 5 : 0.0\n",
            "Factory 11 locate 6 : 0.0\n",
            "Factory 11 locate 7 : 0.0\n",
            "Factory 11 locate 8 : 0.0\n",
            "Factory 11 locate 9 : 0.0\n",
            "Factory 11 locate 10 : 0.0\n",
            "Factory 11 locate 11 : 0.0\n",
            "Factory 11 locate 12 : 0.0\n",
            "Factory 12 locate 1 : 0.0\n",
            "Factory 12 locate 2 : 0.0\n",
            "Factory 12 locate 3 : 0.0\n",
            "Factory 12 locate 4 : 0.0\n",
            "Factory 12 locate 5 : 1.0\n",
            "Factory 12 locate 6 : 0.0\n",
            "Factory 12 locate 7 : 0.0\n",
            "Factory 12 locate 8 : 0.0\n",
            "Factory 12 locate 9 : 0.0\n",
            "Factory 12 locate 10 : 0.0\n",
            "Factory 12 locate 11 : 0.0\n",
            "Factory 12 locate 12 : 0.0\n",
            "\n",
            "constraint\n",
            "constraint : Size=24\n",
            "    Key : Lower : Body : Upper\n",
            "      1 :   1.0 :  1.0 :   1.0\n",
            "      2 :   1.0 :  1.0 :   1.0\n",
            "      3 :   1.0 :  1.0 :   1.0\n",
            "      4 :   1.0 :  1.0 :   1.0\n",
            "      5 :   1.0 :  1.0 :   1.0\n",
            "      6 :   1.0 :  1.0 :   1.0\n",
            "      7 :   1.0 :  1.0 :   1.0\n",
            "      8 :   1.0 :  1.0 :   1.0\n",
            "      9 :   1.0 :  1.0 :   1.0\n",
            "     10 :   1.0 :  1.0 :   1.0\n",
            "     11 :   1.0 :  1.0 :   1.0\n",
            "     12 :   1.0 :  1.0 :   1.0\n",
            "     13 :   1.0 :  1.0 :   1.0\n",
            "     14 :   1.0 :  1.0 :   1.0\n",
            "     15 :   1.0 :  1.0 :   1.0\n",
            "     16 :   1.0 :  1.0 :   1.0\n",
            "     17 :   1.0 :  1.0 :   1.0\n",
            "     18 :   1.0 :  1.0 :   1.0\n",
            "     19 :   1.0 :  1.0 :   1.0\n",
            "     20 :   1.0 :  1.0 :   1.0\n",
            "     21 :   1.0 :  1.0 :   1.0\n",
            "     22 :   1.0 :  1.0 :   1.0\n",
            "     23 :   1.0 :  1.0 :   1.0\n",
            "     24 :   1.0 :  1.0 :   1.0\n"
          ]
        }
      ]
    },
    {
      "cell_type": "markdown",
      "source": [
        "\n",
        "\n",
        "9) the cost are 204.0 Factory 1 locate 11,\n",
        "\n",
        "Factory 2 locate 9 ,\n",
        "\n",
        "Factory 3 locate 8 ,\n",
        "\n",
        "Factory 4 locate 6 ,\n",
        "\n",
        "Factory 5 locate 3 ,\n",
        "\n",
        "Factory 6 locate 12 ,\n",
        "\n",
        "Factory 7 locate 7,\n",
        "\n",
        "Factory 8 locate 4 ,\n",
        "\n",
        "Factory 9 locate 10 ,\n",
        "\n",
        "Factory 10 locate 1,\n",
        "\n",
        "Factory 11 locate 2 ,\n",
        "\n",
        "Factory 12 locate 5 ,\n",
        "observation: the opotimal cost are both same when factory are not locate\n",
        "then this all route take large value , this minimization problem then dose't change the optmial cost, and the locate are aslo same in this qustion\n",
        "\n"
      ],
      "metadata": {
        "id": "xt-aN8OgVqn3"
      }
    },
    {
      "cell_type": "code",
      "source": [],
      "metadata": {
        "id": "owVdSKwRXiQX"
      },
      "execution_count": null,
      "outputs": []
    }
  ]
}