{
  "nbformat": 4,
  "nbformat_minor": 0,
  "metadata": {
    "colab": {
      "name": "22N0454_IE507_lab2_ex3.ipynb",
      "provenance": []
    },
    "kernelspec": {
      "name": "python3",
      "display_name": "Python 3"
    },
    "language_info": {
      "name": "python"
    }
  },
  "cells": [
    {
      "cell_type": "code",
      "execution_count": null,
      "metadata": {
        "id": "F7bdN8zjJHky"
      },
      "outputs": [],
      "source": [
        "!pip install -q pyomo "
      ]
    },
    {
      "cell_type": "code",
      "source": [
        "from pyomo. environ import *"
      ],
      "metadata": {
        "id": "SJkp9ybqJqVw"
      },
      "execution_count": null,
      "outputs": []
    },
    {
      "cell_type": "code",
      "source": [
        "import  numpy as np"
      ],
      "metadata": {
        "id": "86CSf913KCpl"
      },
      "execution_count": null,
      "outputs": []
    },
    {
      "cell_type": "code",
      "source": [
        "#create a model\n",
        "model=ConcreteModel()"
      ],
      "metadata": {
        "id": "LTP25RjnJvDz"
      },
      "execution_count": null,
      "outputs": []
    },
    {
      "cell_type": "code",
      "source": [
        "N=10\n",
        "M=3"
      ],
      "metadata": {
        "id": "jI8qexOQKHVN"
      },
      "execution_count": null,
      "outputs": []
    },
    {
      "cell_type": "code",
      "source": [
        "obj_coef_A=np.array([[20, 25, 10, 30, 12.5, 35, 47.5, 10, 20, 50],\n",
        "                     [75, 65, 70, 60, 85, 52.5, 42.5, 40, 35, 40],\n",
        "                     [ 5, 10, 20, 10, 2.5, 12.5, 10 ,50, 45, 10]])"
      ],
      "metadata": {
        "id": "LxJVeG9CKHZ-"
      },
      "execution_count": null,
      "outputs": []
    },
    {
      "cell_type": "markdown",
      "source": [
        ""
      ],
      "metadata": {
        "id": "8IE9VCxp8Z-z"
      }
    },
    {
      "cell_type": "code",
      "source": [
        "obj_coef_inhouse=np.array([ 45, 48, 55, 65, 54, 37.5, 35, 52.5, 47, 28])\n",
        "obj_coef_inpurchase=np.array([82, 102, 150, 105, 95, 84, 88, 125, 70, 64])\n",
        "coef_rhs_b=[11687.5,24437.5,6375]"
      ],
      "metadata": {
        "id": "JFzF04DcKHeL"
      },
      "execution_count": null,
      "outputs": []
    },
    {
      "cell_type": "code",
      "source": [
        "#The following numpy arrays will be useful for setting the lower bound and upper bounds for the variables\n",
        "lower_bound_v= np.array([0,0,0,0,0,0,0,0,0,0])\n",
        "upper_bound_v = np.array([np.inf]*10)\n",
        "lower_bound_u= np.array([0,0,0,0,0,0,0,0,0,0])\n",
        "upper_bound_u= np.array([15,16,9,17.5,12,18.5,2.5,0.5,9.5,8])\n"
      ],
      "metadata": {
        "id": "k5p3BinUMoas"
      },
      "execution_count": null,
      "outputs": []
    },
    {
      "cell_type": "code",
      "source": [
        "# set of column indices: since we have N variables, we can take column indices to be the list [0,1,2,...,N-1]\n",
        "col_indices = np.arange(N)\n",
        "print(col_indices)\n"
      ],
      "metadata": {
        "colab": {
          "base_uri": "https://localhost:8080/"
        },
        "id": "1kkpB_IVMofk",
        "outputId": "2ae4b144-d920-4f51-e7e0-183f7793f211"
      },
      "execution_count": null,
      "outputs": [
        {
          "output_type": "stream",
          "name": "stdout",
          "text": [
            "[0 1 2 3 4 5 6 7 8 9]\n"
          ]
        }
      ]
    },
    {
      "cell_type": "code",
      "source": [
        ""
      ],
      "metadata": {
        "id": "FE29h-WhRgqY"
      },
      "execution_count": null,
      "outputs": []
    },
    {
      "cell_type": "code",
      "source": [
        "model.u= Var(col_indices)"
      ],
      "metadata": {
        "id": "5b11cs3oPoYH"
      },
      "execution_count": null,
      "outputs": []
    },
    {
      "cell_type": "code",
      "source": [
        "model.v= Var(col_indices)\n"
      ],
      "metadata": {
        "id": "ZicHDyniPosx"
      },
      "execution_count": null,
      "outputs": []
    },
    {
      "cell_type": "code",
      "source": [
        "# create a ConstraintList to hold multiple constraints\n",
        "model.constraints = ConstraintList()"
      ],
      "metadata": {
        "id": "SfZIeOAyR_nw"
      },
      "execution_count": null,
      "outputs": []
    },
    {
      "cell_type": "code",
      "source": [
        "for i in range(len(coef_rhs_b)):\n",
        "    model.constraints.add(sum(obj_coef_A[i][j]*(model.u[j]+model.v[j]) for j in col_indices)==coef_rhs_b[i])\n"
      ],
      "metadata": {
        "id": "5g1OpxCER_2E"
      },
      "execution_count": null,
      "outputs": []
    },
    {
      "cell_type": "code",
      "source": [
        "model.objective=Objective(expr=sum((obj_coef_inpurchase[i]*model.v[i] +obj_coef_inhouse[i]*model.u[i]) for i in col_indices),sense=minimize)"
      ],
      "metadata": {
        "id": "0XCUD44tUhlx"
      },
      "execution_count": null,
      "outputs": []
    },
    {
      "cell_type": "code",
      "source": [
        "for i in col_indices:\n",
        "    model.v[i].setlb(lower_bound_v[i])\n",
        "    model.v[i].setub(upper_bound_v[i])"
      ],
      "metadata": {
        "id": "bEqx27u_P7pe"
      },
      "execution_count": null,
      "outputs": []
    },
    {
      "cell_type": "code",
      "source": [
        "for i in col_indices:\n",
        "    model.u[i].setlb(lower_bound_u[i])\n",
        "    model.u[i].setub(upper_bound_u[i])\n"
      ],
      "metadata": {
        "id": "zW2iILlSP7uF"
      },
      "execution_count": null,
      "outputs": []
    },
    {
      "cell_type": "code",
      "source": [
        "model.pprint()"
      ],
      "metadata": {
        "id": "4RdhPZcqRiH4",
        "colab": {
          "base_uri": "https://localhost:8080/"
        },
        "outputId": "e069e8e0-6944-4384-fb03-38bcb44ad0e7"
      },
      "execution_count": null,
      "outputs": [
        {
          "output_type": "stream",
          "name": "stdout",
          "text": [
            "3 Set Declarations\n",
            "    constraints_index : Size=1, Index=None, Ordered=Insertion\n",
            "        Key  : Dimen : Domain : Size : Members\n",
            "        None :     1 :    Any :    3 : {1, 2, 3}\n",
            "    u_index : Size=1, Index=None, Ordered=False\n",
            "        Key  : Dimen : Domain : Size : Members\n",
            "        None :     1 :    Any :   10 : {0, 1, 2, 3, 4, 5, 6, 7, 8, 9}\n",
            "    v_index : Size=1, Index=None, Ordered=False\n",
            "        Key  : Dimen : Domain : Size : Members\n",
            "        None :     1 :    Any :   10 : {0, 1, 2, 3, 4, 5, 6, 7, 8, 9}\n",
            "\n",
            "2 Var Declarations\n",
            "    u : Size=10, Index=u_index\n",
            "        Key : Lower : Value : Upper : Fixed : Stale : Domain\n",
            "          0 :     0 :  None :  15.0 : False :  True :  Reals\n",
            "          1 :     0 :  None :  16.0 : False :  True :  Reals\n",
            "          2 :     0 :  None :   9.0 : False :  True :  Reals\n",
            "          3 :     0 :  None :  17.5 : False :  True :  Reals\n",
            "          4 :     0 :  None :  12.0 : False :  True :  Reals\n",
            "          5 :     0 :  None :  18.5 : False :  True :  Reals\n",
            "          6 :     0 :  None :   2.5 : False :  True :  Reals\n",
            "          7 :     0 :  None :   0.5 : False :  True :  Reals\n",
            "          8 :     0 :  None :   9.5 : False :  True :  Reals\n",
            "          9 :     0 :  None :   8.0 : False :  True :  Reals\n",
            "    v : Size=10, Index=v_index\n",
            "        Key : Lower : Value : Upper : Fixed : Stale : Domain\n",
            "          0 :     0 :  None :  None : False :  True :  Reals\n",
            "          1 :     0 :  None :  None : False :  True :  Reals\n",
            "          2 :     0 :  None :  None : False :  True :  Reals\n",
            "          3 :     0 :  None :  None : False :  True :  Reals\n",
            "          4 :     0 :  None :  None : False :  True :  Reals\n",
            "          5 :     0 :  None :  None : False :  True :  Reals\n",
            "          6 :     0 :  None :  None : False :  True :  Reals\n",
            "          7 :     0 :  None :  None : False :  True :  Reals\n",
            "          8 :     0 :  None :  None : False :  True :  Reals\n",
            "          9 :     0 :  None :  None : False :  True :  Reals\n",
            "\n",
            "1 Objective Declarations\n",
            "    objective : Size=1, Index=None, Active=True\n",
            "        Key  : Active : Sense    : Expression\n",
            "        None :   True : minimize : 82*v[0] + 45.0*u[0] + 102*v[1] + 48.0*u[1] + 150*v[2] + 55.0*u[2] + 105*v[3] + 65.0*u[3] + 95*v[4] + 54.0*u[4] + 84*v[5] + 37.5*u[5] + 88*v[6] + 35.0*u[6] + 125*v[7] + 52.5*u[7] + 70*v[8] + 47.0*u[8] + 64*v[9] + 28.0*u[9]\n",
            "\n",
            "1 Constraint Declarations\n",
            "    constraints : Size=3, Index=constraints_index, Active=True\n",
            "        Key : Lower   : Body                                                                                                                                                                                                            : Upper   : Active\n",
            "          1 : 11687.5 : 20.0*(u[0] + v[0]) + 25.0*(u[1] + v[1]) + 10.0*(u[2] + v[2]) + 30.0*(u[3] + v[3]) + 12.5*(u[4] + v[4]) + 35.0*(u[5] + v[5]) + 47.5*(u[6] + v[6]) + 10.0*(u[7] + v[7]) + 20.0*(u[8] + v[8]) + 50.0*(u[9] + v[9]) : 11687.5 :   True\n",
            "          2 : 24437.5 : 75.0*(u[0] + v[0]) + 65.0*(u[1] + v[1]) + 70.0*(u[2] + v[2]) + 60.0*(u[3] + v[3]) + 85.0*(u[4] + v[4]) + 52.5*(u[5] + v[5]) + 42.5*(u[6] + v[6]) + 40.0*(u[7] + v[7]) + 35.0*(u[8] + v[8]) + 40.0*(u[9] + v[9]) : 24437.5 :   True\n",
            "          3 :  6375.0 :   5.0*(u[0] + v[0]) + 10.0*(u[1] + v[1]) + 20.0*(u[2] + v[2]) + 10.0*(u[3] + v[3]) + 2.5*(u[4] + v[4]) + 12.5*(u[5] + v[5]) + 10.0*(u[6] + v[6]) + 50.0*(u[7] + v[7]) + 45.0*(u[8] + v[8]) + 10.0*(u[9] + v[9]) :  6375.0 :   True\n",
            "\n",
            "7 Declarations: u_index u v_index v constraints_index constraints objective\n"
          ]
        }
      ]
    },
    {
      "cell_type": "code",
      "source": [
        "!apt-get install -y -qq glpk-utils"
      ],
      "metadata": {
        "id": "YS5VQ0ZaRiMh"
      },
      "execution_count": null,
      "outputs": []
    },
    {
      "cell_type": "code",
      "source": [
        "SolverFactory('glpk', executable='/usr/bin/glpsol').solve(model).write()"
      ],
      "metadata": {
        "id": "0ngSWM5DRiRx",
        "colab": {
          "base_uri": "https://localhost:8080/"
        },
        "outputId": "d8a5b5a5-e937-4496-e887-648b58ca13c7"
      },
      "execution_count": null,
      "outputs": [
        {
          "output_type": "stream",
          "name": "stdout",
          "text": [
            "# ==========================================================\n",
            "# = Solver Results                                         =\n",
            "# ==========================================================\n",
            "# ----------------------------------------------------------\n",
            "#   Problem Information\n",
            "# ----------------------------------------------------------\n",
            "Problem: \n",
            "- Name: unknown\n",
            "  Lower bound: 28747.1875\n",
            "  Upper bound: 28747.1875\n",
            "  Number of objectives: 1\n",
            "  Number of constraints: 4\n",
            "  Number of variables: 21\n",
            "  Number of nonzeros: 61\n",
            "  Sense: minimize\n",
            "# ----------------------------------------------------------\n",
            "#   Solver Information\n",
            "# ----------------------------------------------------------\n",
            "Solver: \n",
            "- Status: ok\n",
            "  Termination condition: optimal\n",
            "  Statistics: \n",
            "    Branch and bound: \n",
            "      Number of bounded subproblems: 0\n",
            "      Number of created subproblems: 0\n",
            "  Error rc: 0\n",
            "  Time: 0.018364667892456055\n",
            "# ----------------------------------------------------------\n",
            "#   Solution Information\n",
            "# ----------------------------------------------------------\n",
            "Solution: \n",
            "- number of solutions: 0\n",
            "  number of solutions displayed: 0\n"
          ]
        }
      ]
    },
    {
      "cell_type": "code",
      "source": [
        "# display solution\n",
        "print('\\nobjective = ', model.objective())\n",
        "\n",
        "print('\\nDecision Variables')\n",
        "for i in col_indices:\n",
        "  print('u[',i,'] = ', model.u[i].value)\n",
        "  print('v[',i,'] = ', model.v[i].value)\n",
        "\n",
        "print('\\nConstraints')\n",
        "model.constraints.display()"
      ],
      "metadata": {
        "id": "0P3wh-3tRidA",
        "colab": {
          "base_uri": "https://localhost:8080/"
        },
        "outputId": "9a1869c5-b3b0-4b21-9b80-3c73598524c3"
      },
      "execution_count": null,
      "outputs": [
        {
          "output_type": "stream",
          "name": "stdout",
          "text": [
            "\n",
            "objective =  28747.1875\n",
            "\n",
            "Decision Variables\n",
            "u[ 0 ] =  15.0\n",
            "v[ 0 ] =  158.078125\n",
            "u[ 1 ] =  16.0\n",
            "v[ 1 ] =  0.0\n",
            "u[ 2 ] =  9.0\n",
            "v[ 2 ] =  0.0\n",
            "u[ 3 ] =  17.5\n",
            "v[ 3 ] =  0.0\n",
            "u[ 4 ] =  12.0\n",
            "v[ 4 ] =  0.0\n",
            "u[ 5 ] =  18.5\n",
            "v[ 5 ] =  0.0\n",
            "u[ 6 ] =  2.5\n",
            "v[ 6 ] =  0.0\n",
            "u[ 7 ] =  0.5\n",
            "v[ 7 ] =  0.0\n",
            "u[ 8 ] =  9.5\n",
            "v[ 8 ] =  74.046875\n",
            "u[ 9 ] =  8.0\n",
            "v[ 9 ] =  84.375\n",
            "\n",
            "Constraints\n",
            "constraints : Size=3\n",
            "    Key : Lower   : Body    : Upper\n",
            "      1 : 11687.5 : 11687.5 : 11687.5\n",
            "      2 : 24437.5 : 24437.5 : 24437.5\n",
            "      3 :  6375.0 :  6375.0 :  6375.0\n"
          ]
        }
      ]
    },
    {
      "cell_type": "code",
      "source": [
        ""
      ],
      "metadata": {
        "id": "4MWe2RShRihU"
      },
      "execution_count": null,
      "outputs": []
    },
    {
      "cell_type": "code",
      "source": [
        ""
      ],
      "metadata": {
        "id": "pWsU2I_n8c-0"
      },
      "execution_count": null,
      "outputs": []
    },
    {
      "cell_type": "markdown",
      "source": [
        " 1 ans --min , 82u0 + 45.0v0 + 102u1 + 48.0v1 + 150u2 + 55.0v2 + 105u3 + 65.0v3 + 95u4 + 54.0v4 + 84u5 + 37.5v5 + 88u6 + 35.0v6 + 125u7 + 52.5v7 + 70u8 + 47.0v8 + 64u9 + 28.0v9  \n",
        "\n",
        "\n",
        " 0.2(u0 + v0) + 0.25*(u1 + v1) + 0.1(u2 + v2) + 0.3(u3 + v3) + 0.125(u4 + v4) +0.35000000000000003*(u5] + v5) + 0.47500000000000003*(u6 + v6) + 0.1(u7 + v7) + 0.2(u8 + v8) + 0.5(u9 + v9) = 11687.5\n",
        " \n",
        "\n",
        "0.75(u0 + v0) + 0.65(u1 + v1) + 0.7000000000000001(u2 + v2) + 0.6(u3 + u3) + 0.85(u4 + v4) + 0.525(u5 + v5) + 0.425(u6 + v6) + 0.4(u7 + v7) + 0.35000000000000003(u8 + v8) + 0.4(u9] + v[9])=24437.5\n",
        " \n",
        " \n",
        "\n",
        "0.05u0 + v0+ 0.1u1 + v1) + 0.2(u2 + v2) + 0.1*(u3 + v3) + 0.025(u4 + v4) + 0.125(u5 + v5) + 0.1(u6 + v6) + 0.5(u7 + v7) + 0.45(u8 + v8) + 0.1(u9] + v9)=6373 \n"
      ],
      "metadata": {
        "id": "y2lV8ulh8dPC"
      }
    },
    {
      "cell_type": "code",
      "source": [
        ""
      ],
      "metadata": {
        "id": "MCnH5ApxRil2"
      },
      "execution_count": null,
      "outputs": []
    },
    {
      "cell_type": "markdown",
      "source": [
        " ans3--the optimal solution is=28747.1875\n",
        "and the dicision variale are=\\\\Decision Variables\n",
        "u[ 0 ] =  15.0\n",
        "v[ 0 ] =  158.078125\n",
        "u[ 1 ] =  16.0\n",
        "v[ 1 ] =  0.0\n",
        "u[ 2 ] =  9.0\n",
        "v[ 2 ] =  0.0\n",
        "u[ 3 ] =  17.5\n",
        "v[ 3 ] =  0.0\n",
        "u[ 4 ] =  12.0\n",
        "v[ 4 ] =  0.0\n",
        "u[ 5 ] =  18.5\n",
        "v[ 5 ] =  0.0\n",
        "u[ 6 ] =  2.5\n",
        "v[ 6 ] =  0.0\n",
        "u[ 7 ] =  0.5\n",
        "v[ 7 ] =  0.0\n",
        "u[ 8 ] =  9.5\n",
        "v[ 8 ] =  74.046875\n",
        "u[ 9 ] =  8.0\n",
        "v[ 9 ] =  84.375\n",
        "\n",
        "\n",
        "\n",
        "\n",
        "\n",
        "\n",
        "\n",
        "\n"
      ],
      "metadata": {
        "id": "c5EgtvMUCs43"
      }
    },
    {
      "cell_type": "code",
      "source": [
        ""
      ],
      "metadata": {
        "id": "p1kc4xsxKHiH"
      },
      "execution_count": null,
      "outputs": []
    },
    {
      "cell_type": "code",
      "source": [
        ""
      ],
      "metadata": {
        "id": "XCsB_W5HC9gm"
      },
      "execution_count": null,
      "outputs": []
    },
    {
      "cell_type": "code",
      "source": [
        ""
      ],
      "metadata": {
        "id": "Y2BptbSqC9dj"
      },
      "execution_count": null,
      "outputs": []
    },
    {
      "cell_type": "markdown",
      "source": [
        ""
      ],
      "metadata": {
        "id": "jc_uG702DTNT"
      }
    },
    {
      "cell_type": "markdown",
      "source": [
        " ans-4high quantities purchased alloy are v0,v9,v8"
      ],
      "metadata": {
        "id": "kqQ1KSqBDzW2"
      }
    },
    {
      "cell_type": "code",
      "source": [
        ""
      ],
      "metadata": {
        "id": "hDp-smfTEJh8"
      },
      "execution_count": null,
      "outputs": []
    },
    {
      "cell_type": "markdown",
      "source": [
        "ans-5, yes all alloy which are stock completly utiized"
      ],
      "metadata": {
        "id": "LjWmlgYxERYQ"
      }
    },
    {
      "cell_type": "code",
      "source": [
        ""
      ],
      "metadata": {
        "id": "PNg5T-K4Epqj"
      },
      "execution_count": null,
      "outputs": []
    },
    {
      "cell_type": "markdown",
      "source": [
        "ans-6, yes in the stock in abiable, that reason why we will be buy in the market and it is to costly in the market that reason not need to by in market"
      ],
      "metadata": {
        "id": "kejiCtUKEqZ4"
      }
    },
    {
      "cell_type": "code",
      "source": [
        ""
      ],
      "metadata": {
        "id": "xWCdFnzgFnsC"
      },
      "execution_count": null,
      "outputs": []
    }
  ]
}