{
  "nbformat": 4,
  "nbformat_minor": 0,
  "metadata": {
    "colab": {
      "name": "22N0454_IE507_lab1_3.ipynb",
      "provenance": [],
      "collapsed_sections": []
    },
    "kernelspec": {
      "name": "python3",
      "display_name": "Python 3"
    },
    "language_info": {
      "name": "python"
    }
  },
  "cells": [
    {
      "cell_type": "code",
      "execution_count": null,
      "metadata": {
        "id": "uCs_Clnq3VyI"
      },
      "outputs": [],
      "source": [
        "!pip install -q pyomo"
      ]
    },
    {
      "cell_type": "markdown",
      "source": [
        "let's suppose that Jen Industries produces  $  x_1 kgs of product P and x_2 kgs of product Q $ \n",
        "$\\min \\ 1200x_1+2580x_2\\ \\\\ \\text{s.t.} \\ x_1+x_2 \\geq 145 \\\\ 2.18x_1+\\frac{13}{12}x_2 \\leq 980, \\ x_1 \\geq 105 , \\ x_2 \\geq 125 $\n"
      ],
      "metadata": {
        "id": "8i1-f5Dt3WwF"
      }
    },
    {
      "cell_type": "code",
      "source": [
        "from pyomo.environ import *"
      ],
      "metadata": {
        "id": "ykA2fjxG3X_-"
      },
      "execution_count": null,
      "outputs": []
    },
    {
      "cell_type": "markdown",
      "source": [
        ""
      ],
      "metadata": {
        "id": "pccZHRg9RbHA"
      }
    },
    {
      "cell_type": "code",
      "source": [
        ""
      ],
      "metadata": {
        "id": "7EbUyAQLF4L9"
      },
      "execution_count": null,
      "outputs": []
    },
    {
      "cell_type": "code",
      "source": [
        "# Create a model3\n",
        "model3=ConcreteModel()"
      ],
      "metadata": {
        "id": "8KqIk67_403w"
      },
      "execution_count": null,
      "outputs": []
    },
    {
      "cell_type": "code",
      "source": [
        ""
      ],
      "metadata": {
        "id": "zdb09KXGSDGL"
      },
      "execution_count": null,
      "outputs": []
    },
    {
      "cell_type": "code",
      "source": [
        "#declare decision Variables\n",
        "model3.x1= Var(domain= Reals)\n",
        "model3.x2=Var(domain=Reals)\n"
      ],
      "metadata": {
        "id": "OvpzCsK744dG"
      },
      "execution_count": null,
      "outputs": []
    },
    {
      "cell_type": "code",
      "source": [
        "#declare objective\n",
        "model3.Cost = Objective(expr =1200*model3.x1+2580*model3.x2 , sense=minimize)"
      ],
      "metadata": {
        "id": "mUBfBMwK46Lx"
      },
      "execution_count": null,
      "outputs": []
    },
    {
      "cell_type": "code",
      "source": [
        "#declare costraints\n",
        "model3.constr1= Constraint(expr=model3.x1+model3.x2>=145)\n",
        "model3.constr2=Constraint(expr=2.18*model3.x1+1.08*model3.x2<=980)\n",
        "model3.constr3=Constraint(expr=model3.x1>=105)\n",
        "model3.constr4=Constraint(expr=model3.x2>=125)"
      ],
      "metadata": {
        "id": "GYHxhywm5ATw"
      },
      "execution_count": null,
      "outputs": []
    },
    {
      "cell_type": "code",
      "source": [
        "model3.pprint()\n"
      ],
      "metadata": {
        "colab": {
          "base_uri": "https://localhost:8080/"
        },
        "id": "_q7qxpBW5B9I",
        "outputId": "7f2bb5b1-5247-4670-b99d-09d3b60528a5"
      },
      "execution_count": null,
      "outputs": [
        {
          "output_type": "stream",
          "name": "stdout",
          "text": [
            "2 Var Declarations\n",
            "    x1 : Size=1, Index=None\n",
            "        Key  : Lower : Value : Upper : Fixed : Stale : Domain\n",
            "        None :  None :  None :  None : False :  True :  Reals\n",
            "    x2 : Size=1, Index=None\n",
            "        Key  : Lower : Value : Upper : Fixed : Stale : Domain\n",
            "        None :  None :  None :  None : False :  True :  Reals\n",
            "\n",
            "1 Objective Declarations\n",
            "    Cost : Size=1, Index=None, Active=True\n",
            "        Key  : Active : Sense    : Expression\n",
            "        None :   True : minimize : 1200*x1 + 2580*x2\n",
            "\n",
            "4 Constraint Declarations\n",
            "    constr1 : Size=1, Index=None, Active=True\n",
            "        Key  : Lower : Body    : Upper : Active\n",
            "        None : 145.0 : x1 + x2 :  +Inf :   True\n",
            "    constr2 : Size=1, Index=None, Active=True\n",
            "        Key  : Lower : Body              : Upper : Active\n",
            "        None :  -Inf : 2.18*x1 + 1.08*x2 : 980.0 :   True\n",
            "    constr3 : Size=1, Index=None, Active=True\n",
            "        Key  : Lower : Body : Upper : Active\n",
            "        None : 105.0 :   x1 :  +Inf :   True\n",
            "    constr4 : Size=1, Index=None, Active=True\n",
            "        Key  : Lower : Body : Upper : Active\n",
            "        None : 125.0 :   x2 :  +Inf :   True\n",
            "\n",
            "7 Declarations: x1 x2 Cost constr1 constr2 constr3 constr4\n"
          ]
        }
      ]
    },
    {
      "cell_type": "code",
      "source": [
        "!apt-get install -y -qq glpk-utils"
      ],
      "metadata": {
        "id": "UzD8jhA15Hzm"
      },
      "execution_count": null,
      "outputs": []
    },
    {
      "cell_type": "code",
      "source": [
        "SolverFactory('glpk', executable='/usr/bin/glpsol').solve(model3).write()"
      ],
      "metadata": {
        "colab": {
          "base_uri": "https://localhost:8080/"
        },
        "id": "BhBgCPmB5Kj5",
        "outputId": "90c4d640-1b88-4b5f-cea2-3200036e0bc2"
      },
      "execution_count": null,
      "outputs": [
        {
          "output_type": "stream",
          "name": "stdout",
          "text": [
            "# ==========================================================\n",
            "# = Solver Results                                         =\n",
            "# ==========================================================\n",
            "# ----------------------------------------------------------\n",
            "#   Problem Information\n",
            "# ----------------------------------------------------------\n",
            "Problem: \n",
            "- Name: unknown\n",
            "  Lower bound: 448500.0\n",
            "  Upper bound: 448500.0\n",
            "  Number of objectives: 1\n",
            "  Number of constraints: 5\n",
            "  Number of variables: 3\n",
            "  Number of nonzeros: 7\n",
            "  Sense: minimize\n",
            "# ----------------------------------------------------------\n",
            "#   Solver Information\n",
            "# ----------------------------------------------------------\n",
            "Solver: \n",
            "- Status: ok\n",
            "  Termination condition: optimal\n",
            "  Statistics: \n",
            "    Branch and bound: \n",
            "      Number of bounded subproblems: 0\n",
            "      Number of created subproblems: 0\n",
            "  Error rc: 0\n",
            "  Time: 0.011070966720581055\n",
            "# ----------------------------------------------------------\n",
            "#   Solution Information\n",
            "# ----------------------------------------------------------\n",
            "Solution: \n",
            "- number of solutions: 0\n",
            "  number of solutions displayed: 0\n"
          ]
        }
      ]
    },
    {
      "cell_type": "code",
      "source": [
        "#display solution\n",
        "print('\\nCost=',model3.Cost())\n",
        "print('decision Variables')\n",
        "print('x1=', model3.x1())\n",
        "print('x2=',model3.x2())\n",
        "print('Constraints')\n",
        "print('constraint 1=',model3.constr1())\n",
        "print('constraint2=',model3.constr2())\n",
        "print('constraint3=',model3.constr3())\n",
        "print('constraint4=',model3.constr4())\n"
      ],
      "metadata": {
        "colab": {
          "base_uri": "https://localhost:8080/"
        },
        "id": "NxPldDqh5R-m",
        "outputId": "b2446994-dd0d-4a0c-f098-df251c512f5d"
      },
      "execution_count": null,
      "outputs": [
        {
          "output_type": "stream",
          "name": "stdout",
          "text": [
            "\n",
            "Cost= 448500.0\n",
            "decision Variables\n",
            "x1= 105.0\n",
            "x2= 125.0\n",
            "Constraints\n",
            "constraint 1= 230.0\n",
            "constraint2= 363.9\n",
            "constraint3= 105.0\n",
            "constraint4= 125.0\n"
          ]
        }
      ]
    },
    {
      "cell_type": "markdown",
      "source": [
        "\n",
        "1ans.  Jen Industries produces x_1kgs of product P, \\\\\n",
        "   and produces y kgs of product Q, \n",
        "2 ans.  optimal cost are: 448500.0 \\\\\n",
        "   value of decision variable:\n",
        "   x1 =  105.0,\n",
        "x2 =  125.0 \\\\\n",
        "   Activeness of constraints: \\\\\n",
        "   constraint 1  not active because LHS= x1+x2 = 105+125 =230  is not equal to RHS. \\\\\n",
        "   Constraint 2  not active because LHS = 4371  is not equal RHS \\\\\n",
        "   constraint 3  active  LHS = 105  is equal to RHS \\\\\n",
        "   constraint 4 is active  LHS = 125 because is equal to RHS \\\\"
      ],
      "metadata": {
        "id": "kcYOkLz0-7uY"
      }
    },
    {
      "cell_type": "code",
      "source": [
        ""
      ],
      "metadata": {
        "id": "fyw3UOZ_Xaqa"
      },
      "execution_count": null,
      "outputs": []
    },
    {
      "cell_type": "markdown",
      "source": [
        ""
      ],
      "metadata": {
        "id": "4w58zDu3GDsD"
      }
    },
    {
      "cell_type": "code",
      "source": [
        ""
      ],
      "metadata": {
        "id": "BbnvwXsSF8_E"
      },
      "execution_count": null,
      "outputs": []
    },
    {
      "cell_type": "code",
      "source": [
        "!pip install -q pyomo"
      ],
      "metadata": {
        "id": "Tqcu39wMF9Cz"
      },
      "execution_count": 33,
      "outputs": []
    },
    {
      "cell_type": "markdown",
      "source": [
        "$ \"x_1 \\geq 147 \", \"x _2\\geq 222\"$\n",
        "now the new changed Linear programming problem is as follows:\n",
        "$\\min \\ 1200x_1+2580_2 \\\\ \\text{s.t.} \\ x_1+x_2\\geq 145 \\\\ 2.18x+\\frac{13}{12}x_2 \\leq 980, \\ x_1\\geq 147 , \\ x_2\\geq 222 $"
      ],
      "metadata": {
        "id": "b05yQICBF94Y"
      }
    },
    {
      "cell_type": "code",
      "source": [
        "from pyomo.environ import *"
      ],
      "metadata": {
        "id": "NUSgyH8vF9Gq"
      },
      "execution_count": 34,
      "outputs": []
    },
    {
      "cell_type": "code",
      "source": [
        ""
      ],
      "metadata": {
        "id": "dYY5UMzRT1B-"
      },
      "execution_count": null,
      "outputs": []
    },
    {
      "cell_type": "code",
      "source": [
        "# Create a model31\n",
        "model31=ConcreteModel()"
      ],
      "metadata": {
        "id": "TPfTneYySExq"
      },
      "execution_count": 37,
      "outputs": []
    },
    {
      "cell_type": "code",
      "source": [
        "#declare decision Variables\n",
        "model31.x1= Var(domain= Reals)\n",
        "model31.x2=Var(domain=Reals)\n"
      ],
      "metadata": {
        "id": "ZPv2RM_BSNTj"
      },
      "execution_count": 38,
      "outputs": []
    },
    {
      "cell_type": "code",
      "source": [
        "#declare objective\n",
        "model31.Cost = Objective(expr =1200*model31.x1+2580*model31.x2 , sense=minimize)"
      ],
      "metadata": {
        "id": "9LAjTfw0SS7a"
      },
      "execution_count": 40,
      "outputs": []
    },
    {
      "cell_type": "code",
      "source": [
        "#declare costraints\n",
        "model31.constr1= Constraint(expr=model31.x1+model31.x2>=145)\n",
        "model31.constr2=Constraint(expr=2.18*model31.x1+1.08*model31.x2<=980)\n",
        "model31.constr3=Constraint(expr=model31.x1>=147)\n",
        "model31.constr4=Constraint(expr=model31.x2>=222)"
      ],
      "metadata": {
        "id": "QXUVS7jgSX0D"
      },
      "execution_count": 41,
      "outputs": []
    },
    {
      "cell_type": "code",
      "source": [
        "model31.pprint()\n"
      ],
      "metadata": {
        "colab": {
          "base_uri": "https://localhost:8080/"
        },
        "id": "VQtoYJd6ScnN",
        "outputId": "30660354-14e4-44d7-b6b5-09384082b4dc"
      },
      "execution_count": 42,
      "outputs": [
        {
          "output_type": "stream",
          "name": "stdout",
          "text": [
            "2 Var Declarations\n",
            "    x1 : Size=1, Index=None\n",
            "        Key  : Lower : Value : Upper : Fixed : Stale : Domain\n",
            "        None :  None :  None :  None : False :  True :  Reals\n",
            "    x2 : Size=1, Index=None\n",
            "        Key  : Lower : Value : Upper : Fixed : Stale : Domain\n",
            "        None :  None :  None :  None : False :  True :  Reals\n",
            "\n",
            "1 Objective Declarations\n",
            "    Cost : Size=1, Index=None, Active=True\n",
            "        Key  : Active : Sense    : Expression\n",
            "        None :   True : minimize : 1200*x1 + 2580*x2\n",
            "\n",
            "4 Constraint Declarations\n",
            "    constr1 : Size=1, Index=None, Active=True\n",
            "        Key  : Lower : Body    : Upper : Active\n",
            "        None : 145.0 : x1 + x2 :  +Inf :   True\n",
            "    constr2 : Size=1, Index=None, Active=True\n",
            "        Key  : Lower : Body              : Upper : Active\n",
            "        None :  -Inf : 2.18*x1 + 1.08*x2 : 980.0 :   True\n",
            "    constr3 : Size=1, Index=None, Active=True\n",
            "        Key  : Lower : Body : Upper : Active\n",
            "        None : 147.0 :   x1 :  +Inf :   True\n",
            "    constr4 : Size=1, Index=None, Active=True\n",
            "        Key  : Lower : Body : Upper : Active\n",
            "        None : 222.0 :   x2 :  +Inf :   True\n",
            "\n",
            "7 Declarations: x1 x2 Cost constr1 constr2 constr3 constr4\n"
          ]
        }
      ]
    },
    {
      "cell_type": "code",
      "source": [
        "!apt-get install -y -qq glpk-utils"
      ],
      "metadata": {
        "id": "bfxSSmsySgvh"
      },
      "execution_count": 43,
      "outputs": []
    },
    {
      "cell_type": "code",
      "source": [
        "SolverFactory('glpk', executable='/usr/bin/glpsol').solve(model31).write()"
      ],
      "metadata": {
        "colab": {
          "base_uri": "https://localhost:8080/"
        },
        "id": "UT08N9_ZSmCn",
        "outputId": "a592af85-1ee2-43f5-ec4d-2644fbfca497"
      },
      "execution_count": 45,
      "outputs": [
        {
          "output_type": "stream",
          "name": "stdout",
          "text": [
            "# ==========================================================\n",
            "# = Solver Results                                         =\n",
            "# ==========================================================\n",
            "# ----------------------------------------------------------\n",
            "#   Problem Information\n",
            "# ----------------------------------------------------------\n",
            "Problem: \n",
            "- Name: unknown\n",
            "  Lower bound: 749160.0\n",
            "  Upper bound: 749160.0\n",
            "  Number of objectives: 1\n",
            "  Number of constraints: 5\n",
            "  Number of variables: 3\n",
            "  Number of nonzeros: 7\n",
            "  Sense: minimize\n",
            "# ----------------------------------------------------------\n",
            "#   Solver Information\n",
            "# ----------------------------------------------------------\n",
            "Solver: \n",
            "- Status: ok\n",
            "  Termination condition: optimal\n",
            "  Statistics: \n",
            "    Branch and bound: \n",
            "      Number of bounded subproblems: 0\n",
            "      Number of created subproblems: 0\n",
            "  Error rc: 0\n",
            "  Time: 0.017976045608520508\n",
            "# ----------------------------------------------------------\n",
            "#   Solution Information\n",
            "# ----------------------------------------------------------\n",
            "Solution: \n",
            "- number of solutions: 0\n",
            "  number of solutions displayed: 0\n"
          ]
        }
      ]
    },
    {
      "cell_type": "code",
      "source": [
        "#display solution\n",
        "print('\\nCost=',model31.Cost())\n",
        "print('decision Variables')\n",
        "print('x1=', model31.x1())\n",
        "print('x2=',model31.x2())\n",
        "print('Constraints')\n",
        "print('constraint 1=',model31.constr1())\n",
        "print('constraint2=',model31.constr2())\n",
        "print('constraint3=',model31.constr3())\n",
        "print('constraint4=',model31.constr4())\n"
      ],
      "metadata": {
        "colab": {
          "base_uri": "https://localhost:8080/"
        },
        "id": "Jsw-GCleSmHi",
        "outputId": "d30e9643-fe55-4141-f33f-6ad84bda5090"
      },
      "execution_count": 46,
      "outputs": [
        {
          "output_type": "stream",
          "name": "stdout",
          "text": [
            "\n",
            "Cost= 749160.0\n",
            "decision Variables\n",
            "x1= 147.0\n",
            "x2= 222.0\n",
            "Constraints\n",
            "constraint 1= 369.0\n",
            "constraint2= 560.22\n",
            "constraint3= 147.0\n",
            "constraint4= 222.0\n"
          ]
        }
      ]
    },
    {
      "cell_type": "code",
      "source": [
        ""
      ],
      "metadata": {
        "id": "DWnVOvErSmMZ"
      },
      "execution_count": null,
      "outputs": []
    },
    {
      "cell_type": "markdown",
      "source": [
        " total cost: 749160.0\n",
        " \\\\\n",
        "    decision variable:\n",
        "   x1 =  147.0,\n",
        "x2 =  222.0 \\\\\n",
        "   Activeness  constraints: \\\\\n",
        "   constraint 1 not active  LHS= x1+x2 = 147+222 =369 because is not equal  RHS. \\\\\n",
        "   Constraint 2  not active se LHS = 6731.52 because is not equal to RHS \\\\\n",
        "   constraint 3 is active  LHS = 147 because is equal to RHS \\\\\n",
        "   constraint 4 is active  LHS = 222 because is equal to RHS \\\\\n",
        "   after  order jen industries has  increase there productity two  product P and Q.\n",
        "    optimal cost  Insdustries has to produce 147 kgs of the pruduct P and 222 kgs of the product Q."
      ],
      "metadata": {
        "id": "CxfzNFsUZK-K"
      }
    },
    {
      "cell_type": "code",
      "source": [
        ""
      ],
      "metadata": {
        "id": "V6BwJGAaSmQz"
      },
      "execution_count": null,
      "outputs": []
    },
    {
      "cell_type": "code",
      "source": [
        ""
      ],
      "metadata": {
        "id": "f2Wvd4pUSmUv"
      },
      "execution_count": null,
      "outputs": []
    },
    {
      "cell_type": "code",
      "source": [
        ""
      ],
      "metadata": {
        "id": "3ijO3cHwSmYw"
      },
      "execution_count": null,
      "outputs": []
    },
    {
      "cell_type": "code",
      "source": [
        ""
      ],
      "metadata": {
        "id": "9yHwSWRCSmeC"
      },
      "execution_count": null,
      "outputs": []
    }
  ]
}