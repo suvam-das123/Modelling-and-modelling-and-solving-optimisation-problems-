{
  "nbformat": 4,
  "nbformat_minor": 0,
  "metadata": {
    "colab": {
      "name": "22N0454_IE507_lab4_ex_2.ipynb",
      "provenance": []
    },
    "kernelspec": {
      "name": "python3",
      "display_name": "Python 3"
    },
    "language_info": {
      "name": "python"
    }
  },
  "cells": [
    {
      "cell_type": "markdown",
      "source": [
        "qustion 4:\n",
        "\n",
        ", max_ 11x0+13x1+9x2+15x3+**12x4**\n",
        "\n",
        "6.5x0+8x1+10.5x2+11.75x3+14.5x4<=78,\n",
        "5.75x0+4.5x1+3.75x2+4.85x3+3.45x4<=84,,\n",
        "x0,x1,x2,x3,x4, are number of  drone  model\n",
        "x0,x1,x2,x3,x4 are all integer becuase the are drone model "
      ],
      "metadata": {
        "id": "f3wST132K3_s"
      }
    },
    {
      "cell_type": "code",
      "source": [],
      "metadata": {
        "id": "ZESZ5gixK3ow"
      },
      "execution_count": 256,
      "outputs": []
    },
    {
      "cell_type": "code",
      "execution_count": 257,
      "metadata": {
        "id": "d6yJ5ytJkbRr"
      },
      "outputs": [],
      "source": [
        "!pip install -q pyomo"
      ]
    },
    {
      "cell_type": "code",
      "source": [
        "from pyomo.environ import * "
      ],
      "metadata": {
        "id": "aWX9HWP-lIVr"
      },
      "execution_count": 258,
      "outputs": []
    },
    {
      "cell_type": "code",
      "source": [
        "import numpy as np"
      ],
      "metadata": {
        "id": "nI3-RnhllIbr"
      },
      "execution_count": 259,
      "outputs": []
    },
    {
      "cell_type": "code",
      "source": [
        "import pandas as pd"
      ],
      "metadata": {
        "id": "8OWWY0WmlIg2"
      },
      "execution_count": 260,
      "outputs": []
    },
    {
      "cell_type": "code",
      "source": [
        "data_csvfile = pd.read_csv('lab4_ex3.csv')"
      ],
      "metadata": {
        "id": "5GI2NFQLlIlJ"
      },
      "execution_count": 261,
      "outputs": []
    },
    {
      "cell_type": "code",
      "source": [
        "data_csvfile"
      ],
      "metadata": {
        "colab": {
          "base_uri": "https://localhost:8080/",
          "height": 206
        },
        "id": "6m7AdT5FBN10",
        "outputId": "2d8b2888-d7cc-46db-ad7c-f23a5e0e32b8"
      },
      "execution_count": 262,
      "outputs": [
        {
          "output_type": "execute_result",
          "data": {
            "text/plain": [
              "  Drone Model  Carrying Capacity(kgs)  Cost(in Crores of rupees)  \\\n",
              "0       SHREY                      11                       6.50   \n",
              "1      DHARAN                      13                       8.00   \n",
              "2       SATVA                       9                      10.50   \n",
              "3       ADHYA                      15                      11.75   \n",
              "4      PRAVAT                      12                      14.50   \n",
              "\n",
              "   Parking Space(sq.m.)  \n",
              "0                  5.75  \n",
              "1                  4.50  \n",
              "2                  3.75  \n",
              "3                  4.85  \n",
              "4                  3.45  "
            ],
            "text/html": [
              "\n",
              "  <div id=\"df-382fac10-1b02-4f45-9531-74e8bc919242\">\n",
              "    <div class=\"colab-df-container\">\n",
              "      <div>\n",
              "<style scoped>\n",
              "    .dataframe tbody tr th:only-of-type {\n",
              "        vertical-align: middle;\n",
              "    }\n",
              "\n",
              "    .dataframe tbody tr th {\n",
              "        vertical-align: top;\n",
              "    }\n",
              "\n",
              "    .dataframe thead th {\n",
              "        text-align: right;\n",
              "    }\n",
              "</style>\n",
              "<table border=\"1\" class=\"dataframe\">\n",
              "  <thead>\n",
              "    <tr style=\"text-align: right;\">\n",
              "      <th></th>\n",
              "      <th>Drone Model</th>\n",
              "      <th>Carrying Capacity(kgs)</th>\n",
              "      <th>Cost(in Crores of rupees)</th>\n",
              "      <th>Parking Space(sq.m.)</th>\n",
              "    </tr>\n",
              "  </thead>\n",
              "  <tbody>\n",
              "    <tr>\n",
              "      <th>0</th>\n",
              "      <td>SHREY</td>\n",
              "      <td>11</td>\n",
              "      <td>6.50</td>\n",
              "      <td>5.75</td>\n",
              "    </tr>\n",
              "    <tr>\n",
              "      <th>1</th>\n",
              "      <td>DHARAN</td>\n",
              "      <td>13</td>\n",
              "      <td>8.00</td>\n",
              "      <td>4.50</td>\n",
              "    </tr>\n",
              "    <tr>\n",
              "      <th>2</th>\n",
              "      <td>SATVA</td>\n",
              "      <td>9</td>\n",
              "      <td>10.50</td>\n",
              "      <td>3.75</td>\n",
              "    </tr>\n",
              "    <tr>\n",
              "      <th>3</th>\n",
              "      <td>ADHYA</td>\n",
              "      <td>15</td>\n",
              "      <td>11.75</td>\n",
              "      <td>4.85</td>\n",
              "    </tr>\n",
              "    <tr>\n",
              "      <th>4</th>\n",
              "      <td>PRAVAT</td>\n",
              "      <td>12</td>\n",
              "      <td>14.50</td>\n",
              "      <td>3.45</td>\n",
              "    </tr>\n",
              "  </tbody>\n",
              "</table>\n",
              "</div>\n",
              "      <button class=\"colab-df-convert\" onclick=\"convertToInteractive('df-382fac10-1b02-4f45-9531-74e8bc919242')\"\n",
              "              title=\"Convert this dataframe to an interactive table.\"\n",
              "              style=\"display:none;\">\n",
              "        \n",
              "  <svg xmlns=\"http://www.w3.org/2000/svg\" height=\"24px\"viewBox=\"0 0 24 24\"\n",
              "       width=\"24px\">\n",
              "    <path d=\"M0 0h24v24H0V0z\" fill=\"none\"/>\n",
              "    <path d=\"M18.56 5.44l.94 2.06.94-2.06 2.06-.94-2.06-.94-.94-2.06-.94 2.06-2.06.94zm-11 1L8.5 8.5l.94-2.06 2.06-.94-2.06-.94L8.5 2.5l-.94 2.06-2.06.94zm10 10l.94 2.06.94-2.06 2.06-.94-2.06-.94-.94-2.06-.94 2.06-2.06.94z\"/><path d=\"M17.41 7.96l-1.37-1.37c-.4-.4-.92-.59-1.43-.59-.52 0-1.04.2-1.43.59L10.3 9.45l-7.72 7.72c-.78.78-.78 2.05 0 2.83L4 21.41c.39.39.9.59 1.41.59.51 0 1.02-.2 1.41-.59l7.78-7.78 2.81-2.81c.8-.78.8-2.07 0-2.86zM5.41 20L4 18.59l7.72-7.72 1.47 1.35L5.41 20z\"/>\n",
              "  </svg>\n",
              "      </button>\n",
              "      \n",
              "  <style>\n",
              "    .colab-df-container {\n",
              "      display:flex;\n",
              "      flex-wrap:wrap;\n",
              "      gap: 12px;\n",
              "    }\n",
              "\n",
              "    .colab-df-convert {\n",
              "      background-color: #E8F0FE;\n",
              "      border: none;\n",
              "      border-radius: 50%;\n",
              "      cursor: pointer;\n",
              "      display: none;\n",
              "      fill: #1967D2;\n",
              "      height: 32px;\n",
              "      padding: 0 0 0 0;\n",
              "      width: 32px;\n",
              "    }\n",
              "\n",
              "    .colab-df-convert:hover {\n",
              "      background-color: #E2EBFA;\n",
              "      box-shadow: 0px 1px 2px rgba(60, 64, 67, 0.3), 0px 1px 3px 1px rgba(60, 64, 67, 0.15);\n",
              "      fill: #174EA6;\n",
              "    }\n",
              "\n",
              "    [theme=dark] .colab-df-convert {\n",
              "      background-color: #3B4455;\n",
              "      fill: #D2E3FC;\n",
              "    }\n",
              "\n",
              "    [theme=dark] .colab-df-convert:hover {\n",
              "      background-color: #434B5C;\n",
              "      box-shadow: 0px 1px 3px 1px rgba(0, 0, 0, 0.15);\n",
              "      filter: drop-shadow(0px 1px 2px rgba(0, 0, 0, 0.3));\n",
              "      fill: #FFFFFF;\n",
              "    }\n",
              "  </style>\n",
              "\n",
              "      <script>\n",
              "        const buttonEl =\n",
              "          document.querySelector('#df-382fac10-1b02-4f45-9531-74e8bc919242 button.colab-df-convert');\n",
              "        buttonEl.style.display =\n",
              "          google.colab.kernel.accessAllowed ? 'block' : 'none';\n",
              "\n",
              "        async function convertToInteractive(key) {\n",
              "          const element = document.querySelector('#df-382fac10-1b02-4f45-9531-74e8bc919242');\n",
              "          const dataTable =\n",
              "            await google.colab.kernel.invokeFunction('convertToInteractive',\n",
              "                                                     [key], {});\n",
              "          if (!dataTable) return;\n",
              "\n",
              "          const docLinkHtml = 'Like what you see? Visit the ' +\n",
              "            '<a target=\"_blank\" href=https://colab.research.google.com/notebooks/data_table.ipynb>data table notebook</a>'\n",
              "            + ' to learn more about interactive tables.';\n",
              "          element.innerHTML = '';\n",
              "          dataTable['output_type'] = 'display_data';\n",
              "          await google.colab.output.renderOutput(dataTable, element);\n",
              "          const docLink = document.createElement('div');\n",
              "          docLink.innerHTML = docLinkHtml;\n",
              "          element.appendChild(docLink);\n",
              "        }\n",
              "      </script>\n",
              "    </div>\n",
              "  </div>\n",
              "  "
            ]
          },
          "metadata": {},
          "execution_count": 262
        }
      ]
    },
    {
      "cell_type": "code",
      "source": [
        "print (type(data_csvfile))"
      ],
      "metadata": {
        "colab": {
          "base_uri": "https://localhost:8080/"
        },
        "id": "LlqqxijilIpP",
        "outputId": "57388c5c-79fd-41fd-9839-17b2767deb36"
      },
      "execution_count": 263,
      "outputs": [
        {
          "output_type": "stream",
          "name": "stdout",
          "text": [
            "<class 'pandas.core.frame.DataFrame'>\n"
          ]
        }
      ]
    },
    {
      "cell_type": "code",
      "source": [
        "data_csvfile['Drone Model']"
      ],
      "metadata": {
        "id": "YGfSC0K8lIst",
        "colab": {
          "base_uri": "https://localhost:8080/"
        },
        "outputId": "bb72874c-de5d-43c2-8687-29bbee0d93b9"
      },
      "execution_count": 264,
      "outputs": [
        {
          "output_type": "execute_result",
          "data": {
            "text/plain": [
              "0     SHREY\n",
              "1    DHARAN\n",
              "2     SATVA\n",
              "3     ADHYA\n",
              "4    PRAVAT\n",
              "Name: Drone Model, dtype: object"
            ]
          },
          "metadata": {},
          "execution_count": 264
        }
      ]
    },
    {
      "cell_type": "code",
      "source": [
        "data_csvfile['Carrying Capacity(kgs)']"
      ],
      "metadata": {
        "id": "OnDQcdZQlIwH",
        "colab": {
          "base_uri": "https://localhost:8080/"
        },
        "outputId": "437248ef-cb13-4d8b-8911-65d529fd6a74"
      },
      "execution_count": 265,
      "outputs": [
        {
          "output_type": "execute_result",
          "data": {
            "text/plain": [
              "0    11\n",
              "1    13\n",
              "2     9\n",
              "3    15\n",
              "4    12\n",
              "Name: Carrying Capacity(kgs), dtype: int64"
            ]
          },
          "metadata": {},
          "execution_count": 265
        }
      ]
    },
    {
      "cell_type": "code",
      "source": [
        "data_csvfile['Cost(in Crores of rupees)']"
      ],
      "metadata": {
        "id": "gQqZfZdWlI1S",
        "colab": {
          "base_uri": "https://localhost:8080/"
        },
        "outputId": "c4029499-cf1c-40d5-de2e-89d0f0bc9f92"
      },
      "execution_count": 266,
      "outputs": [
        {
          "output_type": "execute_result",
          "data": {
            "text/plain": [
              "0     6.50\n",
              "1     8.00\n",
              "2    10.50\n",
              "3    11.75\n",
              "4    14.50\n",
              "Name: Cost(in Crores of rupees), dtype: float64"
            ]
          },
          "metadata": {},
          "execution_count": 266
        }
      ]
    },
    {
      "cell_type": "code",
      "source": [
        "data_csvfile['Parking Space(sq.m.)']"
      ],
      "metadata": {
        "id": "d7BDhGOslI50",
        "colab": {
          "base_uri": "https://localhost:8080/"
        },
        "outputId": "1015b586-3f11-448c-ca91-c16f50bfc495"
      },
      "execution_count": 267,
      "outputs": [
        {
          "output_type": "execute_result",
          "data": {
            "text/plain": [
              "0    5.75\n",
              "1    4.50\n",
              "2    3.75\n",
              "3    4.85\n",
              "4    3.45\n",
              "Name: Parking Space(sq.m.), dtype: float64"
            ]
          },
          "metadata": {},
          "execution_count": 267
        }
      ]
    },
    {
      "cell_type": "code",
      "source": [],
      "metadata": {
        "id": "npQLrX8KlI9j"
      },
      "execution_count": 267,
      "outputs": []
    },
    {
      "cell_type": "code",
      "source": [
        "data_csvfile.index"
      ],
      "metadata": {
        "id": "mM3Nd4OSlJBy",
        "colab": {
          "base_uri": "https://localhost:8080/"
        },
        "outputId": "47c7bed7-71a6-4223-b222-f1a70cc54a81"
      },
      "execution_count": 268,
      "outputs": [
        {
          "output_type": "execute_result",
          "data": {
            "text/plain": [
              "RangeIndex(start=0, stop=5, step=1)"
            ]
          },
          "metadata": {},
          "execution_count": 268
        }
      ]
    },
    {
      "cell_type": "code",
      "source": [
        "len(data_csvfile.index)"
      ],
      "metadata": {
        "id": "Jou__G_4nKBR",
        "colab": {
          "base_uri": "https://localhost:8080/"
        },
        "outputId": "d41e8a9e-2081-4eaa-fc6e-89d56bde6195"
      },
      "execution_count": 269,
      "outputs": [
        {
          "output_type": "execute_result",
          "data": {
            "text/plain": [
              "5"
            ]
          },
          "metadata": {},
          "execution_count": 269
        }
      ]
    },
    {
      "cell_type": "markdown",
      "source": [],
      "metadata": {
        "id": "9zXnHHykcQHR"
      }
    },
    {
      "cell_type": "code",
      "source": [
        "model = ConcreteModel()"
      ],
      "metadata": {
        "id": "rd5S4V20nKF-"
      },
      "execution_count": 270,
      "outputs": []
    },
    {
      "cell_type": "code",
      "source": [
        "N = len(data_csvfile.index)"
      ],
      "metadata": {
        "id": "5aznPIbTnKJp"
      },
      "execution_count": 271,
      "outputs": []
    },
    {
      "cell_type": "code",
      "source": [
        "M = 2"
      ],
      "metadata": {
        "id": "hzAxyYjxnb6k"
      },
      "execution_count": 272,
      "outputs": []
    },
    {
      "cell_type": "code",
      "source": [
        "col_indices = range(N)\n",
        "print(col_indices )"
      ],
      "metadata": {
        "colab": {
          "base_uri": "https://localhost:8080/"
        },
        "id": "2PuUsua0ZLyo",
        "outputId": "44e4498f-806a-4fee-afcd-607be99794cc"
      },
      "execution_count": 273,
      "outputs": [
        {
          "output_type": "stream",
          "name": "stdout",
          "text": [
            "range(0, 5)\n"
          ]
        }
      ]
    },
    {
      "cell_type": "code",
      "source": [
        "model.x = Var(col_indices)"
      ],
      "metadata": {
        "id": "Q-AG2tmcZNW7"
      },
      "execution_count": 274,
      "outputs": []
    },
    {
      "cell_type": "code",
      "source": [
        "model.objective = Objective(expr=summation(data_csvfile['Carrying Capacity(kgs)'], model.x),sense=maximize)"
      ],
      "metadata": {
        "id": "fa-ZUfdhnkN9"
      },
      "execution_count": 275,
      "outputs": []
    },
    {
      "cell_type": "code",
      "source": [
        "model.constraints = ConstraintList()"
      ],
      "metadata": {
        "id": "jufKPkKFn6FE"
      },
      "execution_count": 276,
      "outputs": []
    },
    {
      "cell_type": "code",
      "source": [
        "model.constraints.add(expr=6.5* model.x[0] +8* model.x[1] +10.5* model.x[2]+11.75*model.x[3]+14.5*model.x[4]<= 78  )\n",
        "model.constraints.add(expr= 5.75*model.x[0] +4.5* model.x[1] + 3.75* model.x[2] +4.85*model.x[3]+3.45*model.x[4]<= 84  )\n"
      ],
      "metadata": {
        "id": "_quCq8YvoK93",
        "colab": {
          "base_uri": "https://localhost:8080/"
        },
        "outputId": "ce8cb20e-929a-4436-c8ed-ec000a3a4065"
      },
      "execution_count": 277,
      "outputs": [
        {
          "output_type": "execute_result",
          "data": {
            "text/plain": [
              "<pyomo.core.base.constraint._GeneralConstraintData at 0x7f81fab639f0>"
            ]
          },
          "metadata": {},
          "execution_count": 277
        }
      ]
    },
    {
      "cell_type": "code",
      "source": [
        "lower_bound = 0\n",
        "upper_bound = np.inf"
      ],
      "metadata": {
        "id": "lQRZAAUcn_Va"
      },
      "execution_count": 278,
      "outputs": []
    },
    {
      "cell_type": "code",
      "source": [
        "\n",
        "for j in col_indices:\n",
        "  model.x[j].setlb(lower_bound)\n",
        "  model.x[j].setub(upper_bound)"
      ],
      "metadata": {
        "id": "acRM3QnRn_aD"
      },
      "execution_count": 279,
      "outputs": []
    },
    {
      "cell_type": "code",
      "source": [
        "model.pprint()"
      ],
      "metadata": {
        "id": "mSv8IARkn_eo",
        "colab": {
          "base_uri": "https://localhost:8080/"
        },
        "outputId": "1399d37d-163d-484c-d52d-1c9292a1643a"
      },
      "execution_count": 280,
      "outputs": [
        {
          "output_type": "stream",
          "name": "stdout",
          "text": [
            "2 Set Declarations\n",
            "    constraints_index : Size=1, Index=None, Ordered=Insertion\n",
            "        Key  : Dimen : Domain : Size : Members\n",
            "        None :     1 :    Any :    2 : {1, 2}\n",
            "    x_index : Size=1, Index=None, Ordered=Insertion\n",
            "        Key  : Dimen : Domain : Size : Members\n",
            "        None :     1 :    Any :    5 : {0, 1, 2, 3, 4}\n",
            "\n",
            "1 Var Declarations\n",
            "    x : Size=5, Index=x_index\n",
            "        Key : Lower : Value : Upper : Fixed : Stale : Domain\n",
            "          0 :     0 :  None :  None : False :  True :  Reals\n",
            "          1 :     0 :  None :  None : False :  True :  Reals\n",
            "          2 :     0 :  None :  None : False :  True :  Reals\n",
            "          3 :     0 :  None :  None : False :  True :  Reals\n",
            "          4 :     0 :  None :  None : False :  True :  Reals\n",
            "\n",
            "1 Objective Declarations\n",
            "    objective : Size=1, Index=None, Active=True\n",
            "        Key  : Active : Sense    : Expression\n",
            "        None :   True : maximize : 11*x[0] + 13*x[1] + 9*x[2] + 15*x[3] + 12*x[4]\n",
            "\n",
            "1 Constraint Declarations\n",
            "    constraints : Size=2, Index=constraints_index, Active=True\n",
            "        Key : Lower : Body                                                     : Upper : Active\n",
            "          1 :  -Inf :   6.5*x[0] + 8*x[1] + 10.5*x[2] + 11.75*x[3] + 14.5*x[4] :  78.0 :   True\n",
            "          2 :  -Inf : 5.75*x[0] + 4.5*x[1] + 3.75*x[2] + 4.85*x[3] + 3.45*x[4] :  84.0 :   True\n",
            "\n",
            "5 Declarations: x_index x objective constraints_index constraints\n"
          ]
        }
      ]
    },
    {
      "cell_type": "code",
      "source": [
        "!apt-get install -y -qq coinor-cbc"
      ],
      "metadata": {
        "id": "3OT2H-Prn_i4"
      },
      "execution_count": 281,
      "outputs": []
    },
    {
      "cell_type": "code",
      "source": [
        "opt_cbc = SolverFactory('cbc')"
      ],
      "metadata": {
        "id": "siz2qyRhn_mo"
      },
      "execution_count": 282,
      "outputs": []
    },
    {
      "cell_type": "code",
      "source": [
        "result = opt_cbc.solve(model)\n",
        "print('Solver status:', result.solver.status)\n",
        "print('Solver termination condition:',result.solver.termination_condition)"
      ],
      "metadata": {
        "id": "7Lb-c8kqn_rA",
        "colab": {
          "base_uri": "https://localhost:8080/"
        },
        "outputId": "57a22f76-8583-40fa-83f2-8ebc45d8a11a"
      },
      "execution_count": 283,
      "outputs": [
        {
          "output_type": "stream",
          "name": "stdout",
          "text": [
            "Solver status: ok\n",
            "Solver termination condition: optimal\n"
          ]
        }
      ]
    },
    {
      "cell_type": "code",
      "source": [
        "# display solution\n",
        "print('\\nObjective = ', model.objective())\n",
        "\n",
        "print('\\nDecision Variables')\n",
        "for i in col_indices:\n",
        "  print('  Drone Model ',data_csvfile['Drone Model'][i], model.x[i].value)\n",
        "\n",
        "print('\\nConstraints')\n",
        "model.constraints.display()"
      ],
      "metadata": {
        "id": "dwgciIA0n5_i",
        "colab": {
          "base_uri": "https://localhost:8080/"
        },
        "outputId": "6ea39d7d-a11f-4edb-c863-b19a2500ff9a"
      },
      "execution_count": 284,
      "outputs": [
        {
          "output_type": "stream",
          "name": "stdout",
          "text": [
            "\n",
            "Objective =  132.0\n",
            "\n",
            "Decision Variables\n",
            "  Drone Model  SHREY 12.0\n",
            "  Drone Model  DHARAN 0.0\n",
            "  Drone Model  SATVA 0.0\n",
            "  Drone Model  ADHYA 0.0\n",
            "  Drone Model  PRAVAT 0.0\n",
            "\n",
            "Constraints\n",
            "constraints : Size=2\n",
            "    Key : Lower : Body : Upper\n",
            "      1 :  None : 78.0 :  78.0\n",
            "      2 :  None : 69.0 :  84.0\n"
          ]
        }
      ]
    },
    {
      "cell_type": "markdown",
      "source": [
        "when dicision variable are real number the Objective =  132.0\n",
        "\n",
        "Decision Variables\n",
        "  Drone Model  SHREY 12.0\n",
        "  Drone Model  DHARAN 0.0\n",
        "  Drone Model  SATVA 0.0\n",
        "  Drone Model  ADHYA 0.0\n",
        "  Drone Model  PRAVAT 0.0\n"
      ],
      "metadata": {
        "id": "1psOYDPAxopL"
      }
    },
    {
      "cell_type": "markdown",
      "source": [
        "# now we dicision variable are non negative integers"
      ],
      "metadata": {
        "id": "xlyTuilbMXzn"
      }
    },
    {
      "cell_type": "markdown",
      "source": [],
      "metadata": {
        "id": "uevEXWZDqins"
      }
    },
    {
      "cell_type": "code",
      "source": [
        "for i in col_indices:\n",
        "  model.x[i].domain=NonNegativeIntegers"
      ],
      "metadata": {
        "id": "NFDrp9W2i16d"
      },
      "execution_count": 285,
      "outputs": []
    },
    {
      "cell_type": "code",
      "source": [
        "model.pprint()"
      ],
      "metadata": {
        "colab": {
          "base_uri": "https://localhost:8080/"
        },
        "id": "B1my89hJi2Da",
        "outputId": "4b4f76f5-a65c-4aad-94f3-0df8b2bac2c6"
      },
      "execution_count": 286,
      "outputs": [
        {
          "output_type": "stream",
          "name": "stdout",
          "text": [
            "2 Set Declarations\n",
            "    constraints_index : Size=1, Index=None, Ordered=Insertion\n",
            "        Key  : Dimen : Domain : Size : Members\n",
            "        None :     1 :    Any :    2 : {1, 2}\n",
            "    x_index : Size=1, Index=None, Ordered=Insertion\n",
            "        Key  : Dimen : Domain : Size : Members\n",
            "        None :     1 :    Any :    5 : {0, 1, 2, 3, 4}\n",
            "\n",
            "1 Var Declarations\n",
            "    x : Size=5, Index=x_index\n",
            "        Key : Lower : Value : Upper : Fixed : Stale : Domain\n",
            "          0 :     0 :  12.0 :  None : False : False : NonNegativeIntegers\n",
            "          1 :     0 :   0.0 :  None : False : False : NonNegativeIntegers\n",
            "          2 :     0 :   0.0 :  None : False : False : NonNegativeIntegers\n",
            "          3 :     0 :   0.0 :  None : False : False : NonNegativeIntegers\n",
            "          4 :     0 :   0.0 :  None : False : False : NonNegativeIntegers\n",
            "\n",
            "1 Objective Declarations\n",
            "    objective : Size=1, Index=None, Active=True\n",
            "        Key  : Active : Sense    : Expression\n",
            "        None :   True : maximize : 11*x[0] + 13*x[1] + 9*x[2] + 15*x[3] + 12*x[4]\n",
            "\n",
            "1 Constraint Declarations\n",
            "    constraints : Size=2, Index=constraints_index, Active=True\n",
            "        Key : Lower : Body                                                     : Upper : Active\n",
            "          1 :  -Inf :   6.5*x[0] + 8*x[1] + 10.5*x[2] + 11.75*x[3] + 14.5*x[4] :  78.0 :   True\n",
            "          2 :  -Inf : 5.75*x[0] + 4.5*x[1] + 3.75*x[2] + 4.85*x[3] + 3.45*x[4] :  84.0 :   True\n",
            "\n",
            "5 Declarations: x_index x objective constraints_index constraints\n"
          ]
        }
      ]
    },
    {
      "cell_type": "code",
      "source": [
        "result=opt_cbc.solve(model)\n",
        "print('solveer status:', result.solver.status)\n",
        "print('solver termination condition :',result.solver.termination_condition)"
      ],
      "metadata": {
        "colab": {
          "base_uri": "https://localhost:8080/"
        },
        "id": "XdcIGQZ0i2KH",
        "outputId": "22230f56-d98c-4fa6-c3da-77c34637dae8"
      },
      "execution_count": 287,
      "outputs": [
        {
          "output_type": "stream",
          "name": "stdout",
          "text": [
            "solveer status: ok\n",
            "solver termination condition : optimal\n"
          ]
        }
      ]
    },
    {
      "cell_type": "code",
      "source": [
        "print('\\nObjective=',model.objective())\n",
        "print('\\dicision variable')\n",
        "for i in col_indices:\n",
        "    print('Num slots for  Drone Model ',data_csvfile['Drone Model'][i], model.x[i].value)\n",
        "print('\\nConstraints')\n",
        "model.constraints.display()"
      ],
      "metadata": {
        "colab": {
          "base_uri": "https://localhost:8080/"
        },
        "id": "M00cr6v4i2Nx",
        "outputId": "9379464b-6dcc-402c-b73b-7afb81821495"
      },
      "execution_count": 288,
      "outputs": [
        {
          "output_type": "stream",
          "name": "stdout",
          "text": [
            "\n",
            "Objective= 132.0\n",
            "\\dicision variable\n",
            "Num slots for  Drone Model  SHREY 12.0\n",
            "Num slots for  Drone Model  DHARAN 0.0\n",
            "Num slots for  Drone Model  SATVA 0.0\n",
            "Num slots for  Drone Model  ADHYA 0.0\n",
            "Num slots for  Drone Model  PRAVAT 0.0\n",
            "\n",
            "Constraints\n",
            "constraints : Size=2\n",
            "    Key : Lower : Body : Upper\n",
            "      1 :  None : 78.0 :  78.0\n",
            "      2 :  None : 69.0 :  84.0\n"
          ]
        }
      ]
    },
    {
      "cell_type": "markdown",
      "source": [
        "when dicision variable are non negative integer then the bjective= 132.0\n",
        "\n",
        "\n",
        "dicision variable\n",
        "Num slots for  Drone Model  SHREY 12\n",
        "Num slots for  Drone Model  DHARAN 0.0\n",
        "Num slots for  Drone Model  SATVA 0.0\n",
        "Num slots for  Drone Model  ADHYA 0.0\n",
        "Num slots for  Drone Model  PRAVAT 0.0\n"
      ],
      "metadata": {
        "id": "HuEpom-aqlWh"
      }
    },
    {
      "cell_type": "code",
      "source": [
        "for i in col_indices:\n",
        "  model.x[i].domain=Reals"
      ],
      "metadata": {
        "id": "qxdh8Qb8i2Rp"
      },
      "execution_count": 289,
      "outputs": []
    },
    {
      "cell_type": "code",
      "source": [
        "model.pprint()"
      ],
      "metadata": {
        "colab": {
          "base_uri": "https://localhost:8080/"
        },
        "id": "QbNghZy6i2Vx",
        "outputId": "6969c6ba-b67f-4c93-eea1-d65323936ee4"
      },
      "execution_count": 290,
      "outputs": [
        {
          "output_type": "stream",
          "name": "stdout",
          "text": [
            "2 Set Declarations\n",
            "    constraints_index : Size=1, Index=None, Ordered=Insertion\n",
            "        Key  : Dimen : Domain : Size : Members\n",
            "        None :     1 :    Any :    2 : {1, 2}\n",
            "    x_index : Size=1, Index=None, Ordered=Insertion\n",
            "        Key  : Dimen : Domain : Size : Members\n",
            "        None :     1 :    Any :    5 : {0, 1, 2, 3, 4}\n",
            "\n",
            "1 Var Declarations\n",
            "    x : Size=5, Index=x_index\n",
            "        Key : Lower : Value : Upper : Fixed : Stale : Domain\n",
            "          0 :     0 :  12.0 :  None : False : False :  Reals\n",
            "          1 :     0 :   0.0 :  None : False : False :  Reals\n",
            "          2 :     0 :   0.0 :  None : False : False :  Reals\n",
            "          3 :     0 :   0.0 :  None : False : False :  Reals\n",
            "          4 :     0 :   0.0 :  None : False : False :  Reals\n",
            "\n",
            "1 Objective Declarations\n",
            "    objective : Size=1, Index=None, Active=True\n",
            "        Key  : Active : Sense    : Expression\n",
            "        None :   True : maximize : 11*x[0] + 13*x[1] + 9*x[2] + 15*x[3] + 12*x[4]\n",
            "\n",
            "1 Constraint Declarations\n",
            "    constraints : Size=2, Index=constraints_index, Active=True\n",
            "        Key : Lower : Body                                                     : Upper : Active\n",
            "          1 :  -Inf :   6.5*x[0] + 8*x[1] + 10.5*x[2] + 11.75*x[3] + 14.5*x[4] :  78.0 :   True\n",
            "          2 :  -Inf : 5.75*x[0] + 4.5*x[1] + 3.75*x[2] + 4.85*x[3] + 3.45*x[4] :  84.0 :   True\n",
            "\n",
            "5 Declarations: x_index x objective constraints_index constraints\n"
          ]
        }
      ]
    },
    {
      "cell_type": "code",
      "source": [
        "result=opt_cbc.solve(model)\n",
        "print('solveer status:', result.solver.status)\n",
        "print('solver termination condition :',result.solver.termination_condition)"
      ],
      "metadata": {
        "colab": {
          "base_uri": "https://localhost:8080/"
        },
        "id": "RbTCxjdvi2a5",
        "outputId": "3192863b-cc99-471f-8142-7d62e96ab494"
      },
      "execution_count": 291,
      "outputs": [
        {
          "output_type": "stream",
          "name": "stdout",
          "text": [
            "solveer status: ok\n",
            "solver termination condition : optimal\n"
          ]
        }
      ]
    },
    {
      "cell_type": "code",
      "source": [
        "print('\\nObjective=',model.objective())\n",
        "print('\\dicision variable')\n",
        "for i in col_indices:\n",
        "    print('Num slots for  Drone Model ',data_csvfile['Drone Model'][i], model.x[i].value)\n",
        "print('\\nConstraints')\n",
        "model.constraints.display()"
      ],
      "metadata": {
        "colab": {
          "base_uri": "https://localhost:8080/"
        },
        "id": "r1gsOnm7i2ep",
        "outputId": "2afdb85f-4c05-418a-e569-d3a0243d327e"
      },
      "execution_count": 292,
      "outputs": [
        {
          "output_type": "stream",
          "name": "stdout",
          "text": [
            "\n",
            "Objective= 132.0\n",
            "\\dicision variable\n",
            "Num slots for  Drone Model  SHREY 12.0\n",
            "Num slots for  Drone Model  DHARAN 0.0\n",
            "Num slots for  Drone Model  SATVA 0.0\n",
            "Num slots for  Drone Model  ADHYA 0.0\n",
            "Num slots for  Drone Model  PRAVAT 0.0\n",
            "\n",
            "Constraints\n",
            "constraints : Size=2\n",
            "    Key : Lower : Body : Upper\n",
            "      1 :  None : 78.0 :  78.0\n",
            "      2 :  None : 69.0 :  84.0\n"
          ]
        }
      ]
    },
    {
      "cell_type": "code",
      "source": [],
      "metadata": {
        "id": "WE3zPKGwi2iX"
      },
      "execution_count": 292,
      "outputs": []
    },
    {
      "cell_type": "markdown",
      "source": [
        "Objective= 132.0\n",
        "\\dicision variable\n",
        "Num slots for  Drone Model  SHREY 12.0\n",
        "Num slots for  Drone Model  DHARAN 0.0\n",
        "Num slots for  Drone Model  SATVA 0.0\n",
        "Num slots for  Drone Model  ADHYA 0.0\n",
        "Num slots for  Drone Model  PRAVAT 0.0\n"
      ],
      "metadata": {
        "id": "J0Za-hoj2IXI"
      }
    },
    {
      "cell_type": "markdown",
      "source": [
        "Q8-- ans_--\n",
        "in this case using real number and integer the objetive value are  same that reason there no need for  rounding \n",
        "drone model  Carrying Capacity is integer that reson when using integer and using real number are same "
      ],
      "metadata": {
        "id": "omCw5bpTzBCI"
      }
    },
    {
      "cell_type": "markdown",
      "source": [
        "\n",
        "\n",
        "Q9``` first we take dicision variable are real number (LP)\n",
        "\n",
        "6.5x0+8x1+10.5x2+11.75x3+14.5x4<=76,\n",
        "5.75x0+4.5x1+3.75x2+4.85x3+3.45x4<=87"
      ],
      "metadata": {
        "id": "FyGUxmlMn5ii"
      }
    },
    {
      "cell_type": "code",
      "source": [
        "model.constraints[1].deactivate()\n",
        "model.constraints[2].deactivate()"
      ],
      "metadata": {
        "id": "S1bU1ozao_PP"
      },
      "execution_count": 293,
      "outputs": []
    },
    {
      "cell_type": "code",
      "source": [
        "model.constraints.add(expr=6.5* model.x[0] +8* model.x[1] +10.5* model.x[2]+11.75*model.x[3]+14.5*model.x[4]<= 76  )\n",
        "model.constraints.add(expr= 5.75*model.x[0] +4.5* model.x[1] + 3.75* model.x[2] +4.85*model.x[3]+3.45*model.x[4]<= 87  )\n"
      ],
      "metadata": {
        "colab": {
          "base_uri": "https://localhost:8080/"
        },
        "id": "nT1RG6Gbo_cD",
        "outputId": "75a91cfc-73a9-48f3-acf5-d83df7fe23e7"
      },
      "execution_count": 294,
      "outputs": [
        {
          "output_type": "execute_result",
          "data": {
            "text/plain": [
              "<pyomo.core.base.constraint._GeneralConstraintData at 0x7f81fab857c0>"
            ]
          },
          "metadata": {},
          "execution_count": 294
        }
      ]
    },
    {
      "cell_type": "code",
      "source": [
        "result=opt_cbc.solve(model)\n",
        "print(result)\n",
        "print('solver status:',result.solver.status)\n",
        "print('solver termination condition:',result.solver.termination_condition)\n",
        "print('solver time:,result.solver.time')"
      ],
      "metadata": {
        "colab": {
          "base_uri": "https://localhost:8080/"
        },
        "id": "95q0oLybo_qH",
        "outputId": "c812472d-dcc9-4d87-b8f3-5096c9278ff7"
      },
      "execution_count": 295,
      "outputs": [
        {
          "output_type": "stream",
          "name": "stdout",
          "text": [
            "\n",
            "Problem: \n",
            "- Name: unknown\n",
            "  Lower bound: 128.6153846\n",
            "  Upper bound: 128.6153846\n",
            "  Number of objectives: 1\n",
            "  Number of constraints: 3\n",
            "  Number of variables: 6\n",
            "  Number of nonzeros: 5\n",
            "  Sense: maximize\n",
            "Solver: \n",
            "- Status: ok\n",
            "  User time: -1.0\n",
            "  System time: 0.0\n",
            "  Wallclock time: 0.0\n",
            "  Termination condition: optimal\n",
            "  Termination message: Model was solved to optimality (subject to tolerances), and an optimal solution is available.\n",
            "  Statistics: \n",
            "    Branch and bound: \n",
            "      Number of bounded subproblems: None\n",
            "      Number of created subproblems: None\n",
            "    Black box: \n",
            "      Number of iterations: 1\n",
            "  Error rc: 0\n",
            "  Time: 0.021434783935546875\n",
            "Solution: \n",
            "- number of solutions: 0\n",
            "  number of solutions displayed: 0\n",
            "\n",
            "solver status: ok\n",
            "solver termination condition: optimal\n",
            "solver time:,result.solver.time\n"
          ]
        }
      ]
    },
    {
      "cell_type": "code",
      "source": [],
      "metadata": {
        "id": "xDWgiNBcsSm2"
      },
      "execution_count": 295,
      "outputs": []
    },
    {
      "cell_type": "code",
      "source": [],
      "metadata": {
        "id": "WYaNbkHeeSTl"
      },
      "execution_count": 295,
      "outputs": []
    },
    {
      "cell_type": "code",
      "source": [],
      "metadata": {
        "id": "6vpioAEPeSYx"
      },
      "execution_count": 295,
      "outputs": []
    },
    {
      "cell_type": "code",
      "source": [],
      "metadata": {
        "id": "3vJf90HaeSdk"
      },
      "execution_count": 295,
      "outputs": []
    },
    {
      "cell_type": "markdown",
      "source": [],
      "metadata": {
        "id": "Ax03DHEueNQC"
      }
    },
    {
      "cell_type": "code",
      "source": [
        "#display solution\n",
        "print('\\nobjetive ',model.objective())\n",
        "print('\\ndicision variable')\n",
        "for i in col_indices:\n",
        "    print('  Drone Model ',data_csvfile['Drone Model'][i], model.x[i].value)\n",
        "print('\\nConstraints')\n",
        "model.constraints.display()"
      ],
      "metadata": {
        "colab": {
          "base_uri": "https://localhost:8080/"
        },
        "id": "QVR1xIWPo_vQ",
        "outputId": "7cc35ade-93d7-4c10-a0e5-5ac20b8cbc8a"
      },
      "execution_count": 296,
      "outputs": [
        {
          "output_type": "stream",
          "name": "stdout",
          "text": [
            "\n",
            "objetive  128.615388\n",
            "\n",
            "dicision variable\n",
            "  Drone Model  SHREY 11.692308\n",
            "  Drone Model  DHARAN 0.0\n",
            "  Drone Model  SATVA 0.0\n",
            "  Drone Model  ADHYA 0.0\n",
            "  Drone Model  PRAVAT 0.0\n",
            "\n",
            "Constraints\n",
            "constraints : Size=4\n",
            "    Key : Lower : Body              : Upper\n",
            "      3 :  None : 76.00000200000001 :  76.0\n",
            "      4 :  None :         67.230771 :  87.0\n"
          ]
        }
      ]
    },
    {
      "cell_type": "markdown",
      "source": [
        "9-- now take dicision variable are non negtive integer (MILF)"
      ],
      "metadata": {
        "id": "Q5Q7hn34mvLc"
      }
    },
    {
      "cell_type": "code",
      "source": [
        "for i in col_indices:\n",
        "  model.x[i].domain=NonNegativeIntegers"
      ],
      "metadata": {
        "id": "nrCVgVuxsSrf"
      },
      "execution_count": 297,
      "outputs": []
    },
    {
      "cell_type": "code",
      "source": [],
      "metadata": {
        "id": "000kzaJEmuqu"
      },
      "execution_count": 297,
      "outputs": []
    },
    {
      "cell_type": "code",
      "source": [
        "model.pprint()"
      ],
      "metadata": {
        "id": "ans4KtALsSwF",
        "colab": {
          "base_uri": "https://localhost:8080/"
        },
        "outputId": "234a0085-8339-4dd1-d183-f15eae0434f2"
      },
      "execution_count": 298,
      "outputs": [
        {
          "output_type": "stream",
          "name": "stdout",
          "text": [
            "2 Set Declarations\n",
            "    constraints_index : Size=1, Index=None, Ordered=Insertion\n",
            "        Key  : Dimen : Domain : Size : Members\n",
            "        None :     1 :    Any :    4 : {1, 2, 3, 4}\n",
            "    x_index : Size=1, Index=None, Ordered=Insertion\n",
            "        Key  : Dimen : Domain : Size : Members\n",
            "        None :     1 :    Any :    5 : {0, 1, 2, 3, 4}\n",
            "\n",
            "1 Var Declarations\n",
            "    x : Size=5, Index=x_index\n",
            "        Key : Lower : Value     : Upper : Fixed : Stale : Domain\n",
            "          0 :     0 : 11.692308 :  None : False : False : NonNegativeIntegers\n",
            "          1 :     0 :       0.0 :  None : False : False : NonNegativeIntegers\n",
            "          2 :     0 :       0.0 :  None : False : False : NonNegativeIntegers\n",
            "          3 :     0 :       0.0 :  None : False : False : NonNegativeIntegers\n",
            "          4 :     0 :       0.0 :  None : False : False : NonNegativeIntegers\n",
            "\n",
            "1 Objective Declarations\n",
            "    objective : Size=1, Index=None, Active=True\n",
            "        Key  : Active : Sense    : Expression\n",
            "        None :   True : maximize : 11*x[0] + 13*x[1] + 9*x[2] + 15*x[3] + 12*x[4]\n",
            "\n",
            "1 Constraint Declarations\n",
            "    constraints : Size=4, Index=constraints_index, Active=True\n",
            "        Key : Lower : Body                                                     : Upper : Active\n",
            "          1 :  -Inf :   6.5*x[0] + 8*x[1] + 10.5*x[2] + 11.75*x[3] + 14.5*x[4] :  78.0 :  False\n",
            "          2 :  -Inf : 5.75*x[0] + 4.5*x[1] + 3.75*x[2] + 4.85*x[3] + 3.45*x[4] :  84.0 :  False\n",
            "          3 :  -Inf :   6.5*x[0] + 8*x[1] + 10.5*x[2] + 11.75*x[3] + 14.5*x[4] :  76.0 :   True\n",
            "          4 :  -Inf : 5.75*x[0] + 4.5*x[1] + 3.75*x[2] + 4.85*x[3] + 3.45*x[4] :  87.0 :   True\n",
            "\n",
            "5 Declarations: x_index x objective constraints_index constraints\n"
          ]
        }
      ]
    },
    {
      "cell_type": "code",
      "source": [
        "result=opt_cbc.solve(model)\n",
        "print(result)\n",
        "print('solver status:',result.solver.status)\n",
        "print('solver termination condition:',result.solver.termination_condition)\n",
        "print('solver time:,result.solver.time')"
      ],
      "metadata": {
        "id": "-83V7Exmo_gD",
        "colab": {
          "base_uri": "https://localhost:8080/"
        },
        "outputId": "d89050e4-9684-4dca-bb92-ffb222c181ec"
      },
      "execution_count": 299,
      "outputs": [
        {
          "output_type": "stream",
          "name": "stdout",
          "text": [
            "\n",
            "Problem: \n",
            "- Name: unknown\n",
            "  Lower bound: 127.0\n",
            "  Upper bound: 127.0\n",
            "  Number of objectives: 1\n",
            "  Number of constraints: 2\n",
            "  Number of variables: 5\n",
            "  Number of binary variables: 0\n",
            "  Number of integer variables: 5\n",
            "  Number of nonzeros: 5\n",
            "  Sense: maximize\n",
            "Solver: \n",
            "- Status: ok\n",
            "  User time: -1.0\n",
            "  System time: 0.0\n",
            "  Wallclock time: 0.01\n",
            "  Termination condition: optimal\n",
            "  Termination message: Model was solved to optimality (subject to tolerances), and an optimal solution is available.\n",
            "  Statistics: \n",
            "    Branch and bound: \n",
            "      Number of bounded subproblems: 0\n",
            "      Number of created subproblems: 0\n",
            "    Black box: \n",
            "      Number of iterations: 1\n",
            "  Error rc: 0\n",
            "  Time: 0.03438901901245117\n",
            "Solution: \n",
            "- number of solutions: 0\n",
            "  number of solutions displayed: 0\n",
            "\n",
            "solver status: ok\n",
            "solver termination condition: optimal\n",
            "solver time:,result.solver.time\n"
          ]
        }
      ]
    },
    {
      "cell_type": "code",
      "source": [
        "#display solution\n",
        "print('\\nobjetive ',model.objective())\n",
        "print('\\ndicision variable')\n",
        "for i in col_indices:\n",
        "    print('  Drone Model ',data_csvfile['Drone Model'][i], model.x[i].value)\n",
        "print('\\nConstraints')\n",
        "model.constraints.display()"
      ],
      "metadata": {
        "colab": {
          "base_uri": "https://localhost:8080/"
        },
        "id": "1wvEjmp_ggTH",
        "outputId": "1c11731c-d98c-4fde-dcf0-4c380e45c71d"
      },
      "execution_count": 300,
      "outputs": [
        {
          "output_type": "stream",
          "name": "stdout",
          "text": [
            "\n",
            "objetive  127.0\n",
            "\n",
            "dicision variable\n",
            "  Drone Model  SHREY 8.0\n",
            "  Drone Model  DHARAN 3.0\n",
            "  Drone Model  SATVA 0.0\n",
            "  Drone Model  ADHYA 0.0\n",
            "  Drone Model  PRAVAT 0.0\n",
            "\n",
            "Constraints\n",
            "constraints : Size=4\n",
            "    Key : Lower : Body : Upper\n",
            "      3 :  None : 76.0 :  76.0\n",
            "      4 :  None : 59.5 :  87.0\n"
          ]
        }
      ]
    },
    {
      "cell_type": "code",
      "source": [],
      "metadata": {
        "id": "5TebstQfggeU"
      },
      "execution_count": 300,
      "outputs": []
    },
    {
      "cell_type": "markdown",
      "source": [
        "9 ans-- \n",
        "dicision variable are real number then\n",
        "objetive  128.615388\n",
        "\n",
        "dicision variable\n",
        "  Drone Model  SHREY 11.692308\n",
        "  Drone Model  DHARAN 0.0\n",
        "  Drone Model  SATVA 0.0\n",
        "  Drone Model  ADHYA 0.0\n",
        "  Drone Model  PRAVAT 0.0\n",
        "\n",
        "when using dicision variable are integer\n",
        "  objetive  127.0\n",
        "\n",
        "dicision variable\n",
        "  Drone Model  SHREY 8.0\n",
        "  Drone Model  DHARAN 3.0\n",
        "  Drone Model  SATVA 0.0\n",
        "  Drone Model  ADHYA 0.0\n",
        "  Drone Model  PRAVAT 0.0\n",
        "  budget is decreased to 76 crores of\n",
        "rupees and the parking space is increased to 87 units that reason optimal solution change"
      ],
      "metadata": {
        "id": "l3o0up-023e4"
      }
    },
    {
      "cell_type": "markdown",
      "source": [
        "Q10_\n",
        "frist take real number(LP)\n",
        "6.5x0+8x1+10.5x2+11.75x3+14.5x4<=74\n",
        "5.75x0+4.5x1+3.75x2+4.85x3+3.45x4<=88"
      ],
      "metadata": {
        "id": "RPjUEwGyM-WD"
      }
    },
    {
      "cell_type": "code",
      "source": [
        "model.constraints[3].deactivate()\n",
        "model.constraints[4].deactivate()"
      ],
      "metadata": {
        "id": "grzCCT8vr6LY"
      },
      "execution_count": 301,
      "outputs": []
    },
    {
      "cell_type": "code",
      "source": [
        "for i in col_indices:\n",
        "  model.x[i].domain=Reals"
      ],
      "metadata": {
        "id": "DFzCknEoiNOm"
      },
      "execution_count": 302,
      "outputs": []
    },
    {
      "cell_type": "code",
      "source": [],
      "metadata": {
        "id": "fkPmZQ-hsBJz"
      },
      "execution_count": 302,
      "outputs": []
    },
    {
      "cell_type": "code",
      "source": [
        "model.constraints.add(expr=6.5* model.x[0] +8* model.x[1] +10.5* model.x[2]+11.75*model.x[3]+14.5*model.x[4]<= 74)\n",
        "model.constraints.add(expr= 5.75*model.x[0] +4.5* model.x[1] + 3.75* model.x[2] +4.85*model.x[3]+3.45*model.x[4]<= 88  )\n"
      ],
      "metadata": {
        "colab": {
          "base_uri": "https://localhost:8080/"
        },
        "id": "Gxmupjrss0ZU",
        "outputId": "69982cbb-6d52-4b9d-b3b6-dadd2eab7d30"
      },
      "execution_count": 303,
      "outputs": [
        {
          "output_type": "execute_result",
          "data": {
            "text/plain": [
              "<pyomo.core.base.constraint._GeneralConstraintData at 0x7f81faa6f6e0>"
            ]
          },
          "metadata": {},
          "execution_count": 303
        }
      ]
    },
    {
      "cell_type": "code",
      "source": [
        "model.pprint()"
      ],
      "metadata": {
        "colab": {
          "base_uri": "https://localhost:8080/"
        },
        "id": "_bn0uVWPs0ep",
        "outputId": "6b911e85-3ff4-451a-ee51-97f32a62821b"
      },
      "execution_count": 304,
      "outputs": [
        {
          "output_type": "stream",
          "name": "stdout",
          "text": [
            "2 Set Declarations\n",
            "    constraints_index : Size=1, Index=None, Ordered=Insertion\n",
            "        Key  : Dimen : Domain : Size : Members\n",
            "        None :     1 :    Any :    6 : {1, 2, 3, 4, 5, 6}\n",
            "    x_index : Size=1, Index=None, Ordered=Insertion\n",
            "        Key  : Dimen : Domain : Size : Members\n",
            "        None :     1 :    Any :    5 : {0, 1, 2, 3, 4}\n",
            "\n",
            "1 Var Declarations\n",
            "    x : Size=5, Index=x_index\n",
            "        Key : Lower : Value : Upper : Fixed : Stale : Domain\n",
            "          0 :     0 :   8.0 :  None : False : False :  Reals\n",
            "          1 :     0 :   3.0 :  None : False : False :  Reals\n",
            "          2 :     0 :   0.0 :  None : False : False :  Reals\n",
            "          3 :     0 :   0.0 :  None : False : False :  Reals\n",
            "          4 :     0 :   0.0 :  None : False : False :  Reals\n",
            "\n",
            "1 Objective Declarations\n",
            "    objective : Size=1, Index=None, Active=True\n",
            "        Key  : Active : Sense    : Expression\n",
            "        None :   True : maximize : 11*x[0] + 13*x[1] + 9*x[2] + 15*x[3] + 12*x[4]\n",
            "\n",
            "1 Constraint Declarations\n",
            "    constraints : Size=6, Index=constraints_index, Active=True\n",
            "        Key : Lower : Body                                                     : Upper : Active\n",
            "          1 :  -Inf :   6.5*x[0] + 8*x[1] + 10.5*x[2] + 11.75*x[3] + 14.5*x[4] :  78.0 :  False\n",
            "          2 :  -Inf : 5.75*x[0] + 4.5*x[1] + 3.75*x[2] + 4.85*x[3] + 3.45*x[4] :  84.0 :  False\n",
            "          3 :  -Inf :   6.5*x[0] + 8*x[1] + 10.5*x[2] + 11.75*x[3] + 14.5*x[4] :  76.0 :  False\n",
            "          4 :  -Inf : 5.75*x[0] + 4.5*x[1] + 3.75*x[2] + 4.85*x[3] + 3.45*x[4] :  87.0 :  False\n",
            "          5 :  -Inf :   6.5*x[0] + 8*x[1] + 10.5*x[2] + 11.75*x[3] + 14.5*x[4] :  74.0 :   True\n",
            "          6 :  -Inf : 5.75*x[0] + 4.5*x[1] + 3.75*x[2] + 4.85*x[3] + 3.45*x[4] :  88.0 :   True\n",
            "\n",
            "5 Declarations: x_index x objective constraints_index constraints\n"
          ]
        }
      ]
    },
    {
      "cell_type": "code",
      "source": [],
      "metadata": {
        "id": "FkbKVuzss0jo"
      },
      "execution_count": 304,
      "outputs": []
    },
    {
      "cell_type": "code",
      "source": [
        "result=opt_cbc.solve(model)\n",
        "print(result)\n",
        "print('solver status:',result.solver.status)\n",
        "print('solver termination condition:',result.solver.termination_condition)"
      ],
      "metadata": {
        "colab": {
          "base_uri": "https://localhost:8080/"
        },
        "id": "dGhzIxsUs0nx",
        "outputId": "ab0bc211-3649-4fd4-bbef-d228c4e350c1"
      },
      "execution_count": 305,
      "outputs": [
        {
          "output_type": "stream",
          "name": "stdout",
          "text": [
            "\n",
            "Problem: \n",
            "- Name: unknown\n",
            "  Lower bound: 125.2307692\n",
            "  Upper bound: 125.2307692\n",
            "  Number of objectives: 1\n",
            "  Number of constraints: 3\n",
            "  Number of variables: 6\n",
            "  Number of nonzeros: 5\n",
            "  Sense: maximize\n",
            "Solver: \n",
            "- Status: ok\n",
            "  User time: -1.0\n",
            "  System time: 0.0\n",
            "  Wallclock time: 0.0\n",
            "  Termination condition: optimal\n",
            "  Termination message: Model was solved to optimality (subject to tolerances), and an optimal solution is available.\n",
            "  Statistics: \n",
            "    Branch and bound: \n",
            "      Number of bounded subproblems: None\n",
            "      Number of created subproblems: None\n",
            "    Black box: \n",
            "      Number of iterations: 1\n",
            "  Error rc: 0\n",
            "  Time: 0.02504444122314453\n",
            "Solution: \n",
            "- number of solutions: 0\n",
            "  number of solutions displayed: 0\n",
            "\n",
            "solver status: ok\n",
            "solver termination condition: optimal\n"
          ]
        }
      ]
    },
    {
      "cell_type": "code",
      "source": [
        "#display solution\n",
        "print('\\nobjective ',model.objective())\n",
        "for i in col_indices:\n",
        "  print('\\n Dorne model',data_csvfile['Drone Model'][i],model.x[i].value)\n",
        "\n",
        "print('\\nconstraint')\n",
        "model.constraints.display()"
      ],
      "metadata": {
        "colab": {
          "base_uri": "https://localhost:8080/"
        },
        "id": "G_HW4OkAtRaB",
        "outputId": "ffa5274b-9244-49dd-f1c3-85a4764dea04"
      },
      "execution_count": 306,
      "outputs": [
        {
          "output_type": "stream",
          "name": "stdout",
          "text": [
            "\n",
            "objective  125.230765\n",
            "\n",
            " Dorne model SHREY 11.384615\n",
            "\n",
            " Dorne model DHARAN 0.0\n",
            "\n",
            " Dorne model SATVA 0.0\n",
            "\n",
            " Dorne model ADHYA 0.0\n",
            "\n",
            " Dorne model PRAVAT 0.0\n",
            "\n",
            "constraint\n",
            "constraints : Size=6\n",
            "    Key : Lower : Body        : Upper\n",
            "      5 :  None :  73.9999975 :  74.0\n",
            "      6 :  None : 65.46153625 :  88.0\n"
          ]
        }
      ]
    },
    {
      "cell_type": "markdown",
      "source": [
        "now we take dicision variable are non negetive integer(MILF)"
      ],
      "metadata": {
        "id": "HJPAynIQnVfZ"
      }
    },
    {
      "cell_type": "code",
      "source": [
        "for i in col_indices:\n",
        "  model.x[i].domain=NonNegativeIntegers"
      ],
      "metadata": {
        "id": "6pYcsOtng1IK"
      },
      "execution_count": 307,
      "outputs": []
    },
    {
      "cell_type": "code",
      "source": [
        "model.pprint()"
      ],
      "metadata": {
        "colab": {
          "base_uri": "https://localhost:8080/"
        },
        "id": "Gf4wQk6Xg8Vl",
        "outputId": "0ecddd38-c62e-42b8-e9fd-aafa26ba815e"
      },
      "execution_count": 308,
      "outputs": [
        {
          "output_type": "stream",
          "name": "stdout",
          "text": [
            "2 Set Declarations\n",
            "    constraints_index : Size=1, Index=None, Ordered=Insertion\n",
            "        Key  : Dimen : Domain : Size : Members\n",
            "        None :     1 :    Any :    6 : {1, 2, 3, 4, 5, 6}\n",
            "    x_index : Size=1, Index=None, Ordered=Insertion\n",
            "        Key  : Dimen : Domain : Size : Members\n",
            "        None :     1 :    Any :    5 : {0, 1, 2, 3, 4}\n",
            "\n",
            "1 Var Declarations\n",
            "    x : Size=5, Index=x_index\n",
            "        Key : Lower : Value     : Upper : Fixed : Stale : Domain\n",
            "          0 :     0 : 11.384615 :  None : False : False : NonNegativeIntegers\n",
            "          1 :     0 :       0.0 :  None : False : False : NonNegativeIntegers\n",
            "          2 :     0 :       0.0 :  None : False : False : NonNegativeIntegers\n",
            "          3 :     0 :       0.0 :  None : False : False : NonNegativeIntegers\n",
            "          4 :     0 :       0.0 :  None : False : False : NonNegativeIntegers\n",
            "\n",
            "1 Objective Declarations\n",
            "    objective : Size=1, Index=None, Active=True\n",
            "        Key  : Active : Sense    : Expression\n",
            "        None :   True : maximize : 11*x[0] + 13*x[1] + 9*x[2] + 15*x[3] + 12*x[4]\n",
            "\n",
            "1 Constraint Declarations\n",
            "    constraints : Size=6, Index=constraints_index, Active=True\n",
            "        Key : Lower : Body                                                     : Upper : Active\n",
            "          1 :  -Inf :   6.5*x[0] + 8*x[1] + 10.5*x[2] + 11.75*x[3] + 14.5*x[4] :  78.0 :  False\n",
            "          2 :  -Inf : 5.75*x[0] + 4.5*x[1] + 3.75*x[2] + 4.85*x[3] + 3.45*x[4] :  84.0 :  False\n",
            "          3 :  -Inf :   6.5*x[0] + 8*x[1] + 10.5*x[2] + 11.75*x[3] + 14.5*x[4] :  76.0 :  False\n",
            "          4 :  -Inf : 5.75*x[0] + 4.5*x[1] + 3.75*x[2] + 4.85*x[3] + 3.45*x[4] :  87.0 :  False\n",
            "          5 :  -Inf :   6.5*x[0] + 8*x[1] + 10.5*x[2] + 11.75*x[3] + 14.5*x[4] :  74.0 :   True\n",
            "          6 :  -Inf : 5.75*x[0] + 4.5*x[1] + 3.75*x[2] + 4.85*x[3] + 3.45*x[4] :  88.0 :   True\n",
            "\n",
            "5 Declarations: x_index x objective constraints_index constraints\n"
          ]
        }
      ]
    },
    {
      "cell_type": "code",
      "source": [
        "result=opt_cbc.solve(model)\n",
        "print(result)\n",
        "print('solver status:',result.solver.status)\n",
        "print('solver termination condition:',result.solver.termination_condition)"
      ],
      "metadata": {
        "colab": {
          "base_uri": "https://localhost:8080/"
        },
        "id": "4Ey3w4tvg2p0",
        "outputId": "0eff0629-0a94-419a-8cd3-70885deabc05"
      },
      "execution_count": 309,
      "outputs": [
        {
          "output_type": "stream",
          "name": "stdout",
          "text": [
            "\n",
            "Problem: \n",
            "- Name: unknown\n",
            "  Lower bound: 123.0\n",
            "  Upper bound: 123.0\n",
            "  Number of objectives: 1\n",
            "  Number of constraints: 2\n",
            "  Number of variables: 5\n",
            "  Number of binary variables: 0\n",
            "  Number of integer variables: 5\n",
            "  Number of nonzeros: 5\n",
            "  Sense: maximize\n",
            "Solver: \n",
            "- Status: ok\n",
            "  User time: -1.0\n",
            "  System time: 0.01\n",
            "  Wallclock time: 0.01\n",
            "  Termination condition: optimal\n",
            "  Termination message: Model was solved to optimality (subject to tolerances), and an optimal solution is available.\n",
            "  Statistics: \n",
            "    Branch and bound: \n",
            "      Number of bounded subproblems: 0\n",
            "      Number of created subproblems: 0\n",
            "    Black box: \n",
            "      Number of iterations: 13\n",
            "  Error rc: 0\n",
            "  Time: 0.03294062614440918\n",
            "Solution: \n",
            "- number of solutions: 0\n",
            "  number of solutions displayed: 0\n",
            "\n",
            "solver status: ok\n",
            "solver termination condition: optimal\n"
          ]
        }
      ]
    },
    {
      "cell_type": "code",
      "source": [
        "#display solution\n",
        "print('\\nobjective ',model.objective())\n",
        "for i in col_indices:\n",
        "  print('\\n Dorne model',data_csvfile['Drone Model'][i],model.x[i].value)\n",
        "\n",
        "print('\\nconstraint')\n",
        "model.constraints.display()"
      ],
      "metadata": {
        "colab": {
          "base_uri": "https://localhost:8080/"
        },
        "id": "i4AVOkUmg2wC",
        "outputId": "2c38570a-1899-476b-d11e-7922345f6502"
      },
      "execution_count": 310,
      "outputs": [
        {
          "output_type": "stream",
          "name": "stdout",
          "text": [
            "\n",
            "objective  123.0\n",
            "\n",
            " Dorne model SHREY 10.0\n",
            "\n",
            " Dorne model DHARAN 1.0\n",
            "\n",
            " Dorne model SATVA 0.0\n",
            "\n",
            " Dorne model ADHYA 0.0\n",
            "\n",
            " Dorne model PRAVAT 0.0\n",
            "\n",
            "constraint\n",
            "constraints : Size=6\n",
            "    Key : Lower : Body : Upper\n",
            "      5 :  None : 73.0 :  74.0\n",
            "      6 :  None : 62.0 :  88.0\n"
          ]
        }
      ]
    },
    {
      "cell_type": "code",
      "source": [],
      "metadata": {
        "id": "D2fQ7nFSg21K"
      },
      "execution_count": 310,
      "outputs": []
    },
    {
      "cell_type": "markdown",
      "source": [
        " 10 ans-\n",
        " using the dicision variable are real number\n",
        " objective  125.230765\n",
        "\n",
        " Dorne model SHREY 11.384615\n",
        "\n",
        " Dorne model DHARAN 0.0\n",
        "\n",
        " Dorne model SATVA 0.0\n",
        "\n",
        " Dorne model ADHYA 0.0\n",
        "\n",
        " Dorne model PRAVAT 0.0\n",
        " # when using integer\n",
        " objective  123.0\n",
        "\n",
        " Dorne model SHREY 10.0\n",
        "\n",
        " Dorne model DHARAN 1.0\n",
        "\n",
        " Dorne model SATVA 0.0\n",
        "\n",
        " Dorne model ADHYA 0.0\n",
        "\n",
        " Dorne model PRAVAT 0.0\n",
        "\n",
        "\n",
        "\n"
      ],
      "metadata": {
        "id": "mYiP5PgF5nwb"
      }
    },
    {
      "cell_type": "markdown",
      "source": [
        "10--\n",
        "frist we take real number(LP)\n",
        "6.5x0+8x1+10.5x2+11.75x3+14.5x4<=72\n",
        "5.75x0+4.5x1+3.75x2+4.85x3+3.45x4<=89"
      ],
      "metadata": {
        "id": "MEIn54QPNKuk"
      }
    },
    {
      "cell_type": "code",
      "source": [
        "model.constraints[5].deactivate()\n",
        "model.constraints[6].deactivate()"
      ],
      "metadata": {
        "id": "qn-h-rQotlaL"
      },
      "execution_count": 311,
      "outputs": []
    },
    {
      "cell_type": "code",
      "source": [
        "for i in col_indices:\n",
        "  model.x[i].domain=Reals"
      ],
      "metadata": {
        "id": "t913Hx5liIzh"
      },
      "execution_count": 312,
      "outputs": []
    },
    {
      "cell_type": "code",
      "source": [
        "model.constraints.add(expr=6.5* model.x[0] +8* model.x[1] +10.5* model.x[2]+11.75*model.x[3]+14.5*model.x[4]<= 72)\n",
        "model.constraints.add(expr= 5.75*model.x[0] +4.5* model.x[1] + 3.75* model.x[2] +4.85*model.x[3]+3.45*model.x[4]<= 89 )\n"
      ],
      "metadata": {
        "colab": {
          "base_uri": "https://localhost:8080/"
        },
        "id": "Iv7KoTFLt8_q",
        "outputId": "a99a6fd1-947a-47e3-ec5f-30e4eb100eeb"
      },
      "execution_count": 313,
      "outputs": [
        {
          "output_type": "execute_result",
          "data": {
            "text/plain": [
              "<pyomo.core.base.constraint._GeneralConstraintData at 0x7f81faa622f0>"
            ]
          },
          "metadata": {},
          "execution_count": 313
        }
      ]
    },
    {
      "cell_type": "code",
      "source": [
        "model.pprint()"
      ],
      "metadata": {
        "colab": {
          "base_uri": "https://localhost:8080/"
        },
        "id": "4rVUPGxcune-",
        "outputId": "51575b5e-47c5-4746-9a81-bd1448b8cf61"
      },
      "execution_count": 314,
      "outputs": [
        {
          "output_type": "stream",
          "name": "stdout",
          "text": [
            "2 Set Declarations\n",
            "    constraints_index : Size=1, Index=None, Ordered=Insertion\n",
            "        Key  : Dimen : Domain : Size : Members\n",
            "        None :     1 :    Any :    8 : {1, 2, 3, 4, 5, 6, 7, 8}\n",
            "    x_index : Size=1, Index=None, Ordered=Insertion\n",
            "        Key  : Dimen : Domain : Size : Members\n",
            "        None :     1 :    Any :    5 : {0, 1, 2, 3, 4}\n",
            "\n",
            "1 Var Declarations\n",
            "    x : Size=5, Index=x_index\n",
            "        Key : Lower : Value : Upper : Fixed : Stale : Domain\n",
            "          0 :     0 :  10.0 :  None : False : False :  Reals\n",
            "          1 :     0 :   1.0 :  None : False : False :  Reals\n",
            "          2 :     0 :   0.0 :  None : False : False :  Reals\n",
            "          3 :     0 :   0.0 :  None : False : False :  Reals\n",
            "          4 :     0 :   0.0 :  None : False : False :  Reals\n",
            "\n",
            "1 Objective Declarations\n",
            "    objective : Size=1, Index=None, Active=True\n",
            "        Key  : Active : Sense    : Expression\n",
            "        None :   True : maximize : 11*x[0] + 13*x[1] + 9*x[2] + 15*x[3] + 12*x[4]\n",
            "\n",
            "1 Constraint Declarations\n",
            "    constraints : Size=8, Index=constraints_index, Active=True\n",
            "        Key : Lower : Body                                                     : Upper : Active\n",
            "          1 :  -Inf :   6.5*x[0] + 8*x[1] + 10.5*x[2] + 11.75*x[3] + 14.5*x[4] :  78.0 :  False\n",
            "          2 :  -Inf : 5.75*x[0] + 4.5*x[1] + 3.75*x[2] + 4.85*x[3] + 3.45*x[4] :  84.0 :  False\n",
            "          3 :  -Inf :   6.5*x[0] + 8*x[1] + 10.5*x[2] + 11.75*x[3] + 14.5*x[4] :  76.0 :  False\n",
            "          4 :  -Inf : 5.75*x[0] + 4.5*x[1] + 3.75*x[2] + 4.85*x[3] + 3.45*x[4] :  87.0 :  False\n",
            "          5 :  -Inf :   6.5*x[0] + 8*x[1] + 10.5*x[2] + 11.75*x[3] + 14.5*x[4] :  74.0 :  False\n",
            "          6 :  -Inf : 5.75*x[0] + 4.5*x[1] + 3.75*x[2] + 4.85*x[3] + 3.45*x[4] :  88.0 :  False\n",
            "          7 :  -Inf :   6.5*x[0] + 8*x[1] + 10.5*x[2] + 11.75*x[3] + 14.5*x[4] :  72.0 :   True\n",
            "          8 :  -Inf : 5.75*x[0] + 4.5*x[1] + 3.75*x[2] + 4.85*x[3] + 3.45*x[4] :  89.0 :   True\n",
            "\n",
            "5 Declarations: x_index x objective constraints_index constraints\n"
          ]
        }
      ]
    },
    {
      "cell_type": "code",
      "source": [
        "result=opt_cbc.solve(model)\n",
        "print(result)\n",
        "print('solver status:',result.solver.status)\n",
        "print('termination condition',result.solver.termination_condition)"
      ],
      "metadata": {
        "colab": {
          "base_uri": "https://localhost:8080/"
        },
        "id": "Rz03HFvHur2e",
        "outputId": "9bd37235-1090-4d34-eb0c-702d474fa0b9"
      },
      "execution_count": 315,
      "outputs": [
        {
          "output_type": "stream",
          "name": "stdout",
          "text": [
            "\n",
            "Problem: \n",
            "- Name: unknown\n",
            "  Lower bound: 121.8461538\n",
            "  Upper bound: 121.8461538\n",
            "  Number of objectives: 1\n",
            "  Number of constraints: 3\n",
            "  Number of variables: 6\n",
            "  Number of nonzeros: 5\n",
            "  Sense: maximize\n",
            "Solver: \n",
            "- Status: ok\n",
            "  User time: -1.0\n",
            "  System time: 0.0\n",
            "  Wallclock time: 0.0\n",
            "  Termination condition: optimal\n",
            "  Termination message: Model was solved to optimality (subject to tolerances), and an optimal solution is available.\n",
            "  Statistics: \n",
            "    Branch and bound: \n",
            "      Number of bounded subproblems: None\n",
            "      Number of created subproblems: None\n",
            "    Black box: \n",
            "      Number of iterations: 1\n",
            "  Error rc: 0\n",
            "  Time: 0.024139404296875\n",
            "Solution: \n",
            "- number of solutions: 0\n",
            "  number of solutions displayed: 0\n",
            "\n",
            "solver status: ok\n",
            "termination condition optimal\n"
          ]
        }
      ]
    },
    {
      "cell_type": "code",
      "source": [
        "print('\\n objective',model.objective())\n",
        "for i in col_indices:\n",
        "  print('\\n Drone Model',data_csvfile['Drone Model'][i], model.x[i].value)\n",
        "\n",
        "print('\\nconstraint')\n",
        "model.constraints.display()"
      ],
      "metadata": {
        "colab": {
          "base_uri": "https://localhost:8080/"
        },
        "id": "psQMtWR2ur76",
        "outputId": "9e965a54-0e41-4359-d3db-0c2bb0f2ddbe"
      },
      "execution_count": 316,
      "outputs": [
        {
          "output_type": "stream",
          "name": "stdout",
          "text": [
            "\n",
            " objective 121.84615300000002\n",
            "\n",
            " Drone Model SHREY 11.076923\n",
            "\n",
            " Drone Model DHARAN 0.0\n",
            "\n",
            " Drone Model SATVA 0.0\n",
            "\n",
            " Drone Model ADHYA 0.0\n",
            "\n",
            " Drone Model PRAVAT 0.0\n",
            "\n",
            "constraint\n",
            "constraints : Size=8\n",
            "    Key : Lower : Body               : Upper\n",
            "      7 :  None :         71.9999995 :  72.0\n",
            "      8 :  None : 63.692307250000006 :  89.0\n"
          ]
        }
      ]
    },
    {
      "cell_type": "markdown",
      "source": [
        "now we take non negtive integer(MILP)"
      ],
      "metadata": {
        "id": "9w-GMhaWnuvv"
      }
    },
    {
      "cell_type": "code",
      "source": [
        "for i in col_indices:\n",
        "  model.x[i].domain=NonNegativeIntegers"
      ],
      "metadata": {
        "id": "qMgCraiwhEi7"
      },
      "execution_count": 317,
      "outputs": []
    },
    {
      "cell_type": "code",
      "source": [
        "model.pprint()"
      ],
      "metadata": {
        "colab": {
          "base_uri": "https://localhost:8080/"
        },
        "id": "wEXK30Rrk73G",
        "outputId": "c0198268-c2f5-48c1-fc02-901e3408b849"
      },
      "execution_count": 318,
      "outputs": [
        {
          "output_type": "stream",
          "name": "stdout",
          "text": [
            "2 Set Declarations\n",
            "    constraints_index : Size=1, Index=None, Ordered=Insertion\n",
            "        Key  : Dimen : Domain : Size : Members\n",
            "        None :     1 :    Any :    8 : {1, 2, 3, 4, 5, 6, 7, 8}\n",
            "    x_index : Size=1, Index=None, Ordered=Insertion\n",
            "        Key  : Dimen : Domain : Size : Members\n",
            "        None :     1 :    Any :    5 : {0, 1, 2, 3, 4}\n",
            "\n",
            "1 Var Declarations\n",
            "    x : Size=5, Index=x_index\n",
            "        Key : Lower : Value     : Upper : Fixed : Stale : Domain\n",
            "          0 :     0 : 11.076923 :  None : False : False : NonNegativeIntegers\n",
            "          1 :     0 :       0.0 :  None : False : False : NonNegativeIntegers\n",
            "          2 :     0 :       0.0 :  None : False : False : NonNegativeIntegers\n",
            "          3 :     0 :       0.0 :  None : False : False : NonNegativeIntegers\n",
            "          4 :     0 :       0.0 :  None : False : False : NonNegativeIntegers\n",
            "\n",
            "1 Objective Declarations\n",
            "    objective : Size=1, Index=None, Active=True\n",
            "        Key  : Active : Sense    : Expression\n",
            "        None :   True : maximize : 11*x[0] + 13*x[1] + 9*x[2] + 15*x[3] + 12*x[4]\n",
            "\n",
            "1 Constraint Declarations\n",
            "    constraints : Size=8, Index=constraints_index, Active=True\n",
            "        Key : Lower : Body                                                     : Upper : Active\n",
            "          1 :  -Inf :   6.5*x[0] + 8*x[1] + 10.5*x[2] + 11.75*x[3] + 14.5*x[4] :  78.0 :  False\n",
            "          2 :  -Inf : 5.75*x[0] + 4.5*x[1] + 3.75*x[2] + 4.85*x[3] + 3.45*x[4] :  84.0 :  False\n",
            "          3 :  -Inf :   6.5*x[0] + 8*x[1] + 10.5*x[2] + 11.75*x[3] + 14.5*x[4] :  76.0 :  False\n",
            "          4 :  -Inf : 5.75*x[0] + 4.5*x[1] + 3.75*x[2] + 4.85*x[3] + 3.45*x[4] :  87.0 :  False\n",
            "          5 :  -Inf :   6.5*x[0] + 8*x[1] + 10.5*x[2] + 11.75*x[3] + 14.5*x[4] :  74.0 :  False\n",
            "          6 :  -Inf : 5.75*x[0] + 4.5*x[1] + 3.75*x[2] + 4.85*x[3] + 3.45*x[4] :  88.0 :  False\n",
            "          7 :  -Inf :   6.5*x[0] + 8*x[1] + 10.5*x[2] + 11.75*x[3] + 14.5*x[4] :  72.0 :   True\n",
            "          8 :  -Inf : 5.75*x[0] + 4.5*x[1] + 3.75*x[2] + 4.85*x[3] + 3.45*x[4] :  89.0 :   True\n",
            "\n",
            "5 Declarations: x_index x objective constraints_index constraints\n"
          ]
        }
      ]
    },
    {
      "cell_type": "code",
      "source": [],
      "metadata": {
        "id": "R16fVMkRk79z"
      },
      "execution_count": 318,
      "outputs": []
    },
    {
      "cell_type": "code",
      "source": [
        "result=opt_cbc.solve(model)\n",
        "print(result)\n",
        "print('solver status:',result.solver.status)\n",
        "print('termination condition',result.solver.termination_condition)"
      ],
      "metadata": {
        "colab": {
          "base_uri": "https://localhost:8080/"
        },
        "id": "dS8gxYcdhIRq",
        "outputId": "a375a7d9-ed09-46b8-90b8-dde90ed1a29d"
      },
      "execution_count": 319,
      "outputs": [
        {
          "output_type": "stream",
          "name": "stdout",
          "text": [
            "\n",
            "Problem: \n",
            "- Name: unknown\n",
            "  Lower bound: 121.0\n",
            "  Upper bound: 121.0\n",
            "  Number of objectives: 1\n",
            "  Number of constraints: 2\n",
            "  Number of variables: 5\n",
            "  Number of binary variables: 0\n",
            "  Number of integer variables: 5\n",
            "  Number of nonzeros: 5\n",
            "  Sense: maximize\n",
            "Solver: \n",
            "- Status: ok\n",
            "  User time: -1.0\n",
            "  System time: 0.0\n",
            "  Wallclock time: 0.0\n",
            "  Termination condition: optimal\n",
            "  Termination message: Model was solved to optimality (subject to tolerances), and an optimal solution is available.\n",
            "  Statistics: \n",
            "    Branch and bound: \n",
            "      Number of bounded subproblems: 0\n",
            "      Number of created subproblems: 0\n",
            "    Black box: \n",
            "      Number of iterations: 1\n",
            "  Error rc: 0\n",
            "  Time: 0.03455066680908203\n",
            "Solution: \n",
            "- number of solutions: 0\n",
            "  number of solutions displayed: 0\n",
            "\n",
            "solver status: ok\n",
            "termination condition optimal\n"
          ]
        }
      ]
    },
    {
      "cell_type": "code",
      "source": [
        "print('\\n objective',model.objective())\n",
        "for i in col_indices:\n",
        "  print('\\n Drone Model',data_csvfile['Drone Model'][i], model.x[i].value)\n",
        "\n",
        "print('\\nconstraint')\n",
        "model.constraints.display()"
      ],
      "metadata": {
        "colab": {
          "base_uri": "https://localhost:8080/"
        },
        "id": "SNQoVf3nhIgB",
        "outputId": "d0810211-82db-4361-b348-72c38db3eb11"
      },
      "execution_count": 320,
      "outputs": [
        {
          "output_type": "stream",
          "name": "stdout",
          "text": [
            "\n",
            " objective 121.0\n",
            "\n",
            " Drone Model SHREY 11.0\n",
            "\n",
            " Drone Model DHARAN 0.0\n",
            "\n",
            " Drone Model SATVA 0.0\n",
            "\n",
            " Drone Model ADHYA 0.0\n",
            "\n",
            " Drone Model PRAVAT 0.0\n",
            "\n",
            "constraint\n",
            "constraints : Size=8\n",
            "    Key : Lower : Body  : Upper\n",
            "      7 :  None :  71.5 :  72.0\n",
            "      8 :  None : 63.25 :  89.0\n"
          ]
        }
      ]
    },
    {
      "cell_type": "markdown",
      "source": [
        " dicision variable are real number\n",
        " objective 121.84615300000002\n",
        "\n",
        " Drone Model SHREY 11.076923\n",
        "\n",
        " Drone Model DHARAN 0.0\n",
        "\n",
        " Drone Model SATVA 0.0\n",
        "\n",
        " Drone Model ADHYA 0.0\n",
        "\n",
        " Drone Model PRAVAT 0.0\n",
        " dicision variable are integer\n",
        "  objective 121.0\n",
        "\n",
        " Drone Model SHREY 11.0\n",
        "\n",
        " Drone Model DHARAN 0.0\n",
        "\n",
        " Drone Model SATVA 0.0\n",
        "\n",
        " Drone Model ADHYA 0.0\n",
        "\n",
        " Drone Model PRAVAT 0.0"
      ],
      "metadata": {
        "id": "JT6TkrL26sRu"
      }
    },
    {
      "cell_type": "markdown",
      "source": [
        "10--\n",
        "we take dicision variable are real number\n",
        "6.5x0+8x1+10.5x2+11.75x3+14.5x4<=70\n",
        "5.75x0+4.5x1+3.75x2+4.85x3+3.45x4<=90"
      ],
      "metadata": {
        "id": "UigxH0QLNf_u"
      }
    },
    {
      "cell_type": "code",
      "source": [
        "model.constraints[7].deactivate()\n",
        "model.constraints[8].deactivate()"
      ],
      "metadata": {
        "id": "vd6g0KK-33Xh"
      },
      "execution_count": 321,
      "outputs": []
    },
    {
      "cell_type": "code",
      "source": [
        "for i in col_indices:\n",
        "  model.x[i].domain=Reals"
      ],
      "metadata": {
        "id": "Kd1QdbcQiBJy"
      },
      "execution_count": 322,
      "outputs": []
    },
    {
      "cell_type": "code",
      "source": [
        "model.constraints.add(expr=6.5* model.x[0] +8* model.x[1] +10.5* model.x[2]+11.75*model.x[3]+14.5*model.x[4]<= 70)\n",
        "model.constraints.add(expr= 5.75*model.x[0] +4.5* model.x[1] + 3.75* model.x[2] +4.85*model.x[3]+3.45*model.x[4]<= 90 )\n",
        "\n"
      ],
      "metadata": {
        "colab": {
          "base_uri": "https://localhost:8080/"
        },
        "id": "y8HIsEg24Msq",
        "outputId": "29895fbd-faa1-46fd-df42-8efe1bc92b2f"
      },
      "execution_count": 323,
      "outputs": [
        {
          "output_type": "execute_result",
          "data": {
            "text/plain": [
              "<pyomo.core.base.constraint._GeneralConstraintData at 0x7f81faa62a60>"
            ]
          },
          "metadata": {},
          "execution_count": 323
        }
      ]
    },
    {
      "cell_type": "code",
      "source": [
        "model.pprint()"
      ],
      "metadata": {
        "colab": {
          "base_uri": "https://localhost:8080/"
        },
        "id": "E20i7uUG4vD9",
        "outputId": "aa4412a2-6a3e-4559-dd0a-64a2ab6967ca"
      },
      "execution_count": 324,
      "outputs": [
        {
          "output_type": "stream",
          "name": "stdout",
          "text": [
            "2 Set Declarations\n",
            "    constraints_index : Size=1, Index=None, Ordered=Insertion\n",
            "        Key  : Dimen : Domain : Size : Members\n",
            "        None :     1 :    Any :   10 : {1, 2, 3, 4, 5, 6, 7, 8, 9, 10}\n",
            "    x_index : Size=1, Index=None, Ordered=Insertion\n",
            "        Key  : Dimen : Domain : Size : Members\n",
            "        None :     1 :    Any :    5 : {0, 1, 2, 3, 4}\n",
            "\n",
            "1 Var Declarations\n",
            "    x : Size=5, Index=x_index\n",
            "        Key : Lower : Value : Upper : Fixed : Stale : Domain\n",
            "          0 :     0 :  11.0 :  None : False : False :  Reals\n",
            "          1 :     0 :   0.0 :  None : False : False :  Reals\n",
            "          2 :     0 :   0.0 :  None : False : False :  Reals\n",
            "          3 :     0 :   0.0 :  None : False : False :  Reals\n",
            "          4 :     0 :   0.0 :  None : False : False :  Reals\n",
            "\n",
            "1 Objective Declarations\n",
            "    objective : Size=1, Index=None, Active=True\n",
            "        Key  : Active : Sense    : Expression\n",
            "        None :   True : maximize : 11*x[0] + 13*x[1] + 9*x[2] + 15*x[3] + 12*x[4]\n",
            "\n",
            "1 Constraint Declarations\n",
            "    constraints : Size=10, Index=constraints_index, Active=True\n",
            "        Key : Lower : Body                                                     : Upper : Active\n",
            "          1 :  -Inf :   6.5*x[0] + 8*x[1] + 10.5*x[2] + 11.75*x[3] + 14.5*x[4] :  78.0 :  False\n",
            "          2 :  -Inf : 5.75*x[0] + 4.5*x[1] + 3.75*x[2] + 4.85*x[3] + 3.45*x[4] :  84.0 :  False\n",
            "          3 :  -Inf :   6.5*x[0] + 8*x[1] + 10.5*x[2] + 11.75*x[3] + 14.5*x[4] :  76.0 :  False\n",
            "          4 :  -Inf : 5.75*x[0] + 4.5*x[1] + 3.75*x[2] + 4.85*x[3] + 3.45*x[4] :  87.0 :  False\n",
            "          5 :  -Inf :   6.5*x[0] + 8*x[1] + 10.5*x[2] + 11.75*x[3] + 14.5*x[4] :  74.0 :  False\n",
            "          6 :  -Inf : 5.75*x[0] + 4.5*x[1] + 3.75*x[2] + 4.85*x[3] + 3.45*x[4] :  88.0 :  False\n",
            "          7 :  -Inf :   6.5*x[0] + 8*x[1] + 10.5*x[2] + 11.75*x[3] + 14.5*x[4] :  72.0 :  False\n",
            "          8 :  -Inf : 5.75*x[0] + 4.5*x[1] + 3.75*x[2] + 4.85*x[3] + 3.45*x[4] :  89.0 :  False\n",
            "          9 :  -Inf :   6.5*x[0] + 8*x[1] + 10.5*x[2] + 11.75*x[3] + 14.5*x[4] :  70.0 :   True\n",
            "         10 :  -Inf : 5.75*x[0] + 4.5*x[1] + 3.75*x[2] + 4.85*x[3] + 3.45*x[4] :  90.0 :   True\n",
            "\n",
            "5 Declarations: x_index x objective constraints_index constraints\n"
          ]
        }
      ]
    },
    {
      "cell_type": "code",
      "source": [
        "result=opt_cbc.solve(model)\n",
        "print(result)\n",
        "print('solver status:',result.solver.status)\n",
        "print('solver termination codition:',result.solver.termination_condition)"
      ],
      "metadata": {
        "colab": {
          "base_uri": "https://localhost:8080/"
        },
        "id": "qiGMObAi4ypx",
        "outputId": "ff72ee01-dced-4126-9e60-9b3ff62f1aae"
      },
      "execution_count": 325,
      "outputs": [
        {
          "output_type": "stream",
          "name": "stdout",
          "text": [
            "\n",
            "Problem: \n",
            "- Name: unknown\n",
            "  Lower bound: 118.4615385\n",
            "  Upper bound: 118.4615385\n",
            "  Number of objectives: 1\n",
            "  Number of constraints: 3\n",
            "  Number of variables: 6\n",
            "  Number of nonzeros: 5\n",
            "  Sense: maximize\n",
            "Solver: \n",
            "- Status: ok\n",
            "  User time: -1.0\n",
            "  System time: 0.0\n",
            "  Wallclock time: 0.0\n",
            "  Termination condition: optimal\n",
            "  Termination message: Model was solved to optimality (subject to tolerances), and an optimal solution is available.\n",
            "  Statistics: \n",
            "    Branch and bound: \n",
            "      Number of bounded subproblems: None\n",
            "      Number of created subproblems: None\n",
            "    Black box: \n",
            "      Number of iterations: 1\n",
            "  Error rc: 0\n",
            "  Time: 0.029134035110473633\n",
            "Solution: \n",
            "- number of solutions: 0\n",
            "  number of solutions displayed: 0\n",
            "\n",
            "solver status: ok\n",
            "solver termination codition: optimal\n"
          ]
        }
      ]
    },
    {
      "cell_type": "code",
      "source": [
        "print('\\objective',model.objective())\n",
        "for i in col_indices:\n",
        "  print('\\n Drone Model',data_csvfile['Drone Model'][i],model.x[i].value)\n",
        "print('constraints')\n",
        "model.constraints.display()"
      ],
      "metadata": {
        "colab": {
          "base_uri": "https://localhost:8080/"
        },
        "id": "N1fJ1D3m6h44",
        "outputId": "ebc85832-dcf5-4020-87e7-61093b88cb08"
      },
      "execution_count": 326,
      "outputs": [
        {
          "output_type": "stream",
          "name": "stdout",
          "text": [
            "\\objective 118.461541\n",
            "\n",
            " Drone Model SHREY 10.769231\n",
            "\n",
            " Drone Model DHARAN 0.0\n",
            "\n",
            " Drone Model SATVA 0.0\n",
            "\n",
            " Drone Model ADHYA 0.0\n",
            "\n",
            " Drone Model PRAVAT 0.0\n",
            "constraints\n",
            "constraints : Size=10\n",
            "    Key : Lower : Body               : Upper\n",
            "      9 :  None :         70.0000015 :  70.0\n",
            "     10 :  None : 61.923078249999996 :  90.0\n"
          ]
        }
      ]
    },
    {
      "cell_type": "markdown",
      "source": [
        "dicision variable are non negetive interger"
      ],
      "metadata": {
        "id": "4f3ySf_BoGc1"
      }
    },
    {
      "cell_type": "code",
      "source": [
        "for i in col_indices:\n",
        "  model.x[i].domain=NonNegativeIntegers"
      ],
      "metadata": {
        "id": "Fe7o0IVChSXv"
      },
      "execution_count": 327,
      "outputs": []
    },
    {
      "cell_type": "code",
      "source": [
        "model.pprint()"
      ],
      "metadata": {
        "colab": {
          "base_uri": "https://localhost:8080/"
        },
        "id": "U6t246oslCnv",
        "outputId": "70551544-fc55-4006-91f5-1ea7c4da12c7"
      },
      "execution_count": 328,
      "outputs": [
        {
          "output_type": "stream",
          "name": "stdout",
          "text": [
            "2 Set Declarations\n",
            "    constraints_index : Size=1, Index=None, Ordered=Insertion\n",
            "        Key  : Dimen : Domain : Size : Members\n",
            "        None :     1 :    Any :   10 : {1, 2, 3, 4, 5, 6, 7, 8, 9, 10}\n",
            "    x_index : Size=1, Index=None, Ordered=Insertion\n",
            "        Key  : Dimen : Domain : Size : Members\n",
            "        None :     1 :    Any :    5 : {0, 1, 2, 3, 4}\n",
            "\n",
            "1 Var Declarations\n",
            "    x : Size=5, Index=x_index\n",
            "        Key : Lower : Value     : Upper : Fixed : Stale : Domain\n",
            "          0 :     0 : 10.769231 :  None : False : False : NonNegativeIntegers\n",
            "          1 :     0 :       0.0 :  None : False : False : NonNegativeIntegers\n",
            "          2 :     0 :       0.0 :  None : False : False : NonNegativeIntegers\n",
            "          3 :     0 :       0.0 :  None : False : False : NonNegativeIntegers\n",
            "          4 :     0 :       0.0 :  None : False : False : NonNegativeIntegers\n",
            "\n",
            "1 Objective Declarations\n",
            "    objective : Size=1, Index=None, Active=True\n",
            "        Key  : Active : Sense    : Expression\n",
            "        None :   True : maximize : 11*x[0] + 13*x[1] + 9*x[2] + 15*x[3] + 12*x[4]\n",
            "\n",
            "1 Constraint Declarations\n",
            "    constraints : Size=10, Index=constraints_index, Active=True\n",
            "        Key : Lower : Body                                                     : Upper : Active\n",
            "          1 :  -Inf :   6.5*x[0] + 8*x[1] + 10.5*x[2] + 11.75*x[3] + 14.5*x[4] :  78.0 :  False\n",
            "          2 :  -Inf : 5.75*x[0] + 4.5*x[1] + 3.75*x[2] + 4.85*x[3] + 3.45*x[4] :  84.0 :  False\n",
            "          3 :  -Inf :   6.5*x[0] + 8*x[1] + 10.5*x[2] + 11.75*x[3] + 14.5*x[4] :  76.0 :  False\n",
            "          4 :  -Inf : 5.75*x[0] + 4.5*x[1] + 3.75*x[2] + 4.85*x[3] + 3.45*x[4] :  87.0 :  False\n",
            "          5 :  -Inf :   6.5*x[0] + 8*x[1] + 10.5*x[2] + 11.75*x[3] + 14.5*x[4] :  74.0 :  False\n",
            "          6 :  -Inf : 5.75*x[0] + 4.5*x[1] + 3.75*x[2] + 4.85*x[3] + 3.45*x[4] :  88.0 :  False\n",
            "          7 :  -Inf :   6.5*x[0] + 8*x[1] + 10.5*x[2] + 11.75*x[3] + 14.5*x[4] :  72.0 :  False\n",
            "          8 :  -Inf : 5.75*x[0] + 4.5*x[1] + 3.75*x[2] + 4.85*x[3] + 3.45*x[4] :  89.0 :  False\n",
            "          9 :  -Inf :   6.5*x[0] + 8*x[1] + 10.5*x[2] + 11.75*x[3] + 14.5*x[4] :  70.0 :   True\n",
            "         10 :  -Inf : 5.75*x[0] + 4.5*x[1] + 3.75*x[2] + 4.85*x[3] + 3.45*x[4] :  90.0 :   True\n",
            "\n",
            "5 Declarations: x_index x objective constraints_index constraints\n"
          ]
        }
      ]
    },
    {
      "cell_type": "code",
      "source": [
        "result=opt_cbc.solve(model)\n",
        "print(result)\n",
        "print('solver status:',result.solver.status)\n",
        "print('solver termination codition:',result.solver.termination_condition)"
      ],
      "metadata": {
        "colab": {
          "base_uri": "https://localhost:8080/"
        },
        "id": "2oW96NCmhYQo",
        "outputId": "a3de36d4-0ed6-4cae-efb1-6e0c8be8e723"
      },
      "execution_count": 329,
      "outputs": [
        {
          "output_type": "stream",
          "name": "stdout",
          "text": [
            "\n",
            "Problem: \n",
            "- Name: unknown\n",
            "  Lower bound: 116.0\n",
            "  Upper bound: 116.0\n",
            "  Number of objectives: 1\n",
            "  Number of constraints: 2\n",
            "  Number of variables: 5\n",
            "  Number of binary variables: 0\n",
            "  Number of integer variables: 5\n",
            "  Number of nonzeros: 5\n",
            "  Sense: maximize\n",
            "Solver: \n",
            "- Status: ok\n",
            "  User time: -1.0\n",
            "  System time: 0.01\n",
            "  Wallclock time: 0.01\n",
            "  Termination condition: optimal\n",
            "  Termination message: Model was solved to optimality (subject to tolerances), and an optimal solution is available.\n",
            "  Statistics: \n",
            "    Branch and bound: \n",
            "      Number of bounded subproblems: 0\n",
            "      Number of created subproblems: 0\n",
            "    Black box: \n",
            "      Number of iterations: 16\n",
            "  Error rc: 0\n",
            "  Time: 0.03168463706970215\n",
            "Solution: \n",
            "- number of solutions: 0\n",
            "  number of solutions displayed: 0\n",
            "\n",
            "solver status: ok\n",
            "solver termination codition: optimal\n"
          ]
        }
      ]
    },
    {
      "cell_type": "code",
      "source": [
        "print('\\objective',model.objective())\n",
        "for i in col_indices:\n",
        "  print('\\n Drone Model',data_csvfile['Drone Model'][i],model.x[i].value)\n",
        "print('constraints')\n",
        "model.constraints.display()"
      ],
      "metadata": {
        "colab": {
          "base_uri": "https://localhost:8080/"
        },
        "id": "BfYffQ1BhT9E",
        "outputId": "39ed4084-8149-42b6-a2d8-5a23b4799374"
      },
      "execution_count": 330,
      "outputs": [
        {
          "output_type": "stream",
          "name": "stdout",
          "text": [
            "\\objective 116.0\n",
            "\n",
            " Drone Model SHREY 7.0\n",
            "\n",
            " Drone Model DHARAN 3.0\n",
            "\n",
            " Drone Model SATVA 0.0\n",
            "\n",
            " Drone Model ADHYA 0.0\n",
            "\n",
            " Drone Model PRAVAT 0.0\n",
            "constraints\n",
            "constraints : Size=10\n",
            "    Key : Lower : Body  : Upper\n",
            "      9 :  None :  69.5 :  70.0\n",
            "     10 :  None : 53.75 :  90.0\n"
          ]
        }
      ]
    },
    {
      "cell_type": "markdown",
      "source": [
        "dicision variable are real number\n",
        "objective 118.461541\n",
        "\n",
        " Drone Model SHREY 10.769231\n",
        "\n",
        " Drone Model DHARAN 0.0\n",
        "\n",
        " Drone Model SATVA 0.0\n",
        "\n",
        " Drone Model ADHYA 0.0\n",
        "\n",
        " Drone Model PRAVAT 0.0\n",
        " # dicision variable are integer\n",
        " objective 116.0\n",
        "\n",
        " Drone Model SHREY 7.0\n",
        "\n",
        " Drone Model DHARAN 3.0\n",
        "\n",
        " Drone Model SATVA 0.0\n",
        "\n",
        " Drone Model ADHYA 0.0\n",
        "\n",
        " Drone Model PRAVAT 0.0\n"
      ],
      "metadata": {
        "id": "jhhNUNTZ7HmD"
      }
    },
    {
      "cell_type": "markdown",
      "source": [
        "10--\n",
        "frist dicision variable are real number\n",
        "6.5x0+8x1+10.5x2+11.75x3+14.5x4<=68\n",
        "5.75x0+4.5x1+3.75x2+4.85x3+3.45x4<=91"
      ],
      "metadata": {
        "id": "5mg-VGivNmU6"
      }
    },
    {
      "cell_type": "code",
      "source": [
        "model.constraints[9].deactivate()\n",
        "model.constraints[10].deactivate()\n"
      ],
      "metadata": {
        "id": "TDgOYqHb7m9I"
      },
      "execution_count": 331,
      "outputs": []
    },
    {
      "cell_type": "code",
      "source": [
        "for i in col_indices:\n",
        "  model.x[i].domain=Reals"
      ],
      "metadata": {
        "id": "kJNt1rJmh5W-"
      },
      "execution_count": 332,
      "outputs": []
    },
    {
      "cell_type": "code",
      "source": [
        "model.constraints.add(expr=6.5* model.x[0] +8* model.x[1] +10.5* model.x[2]+11.75*model.x[3]+14.5*model.x[4]<= 68)\n",
        "model.constraints.add(expr= 5.75*model.x[0] +4.5* model.x[1] + 3.75* model.x[2] +4.85*model.x[3]+3.45*model.x[4]<= 91 )\n",
        "\n"
      ],
      "metadata": {
        "colab": {
          "base_uri": "https://localhost:8080/"
        },
        "id": "onHK2KVV_spO",
        "outputId": "81a5bd02-d74b-46ac-b620-0989e95e65fa"
      },
      "execution_count": 333,
      "outputs": [
        {
          "output_type": "execute_result",
          "data": {
            "text/plain": [
              "<pyomo.core.base.constraint._GeneralConstraintData at 0x7f81faaa0ec0>"
            ]
          },
          "metadata": {},
          "execution_count": 333
        }
      ]
    },
    {
      "cell_type": "code",
      "source": [
        "model.pprint()"
      ],
      "metadata": {
        "colab": {
          "base_uri": "https://localhost:8080/"
        },
        "id": "6qUOQ4EM9epq",
        "outputId": "c56ceef6-a950-4a1b-fe0e-ecddd78bbbf5"
      },
      "execution_count": 334,
      "outputs": [
        {
          "output_type": "stream",
          "name": "stdout",
          "text": [
            "2 Set Declarations\n",
            "    constraints_index : Size=1, Index=None, Ordered=Insertion\n",
            "        Key  : Dimen : Domain : Size : Members\n",
            "        None :     1 :    Any :   12 : {1, 2, 3, 4, 5, 6, 7, 8, 9, 10, 11, 12}\n",
            "    x_index : Size=1, Index=None, Ordered=Insertion\n",
            "        Key  : Dimen : Domain : Size : Members\n",
            "        None :     1 :    Any :    5 : {0, 1, 2, 3, 4}\n",
            "\n",
            "1 Var Declarations\n",
            "    x : Size=5, Index=x_index\n",
            "        Key : Lower : Value : Upper : Fixed : Stale : Domain\n",
            "          0 :     0 :   7.0 :  None : False : False :  Reals\n",
            "          1 :     0 :   3.0 :  None : False : False :  Reals\n",
            "          2 :     0 :   0.0 :  None : False : False :  Reals\n",
            "          3 :     0 :   0.0 :  None : False : False :  Reals\n",
            "          4 :     0 :   0.0 :  None : False : False :  Reals\n",
            "\n",
            "1 Objective Declarations\n",
            "    objective : Size=1, Index=None, Active=True\n",
            "        Key  : Active : Sense    : Expression\n",
            "        None :   True : maximize : 11*x[0] + 13*x[1] + 9*x[2] + 15*x[3] + 12*x[4]\n",
            "\n",
            "1 Constraint Declarations\n",
            "    constraints : Size=12, Index=constraints_index, Active=True\n",
            "        Key : Lower : Body                                                     : Upper : Active\n",
            "          1 :  -Inf :   6.5*x[0] + 8*x[1] + 10.5*x[2] + 11.75*x[3] + 14.5*x[4] :  78.0 :  False\n",
            "          2 :  -Inf : 5.75*x[0] + 4.5*x[1] + 3.75*x[2] + 4.85*x[3] + 3.45*x[4] :  84.0 :  False\n",
            "          3 :  -Inf :   6.5*x[0] + 8*x[1] + 10.5*x[2] + 11.75*x[3] + 14.5*x[4] :  76.0 :  False\n",
            "          4 :  -Inf : 5.75*x[0] + 4.5*x[1] + 3.75*x[2] + 4.85*x[3] + 3.45*x[4] :  87.0 :  False\n",
            "          5 :  -Inf :   6.5*x[0] + 8*x[1] + 10.5*x[2] + 11.75*x[3] + 14.5*x[4] :  74.0 :  False\n",
            "          6 :  -Inf : 5.75*x[0] + 4.5*x[1] + 3.75*x[2] + 4.85*x[3] + 3.45*x[4] :  88.0 :  False\n",
            "          7 :  -Inf :   6.5*x[0] + 8*x[1] + 10.5*x[2] + 11.75*x[3] + 14.5*x[4] :  72.0 :  False\n",
            "          8 :  -Inf : 5.75*x[0] + 4.5*x[1] + 3.75*x[2] + 4.85*x[3] + 3.45*x[4] :  89.0 :  False\n",
            "          9 :  -Inf :   6.5*x[0] + 8*x[1] + 10.5*x[2] + 11.75*x[3] + 14.5*x[4] :  70.0 :  False\n",
            "         10 :  -Inf : 5.75*x[0] + 4.5*x[1] + 3.75*x[2] + 4.85*x[3] + 3.45*x[4] :  90.0 :  False\n",
            "         11 :  -Inf :   6.5*x[0] + 8*x[1] + 10.5*x[2] + 11.75*x[3] + 14.5*x[4] :  68.0 :   True\n",
            "         12 :  -Inf : 5.75*x[0] + 4.5*x[1] + 3.75*x[2] + 4.85*x[3] + 3.45*x[4] :  91.0 :   True\n",
            "\n",
            "5 Declarations: x_index x objective constraints_index constraints\n"
          ]
        }
      ]
    },
    {
      "cell_type": "code",
      "source": [
        "result=opt_cbc.solve(model)\n",
        "print(result)\n",
        "print('solver status:',result.solver.status)\n",
        "print('termination condition:',result.solver.termination_condition)\n"
      ],
      "metadata": {
        "colab": {
          "base_uri": "https://localhost:8080/"
        },
        "id": "_hoFUkGe9ewK",
        "outputId": "8952f314-73c1-4b51-b48a-bfa5bb90c5c0"
      },
      "execution_count": 335,
      "outputs": [
        {
          "output_type": "stream",
          "name": "stdout",
          "text": [
            "\n",
            "Problem: \n",
            "- Name: unknown\n",
            "  Lower bound: 115.0769231\n",
            "  Upper bound: 115.0769231\n",
            "  Number of objectives: 1\n",
            "  Number of constraints: 3\n",
            "  Number of variables: 6\n",
            "  Number of nonzeros: 5\n",
            "  Sense: maximize\n",
            "Solver: \n",
            "- Status: ok\n",
            "  User time: -1.0\n",
            "  System time: 0.0\n",
            "  Wallclock time: 0.0\n",
            "  Termination condition: optimal\n",
            "  Termination message: Model was solved to optimality (subject to tolerances), and an optimal solution is available.\n",
            "  Statistics: \n",
            "    Branch and bound: \n",
            "      Number of bounded subproblems: None\n",
            "      Number of created subproblems: None\n",
            "    Black box: \n",
            "      Number of iterations: 1\n",
            "  Error rc: 0\n",
            "  Time: 0.030309438705444336\n",
            "Solution: \n",
            "- number of solutions: 0\n",
            "  number of solutions displayed: 0\n",
            "\n",
            "solver status: ok\n",
            "termination condition: optimal\n"
          ]
        }
      ]
    },
    {
      "cell_type": "code",
      "source": [
        "print('\\nobjective',model.objective())\n",
        "for i in col_indices:\n",
        "  print('Drone model',data_csvfile['Drone Model'][i],model.x[i].value)\n",
        "print('\\constraint')\n",
        "model.constraints.display()"
      ],
      "metadata": {
        "colab": {
          "base_uri": "https://localhost:8080/"
        },
        "id": "upbvWR3P9e2F",
        "outputId": "0f227a1b-377a-446b-e301-7947e36fe000"
      },
      "execution_count": 336,
      "outputs": [
        {
          "output_type": "stream",
          "name": "stdout",
          "text": [
            "\n",
            "objective 115.07691799999999\n",
            "Drone model SHREY 10.461538\n",
            "Drone model DHARAN 0.0\n",
            "Drone model SATVA 0.0\n",
            "Drone model ADHYA 0.0\n",
            "Drone model PRAVAT 0.0\n",
            "\\constraint\n",
            "constraints : Size=12\n",
            "    Key : Lower : Body               : Upper\n",
            "     11 :  None :          67.999997 :  68.0\n",
            "     12 :  None : 60.153843499999994 :  91.0\n"
          ]
        }
      ]
    },
    {
      "cell_type": "markdown",
      "source": [
        "dicision variable are real number \n",
        "objective 115.07691799999999\n",
        "Drone model SHREY 10.461538\n",
        "Drone model DHARAN 0.0\n",
        "Drone model SATVA 0.0\n",
        "Drone model ADHYA 0.0\n",
        "Drone model PRAVAT 0.0"
      ],
      "metadata": {
        "id": "-9mxzOwKofbD"
      }
    },
    {
      "cell_type": "code",
      "source": [
        "for i in col_indices:\n",
        "  model.x[i].domain=NonNegativeIntegers"
      ],
      "metadata": {
        "id": "4Zr1dinZ9e77"
      },
      "execution_count": 337,
      "outputs": []
    },
    {
      "cell_type": "code",
      "source": [
        "model.pprint()"
      ],
      "metadata": {
        "colab": {
          "base_uri": "https://localhost:8080/"
        },
        "id": "Mg5lQqiFlI7M",
        "outputId": "bfd17d45-cbf2-4d10-b6b6-f8fa39e69451"
      },
      "execution_count": 338,
      "outputs": [
        {
          "output_type": "stream",
          "name": "stdout",
          "text": [
            "2 Set Declarations\n",
            "    constraints_index : Size=1, Index=None, Ordered=Insertion\n",
            "        Key  : Dimen : Domain : Size : Members\n",
            "        None :     1 :    Any :   12 : {1, 2, 3, 4, 5, 6, 7, 8, 9, 10, 11, 12}\n",
            "    x_index : Size=1, Index=None, Ordered=Insertion\n",
            "        Key  : Dimen : Domain : Size : Members\n",
            "        None :     1 :    Any :    5 : {0, 1, 2, 3, 4}\n",
            "\n",
            "1 Var Declarations\n",
            "    x : Size=5, Index=x_index\n",
            "        Key : Lower : Value     : Upper : Fixed : Stale : Domain\n",
            "          0 :     0 : 10.461538 :  None : False : False : NonNegativeIntegers\n",
            "          1 :     0 :       0.0 :  None : False : False : NonNegativeIntegers\n",
            "          2 :     0 :       0.0 :  None : False : False : NonNegativeIntegers\n",
            "          3 :     0 :       0.0 :  None : False : False : NonNegativeIntegers\n",
            "          4 :     0 :       0.0 :  None : False : False : NonNegativeIntegers\n",
            "\n",
            "1 Objective Declarations\n",
            "    objective : Size=1, Index=None, Active=True\n",
            "        Key  : Active : Sense    : Expression\n",
            "        None :   True : maximize : 11*x[0] + 13*x[1] + 9*x[2] + 15*x[3] + 12*x[4]\n",
            "\n",
            "1 Constraint Declarations\n",
            "    constraints : Size=12, Index=constraints_index, Active=True\n",
            "        Key : Lower : Body                                                     : Upper : Active\n",
            "          1 :  -Inf :   6.5*x[0] + 8*x[1] + 10.5*x[2] + 11.75*x[3] + 14.5*x[4] :  78.0 :  False\n",
            "          2 :  -Inf : 5.75*x[0] + 4.5*x[1] + 3.75*x[2] + 4.85*x[3] + 3.45*x[4] :  84.0 :  False\n",
            "          3 :  -Inf :   6.5*x[0] + 8*x[1] + 10.5*x[2] + 11.75*x[3] + 14.5*x[4] :  76.0 :  False\n",
            "          4 :  -Inf : 5.75*x[0] + 4.5*x[1] + 3.75*x[2] + 4.85*x[3] + 3.45*x[4] :  87.0 :  False\n",
            "          5 :  -Inf :   6.5*x[0] + 8*x[1] + 10.5*x[2] + 11.75*x[3] + 14.5*x[4] :  74.0 :  False\n",
            "          6 :  -Inf : 5.75*x[0] + 4.5*x[1] + 3.75*x[2] + 4.85*x[3] + 3.45*x[4] :  88.0 :  False\n",
            "          7 :  -Inf :   6.5*x[0] + 8*x[1] + 10.5*x[2] + 11.75*x[3] + 14.5*x[4] :  72.0 :  False\n",
            "          8 :  -Inf : 5.75*x[0] + 4.5*x[1] + 3.75*x[2] + 4.85*x[3] + 3.45*x[4] :  89.0 :  False\n",
            "          9 :  -Inf :   6.5*x[0] + 8*x[1] + 10.5*x[2] + 11.75*x[3] + 14.5*x[4] :  70.0 :  False\n",
            "         10 :  -Inf : 5.75*x[0] + 4.5*x[1] + 3.75*x[2] + 4.85*x[3] + 3.45*x[4] :  90.0 :  False\n",
            "         11 :  -Inf :   6.5*x[0] + 8*x[1] + 10.5*x[2] + 11.75*x[3] + 14.5*x[4] :  68.0 :   True\n",
            "         12 :  -Inf : 5.75*x[0] + 4.5*x[1] + 3.75*x[2] + 4.85*x[3] + 3.45*x[4] :  91.0 :   True\n",
            "\n",
            "5 Declarations: x_index x objective constraints_index constraints\n"
          ]
        }
      ]
    },
    {
      "cell_type": "code",
      "source": [
        "result=opt_cbc.solve(model)\n",
        "print(result)\n",
        "print('solver status:',result.solver.status)\n",
        "print('termination condition:',result.solver.termination_condition)\n"
      ],
      "metadata": {
        "colab": {
          "base_uri": "https://localhost:8080/"
        },
        "id": "fLOpA9gdhusK",
        "outputId": "3a4890de-d513-421b-9e76-c116176f2ba2"
      },
      "execution_count": 339,
      "outputs": [
        {
          "output_type": "stream",
          "name": "stdout",
          "text": [
            "\n",
            "Problem: \n",
            "- Name: unknown\n",
            "  Lower bound: 114.0\n",
            "  Upper bound: 114.0\n",
            "  Number of objectives: 1\n",
            "  Number of constraints: 2\n",
            "  Number of variables: 5\n",
            "  Number of binary variables: 0\n",
            "  Number of integer variables: 5\n",
            "  Number of nonzeros: 5\n",
            "  Sense: maximize\n",
            "Solver: \n",
            "- Status: ok\n",
            "  User time: -1.0\n",
            "  System time: 0.0\n",
            "  Wallclock time: 0.0\n",
            "  Termination condition: optimal\n",
            "  Termination message: Model was solved to optimality (subject to tolerances), and an optimal solution is available.\n",
            "  Statistics: \n",
            "    Branch and bound: \n",
            "      Number of bounded subproblems: 0\n",
            "      Number of created subproblems: 0\n",
            "    Black box: \n",
            "      Number of iterations: 1\n",
            "  Error rc: 0\n",
            "  Time: 0.027512788772583008\n",
            "Solution: \n",
            "- number of solutions: 0\n",
            "  number of solutions displayed: 0\n",
            "\n",
            "solver status: ok\n",
            "termination condition: optimal\n"
          ]
        }
      ]
    },
    {
      "cell_type": "code",
      "source": [
        "print('\\nobjective',model.objective())\n",
        "for i in col_indices:\n",
        "  print('Drone model',data_csvfile['Drone Model'][i],model.x[i].value)\n",
        "print('constraint')\n",
        "model.constraints.display()"
      ],
      "metadata": {
        "colab": {
          "base_uri": "https://localhost:8080/"
        },
        "id": "JzTb8gqbdtwX",
        "outputId": "ea020786-fd69-4a69-f647-b1508d8f969d"
      },
      "execution_count": 340,
      "outputs": [
        {
          "output_type": "stream",
          "name": "stdout",
          "text": [
            "\n",
            "objective 114.0\n",
            "Drone model SHREY 8.0\n",
            "Drone model DHARAN 2.0\n",
            "Drone model SATVA 0.0\n",
            "Drone model ADHYA 0.0\n",
            "Drone model PRAVAT 0.0\n",
            "constraint\n",
            "constraints : Size=12\n",
            "    Key : Lower : Body : Upper\n",
            "     11 :  None : 68.0 :  68.0\n",
            "     12 :  None : 55.0 :  91.0\n"
          ]
        }
      ]
    },
    {
      "cell_type": "markdown",
      "source": [
        "dicision variable are real number \n",
        "objective 115.07691799999999\n",
        "Drone model SHREY 10.461538\n",
        "Drone model DHARAN 0.0\n",
        "Drone model SATVA 0.0\n",
        "Drone model ADHYA 0.0\n",
        "Drone model PRAVAT 0.0\n",
        "#dicision variable are non negetive integer\n",
        "objective 114.0\n",
        "Drone model SHREY 8.0\n",
        "Drone model DHARAN 2.0\n",
        "Drone model SATVA 0.0\n",
        "Drone model ADHYA 0.0\n",
        "Drone model PRAVAT 0.0"
      ],
      "metadata": {
        "id": "hkNBz5R8onPt"
      }
    },
    {
      "cell_type": "code",
      "source": [],
      "metadata": {
        "id": "EHmDjxxi8dD_"
      },
      "execution_count": 340,
      "outputs": []
    },
    {
      "cell_type": "markdown",
      "source": [
        "frist constraints( Cost (in Crores of rupees) )are allways active and 2nd constraints(Parking space (sq. m.)) are inactive,  cost is decreasing then objective (carrying Capacity (kgs) )are  also decreasing ,"
      ],
      "metadata": {
        "id": "ehPBC6wE8eij"
      }
    },
    {
      "cell_type": "code",
      "source": [],
      "metadata": {
        "id": "njK401W7EtGh"
      },
      "execution_count": 340,
      "outputs": []
    }
  ]
}