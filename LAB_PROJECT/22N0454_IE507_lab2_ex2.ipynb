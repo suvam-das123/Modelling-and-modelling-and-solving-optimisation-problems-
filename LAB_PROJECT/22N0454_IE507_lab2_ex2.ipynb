{
  "nbformat": 4,
  "nbformat_minor": 0,
  "metadata": {
    "colab": {
      "name": "22N0454_IE507_lab2_ex2.ipynb",
      "provenance": [],
      "collapsed_sections": []
    },
    "kernelspec": {
      "name": "python3",
      "display_name": "Python 3"
    },
    "language_info": {
      "name": "python"
    }
  },
  "cells": [
    {
      "cell_type": "code",
      "execution_count": 1,
      "metadata": {
        "id": "T7Ss9UstA7Yw",
        "colab": {
          "base_uri": "https://localhost:8080/"
        },
        "outputId": "b2b59bc8-e5a2-4ce4-bc37-60baaf27e4fd"
      },
      "outputs": [
        {
          "output_type": "stream",
          "name": "stdout",
          "text": [
            "\u001b[K     |████████████████████████████████| 9.6 MB 5.3 MB/s \n",
            "\u001b[K     |████████████████████████████████| 49 kB 5.4 MB/s \n",
            "\u001b[?25h"
          ]
        }
      ],
      "source": [
        "!pip install -q pyomo"
      ]
    },
    {
      "cell_type": "code",
      "source": [
        "from pyomo.environ import *\n"
      ],
      "metadata": {
        "id": "4st1h0yTByCW"
      },
      "execution_count": 2,
      "outputs": []
    },
    {
      "cell_type": "code",
      "source": [
        "import numpy as np"
      ],
      "metadata": {
        "id": "CbVAZSEvsbZT"
      },
      "execution_count": 3,
      "outputs": []
    },
    {
      "cell_type": "code",
      "source": [
        "#create model \n",
        "model=ConcreteModel()"
      ],
      "metadata": {
        "id": "-BSkmUChB8AR"
      },
      "execution_count": 4,
      "outputs": []
    },
    {
      "cell_type": "code",
      "source": [
        "#number of dicision  variable\n",
        "N=12\n",
        "#number of constraint\n",
        "M=5\n"
      ],
      "metadata": {
        "id": "3Wbw9x5HCF0D"
      },
      "execution_count": 5,
      "outputs": []
    },
    {
      "cell_type": "code",
      "source": [
        "# coefficient for objecetive function can provided using numpy arraysbe \n",
        "obj_coef_c=np.array( [0.56, 1.721, -9.6, -2.85, 41.5, 33.05, -0.75, 20.5, -0.35, -31.02, 50.65, 6.125])"
      ],
      "metadata": {
        "id": "ErsUhx0JhtRo"
      },
      "execution_count": 6,
      "outputs": []
    },
    {
      "cell_type": "code",
      "source": [
        ""
      ],
      "metadata": {
        "id": "b_e471Qpha9Q"
      },
      "execution_count": 6,
      "outputs": []
    },
    {
      "cell_type": "code",
      "source": [
        "#We use more numpy arrays for providing constraint coefficients\n",
        "constr1_coef_A=np.array([[1, -1, 0, 0, 2, -2, 1, 0,0, -1, 1, -2],\n",
        "                        [1, 0, 0, -1, 0, -2, 0, -1, 1, 0, 0, -1],\n",
        "                        [-1, 0, 0, 1, -1, 2.5, -3.5, 0, 2 ,-1 ,1, 0],\n",
        "                       [0, 1,-0.45, 0,-2.78, 0, -3.4, 0, -1, 1, -1, 0.25],\n",
        "                        [0, -1, 1, 0, 1, 0, 1, 3, -2, 0,1,0]])\n",
        "constr1_rhs_b=np.array([88.5, 35.4, 47.9, 41.43, 22.7])"
      ],
      "metadata": {
        "id": "e0bsmNTFCb9W"
      },
      "execution_count": 7,
      "outputs": []
    },
    {
      "cell_type": "code",
      "source": [
        ""
      ],
      "metadata": {
        "id": "qk6ynXMqCcB5"
      },
      "execution_count": 7,
      "outputs": []
    },
    {
      "cell_type": "code",
      "source": [
        "#The following numpy arrays will be useful for setting the lower bound and upper bounds for the variables\n",
        "lower_bound = np.array([0, 0, -np.inf, -np.inf, -34, 0, -67, 0, -23, -5, 6, 1])\n",
        "upper_bound = np.array([12, 503, 4, np.inf, np.inf, 2, 20, 55, 23, 15, np.inf, np.inf])"
      ],
      "metadata": {
        "id": "EouohMQuCcGR"
      },
      "execution_count": 8,
      "outputs": []
    },
    {
      "cell_type": "code",
      "source": [
        "# set of column indices: since we have N variables, we can take column indices to be the list [0,1,2,...,N-1]\n",
        "col_indices = np.arange(N)\n",
        "print(col_indices)\n",
        "\n"
      ],
      "metadata": {
        "colab": {
          "base_uri": "https://localhost:8080/"
        },
        "id": "ftqaZkzpCcKS",
        "outputId": "9e89a8ef-74ce-460c-d388-4aa17cfeae3f"
      },
      "execution_count": 9,
      "outputs": [
        {
          "output_type": "stream",
          "name": "stdout",
          "text": [
            "[ 0  1  2  3  4  5  6  7  8  9 10 11]\n"
          ]
        }
      ]
    },
    {
      "cell_type": "code",
      "source": [
        "row_indices=np.arange(M)"
      ],
      "metadata": {
        "id": "5WEL9Uln1itd"
      },
      "execution_count": 10,
      "outputs": []
    },
    {
      "cell_type": "markdown",
      "source": [
        ""
      ],
      "metadata": {
        "id": "bbwOqWHtC9QL"
      }
    },
    {
      "cell_type": "code",
      "source": [
        "#declare the decision variables in the model\n",
        "model.x = Var(col_indices)"
      ],
      "metadata": {
        "id": "O2aLKh4XCcPJ"
      },
      "execution_count": 11,
      "outputs": []
    },
    {
      "cell_type": "code",
      "source": [
        ""
      ],
      "metadata": {
        "id": "_kedeNyO14QD"
      },
      "execution_count": 11,
      "outputs": []
    },
    {
      "cell_type": "code",
      "source": [
        "# create a ConstraintList to hold multiple constraints\n",
        "model.constraints = ConstraintList()"
      ],
      "metadata": {
        "id": "qCq_LYLrCcSr"
      },
      "execution_count": 12,
      "outputs": []
    },
    {
      "cell_type": "code",
      "source": [
        "for i in row_indices:\n",
        "   model.constraints.add(sum(constr1_coef_A[i][j]*model.x[j] for j in col_indices) <= constr1_rhs_b[i])"
      ],
      "metadata": {
        "id": "clNnixHmCcWi"
      },
      "execution_count": 13,
      "outputs": []
    },
    {
      "cell_type": "code",
      "source": [
        ""
      ],
      "metadata": {
        "id": "XXRfg8lsjyga"
      },
      "execution_count": 13,
      "outputs": []
    },
    {
      "cell_type": "code",
      "source": [
        "#add the upper bound and lower bounds for the variables\n",
        "for j in col_indices:\n",
        "  model.x[j].setlb(lower_bound[j])\n",
        "  model.x[j].setub(upper_bound[j])"
      ],
      "metadata": {
        "id": "tk_bm4Dkj_Ff"
      },
      "execution_count": 14,
      "outputs": []
    },
    {
      "cell_type": "code",
      "source": [
        "# add the model objective\n",
        "model.objective = Objective(expr = sum(obj_coef_c[j]*model.x[j] for j in col_indices), sense=minimize)"
      ],
      "metadata": {
        "id": "DsSU-veFkB9i"
      },
      "execution_count": 15,
      "outputs": []
    },
    {
      "cell_type": "code",
      "source": [
        "model.pprint()"
      ],
      "metadata": {
        "colab": {
          "base_uri": "https://localhost:8080/"
        },
        "id": "52gnwo3ZkHBe",
        "outputId": "326fd5da-d90c-40e5-9411-c148797dc663"
      },
      "execution_count": 16,
      "outputs": [
        {
          "output_type": "stream",
          "name": "stdout",
          "text": [
            "2 Set Declarations\n",
            "    constraints_index : Size=1, Index=None, Ordered=Insertion\n",
            "        Key  : Dimen : Domain : Size : Members\n",
            "        None :     1 :    Any :    5 : {1, 2, 3, 4, 5}\n",
            "    x_index : Size=1, Index=None, Ordered=False\n",
            "        Key  : Dimen : Domain : Size : Members\n",
            "        None :     1 :    Any :   12 : {0, 1, 2, 3, 4, 5, 6, 7, 8, 9, 10, 11}\n",
            "\n",
            "1 Var Declarations\n",
            "    x : Size=12, Index=x_index\n",
            "        Key : Lower : Value : Upper : Fixed : Stale : Domain\n",
            "          0 :   0.0 :  None :  12.0 : False :  True :  Reals\n",
            "          1 :   0.0 :  None : 503.0 : False :  True :  Reals\n",
            "          2 :  None :  None :   4.0 : False :  True :  Reals\n",
            "          3 :  None :  None :  None : False :  True :  Reals\n",
            "          4 : -34.0 :  None :  None : False :  True :  Reals\n",
            "          5 :   0.0 :  None :   2.0 : False :  True :  Reals\n",
            "          6 : -67.0 :  None :  20.0 : False :  True :  Reals\n",
            "          7 :   0.0 :  None :  55.0 : False :  True :  Reals\n",
            "          8 : -23.0 :  None :  23.0 : False :  True :  Reals\n",
            "          9 :  -5.0 :  None :  15.0 : False :  True :  Reals\n",
            "         10 :   6.0 :  None :  None : False :  True :  Reals\n",
            "         11 :   1.0 :  None :  None : False :  True :  Reals\n",
            "\n",
            "1 Objective Declarations\n",
            "    objective : Size=1, Index=None, Active=True\n",
            "        Key  : Active : Sense    : Expression\n",
            "        None :   True : minimize : 0.56*x[0] + 1.721*x[1] - 9.6*x[2] - 2.85*x[3] + 41.5*x[4] + 33.05*x[5] - 0.75*x[6] + 20.5*x[7] - 0.35*x[8] - 31.02*x[9] + 50.65*x[10] + 6.125*x[11]\n",
            "\n",
            "1 Constraint Declarations\n",
            "    constraints : Size=5, Index=constraints_index, Active=True\n",
            "        Key : Lower : Body                                                                       : Upper : Active\n",
            "          1 :  -Inf :        x[0] - x[1] + 2.0*x[4] - 2.0*x[5] + x[6] - x[9] + x[10] - 2.0*x[11] :  88.5 :   True\n",
            "          2 :  -Inf :                               x[0] - x[3] - 2.0*x[5] - x[7] + x[8] - x[11] :  35.4 :   True\n",
            "          3 :  -Inf :       - x[0] + x[3] - x[4] + 2.5*x[5] - 3.5*x[6] + 2.0*x[8] - x[9] + x[10] :  47.9 :   True\n",
            "          4 :  -Inf : x[1] - 0.45*x[2] - 2.78*x[4] - 3.4*x[6] - x[8] + x[9] - x[10] + 0.25*x[11] : 41.43 :   True\n",
            "          5 :  -Inf :                  - x[1] + x[2] + x[4] + x[6] + 3.0*x[7] - 2.0*x[8] + x[10] :  22.7 :   True\n",
            "\n",
            "5 Declarations: x_index x constraints_index constraints objective\n"
          ]
        }
      ]
    },
    {
      "cell_type": "code",
      "source": [
        "!apt-get install -y -qq glpk-utils"
      ],
      "metadata": {
        "id": "toPNARQfkQ3o",
        "colab": {
          "base_uri": "https://localhost:8080/"
        },
        "outputId": "02b62702-8140-4520-e739-21e3013a48ba"
      },
      "execution_count": 17,
      "outputs": [
        {
          "output_type": "stream",
          "name": "stdout",
          "text": [
            "Selecting previously unselected package libsuitesparseconfig5:amd64.\n",
            "(Reading database ... 155680 files and directories currently installed.)\n",
            "Preparing to unpack .../libsuitesparseconfig5_1%3a5.1.2-2_amd64.deb ...\n",
            "Unpacking libsuitesparseconfig5:amd64 (1:5.1.2-2) ...\n",
            "Selecting previously unselected package libamd2:amd64.\n",
            "Preparing to unpack .../libamd2_1%3a5.1.2-2_amd64.deb ...\n",
            "Unpacking libamd2:amd64 (1:5.1.2-2) ...\n",
            "Selecting previously unselected package libcolamd2:amd64.\n",
            "Preparing to unpack .../libcolamd2_1%3a5.1.2-2_amd64.deb ...\n",
            "Unpacking libcolamd2:amd64 (1:5.1.2-2) ...\n",
            "Selecting previously unselected package libglpk40:amd64.\n",
            "Preparing to unpack .../libglpk40_4.65-1_amd64.deb ...\n",
            "Unpacking libglpk40:amd64 (4.65-1) ...\n",
            "Selecting previously unselected package glpk-utils.\n",
            "Preparing to unpack .../glpk-utils_4.65-1_amd64.deb ...\n",
            "Unpacking glpk-utils (4.65-1) ...\n",
            "Setting up libsuitesparseconfig5:amd64 (1:5.1.2-2) ...\n",
            "Setting up libcolamd2:amd64 (1:5.1.2-2) ...\n",
            "Setting up libamd2:amd64 (1:5.1.2-2) ...\n",
            "Setting up libglpk40:amd64 (4.65-1) ...\n",
            "Setting up glpk-utils (4.65-1) ...\n",
            "Processing triggers for libc-bin (2.27-3ubuntu1.5) ...\n",
            "Processing triggers for man-db (2.8.3-2ubuntu0.1) ...\n"
          ]
        }
      ]
    },
    {
      "cell_type": "code",
      "source": [
        "SolverFactory('glpk', executable='/usr/bin/glpsol').solve(model).write()"
      ],
      "metadata": {
        "colab": {
          "base_uri": "https://localhost:8080/"
        },
        "id": "Cw8RMLmukgYr",
        "outputId": "62e74ac9-c5dd-46ab-e13c-d41ca010b739"
      },
      "execution_count": 18,
      "outputs": [
        {
          "output_type": "stream",
          "name": "stdout",
          "text": [
            "# ==========================================================\n",
            "# = Solver Results                                         =\n",
            "# ==========================================================\n",
            "# ----------------------------------------------------------\n",
            "#   Problem Information\n",
            "# ----------------------------------------------------------\n",
            "Problem: \n",
            "- Name: unknown\n",
            "  Lower bound: -1951.831\n",
            "  Upper bound: -1951.831\n",
            "  Number of objectives: 1\n",
            "  Number of constraints: 6\n",
            "  Number of variables: 13\n",
            "  Number of nonzeros: 38\n",
            "  Sense: minimize\n",
            "# ----------------------------------------------------------\n",
            "#   Solver Information\n",
            "# ----------------------------------------------------------\n",
            "Solver: \n",
            "- Status: ok\n",
            "  Termination condition: optimal\n",
            "  Statistics: \n",
            "    Branch and bound: \n",
            "      Number of bounded subproblems: 0\n",
            "      Number of created subproblems: 0\n",
            "  Error rc: 0\n",
            "  Time: 0.01152491569519043\n",
            "# ----------------------------------------------------------\n",
            "#   Solution Information\n",
            "# ----------------------------------------------------------\n",
            "Solution: \n",
            "- number of solutions: 0\n",
            "  number of solutions displayed: 0\n"
          ]
        }
      ]
    },
    {
      "cell_type": "code",
      "source": [
        "# display solution\n",
        "print('\\nObjective = ', model.objective())\n",
        "\n",
        "print('\\nDecision Variables')\n",
        "for i in col_indices:\n",
        "  print('x[',i,'] = ', model.x[i].value)\n",
        "\n",
        "print('\\nConstraints')\n",
        "model.constraints.display()"
      ],
      "metadata": {
        "colab": {
          "base_uri": "https://localhost:8080/"
        },
        "id": "L51Wa-Mdkjwt",
        "outputId": "2d650586-ec92-4017-a4ff-4b3a6f7408d1"
      },
      "execution_count": 19,
      "outputs": [
        {
          "output_type": "stream",
          "name": "stdout",
          "text": [
            "\n",
            "Objective =  -1951.8309999999997\n",
            "\n",
            "Decision Variables\n",
            "x[ 0 ] =  12.0\n",
            "x[ 1 ] =  0.0\n",
            "x[ 2 ] =  4.0\n",
            "x[ 3 ] =  119.82\n",
            "x[ 4 ] =  -34.0\n",
            "x[ 5 ] =  0.0\n",
            "x[ 6 ] =  20.0\n",
            "x[ 7 ] =  0.0\n",
            "x[ 8 ] =  -7.46000000000002\n",
            "x[ 9 ] =  15.0\n",
            "x[ 10 ] =  6.0\n",
            "x[ 11 ] =  1.0\n",
            "\n",
            "Constraints\n",
            "constraints : Size=5\n",
            "    Key : Lower : Body                : Upper\n",
            "      1 :  None :               -47.0 :  88.5\n",
            "      2 :  None : -116.28000000000002 :  35.4\n",
            "      3 :  None :   47.89999999999995 :  47.9\n",
            "      4 :  None :   41.43000000000002 : 41.43\n",
            "      5 :  None :   10.92000000000004 :  22.7\n"
          ]
        }
      ]
    },
    {
      "cell_type": "markdown",
      "source": [
        "the optimal cost are = -1951.8309999999997\n",
        "and the dicision variable are \n",
        "x 0  =  12.0\n",
        "x 1  =  0.0\n",
        "x 2  =  4.0\n",
        "x3  =  119.82\n",
        "x 4  =  -34.0\n",
        "x 5  =  0.0\n",
        "x 6  =  20.0\n",
        "x7  =  0.0\n",
        "x 8  =  -7.46000000000002\n",
        "x 9  =  15.0\n",
        "x10  =  6.0\n",
        "x11  =  1.0\n",
        "the constriant1 are inactive,\n",
        "the constriant1 are inactive,\n",
        "the constriant1 are active,\n",
        "the constriant1 are active,\n",
        "the constriant1 are inactive,\n",
        "\n",
        "\n",
        "\n",
        "---\n",
        "\n"
      ],
      "metadata": {
        "id": "Yq_ZFQ43lZRF"
      }
    }
  ]
}