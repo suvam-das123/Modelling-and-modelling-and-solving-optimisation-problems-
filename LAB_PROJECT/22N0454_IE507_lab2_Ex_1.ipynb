{
  "nbformat": 4,
  "nbformat_minor": 0,
  "metadata": {
    "colab": {
      "name": "22N0454_IE507_lab2_Ex_1.ipynb",
      "provenance": [],
      "collapsed_sections": []
    },
    "kernelspec": {
      "name": "python3",
      "display_name": "Python 3"
    },
    "language_info": {
      "name": "python"
    }
  },
  "cells": [
    {
      "cell_type": "code",
      "execution_count": null,
      "metadata": {
        "id": "eIsiLpndIdG_"
      },
      "outputs": [],
      "source": [
        "!pip install -q pyomo"
      ]
    },
    {
      "cell_type": "markdown",
      "source": [
        ""
      ],
      "metadata": {
        "id": "Wy0K7SfTjFCm"
      }
    },
    {
      "cell_type": "code",
      "source": [
        "from pyomo.environ import *"
      ],
      "metadata": {
        "id": "o7vh2kurIppB"
      },
      "execution_count": null,
      "outputs": []
    },
    {
      "cell_type": "code",
      "source": [
        "import numpy as np"
      ],
      "metadata": {
        "id": "9dkq7jnuIxFo"
      },
      "execution_count": null,
      "outputs": []
    },
    {
      "cell_type": "code",
      "source": [
        "#create a model1\n",
        "model1 =ConcreteModel()"
      ],
      "metadata": {
        "id": "Tcqi9yb8I0mo"
      },
      "execution_count": null,
      "outputs": []
    },
    {
      "cell_type": "code",
      "source": [
        "#we can se certain using python variables\n",
        "N=14  #we are to declare the number of the variale"
      ],
      "metadata": {
        "id": "umk8-zb9JEuW"
      },
      "execution_count": null,
      "outputs": []
    },
    {
      "cell_type": "code",
      "source": [
        "# coefficient for objecetive function can provided using numpy arraysbe \n",
        "obj_coef_c=np.array([-4.2, 37.75, 3.5, 10.05,-8.25, 40.85, 0.05, -11.12, 0.65, 20.725, -102.65, 0.6, -9.45, -25.625 ])"
      ],
      "metadata": {
        "id": "J-LX39ZtLcIb"
      },
      "execution_count": null,
      "outputs": []
    },
    {
      "cell_type": "code",
      "source": [
        "#We use more numpy arrays for providing constraint coefficients\n",
        "constr1_coef_p =np.array([1, 1, 1, 1, 1, 1, 1, 1, 1, 1, 1, 1, 1, 1])\n",
        "constr2_coef_q=np.array([2.8, -0.6725, 3.6, 0,-2.02, 1.01, -4.305, 0, 1, -2.09, 0, -2.124, -3.402, 0])\n",
        "\n",
        "#declare the RHS of the constraints as variables\n",
        "constr1_rhs_b1= 343.48\n",
        "constr1_rhs_b2= 66.2\n",
        "\n",
        "\n",
        "\n"
      ],
      "metadata": {
        "id": "jJu0TvJfLcNj"
      },
      "execution_count": null,
      "outputs": []
    },
    {
      "cell_type": "code",
      "source": [
        "# the following numpy arrays will be useful for setting the lower bound and upper bound for the variable\n",
        "lower_bound =np.array([2, -3, -np.inf, 1, 7, 3, -9, 0, 1, -25.245, -np.inf, -6, -30.5, -10.8])\n",
        "upper_bound = np.array([np.inf, 6, 2.5, 3.4, np.inf, 6, 4.1, np.inf, 30, 11, 0, 0, 95, 13.4])"
      ],
      "metadata": {
        "id": "hThHNbx0Lcu-"
      },
      "execution_count": null,
      "outputs": []
    },
    {
      "cell_type": "code",
      "source": [
        "# set of column indices: since we have N variables, we can take column indices to be the list [0,1,2,...,N-1]\n",
        "col_indices = np.arange(N)\n",
        "print(col_indices)\n",
        "print(col_indices[13])"
      ],
      "metadata": {
        "id": "BULd8ZBHUs8n",
        "colab": {
          "base_uri": "https://localhost:8080/"
        },
        "outputId": "5cef23ce-acb9-4644-af35-fce5f3fe5e96"
      },
      "execution_count": null,
      "outputs": [
        {
          "output_type": "stream",
          "name": "stdout",
          "text": [
            "[ 0  1  2  3  4  5  6  7  8  9 10 11 12 13]\n",
            "13\n"
          ]
        }
      ]
    },
    {
      "cell_type": "code",
      "source": [
        "#declare the decision variables in the model1\n",
        "model1.x = Var(col_indices)"
      ],
      "metadata": {
        "id": "vUAWHOknVc-G"
      },
      "execution_count": null,
      "outputs": []
    },
    {
      "cell_type": "code",
      "source": [
        "# create a ConstraintList to hold multiple constraints\n",
        "model1.constraints = ConstraintList()"
      ],
      "metadata": {
        "id": "EwZpMURkViE6"
      },
      "execution_count": null,
      "outputs": []
    },
    {
      "cell_type": "code",
      "source": [
        "#add model constraints one by one to the list \n",
        "#first add the constraint p1 x1+ p2 x2+...+ pN xN <= b1 \n",
        "#model.constr1 = Constraint(expr=4*model.x1 + ....)\n",
        "model1.constraints.add(sum(constr1_coef_p[j]*model1.x[j] for j in col_indices) <= constr1_rhs_b1)\n",
        "#np.sum"
      ],
      "metadata": {
        "id": "0Uih0MFKV2hn",
        "colab": {
          "base_uri": "https://localhost:8080/"
        },
        "outputId": "68d205b5-c947-4260-906a-5dc0214e6c74"
      },
      "execution_count": null,
      "outputs": [
        {
          "output_type": "execute_result",
          "data": {
            "text/plain": [
              "<pyomo.core.base.constraint._GeneralConstraintData at 0x7f3f9d7d08a0>"
            ]
          },
          "metadata": {},
          "execution_count": 27
        }
      ]
    },
    {
      "cell_type": "code",
      "source": [
        "#next add the constraint q1 x1 + q2 x2 + ...+ qN xN >= b2 \n",
        "model1.constraints.add(sum(constr2_coef_q[j]*model1.x[j] for j in col_indices) == constr1_rhs_b2)\n"
      ],
      "metadata": {
        "id": "8QAYqYgMV6D9",
        "colab": {
          "base_uri": "https://localhost:8080/"
        },
        "outputId": "804186c5-03ed-4ab8-a13f-2fdaa7c2a096"
      },
      "execution_count": null,
      "outputs": [
        {
          "output_type": "execute_result",
          "data": {
            "text/plain": [
              "<pyomo.core.base.constraint._GeneralConstraintData at 0x7f3f9d7d0910>"
            ]
          },
          "metadata": {},
          "execution_count": 28
        }
      ]
    },
    {
      "cell_type": "code",
      "source": [
        "#add the upper bound and lower bounds for the variables\n",
        "for j in col_indices:\n",
        "  model1.x[j].setlb(lower_bound[j])\n",
        "  model1.x[j].setub(upper_bound[j])"
      ],
      "metadata": {
        "id": "yprdf70_LczA"
      },
      "execution_count": null,
      "outputs": []
    },
    {
      "cell_type": "code",
      "source": [
        "# model1 the objective\n",
        "model1.objective=Objective(expr=sum(obj_coef_c[j]*model1.x[j] for j in col_indices), sense=minimize)"
      ],
      "metadata": {
        "id": "xQueMBWmWCMy"
      },
      "execution_count": null,
      "outputs": []
    },
    {
      "cell_type": "code",
      "source": [
        "model1.pprint()"
      ],
      "metadata": {
        "id": "kP14s1PsWxUd",
        "colab": {
          "base_uri": "https://localhost:8080/"
        },
        "outputId": "a71fbb43-7204-4759-f0ce-7d386220cae3"
      },
      "execution_count": null,
      "outputs": [
        {
          "output_type": "stream",
          "name": "stdout",
          "text": [
            "2 Set Declarations\n",
            "    constraints_index : Size=1, Index=None, Ordered=Insertion\n",
            "        Key  : Dimen : Domain : Size : Members\n",
            "        None :     1 :    Any :    2 : {1, 2}\n",
            "    x_index : Size=1, Index=None, Ordered=False\n",
            "        Key  : Dimen : Domain : Size : Members\n",
            "        None :     1 :    Any :   14 : {0, 1, 2, 3, 4, 5, 6, 7, 8, 9, 10, 11, 12, 13}\n",
            "\n",
            "1 Var Declarations\n",
            "    x : Size=14, Index=x_index\n",
            "        Key : Lower   : Value : Upper : Fixed : Stale : Domain\n",
            "          0 :     2.0 :  None :  None : False :  True :  Reals\n",
            "          1 :    -3.0 :  None :   6.0 : False :  True :  Reals\n",
            "          2 :    None :  None :   2.5 : False :  True :  Reals\n",
            "          3 :     1.0 :  None :   3.4 : False :  True :  Reals\n",
            "          4 :     7.0 :  None :  None : False :  True :  Reals\n",
            "          5 :     3.0 :  None :   6.0 : False :  True :  Reals\n",
            "          6 :    -9.0 :  None :   4.1 : False :  True :  Reals\n",
            "          7 :     0.0 :  None :  None : False :  True :  Reals\n",
            "          8 :     1.0 :  None :  30.0 : False :  True :  Reals\n",
            "          9 : -25.245 :  None :  11.0 : False :  True :  Reals\n",
            "         10 :    None :  None :   0.0 : False :  True :  Reals\n",
            "         11 :    -6.0 :  None :   0.0 : False :  True :  Reals\n",
            "         12 :   -30.5 :  None :  95.0 : False :  True :  Reals\n",
            "         13 :   -10.8 :  None :  13.4 : False :  True :  Reals\n",
            "\n",
            "1 Objective Declarations\n",
            "    objective : Size=1, Index=None, Active=True\n",
            "        Key  : Active : Sense    : Expression\n",
            "        None :   True : minimize : -4.2*x[0] + 37.75*x[1] + 3.5*x[2] + 10.05*x[3] - 8.25*x[4] + 40.85*x[5] + 0.05*x[6] - 11.12*x[7] + 0.65*x[8] + 20.725*x[9] - 102.65*x[10] + 0.6*x[11] - 9.45*x[12] - 25.625*x[13]\n",
            "\n",
            "1 Constraint Declarations\n",
            "    constraints : Size=2, Index=constraints_index, Active=True\n",
            "        Key : Lower : Body                                                                                                                  : Upper  : Active\n",
            "          1 :  -Inf :                   x[0] + x[1] + x[2] + x[3] + x[4] + x[5] + x[6] + x[7] + x[8] + x[9] + x[10] + x[11] + x[12] + x[13] : 343.48 :   True\n",
            "          2 :  66.2 : 2.8*x[0] - 0.6725*x[1] + 3.6*x[2] - 2.02*x[4] + 1.01*x[5] - 4.305*x[6] + x[8] - 2.09*x[9] - 2.124*x[11] - 3.402*x[12] :   66.2 :   True\n",
            "\n",
            "5 Declarations: x_index x constraints_index constraints objective\n"
          ]
        }
      ]
    },
    {
      "cell_type": "code",
      "source": [
        "!apt-get install -y -qq glpk-utils"
      ],
      "metadata": {
        "id": "wzPMXQHjWzbk",
        "colab": {
          "base_uri": "https://localhost:8080/"
        },
        "outputId": "b5c03c40-33bf-4bf5-aad3-e5dd8f020d5d"
      },
      "execution_count": null,
      "outputs": [
        {
          "output_type": "stream",
          "name": "stdout",
          "text": [
            "Selecting previously unselected package libsuitesparseconfig5:amd64.\n",
            "(Reading database ... 155680 files and directories currently installed.)\n",
            "Preparing to unpack .../libsuitesparseconfig5_1%3a5.1.2-2_amd64.deb ...\n",
            "Unpacking libsuitesparseconfig5:amd64 (1:5.1.2-2) ...\n",
            "Selecting previously unselected package libamd2:amd64.\n",
            "Preparing to unpack .../libamd2_1%3a5.1.2-2_amd64.deb ...\n",
            "Unpacking libamd2:amd64 (1:5.1.2-2) ...\n",
            "Selecting previously unselected package libcolamd2:amd64.\n",
            "Preparing to unpack .../libcolamd2_1%3a5.1.2-2_amd64.deb ...\n",
            "Unpacking libcolamd2:amd64 (1:5.1.2-2) ...\n",
            "Selecting previously unselected package libglpk40:amd64.\n",
            "Preparing to unpack .../libglpk40_4.65-1_amd64.deb ...\n",
            "Unpacking libglpk40:amd64 (4.65-1) ...\n",
            "Selecting previously unselected package glpk-utils.\n",
            "Preparing to unpack .../glpk-utils_4.65-1_amd64.deb ...\n",
            "Unpacking glpk-utils (4.65-1) ...\n",
            "Setting up libsuitesparseconfig5:amd64 (1:5.1.2-2) ...\n",
            "Setting up libcolamd2:amd64 (1:5.1.2-2) ...\n",
            "Setting up libamd2:amd64 (1:5.1.2-2) ...\n",
            "Setting up libglpk40:amd64 (4.65-1) ...\n",
            "Setting up glpk-utils (4.65-1) ...\n",
            "Processing triggers for libc-bin (2.27-3ubuntu1.5) ...\n",
            "Processing triggers for man-db (2.8.3-2ubuntu0.1) ...\n"
          ]
        }
      ]
    },
    {
      "cell_type": "code",
      "source": [
        "SolverFactory('glpk', executable='/usr/bin/glpsol').solve(model1).write()"
      ],
      "metadata": {
        "id": "5eyu1ZqyWzfr",
        "colab": {
          "base_uri": "https://localhost:8080/"
        },
        "outputId": "4d4ccd10-7e5b-42d5-80ca-067172a102dd"
      },
      "execution_count": null,
      "outputs": [
        {
          "output_type": "stream",
          "name": "stdout",
          "text": [
            "# ==========================================================\n",
            "# = Solver Results                                         =\n",
            "# ==========================================================\n",
            "# ----------------------------------------------------------\n",
            "#   Problem Information\n",
            "# ----------------------------------------------------------\n",
            "Problem: \n",
            "- Name: unknown\n",
            "  Lower bound: -14246.25704375\n",
            "  Upper bound: -14246.25704375\n",
            "  Number of objectives: 1\n",
            "  Number of constraints: 3\n",
            "  Number of variables: 15\n",
            "  Number of nonzeros: 25\n",
            "  Sense: minimize\n",
            "# ----------------------------------------------------------\n",
            "#   Solver Information\n",
            "# ----------------------------------------------------------\n",
            "Solver: \n",
            "- Status: ok\n",
            "  Termination condition: optimal\n",
            "  Statistics: \n",
            "    Branch and bound: \n",
            "      Number of bounded subproblems: 0\n",
            "      Number of created subproblems: 0\n",
            "  Error rc: 0\n",
            "  Time: 0.05960798263549805\n",
            "# ----------------------------------------------------------\n",
            "#   Solution Information\n",
            "# ----------------------------------------------------------\n",
            "Solution: \n",
            "- number of solutions: 0\n",
            "  number of solutions displayed: 0\n"
          ]
        }
      ]
    },
    {
      "cell_type": "code",
      "source": [
        "# display solution\n",
        "print('\\nObjective = ', model1.objective())\n",
        "\n",
        "print('\\nDecision Variables')\n",
        "for i in col_indices:\n",
        "  print('x[',i,'] = ', model1.x[i].value)\n",
        "\n",
        "print('\\nConstraints')\n",
        "model1.constraints.display()"
      ],
      "metadata": {
        "id": "AlrqVO9iW_au",
        "colab": {
          "base_uri": "https://localhost:8080/"
        },
        "outputId": "a167e867-d4ec-4e0e-9d8b-ff272b7df245"
      },
      "execution_count": null,
      "outputs": [
        {
          "output_type": "stream",
          "name": "stdout",
          "text": [
            "\n",
            "Objective =  -14246.257043750004\n",
            "\n",
            "Decision Variables\n",
            "x[ 0 ] =  2039.2619375\n",
            "x[ 1 ] =  -3.0\n",
            "x[ 2 ] =  -1623.2369375\n",
            "x[ 3 ] =  1.0\n",
            "x[ 4 ] =  7.0\n",
            "x[ 5 ] =  3.0\n",
            "x[ 6 ] =  -9.0\n",
            "x[ 7 ] =  0.0\n",
            "x[ 8 ] =  1.0\n",
            "x[ 9 ] =  -25.245\n",
            "x[ 10 ] =  0.0\n",
            "x[ 11 ] =  -6.0\n",
            "x[ 12 ] =  -30.5\n",
            "x[ 13 ] =  -10.8\n",
            "\n",
            "Constraints\n",
            "constraints : Size=2\n",
            "    Key : Lower : Body               : Upper\n",
            "      1 :  None : 343.47999999999985 : 343.48\n",
            "      2 :  66.2 :  66.19999999999925 :   66.2\n"
          ]
        }
      ]
    },
    {
      "cell_type": "code",
      "source": [
        ""
      ],
      "metadata": {
        "id": "NQgBlh5Mja8W"
      },
      "execution_count": null,
      "outputs": []
    },
    {
      "cell_type": "code",
      "source": [
        "the optimal value  =  -14246.257043750004\n"
      ],
      "metadata": {
        "id": "815_prBQjIvA"
      },
      "execution_count": null,
      "outputs": []
    },
    {
      "cell_type": "markdown",
      "source": [
        "the optimal cost are   =  -14246.257043750004\n",
        "and the dicision variable are \n",
        " x0 =  2039.2619375\n",
        "x1  =  -3.0\n",
        "x2  =  -1623.2369375\n",
        "x3  =  1.0\n",
        "x4  =  7.0\n",
        "x5  =  3.0\n",
        "x6  =  -9.0\n",
        "x7  =  0.0\n",
        "x8 =  1.0\n",
        "x9 =  -25.245\n",
        "x10 =  0.0\n",
        "x11 =  -6.0\n",
        "x12 =  -30.5\n",
        "x13 =  -10.8\n",
        "\n",
        "\n",
        "\n"
      ],
      "metadata": {
        "id": "Y_L1h7f5jeWe"
      }
    },
    {
      "cell_type": "markdown",
      "source": [
        ""
      ],
      "metadata": {
        "id": "dXEBR5tgje6G"
      }
    }
  ]
}