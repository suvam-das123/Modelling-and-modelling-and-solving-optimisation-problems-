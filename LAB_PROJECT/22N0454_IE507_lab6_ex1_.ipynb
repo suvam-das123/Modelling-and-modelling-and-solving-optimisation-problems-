{
  "cells": [
    {
      "cell_type": "markdown",
      "source": [
        " qustion 1.\n",
        " Let C[w, m] be the cost of transporting one truck-load of EVs from w to m.\n",
        " dicison varibale xwm denots transporting elective vehicles from warehouse 'w' to marketc[w,m], and bw denotes the number of demand from warehouse to locate,bidenotes the limit of availble stocks in warehouse.\n",
        " \n",
        "minimize     c11x11+c12x12+c13x13+.......+c21x21+....+cwmxwm ,,,\n",
        "\n",
        " constraint  are   \n",
        " x11+x12+x13+x14.....+x1m <=b1,,\n",
        "\n",
        "x21+x22+x23+x33+....x2m<=b2,,\n",
        "\n",
        "...\n",
        ".....\n",
        "\n",
        "....\n",
        ".........,,,\n",
        "\n",
        "xw1+xw2+xw3+....xwm<=bw,,\n",
        "\n",
        "\n",
        " and x11+x21+x31+x41+...=b1,,\n",
        " \n",
        " x12+x22+x32+....=b2,,\n",
        " ....\n",
        " .......\n",
        " x1m+x2m+xx3m+x4m+......=bm,,\n"
      ],
      "metadata": {
        "id": "gnTGyljENNpX"
      }
    },
    {
      "cell_type": "code",
      "execution_count": null,
      "metadata": {
        "id": "gRiiLbptaZIY",
        "colab": {
          "base_uri": "https://localhost:8080/"
        },
        "outputId": "591d2fda-e9c2-44d2-b4a4-7c375af555a9"
      },
      "outputs": [
        {
          "output_type": "stream",
          "name": "stdout",
          "text": [
            "\u001b[K     |████████████████████████████████| 9.7 MB 5.1 MB/s \n",
            "\u001b[K     |████████████████████████████████| 49 kB 4.7 MB/s \n",
            "\u001b[?25h"
          ]
        }
      ],
      "source": [
        "!pip install -q pyomo"
      ]
    },
    {
      "cell_type": "code",
      "execution_count": null,
      "metadata": {
        "id": "uCO-rEOUaxKk"
      },
      "outputs": [],
      "source": [
        "from pyomo.environ import *"
      ]
    },
    {
      "cell_type": "code",
      "execution_count": null,
      "metadata": {
        "id": "tSnCoHnWbAKa"
      },
      "outputs": [],
      "source": [
        "import numpy as np"
      ]
    },
    {
      "cell_type": "code",
      "execution_count": null,
      "metadata": {
        "id": "x3rJkLyabAna"
      },
      "outputs": [],
      "source": [
        "import pandas as pd"
      ]
    },
    {
      "cell_type": "code",
      "execution_count": null,
      "metadata": {
        "id": "gYDdzb80bAvl"
      },
      "outputs": [],
      "source": [
        "data_csvfile= pd.read_csv('lab6 ex1.csv')"
      ]
    },
    {
      "cell_type": "code",
      "execution_count": null,
      "metadata": {
        "colab": {
          "base_uri": "https://localhost:8080/",
          "height": 332
        },
        "id": "9b5hByvCb28o",
        "outputId": "69110cfc-f6bb-4f89-a2e9-d207c876b9ef"
      },
      "outputs": [
        {
          "output_type": "execute_result",
          "data": {
            "text/plain": [
              "  Warehouses  Hassan  Jodhpur  Trichy  Simla  Markets Vijayawada  Dibrugarh  \\\n",
              "0  Ahmedabad     827      817    1470   2272                1615       3143   \n",
              "1  Bengaluru     559     1832     751   3772                 637       3773   \n",
              "2    Chennai    1109     2443     577   3865                 798       3521   \n",
              "3      Delhi    2943     1471    4676   1337                2702       2741   \n",
              "4    Kolkata    3742     3089    2931   3199                2226       1739   \n",
              "5    Lucknow    2353     1160    3295    368                2369       2365   \n",
              "6     Mumbai    1356     1617    2045   2941                2334       4151   \n",
              "7  Hyderabad     195     1862    1331   2921                 402       2825   \n",
              "8     Demand     205      300     425    270                 375        225   \n",
              "\n",
              "   Raipur  Agartala  Avail. Stock  \n",
              "0    1264      4465           350  \n",
              "1    1856      5459           185  \n",
              "2    1984      5303           305  \n",
              "3    2482      4148           180  \n",
              "4    1691      2128           205  \n",
              "5    1293      3642           175  \n",
              "6    1937      4287           325  \n",
              "7     563      4441           370  \n",
              "8     185       110          2095  "
            ],
            "text/html": [
              "\n",
              "  <div id=\"df-3655b0e0-15e4-40d4-b5e7-539c19c7eb47\">\n",
              "    <div class=\"colab-df-container\">\n",
              "      <div>\n",
              "<style scoped>\n",
              "    .dataframe tbody tr th:only-of-type {\n",
              "        vertical-align: middle;\n",
              "    }\n",
              "\n",
              "    .dataframe tbody tr th {\n",
              "        vertical-align: top;\n",
              "    }\n",
              "\n",
              "    .dataframe thead th {\n",
              "        text-align: right;\n",
              "    }\n",
              "</style>\n",
              "<table border=\"1\" class=\"dataframe\">\n",
              "  <thead>\n",
              "    <tr style=\"text-align: right;\">\n",
              "      <th></th>\n",
              "      <th>Warehouses</th>\n",
              "      <th>Hassan</th>\n",
              "      <th>Jodhpur</th>\n",
              "      <th>Trichy</th>\n",
              "      <th>Simla</th>\n",
              "      <th>Markets Vijayawada</th>\n",
              "      <th>Dibrugarh</th>\n",
              "      <th>Raipur</th>\n",
              "      <th>Agartala</th>\n",
              "      <th>Avail. Stock</th>\n",
              "    </tr>\n",
              "  </thead>\n",
              "  <tbody>\n",
              "    <tr>\n",
              "      <th>0</th>\n",
              "      <td>Ahmedabad</td>\n",
              "      <td>827</td>\n",
              "      <td>817</td>\n",
              "      <td>1470</td>\n",
              "      <td>2272</td>\n",
              "      <td>1615</td>\n",
              "      <td>3143</td>\n",
              "      <td>1264</td>\n",
              "      <td>4465</td>\n",
              "      <td>350</td>\n",
              "    </tr>\n",
              "    <tr>\n",
              "      <th>1</th>\n",
              "      <td>Bengaluru</td>\n",
              "      <td>559</td>\n",
              "      <td>1832</td>\n",
              "      <td>751</td>\n",
              "      <td>3772</td>\n",
              "      <td>637</td>\n",
              "      <td>3773</td>\n",
              "      <td>1856</td>\n",
              "      <td>5459</td>\n",
              "      <td>185</td>\n",
              "    </tr>\n",
              "    <tr>\n",
              "      <th>2</th>\n",
              "      <td>Chennai</td>\n",
              "      <td>1109</td>\n",
              "      <td>2443</td>\n",
              "      <td>577</td>\n",
              "      <td>3865</td>\n",
              "      <td>798</td>\n",
              "      <td>3521</td>\n",
              "      <td>1984</td>\n",
              "      <td>5303</td>\n",
              "      <td>305</td>\n",
              "    </tr>\n",
              "    <tr>\n",
              "      <th>3</th>\n",
              "      <td>Delhi</td>\n",
              "      <td>2943</td>\n",
              "      <td>1471</td>\n",
              "      <td>4676</td>\n",
              "      <td>1337</td>\n",
              "      <td>2702</td>\n",
              "      <td>2741</td>\n",
              "      <td>2482</td>\n",
              "      <td>4148</td>\n",
              "      <td>180</td>\n",
              "    </tr>\n",
              "    <tr>\n",
              "      <th>4</th>\n",
              "      <td>Kolkata</td>\n",
              "      <td>3742</td>\n",
              "      <td>3089</td>\n",
              "      <td>2931</td>\n",
              "      <td>3199</td>\n",
              "      <td>2226</td>\n",
              "      <td>1739</td>\n",
              "      <td>1691</td>\n",
              "      <td>2128</td>\n",
              "      <td>205</td>\n",
              "    </tr>\n",
              "    <tr>\n",
              "      <th>5</th>\n",
              "      <td>Lucknow</td>\n",
              "      <td>2353</td>\n",
              "      <td>1160</td>\n",
              "      <td>3295</td>\n",
              "      <td>368</td>\n",
              "      <td>2369</td>\n",
              "      <td>2365</td>\n",
              "      <td>1293</td>\n",
              "      <td>3642</td>\n",
              "      <td>175</td>\n",
              "    </tr>\n",
              "    <tr>\n",
              "      <th>6</th>\n",
              "      <td>Mumbai</td>\n",
              "      <td>1356</td>\n",
              "      <td>1617</td>\n",
              "      <td>2045</td>\n",
              "      <td>2941</td>\n",
              "      <td>2334</td>\n",
              "      <td>4151</td>\n",
              "      <td>1937</td>\n",
              "      <td>4287</td>\n",
              "      <td>325</td>\n",
              "    </tr>\n",
              "    <tr>\n",
              "      <th>7</th>\n",
              "      <td>Hyderabad</td>\n",
              "      <td>195</td>\n",
              "      <td>1862</td>\n",
              "      <td>1331</td>\n",
              "      <td>2921</td>\n",
              "      <td>402</td>\n",
              "      <td>2825</td>\n",
              "      <td>563</td>\n",
              "      <td>4441</td>\n",
              "      <td>370</td>\n",
              "    </tr>\n",
              "    <tr>\n",
              "      <th>8</th>\n",
              "      <td>Demand</td>\n",
              "      <td>205</td>\n",
              "      <td>300</td>\n",
              "      <td>425</td>\n",
              "      <td>270</td>\n",
              "      <td>375</td>\n",
              "      <td>225</td>\n",
              "      <td>185</td>\n",
              "      <td>110</td>\n",
              "      <td>2095</td>\n",
              "    </tr>\n",
              "  </tbody>\n",
              "</table>\n",
              "</div>\n",
              "      <button class=\"colab-df-convert\" onclick=\"convertToInteractive('df-3655b0e0-15e4-40d4-b5e7-539c19c7eb47')\"\n",
              "              title=\"Convert this dataframe to an interactive table.\"\n",
              "              style=\"display:none;\">\n",
              "        \n",
              "  <svg xmlns=\"http://www.w3.org/2000/svg\" height=\"24px\"viewBox=\"0 0 24 24\"\n",
              "       width=\"24px\">\n",
              "    <path d=\"M0 0h24v24H0V0z\" fill=\"none\"/>\n",
              "    <path d=\"M18.56 5.44l.94 2.06.94-2.06 2.06-.94-2.06-.94-.94-2.06-.94 2.06-2.06.94zm-11 1L8.5 8.5l.94-2.06 2.06-.94-2.06-.94L8.5 2.5l-.94 2.06-2.06.94zm10 10l.94 2.06.94-2.06 2.06-.94-2.06-.94-.94-2.06-.94 2.06-2.06.94z\"/><path d=\"M17.41 7.96l-1.37-1.37c-.4-.4-.92-.59-1.43-.59-.52 0-1.04.2-1.43.59L10.3 9.45l-7.72 7.72c-.78.78-.78 2.05 0 2.83L4 21.41c.39.39.9.59 1.41.59.51 0 1.02-.2 1.41-.59l7.78-7.78 2.81-2.81c.8-.78.8-2.07 0-2.86zM5.41 20L4 18.59l7.72-7.72 1.47 1.35L5.41 20z\"/>\n",
              "  </svg>\n",
              "      </button>\n",
              "      \n",
              "  <style>\n",
              "    .colab-df-container {\n",
              "      display:flex;\n",
              "      flex-wrap:wrap;\n",
              "      gap: 12px;\n",
              "    }\n",
              "\n",
              "    .colab-df-convert {\n",
              "      background-color: #E8F0FE;\n",
              "      border: none;\n",
              "      border-radius: 50%;\n",
              "      cursor: pointer;\n",
              "      display: none;\n",
              "      fill: #1967D2;\n",
              "      height: 32px;\n",
              "      padding: 0 0 0 0;\n",
              "      width: 32px;\n",
              "    }\n",
              "\n",
              "    .colab-df-convert:hover {\n",
              "      background-color: #E2EBFA;\n",
              "      box-shadow: 0px 1px 2px rgba(60, 64, 67, 0.3), 0px 1px 3px 1px rgba(60, 64, 67, 0.15);\n",
              "      fill: #174EA6;\n",
              "    }\n",
              "\n",
              "    [theme=dark] .colab-df-convert {\n",
              "      background-color: #3B4455;\n",
              "      fill: #D2E3FC;\n",
              "    }\n",
              "\n",
              "    [theme=dark] .colab-df-convert:hover {\n",
              "      background-color: #434B5C;\n",
              "      box-shadow: 0px 1px 3px 1px rgba(0, 0, 0, 0.15);\n",
              "      filter: drop-shadow(0px 1px 2px rgba(0, 0, 0, 0.3));\n",
              "      fill: #FFFFFF;\n",
              "    }\n",
              "  </style>\n",
              "\n",
              "      <script>\n",
              "        const buttonEl =\n",
              "          document.querySelector('#df-3655b0e0-15e4-40d4-b5e7-539c19c7eb47 button.colab-df-convert');\n",
              "        buttonEl.style.display =\n",
              "          google.colab.kernel.accessAllowed ? 'block' : 'none';\n",
              "\n",
              "        async function convertToInteractive(key) {\n",
              "          const element = document.querySelector('#df-3655b0e0-15e4-40d4-b5e7-539c19c7eb47');\n",
              "          const dataTable =\n",
              "            await google.colab.kernel.invokeFunction('convertToInteractive',\n",
              "                                                     [key], {});\n",
              "          if (!dataTable) return;\n",
              "\n",
              "          const docLinkHtml = 'Like what you see? Visit the ' +\n",
              "            '<a target=\"_blank\" href=https://colab.research.google.com/notebooks/data_table.ipynb>data table notebook</a>'\n",
              "            + ' to learn more about interactive tables.';\n",
              "          element.innerHTML = '';\n",
              "          dataTable['output_type'] = 'display_data';\n",
              "          await google.colab.output.renderOutput(dataTable, element);\n",
              "          const docLink = document.createElement('div');\n",
              "          docLink.innerHTML = docLinkHtml;\n",
              "          element.appendChild(docLink);\n",
              "        }\n",
              "      </script>\n",
              "    </div>\n",
              "  </div>\n",
              "  "
            ]
          },
          "metadata": {},
          "execution_count": 8
        }
      ],
      "source": [
        "data_csvfile"
      ]
    },
    {
      "cell_type": "code",
      "execution_count": null,
      "metadata": {
        "colab": {
          "base_uri": "https://localhost:8080/"
        },
        "id": "aAtpdSfRb3WK",
        "outputId": "62752883-e742-4d64-d191-a82a2b17f404"
      },
      "outputs": [
        {
          "output_type": "execute_result",
          "data": {
            "text/plain": [
              "RangeIndex(start=0, stop=9, step=1)"
            ]
          },
          "metadata": {},
          "execution_count": 9
        }
      ],
      "source": [
        "data_csvfile.index"
      ]
    },
    {
      "cell_type": "code",
      "execution_count": null,
      "metadata": {
        "colab": {
          "base_uri": "https://localhost:8080/"
        },
        "id": "-eFB_J3Mc-UF",
        "outputId": "8adebed1-893c-4d3c-c0b9-995c44b561ad"
      },
      "outputs": [
        {
          "output_type": "stream",
          "name": "stdout",
          "text": [
            "num rows: 9\n"
          ]
        }
      ],
      "source": [
        "print('num rows:',len(data_csvfile.index))"
      ]
    },
    {
      "cell_type": "code",
      "execution_count": null,
      "metadata": {
        "colab": {
          "base_uri": "https://localhost:8080/"
        },
        "id": "UIWZFZ76dRi-",
        "outputId": "2663cc81-f02a-4234-8e96-dfcf694cf7e0"
      },
      "outputs": [
        {
          "output_type": "stream",
          "name": "stdout",
          "text": [
            "Warehouses            Ahmedabad\n",
            "Hassan                      827\n",
            "Jodhpur                     817\n",
            "Trichy                     1470\n",
            "Simla                      2272\n",
            "Markets Vijayawada         1615\n",
            "Dibrugarh                  3143\n",
            "Raipur                     1264\n",
            "Agartala                   4465\n",
            "Avail. Stock                350\n",
            "Name: 0, dtype: object\n"
          ]
        }
      ],
      "source": [
        "print(data_csvfile.iloc[0,:])"
      ]
    },
    {
      "cell_type": "code",
      "execution_count": null,
      "metadata": {
        "colab": {
          "base_uri": "https://localhost:8080/"
        },
        "id": "cgKw7r0Jd1F9",
        "outputId": "6d6666b6-f9c5-4acf-d3e2-f1ddb02897f1"
      },
      "outputs": [
        {
          "output_type": "stream",
          "name": "stdout",
          "text": [
            "Warehouses            Chennai\n",
            "Hassan                   1109\n",
            "Jodhpur                  2443\n",
            "Trichy                    577\n",
            "Simla                    3865\n",
            "Markets Vijayawada        798\n",
            "Dibrugarh                3521\n",
            "Raipur                   1984\n",
            "Agartala                 5303\n",
            "Avail. Stock              305\n",
            "Name: 2, dtype: object\n"
          ]
        }
      ],
      "source": [
        "print(data_csvfile.iloc[2,:])"
      ]
    },
    {
      "cell_type": "code",
      "execution_count": null,
      "metadata": {
        "id": "temsXfzIeEfV"
      },
      "outputs": [],
      "source": [
        "model=ConcreteModel()"
      ]
    },
    {
      "cell_type": "code",
      "execution_count": null,
      "metadata": {
        "id": "XfB8tFWDe9vg"
      },
      "outputs": [],
      "source": [
        "a=len(data_csvfile.index)"
      ]
    },
    {
      "cell_type": "code",
      "execution_count": null,
      "metadata": {
        "id": "ndTkd_NIeOaG"
      },
      "outputs": [],
      "source": [
        "M=a-1"
      ]
    },
    {
      "cell_type": "code",
      "execution_count": null,
      "metadata": {
        "id": "X-e_x6y_enHH"
      },
      "outputs": [],
      "source": [
        "b=len(data_csvfile.columns)"
      ]
    },
    {
      "cell_type": "code",
      "execution_count": null,
      "metadata": {
        "id": "YhmkLbxZfear"
      },
      "outputs": [],
      "source": [
        "N=b-2"
      ]
    },
    {
      "cell_type": "code",
      "execution_count": null,
      "metadata": {
        "colab": {
          "base_uri": "https://localhost:8080/"
        },
        "id": "A5TBBCtcfhMz",
        "outputId": "ab055e07-3d9e-4bda-b9b0-aa2677f44c75"
      },
      "outputs": [
        {
          "output_type": "execute_result",
          "data": {
            "text/plain": [
              "8"
            ]
          },
          "metadata": {},
          "execution_count": 18
        }
      ],
      "source": [
        "N"
      ]
    },
    {
      "cell_type": "code",
      "execution_count": null,
      "metadata": {
        "id": "4q0SxecOfoCJ"
      },
      "outputs": [],
      "source": [
        "row_indices=range(M)\n",
        "col_indices=range(N)"
      ]
    },
    {
      "cell_type": "code",
      "execution_count": null,
      "metadata": {
        "colab": {
          "base_uri": "https://localhost:8080/"
        },
        "id": "_9fE4SgHf44a",
        "outputId": "781b96c3-6fd0-49f6-d1b7-83a1a84ad558"
      },
      "outputs": [
        {
          "output_type": "stream",
          "name": "stdout",
          "text": [
            "range(0, 8)\n",
            "range(0, 8)\n"
          ]
        }
      ],
      "source": [
        "print(row_indices)\n",
        "print(col_indices)"
      ]
    },
    {
      "cell_type": "code",
      "execution_count": null,
      "metadata": {
        "id": "0LqF0kpJoLBV"
      },
      "outputs": [],
      "source": [
        "model=ConcreteModel()"
      ]
    },
    {
      "cell_type": "markdown",
      "metadata": {
        "id": "sEAkyl4aiKRz"
      },
      "source": []
    },
    {
      "cell_type": "code",
      "execution_count": null,
      "metadata": {
        "colab": {
          "base_uri": "https://localhost:8080/"
        },
        "id": "o5ndkkUngT23",
        "outputId": "16179927-1dc7-4c38-9275-45c714e578e3"
      },
      "outputs": [
        {
          "output_type": "stream",
          "name": "stdout",
          "text": [
            "cost[ 0 ][ 1 ]: 827\n",
            "cost[ 0 ][ 2 ]: 817\n",
            "cost[ 0 ][ 3 ]: 1470\n",
            "cost[ 0 ][ 4 ]: 2272\n",
            "cost[ 0 ][ 5 ]: 1615\n",
            "cost[ 0 ][ 6 ]: 3143\n",
            "cost[ 0 ][ 7 ]: 1264\n",
            "cost[ 0 ][ 8 ]: 4465\n",
            "cost[ 1 ][ 1 ]: 559\n",
            "cost[ 1 ][ 2 ]: 1832\n",
            "cost[ 1 ][ 3 ]: 751\n",
            "cost[ 1 ][ 4 ]: 3772\n",
            "cost[ 1 ][ 5 ]: 637\n",
            "cost[ 1 ][ 6 ]: 3773\n",
            "cost[ 1 ][ 7 ]: 1856\n",
            "cost[ 1 ][ 8 ]: 5459\n",
            "cost[ 2 ][ 1 ]: 1109\n",
            "cost[ 2 ][ 2 ]: 2443\n",
            "cost[ 2 ][ 3 ]: 577\n",
            "cost[ 2 ][ 4 ]: 3865\n",
            "cost[ 2 ][ 5 ]: 798\n",
            "cost[ 2 ][ 6 ]: 3521\n",
            "cost[ 2 ][ 7 ]: 1984\n",
            "cost[ 2 ][ 8 ]: 5303\n",
            "cost[ 3 ][ 1 ]: 2943\n",
            "cost[ 3 ][ 2 ]: 1471\n",
            "cost[ 3 ][ 3 ]: 4676\n",
            "cost[ 3 ][ 4 ]: 1337\n",
            "cost[ 3 ][ 5 ]: 2702\n",
            "cost[ 3 ][ 6 ]: 2741\n",
            "cost[ 3 ][ 7 ]: 2482\n",
            "cost[ 3 ][ 8 ]: 4148\n",
            "cost[ 4 ][ 1 ]: 3742\n",
            "cost[ 4 ][ 2 ]: 3089\n",
            "cost[ 4 ][ 3 ]: 2931\n",
            "cost[ 4 ][ 4 ]: 3199\n",
            "cost[ 4 ][ 5 ]: 2226\n",
            "cost[ 4 ][ 6 ]: 1739\n",
            "cost[ 4 ][ 7 ]: 1691\n",
            "cost[ 4 ][ 8 ]: 2128\n",
            "cost[ 5 ][ 1 ]: 2353\n",
            "cost[ 5 ][ 2 ]: 1160\n",
            "cost[ 5 ][ 3 ]: 3295\n",
            "cost[ 5 ][ 4 ]: 368\n",
            "cost[ 5 ][ 5 ]: 2369\n",
            "cost[ 5 ][ 6 ]: 2365\n",
            "cost[ 5 ][ 7 ]: 1293\n",
            "cost[ 5 ][ 8 ]: 3642\n",
            "cost[ 6 ][ 1 ]: 1356\n",
            "cost[ 6 ][ 2 ]: 1617\n",
            "cost[ 6 ][ 3 ]: 2045\n",
            "cost[ 6 ][ 4 ]: 2941\n",
            "cost[ 6 ][ 5 ]: 2334\n",
            "cost[ 6 ][ 6 ]: 4151\n",
            "cost[ 6 ][ 7 ]: 1937\n",
            "cost[ 6 ][ 8 ]: 4287\n",
            "cost[ 7 ][ 1 ]: 195\n",
            "cost[ 7 ][ 2 ]: 1862\n",
            "cost[ 7 ][ 3 ]: 1331\n",
            "cost[ 7 ][ 4 ]: 2921\n",
            "cost[ 7 ][ 5 ]: 402\n",
            "cost[ 7 ][ 6 ]: 2825\n",
            "cost[ 7 ][ 7 ]: 563\n",
            "cost[ 7 ][ 8 ]: 4441\n"
          ]
        }
      ],
      "source": [
        "for  row_idx in row_indices:\n",
        "  for col_idx in col_indices:\n",
        "    print('cost[',row_idx,'][',col_idx+1,']:',data_csvfile.iloc[row_idx, col_idx+1])"
      ]
    },
    {
      "cell_type": "code",
      "execution_count": null,
      "metadata": {
        "id": "XXZyogA_ikQ8"
      },
      "outputs": [],
      "source": [
        "model.x=Var(row_indices,col_indices, domain=NonNegativeReals)"
      ]
    },
    {
      "cell_type": "code",
      "execution_count": null,
      "metadata": {
        "id": "nS-TJ9Msoqcp"
      },
      "outputs": [],
      "source": [
        "model.objective = Objective(expr=sum(data_csvfile.iloc[i,j+1]*model.x[i,j] for i in row_indices for j in col_indices),sense=minimize)"
      ]
    },
    {
      "cell_type": "code",
      "execution_count": null,
      "metadata": {
        "id": "lF6dPVJAoqoG"
      },
      "outputs": [],
      "source": []
    },
    {
      "cell_type": "code",
      "execution_count": null,
      "metadata": {
        "id": "W8mJCHqZikgQ"
      },
      "outputs": [],
      "source": [
        "#model.objective=Objective(expr=sum(data_csvfile.iloc[i,j+1]*model.x[i,j] for i in row_indices for j in col_indices),sense=mimimize)"
      ]
    },
    {
      "cell_type": "code",
      "execution_count": null,
      "metadata": {
        "id": "VBKnFbG8khdo"
      },
      "outputs": [],
      "source": [
        "model.constraint=ConstraintList()"
      ]
    },
    {
      "cell_type": "code",
      "execution_count": null,
      "metadata": {
        "colab": {
          "base_uri": "https://localhost:8080/"
        },
        "id": "Cy-qNx4avHiN",
        "outputId": "c796b035-24f7-4c7d-aa36-abb1ce17b85b"
      },
      "outputs": [
        {
          "output_type": "stream",
          "name": "stdout",
          "text": [
            "Hassan                205\n",
            "Jodhpur               300\n",
            "Trichy                425\n",
            "Simla                 270\n",
            "Markets Vijayawada    375\n",
            "Dibrugarh             225\n",
            "Raipur                185\n",
            "Agartala              110\n",
            "Name: 8, dtype: object\n"
          ]
        }
      ],
      "source": [
        "print(data_csvfile.iloc[M,1:N+1])"
      ]
    },
    {
      "cell_type": "code",
      "execution_count": null,
      "metadata": {
        "id": "DC1_8Jrhkod_"
      },
      "outputs": [],
      "source": [
        "for i in range(len(row_indices)):\n",
        "  model.constraint.add(expr = sum(model.x[i,j] for j in col_indices)<=data_csvfile.iloc[i,N+1])"
      ]
    },
    {
      "cell_type": "code",
      "execution_count": null,
      "metadata": {
        "id": "p6tcSDqAs8S7"
      },
      "outputs": [],
      "source": [
        "for j in range(len(col_indices)):\n",
        "  model.constraint.add(expr=sum(model.x[i,j] for i in row_indices) == data_csvfile.iloc[M,j+1])"
      ]
    },
    {
      "cell_type": "code",
      "execution_count": null,
      "metadata": {
        "id": "GP4fDl93pKph",
        "colab": {
          "base_uri": "https://localhost:8080/"
        },
        "outputId": "d3f77a97-fde8-4cb8-8b36-eb7c4b3572a7"
      },
      "outputs": [
        {
          "output_type": "stream",
          "name": "stdout",
          "text": [
            "4 Set Declarations\n",
            "    constraint_index : Size=1, Index=None, Ordered=Insertion\n",
            "        Key  : Dimen : Domain : Size : Members\n",
            "        None :     1 :    Any :   16 : {1, 2, 3, 4, 5, 6, 7, 8, 9, 10, 11, 12, 13, 14, 15, 16}\n",
            "    x_index : Size=1, Index=None, Ordered=True\n",
            "        Key  : Dimen : Domain              : Size : Members\n",
            "        None :     2 : x_index_0*x_index_1 :   64 : {(0, 0), (0, 1), (0, 2), (0, 3), (0, 4), (0, 5), (0, 6), (0, 7), (1, 0), (1, 1), (1, 2), (1, 3), (1, 4), (1, 5), (1, 6), (1, 7), (2, 0), (2, 1), (2, 2), (2, 3), (2, 4), (2, 5), (2, 6), (2, 7), (3, 0), (3, 1), (3, 2), (3, 3), (3, 4), (3, 5), (3, 6), (3, 7), (4, 0), (4, 1), (4, 2), (4, 3), (4, 4), (4, 5), (4, 6), (4, 7), (5, 0), (5, 1), (5, 2), (5, 3), (5, 4), (5, 5), (5, 6), (5, 7), (6, 0), (6, 1), (6, 2), (6, 3), (6, 4), (6, 5), (6, 6), (6, 7), (7, 0), (7, 1), (7, 2), (7, 3), (7, 4), (7, 5), (7, 6), (7, 7)}\n",
            "    x_index_0 : Size=1, Index=None, Ordered=Insertion\n",
            "        Key  : Dimen : Domain : Size : Members\n",
            "        None :     1 :    Any :    8 : {0, 1, 2, 3, 4, 5, 6, 7}\n",
            "    x_index_1 : Size=1, Index=None, Ordered=Insertion\n",
            "        Key  : Dimen : Domain : Size : Members\n",
            "        None :     1 :    Any :    8 : {0, 1, 2, 3, 4, 5, 6, 7}\n",
            "\n",
            "1 Var Declarations\n",
            "    x : Size=64, Index=x_index\n",
            "        Key    : Lower : Value : Upper : Fixed : Stale : Domain\n",
            "        (0, 0) :     0 :  None :  None : False :  True : NonNegativeReals\n",
            "        (0, 1) :     0 :  None :  None : False :  True : NonNegativeReals\n",
            "        (0, 2) :     0 :  None :  None : False :  True : NonNegativeReals\n",
            "        (0, 3) :     0 :  None :  None : False :  True : NonNegativeReals\n",
            "        (0, 4) :     0 :  None :  None : False :  True : NonNegativeReals\n",
            "        (0, 5) :     0 :  None :  None : False :  True : NonNegativeReals\n",
            "        (0, 6) :     0 :  None :  None : False :  True : NonNegativeReals\n",
            "        (0, 7) :     0 :  None :  None : False :  True : NonNegativeReals\n",
            "        (1, 0) :     0 :  None :  None : False :  True : NonNegativeReals\n",
            "        (1, 1) :     0 :  None :  None : False :  True : NonNegativeReals\n",
            "        (1, 2) :     0 :  None :  None : False :  True : NonNegativeReals\n",
            "        (1, 3) :     0 :  None :  None : False :  True : NonNegativeReals\n",
            "        (1, 4) :     0 :  None :  None : False :  True : NonNegativeReals\n",
            "        (1, 5) :     0 :  None :  None : False :  True : NonNegativeReals\n",
            "        (1, 6) :     0 :  None :  None : False :  True : NonNegativeReals\n",
            "        (1, 7) :     0 :  None :  None : False :  True : NonNegativeReals\n",
            "        (2, 0) :     0 :  None :  None : False :  True : NonNegativeReals\n",
            "        (2, 1) :     0 :  None :  None : False :  True : NonNegativeReals\n",
            "        (2, 2) :     0 :  None :  None : False :  True : NonNegativeReals\n",
            "        (2, 3) :     0 :  None :  None : False :  True : NonNegativeReals\n",
            "        (2, 4) :     0 :  None :  None : False :  True : NonNegativeReals\n",
            "        (2, 5) :     0 :  None :  None : False :  True : NonNegativeReals\n",
            "        (2, 6) :     0 :  None :  None : False :  True : NonNegativeReals\n",
            "        (2, 7) :     0 :  None :  None : False :  True : NonNegativeReals\n",
            "        (3, 0) :     0 :  None :  None : False :  True : NonNegativeReals\n",
            "        (3, 1) :     0 :  None :  None : False :  True : NonNegativeReals\n",
            "        (3, 2) :     0 :  None :  None : False :  True : NonNegativeReals\n",
            "        (3, 3) :     0 :  None :  None : False :  True : NonNegativeReals\n",
            "        (3, 4) :     0 :  None :  None : False :  True : NonNegativeReals\n",
            "        (3, 5) :     0 :  None :  None : False :  True : NonNegativeReals\n",
            "        (3, 6) :     0 :  None :  None : False :  True : NonNegativeReals\n",
            "        (3, 7) :     0 :  None :  None : False :  True : NonNegativeReals\n",
            "        (4, 0) :     0 :  None :  None : False :  True : NonNegativeReals\n",
            "        (4, 1) :     0 :  None :  None : False :  True : NonNegativeReals\n",
            "        (4, 2) :     0 :  None :  None : False :  True : NonNegativeReals\n",
            "        (4, 3) :     0 :  None :  None : False :  True : NonNegativeReals\n",
            "        (4, 4) :     0 :  None :  None : False :  True : NonNegativeReals\n",
            "        (4, 5) :     0 :  None :  None : False :  True : NonNegativeReals\n",
            "        (4, 6) :     0 :  None :  None : False :  True : NonNegativeReals\n",
            "        (4, 7) :     0 :  None :  None : False :  True : NonNegativeReals\n",
            "        (5, 0) :     0 :  None :  None : False :  True : NonNegativeReals\n",
            "        (5, 1) :     0 :  None :  None : False :  True : NonNegativeReals\n",
            "        (5, 2) :     0 :  None :  None : False :  True : NonNegativeReals\n",
            "        (5, 3) :     0 :  None :  None : False :  True : NonNegativeReals\n",
            "        (5, 4) :     0 :  None :  None : False :  True : NonNegativeReals\n",
            "        (5, 5) :     0 :  None :  None : False :  True : NonNegativeReals\n",
            "        (5, 6) :     0 :  None :  None : False :  True : NonNegativeReals\n",
            "        (5, 7) :     0 :  None :  None : False :  True : NonNegativeReals\n",
            "        (6, 0) :     0 :  None :  None : False :  True : NonNegativeReals\n",
            "        (6, 1) :     0 :  None :  None : False :  True : NonNegativeReals\n",
            "        (6, 2) :     0 :  None :  None : False :  True : NonNegativeReals\n",
            "        (6, 3) :     0 :  None :  None : False :  True : NonNegativeReals\n",
            "        (6, 4) :     0 :  None :  None : False :  True : NonNegativeReals\n",
            "        (6, 5) :     0 :  None :  None : False :  True : NonNegativeReals\n",
            "        (6, 6) :     0 :  None :  None : False :  True : NonNegativeReals\n",
            "        (6, 7) :     0 :  None :  None : False :  True : NonNegativeReals\n",
            "        (7, 0) :     0 :  None :  None : False :  True : NonNegativeReals\n",
            "        (7, 1) :     0 :  None :  None : False :  True : NonNegativeReals\n",
            "        (7, 2) :     0 :  None :  None : False :  True : NonNegativeReals\n",
            "        (7, 3) :     0 :  None :  None : False :  True : NonNegativeReals\n",
            "        (7, 4) :     0 :  None :  None : False :  True : NonNegativeReals\n",
            "        (7, 5) :     0 :  None :  None : False :  True : NonNegativeReals\n",
            "        (7, 6) :     0 :  None :  None : False :  True : NonNegativeReals\n",
            "        (7, 7) :     0 :  None :  None : False :  True : NonNegativeReals\n",
            "\n",
            "1 Objective Declarations\n",
            "    objective : Size=1, Index=None, Active=True\n",
            "        Key  : Active : Sense    : Expression\n",
            "        None :   True : minimize : 827*x[0,0] + 817*x[0,1] + 1470*x[0,2] + 2272*x[0,3] + 1615*x[0,4] + 3143*x[0,5] + 1264*x[0,6] + 4465*x[0,7] + 559*x[1,0] + 1832*x[1,1] + 751*x[1,2] + 3772*x[1,3] + 637*x[1,4] + 3773*x[1,5] + 1856*x[1,6] + 5459*x[1,7] + 1109*x[2,0] + 2443*x[2,1] + 577*x[2,2] + 3865*x[2,3] + 798*x[2,4] + 3521*x[2,5] + 1984*x[2,6] + 5303*x[2,7] + 2943*x[3,0] + 1471*x[3,1] + 4676*x[3,2] + 1337*x[3,3] + 2702*x[3,4] + 2741*x[3,5] + 2482*x[3,6] + 4148*x[3,7] + 3742*x[4,0] + 3089*x[4,1] + 2931*x[4,2] + 3199*x[4,3] + 2226*x[4,4] + 1739*x[4,5] + 1691*x[4,6] + 2128*x[4,7] + 2353*x[5,0] + 1160*x[5,1] + 3295*x[5,2] + 368*x[5,3] + 2369*x[5,4] + 2365*x[5,5] + 1293*x[5,6] + 3642*x[5,7] + 1356*x[6,0] + 1617*x[6,1] + 2045*x[6,2] + 2941*x[6,3] + 2334*x[6,4] + 4151*x[6,5] + 1937*x[6,6] + 4287*x[6,7] + 195*x[7,0] + 1862*x[7,1] + 1331*x[7,2] + 2921*x[7,3] + 402*x[7,4] + 2825*x[7,5] + 563*x[7,6] + 4441*x[7,7]\n",
            "\n",
            "1 Constraint Declarations\n",
            "    constraint : Size=16, Index=constraint_index, Active=True\n",
            "        Key : Lower : Body                                                                  : Upper : Active\n",
            "          1 :  -Inf : x[0,0] + x[0,1] + x[0,2] + x[0,3] + x[0,4] + x[0,5] + x[0,6] + x[0,7] : 350.0 :   True\n",
            "          2 :  -Inf : x[1,0] + x[1,1] + x[1,2] + x[1,3] + x[1,4] + x[1,5] + x[1,6] + x[1,7] : 185.0 :   True\n",
            "          3 :  -Inf : x[2,0] + x[2,1] + x[2,2] + x[2,3] + x[2,4] + x[2,5] + x[2,6] + x[2,7] : 305.0 :   True\n",
            "          4 :  -Inf : x[3,0] + x[3,1] + x[3,2] + x[3,3] + x[3,4] + x[3,5] + x[3,6] + x[3,7] : 180.0 :   True\n",
            "          5 :  -Inf : x[4,0] + x[4,1] + x[4,2] + x[4,3] + x[4,4] + x[4,5] + x[4,6] + x[4,7] : 205.0 :   True\n",
            "          6 :  -Inf : x[5,0] + x[5,1] + x[5,2] + x[5,3] + x[5,4] + x[5,5] + x[5,6] + x[5,7] : 175.0 :   True\n",
            "          7 :  -Inf : x[6,0] + x[6,1] + x[6,2] + x[6,3] + x[6,4] + x[6,5] + x[6,6] + x[6,7] : 325.0 :   True\n",
            "          8 :  -Inf : x[7,0] + x[7,1] + x[7,2] + x[7,3] + x[7,4] + x[7,5] + x[7,6] + x[7,7] : 370.0 :   True\n",
            "          9 : 205.0 : x[0,0] + x[1,0] + x[2,0] + x[3,0] + x[4,0] + x[5,0] + x[6,0] + x[7,0] : 205.0 :   True\n",
            "         10 : 300.0 : x[0,1] + x[1,1] + x[2,1] + x[3,1] + x[4,1] + x[5,1] + x[6,1] + x[7,1] : 300.0 :   True\n",
            "         11 : 425.0 : x[0,2] + x[1,2] + x[2,2] + x[3,2] + x[4,2] + x[5,2] + x[6,2] + x[7,2] : 425.0 :   True\n",
            "         12 : 270.0 : x[0,3] + x[1,3] + x[2,3] + x[3,3] + x[4,3] + x[5,3] + x[6,3] + x[7,3] : 270.0 :   True\n",
            "         13 : 375.0 : x[0,4] + x[1,4] + x[2,4] + x[3,4] + x[4,4] + x[5,4] + x[6,4] + x[7,4] : 375.0 :   True\n",
            "         14 : 225.0 : x[0,5] + x[1,5] + x[2,5] + x[3,5] + x[4,5] + x[5,5] + x[6,5] + x[7,5] : 225.0 :   True\n",
            "         15 : 185.0 : x[0,6] + x[1,6] + x[2,6] + x[3,6] + x[4,6] + x[5,6] + x[6,6] + x[7,6] : 185.0 :   True\n",
            "         16 : 110.0 : x[0,7] + x[1,7] + x[2,7] + x[3,7] + x[4,7] + x[5,7] + x[6,7] + x[7,7] : 110.0 :   True\n",
            "\n",
            "7 Declarations: x_index_0 x_index_1 x_index x objective constraint_index constraint\n"
          ]
        }
      ],
      "source": [
        "model.pprint()"
      ]
    },
    {
      "cell_type": "code",
      "execution_count": null,
      "metadata": {
        "id": "alG0FcvVpKxq",
        "colab": {
          "base_uri": "https://localhost:8080/"
        },
        "outputId": "3de03831-ac65-4aa1-ba80-148786bbc8c9"
      },
      "outputs": [
        {
          "output_type": "stream",
          "name": "stdout",
          "text": [
            "Selecting previously unselected package coinor-libcoinutils3v5.\n",
            "(Reading database ... 155569 files and directories currently installed.)\n",
            "Preparing to unpack .../0-coinor-libcoinutils3v5_2.10.14+repack1-1_amd64.deb ...\n",
            "Unpacking coinor-libcoinutils3v5 (2.10.14+repack1-1) ...\n",
            "Selecting previously unselected package coinor-libosi1v5.\n",
            "Preparing to unpack .../1-coinor-libosi1v5_0.107.9+repack1-1_amd64.deb ...\n",
            "Unpacking coinor-libosi1v5 (0.107.9+repack1-1) ...\n",
            "Selecting previously unselected package coinor-libclp1.\n",
            "Preparing to unpack .../2-coinor-libclp1_1.16.11+repack1-1_amd64.deb ...\n",
            "Unpacking coinor-libclp1 (1.16.11+repack1-1) ...\n",
            "Selecting previously unselected package coinor-libcgl1.\n",
            "Preparing to unpack .../3-coinor-libcgl1_0.59.10+repack1-1_amd64.deb ...\n",
            "Unpacking coinor-libcgl1 (0.59.10+repack1-1) ...\n",
            "Selecting previously unselected package coinor-libcbc3.\n",
            "Preparing to unpack .../4-coinor-libcbc3_2.9.9+repack1-1_amd64.deb ...\n",
            "Unpacking coinor-libcbc3 (2.9.9+repack1-1) ...\n",
            "Selecting previously unselected package coinor-cbc.\n",
            "Preparing to unpack .../5-coinor-cbc_2.9.9+repack1-1_amd64.deb ...\n",
            "Unpacking coinor-cbc (2.9.9+repack1-1) ...\n",
            "Setting up coinor-libcoinutils3v5 (2.10.14+repack1-1) ...\n",
            "Setting up coinor-libosi1v5 (0.107.9+repack1-1) ...\n",
            "Setting up coinor-libclp1 (1.16.11+repack1-1) ...\n",
            "Setting up coinor-libcgl1 (0.59.10+repack1-1) ...\n",
            "Setting up coinor-libcbc3 (2.9.9+repack1-1) ...\n",
            "Setting up coinor-cbc (2.9.9+repack1-1) ...\n",
            "Processing triggers for man-db (2.8.3-2ubuntu0.1) ...\n",
            "Processing triggers for libc-bin (2.27-3ubuntu1.5) ...\n"
          ]
        }
      ],
      "source": [
        "!apt-get install -y -qq coinor-cbc"
      ]
    },
    {
      "cell_type": "code",
      "execution_count": null,
      "metadata": {
        "id": "P4iJRa8KpK2s"
      },
      "outputs": [],
      "source": [
        "opt_cbc= SolverFactory('cbc',)"
      ]
    },
    {
      "cell_type": "code",
      "execution_count": null,
      "metadata": {
        "id": "VnZId8fdpdwU",
        "colab": {
          "base_uri": "https://localhost:8080/"
        },
        "outputId": "97faab89-d4a6-42b7-a5be-368f655e6c8f"
      },
      "outputs": [
        {
          "output_type": "stream",
          "name": "stdout",
          "text": [
            "solver statuas: ok\n",
            "solver termination condition: optimal\n"
          ]
        }
      ],
      "source": [
        "result = opt_cbc.solve(model)\n",
        "print('solver statuas:',result.solver.status)\n",
        "print('solver termination condition:',result.solver.termination_condition)"
      ]
    },
    {
      "cell_type": "code",
      "execution_count": null,
      "metadata": {
        "id": "sZ2qWnBUqJ4h",
        "colab": {
          "base_uri": "https://localhost:8080/"
        },
        "outputId": "84eec4c7-18dd-4d97-838d-74b1b9cfb103"
      },
      "outputs": [
        {
          "output_type": "stream",
          "name": "stdout",
          "text": [
            "\n",
            "Objective= 2192870.0\n",
            "\n",
            " decision variable\n",
            "number of the traspoted Ahmedabad Hassan : 0.0\n",
            "number of the traspoted Ahmedabad Jodhpur : 300.0\n",
            "number of the traspoted Ahmedabad Trichy : 0.0\n",
            "number of the traspoted Ahmedabad Simla : 0.0\n",
            "number of the traspoted Ahmedabad Markets Vijayawada : 0.0\n",
            "number of the traspoted Ahmedabad Dibrugarh : 45.0\n",
            "number of the traspoted Ahmedabad Raipur : 5.0\n",
            "number of the traspoted Ahmedabad Agartala : 0.0\n",
            "number of the traspoted Bengaluru Hassan : 0.0\n",
            "number of the traspoted Bengaluru Jodhpur : 0.0\n",
            "number of the traspoted Bengaluru Trichy : 120.0\n",
            "number of the traspoted Bengaluru Simla : 0.0\n",
            "number of the traspoted Bengaluru Markets Vijayawada : 65.0\n",
            "number of the traspoted Bengaluru Dibrugarh : 0.0\n",
            "number of the traspoted Bengaluru Raipur : 0.0\n",
            "number of the traspoted Bengaluru Agartala : 0.0\n",
            "number of the traspoted Chennai Hassan : 0.0\n",
            "number of the traspoted Chennai Jodhpur : 0.0\n",
            "number of the traspoted Chennai Trichy : 305.0\n",
            "number of the traspoted Chennai Simla : 0.0\n",
            "number of the traspoted Chennai Markets Vijayawada : 0.0\n",
            "number of the traspoted Chennai Dibrugarh : 0.0\n",
            "number of the traspoted Chennai Raipur : 0.0\n",
            "number of the traspoted Chennai Agartala : 0.0\n",
            "number of the traspoted Delhi Hassan : 0.0\n",
            "number of the traspoted Delhi Jodhpur : 0.0\n",
            "number of the traspoted Delhi Trichy : 0.0\n",
            "number of the traspoted Delhi Simla : 95.0\n",
            "number of the traspoted Delhi Markets Vijayawada : 0.0\n",
            "number of the traspoted Delhi Dibrugarh : 85.0\n",
            "number of the traspoted Delhi Raipur : 0.0\n",
            "number of the traspoted Delhi Agartala : 0.0\n",
            "number of the traspoted Kolkata Hassan : 0.0\n",
            "number of the traspoted Kolkata Jodhpur : 0.0\n",
            "number of the traspoted Kolkata Trichy : 0.0\n",
            "number of the traspoted Kolkata Simla : 0.0\n",
            "number of the traspoted Kolkata Markets Vijayawada : 0.0\n",
            "number of the traspoted Kolkata Dibrugarh : 95.0\n",
            "number of the traspoted Kolkata Raipur : 0.0\n",
            "number of the traspoted Kolkata Agartala : 110.0\n",
            "number of the traspoted Lucknow Hassan : 0.0\n",
            "number of the traspoted Lucknow Jodhpur : 0.0\n",
            "number of the traspoted Lucknow Trichy : 0.0\n",
            "number of the traspoted Lucknow Simla : 175.0\n",
            "number of the traspoted Lucknow Markets Vijayawada : 0.0\n",
            "number of the traspoted Lucknow Dibrugarh : 0.0\n",
            "number of the traspoted Lucknow Raipur : 0.0\n",
            "number of the traspoted Lucknow Agartala : 0.0\n",
            "number of the traspoted Mumbai Hassan : 205.0\n",
            "number of the traspoted Mumbai Jodhpur : 0.0\n",
            "number of the traspoted Mumbai Trichy : 0.0\n",
            "number of the traspoted Mumbai Simla : 0.0\n",
            "number of the traspoted Mumbai Markets Vijayawada : 0.0\n",
            "number of the traspoted Mumbai Dibrugarh : 0.0\n",
            "number of the traspoted Mumbai Raipur : 120.0\n",
            "number of the traspoted Mumbai Agartala : 0.0\n",
            "number of the traspoted Hyderabad Hassan : 0.0\n",
            "number of the traspoted Hyderabad Jodhpur : 0.0\n",
            "number of the traspoted Hyderabad Trichy : 0.0\n",
            "number of the traspoted Hyderabad Simla : 0.0\n",
            "number of the traspoted Hyderabad Markets Vijayawada : 310.0\n",
            "number of the traspoted Hyderabad Dibrugarh : 0.0\n",
            "number of the traspoted Hyderabad Raipur : 60.0\n",
            "number of the traspoted Hyderabad Agartala : 0.0\n",
            "\n",
            "constraint\n",
            "constraint : Size=16\n",
            "    Key : Lower : Body  : Upper\n",
            "      1 :  None : 350.0 : 350.0\n",
            "      2 :  None : 185.0 : 185.0\n",
            "      3 :  None : 305.0 : 305.0\n",
            "      4 :  None : 180.0 : 180.0\n",
            "      5 :  None : 205.0 : 205.0\n",
            "      6 :  None : 175.0 : 175.0\n",
            "      7 :  None : 325.0 : 325.0\n",
            "      8 :  None : 370.0 : 370.0\n",
            "      9 : 205.0 : 205.0 : 205.0\n",
            "     10 : 300.0 : 300.0 : 300.0\n",
            "     11 : 425.0 : 425.0 : 425.0\n",
            "     12 : 270.0 : 270.0 : 270.0\n",
            "     13 : 375.0 : 375.0 : 375.0\n",
            "     14 : 225.0 : 225.0 : 225.0\n",
            "     15 : 185.0 : 185.0 : 185.0\n",
            "     16 : 110.0 : 110.0 : 110.0\n"
          ]
        }
      ],
      "source": [
        "#displaty solution\n",
        "print('\\nObjective=',model.objective())\n",
        "print('\\n decision variable')\n",
        "for i  in row_indices:\n",
        "  for j in col_indices:\n",
        "    print('number of the traspoted',data_csvfile['Warehouses'][i],data_csvfile.columns[j+1],':',model.x[i,j].value)\n",
        "print('\\nconstraint')\n",
        "model.constraint.display()"
      ]
    },
    {
      "cell_type": "markdown",
      "source": [
        " 7)\n",
        " the total cost are \n",
        " 2192870.0\n",
        "\n",
        " decision variable\n",
        "number of the traspoted Ahmedabad Jodhpur : 300.0\n",
        "\n",
        "number of the traspoted Ahmedabad Dibrugarh : 45.0\n",
        "number of the traspoted Ahmedabad Raipur : 5.0\n",
        "\n",
        "number of the traspoted Bengaluru Trichy : 120.0\n",
        "number of the traspoted Bengaluru Markets Vijayawada : 65.0\n",
        "\n",
        "number of the traspoted Chennai Trichy : 305.0\n",
        "\n",
        "number of the traspoted Delhi Simla : 95.0\n",
        "number of the traspoted Delhi Markets Vijayawada : 0.0\n",
        "number of the traspoted Delhi Dibrugarh : 85.0\n",
        "\n",
        "number of the traspoted Kolkata Dibrugarh : 95.0\n",
        "number of the traspoted Kolkata Agartala : 110.0\n",
        "\n",
        "number of the traspoted Lucknow Simla : 175.0\n",
        "\n",
        "number of the traspoted Mumbai Hassan : 205.0\n",
        "\n",
        "number of the traspoted Mumbai Raipur : 120.0\n",
        "\n",
        "number of the traspoted Hyderabad Markets Vijayawada : 310.0\n",
        "number of the traspoted Hyderabad Raipur : 60.0"
      ],
      "metadata": {
        "id": "VRXiILGHlf9j"
      }
    },
    {
      "cell_type": "code",
      "source": [],
      "metadata": {
        "id": "WHhKsXCawd1n"
      },
      "execution_count": null,
      "outputs": []
    },
    {
      "cell_type": "markdown",
      "source": [
        "8)\n",
        "Suppose the Lucknow-Simla link is disrupted and no transportation is possible on the\n",
        "Lucknow-Simla links: \n",
        "##take a large value of this , since it is maximum cost and minimisation problem ,the solution doesn't include this route\n",
        " the obje function are            True : minimize : 827*x[0,0] + 817*x[0,1] + 1470*x[0,2] + 2272*x[0,3] + 1615*x[0,4] + 3143*x[0,5] + 1264*x[0,6] + 4465*x[0,7] + 559*x[1,0] + 1832*x[1,1] + 751*x[1,2] + 3772*x[1,3] + 637*x[1,4] + 3773*x[1,5] + 1856*x[1,6] + 5459*x[1,7] + 1109*x[2,0] + 2443*x[2,1] + 577*x[2,2] + 3865*x[2,3] + 798*x[2,4] + 3521*x[2,5] + 1984*x[2,6] + 5303*x[2,7] + 2943*x[3,0] + 1471*x[3,1] + 4676*x[3,2] + 1337*x[3,3] + 2702*x[3,4] + 2741*x[3,5] + 2482*x[3,6] + 4148*x[3,7] + 3742*x[4,0] + 3089*x[4,1] + 2931*x[4,2] + 3199*x[4,3] + 2226*x[4,4] + 1739*x[4,5] + 1691*x[4,6] + 2128*x[4,7] + 2353*x[5,0] + 1160*x[5,1] + 3295*x[5,2] + 500000*x[5,3] + 2369*x[5,4] + 2365*x[5,5] + 1293*x[5,6] + 3642*x[5,7] + 1356*x[6,0] + 1617*x[6,1] + 2045*x[6,2] + 2941*x[6,3] + 2334*x[6,4] + 4151*x[6,5] + 1937*x[6,6] + 4287*x[6,7] + 195*x[7,0] + 1862*x[7,1] + 1331*x[7,2] + 2921*x[7,3] + 402*x[7,4] + 2825*x[7,5] + 563*x[7,6] + 4441*x[7,7]\n"
      ],
      "metadata": {
        "id": "x6yBYO5HMXG0"
      }
    },
    {
      "cell_type": "code",
      "source": [
        "data_csvfile1= pd.read_csv('_lab6 ex1-2.csv')"
      ],
      "metadata": {
        "id": "7iy-wIUtQYGC"
      },
      "execution_count": null,
      "outputs": []
    },
    {
      "cell_type": "code",
      "source": [
        "data_csvfile1"
      ],
      "metadata": {
        "id": "2r-u-SIiQYLJ",
        "colab": {
          "base_uri": "https://localhost:8080/",
          "height": 332
        },
        "outputId": "75cea220-ee89-4b96-fe75-2043c5a88640"
      },
      "execution_count": null,
      "outputs": [
        {
          "output_type": "execute_result",
          "data": {
            "text/plain": [
              "  Warehouses  Hassan  Jodhpur  Trichy   Simla  Markets Vijayawada  Dibrugarh  \\\n",
              "0  Ahmedabad     827      817    1470    2272                1615       3143   \n",
              "1  Bengaluru     559     1832     751    3772                 637       3773   \n",
              "2    Chennai    1109     2443     577    3865                 798       3521   \n",
              "3      Delhi    2943     1471    4676    1337                2702       2741   \n",
              "4    Kolkata    3742     3089    2931    3199                2226       1739   \n",
              "5    Lucknow    2353     1160    3295  500000                2369       2365   \n",
              "6     Mumbai    1356     1617    2045    2941                2334       4151   \n",
              "7  Hyderabad     195     1862    1331    2921                 402       2825   \n",
              "8     Demand     205      300     425     270                 375        225   \n",
              "\n",
              "   Raipur  Agartala  Avail. Stock  \n",
              "0    1264      4465           350  \n",
              "1    1856      5459           185  \n",
              "2    1984      5303           305  \n",
              "3    2482      4148           180  \n",
              "4    1691      2128           205  \n",
              "5    1293      3642           175  \n",
              "6    1937      4287           325  \n",
              "7     563      4441           370  \n",
              "8     185       110          2095  "
            ],
            "text/html": [
              "\n",
              "  <div id=\"df-2c676174-b19c-44b3-82b0-e1ab4cfc7e65\">\n",
              "    <div class=\"colab-df-container\">\n",
              "      <div>\n",
              "<style scoped>\n",
              "    .dataframe tbody tr th:only-of-type {\n",
              "        vertical-align: middle;\n",
              "    }\n",
              "\n",
              "    .dataframe tbody tr th {\n",
              "        vertical-align: top;\n",
              "    }\n",
              "\n",
              "    .dataframe thead th {\n",
              "        text-align: right;\n",
              "    }\n",
              "</style>\n",
              "<table border=\"1\" class=\"dataframe\">\n",
              "  <thead>\n",
              "    <tr style=\"text-align: right;\">\n",
              "      <th></th>\n",
              "      <th>Warehouses</th>\n",
              "      <th>Hassan</th>\n",
              "      <th>Jodhpur</th>\n",
              "      <th>Trichy</th>\n",
              "      <th>Simla</th>\n",
              "      <th>Markets Vijayawada</th>\n",
              "      <th>Dibrugarh</th>\n",
              "      <th>Raipur</th>\n",
              "      <th>Agartala</th>\n",
              "      <th>Avail. Stock</th>\n",
              "    </tr>\n",
              "  </thead>\n",
              "  <tbody>\n",
              "    <tr>\n",
              "      <th>0</th>\n",
              "      <td>Ahmedabad</td>\n",
              "      <td>827</td>\n",
              "      <td>817</td>\n",
              "      <td>1470</td>\n",
              "      <td>2272</td>\n",
              "      <td>1615</td>\n",
              "      <td>3143</td>\n",
              "      <td>1264</td>\n",
              "      <td>4465</td>\n",
              "      <td>350</td>\n",
              "    </tr>\n",
              "    <tr>\n",
              "      <th>1</th>\n",
              "      <td>Bengaluru</td>\n",
              "      <td>559</td>\n",
              "      <td>1832</td>\n",
              "      <td>751</td>\n",
              "      <td>3772</td>\n",
              "      <td>637</td>\n",
              "      <td>3773</td>\n",
              "      <td>1856</td>\n",
              "      <td>5459</td>\n",
              "      <td>185</td>\n",
              "    </tr>\n",
              "    <tr>\n",
              "      <th>2</th>\n",
              "      <td>Chennai</td>\n",
              "      <td>1109</td>\n",
              "      <td>2443</td>\n",
              "      <td>577</td>\n",
              "      <td>3865</td>\n",
              "      <td>798</td>\n",
              "      <td>3521</td>\n",
              "      <td>1984</td>\n",
              "      <td>5303</td>\n",
              "      <td>305</td>\n",
              "    </tr>\n",
              "    <tr>\n",
              "      <th>3</th>\n",
              "      <td>Delhi</td>\n",
              "      <td>2943</td>\n",
              "      <td>1471</td>\n",
              "      <td>4676</td>\n",
              "      <td>1337</td>\n",
              "      <td>2702</td>\n",
              "      <td>2741</td>\n",
              "      <td>2482</td>\n",
              "      <td>4148</td>\n",
              "      <td>180</td>\n",
              "    </tr>\n",
              "    <tr>\n",
              "      <th>4</th>\n",
              "      <td>Kolkata</td>\n",
              "      <td>3742</td>\n",
              "      <td>3089</td>\n",
              "      <td>2931</td>\n",
              "      <td>3199</td>\n",
              "      <td>2226</td>\n",
              "      <td>1739</td>\n",
              "      <td>1691</td>\n",
              "      <td>2128</td>\n",
              "      <td>205</td>\n",
              "    </tr>\n",
              "    <tr>\n",
              "      <th>5</th>\n",
              "      <td>Lucknow</td>\n",
              "      <td>2353</td>\n",
              "      <td>1160</td>\n",
              "      <td>3295</td>\n",
              "      <td>500000</td>\n",
              "      <td>2369</td>\n",
              "      <td>2365</td>\n",
              "      <td>1293</td>\n",
              "      <td>3642</td>\n",
              "      <td>175</td>\n",
              "    </tr>\n",
              "    <tr>\n",
              "      <th>6</th>\n",
              "      <td>Mumbai</td>\n",
              "      <td>1356</td>\n",
              "      <td>1617</td>\n",
              "      <td>2045</td>\n",
              "      <td>2941</td>\n",
              "      <td>2334</td>\n",
              "      <td>4151</td>\n",
              "      <td>1937</td>\n",
              "      <td>4287</td>\n",
              "      <td>325</td>\n",
              "    </tr>\n",
              "    <tr>\n",
              "      <th>7</th>\n",
              "      <td>Hyderabad</td>\n",
              "      <td>195</td>\n",
              "      <td>1862</td>\n",
              "      <td>1331</td>\n",
              "      <td>2921</td>\n",
              "      <td>402</td>\n",
              "      <td>2825</td>\n",
              "      <td>563</td>\n",
              "      <td>4441</td>\n",
              "      <td>370</td>\n",
              "    </tr>\n",
              "    <tr>\n",
              "      <th>8</th>\n",
              "      <td>Demand</td>\n",
              "      <td>205</td>\n",
              "      <td>300</td>\n",
              "      <td>425</td>\n",
              "      <td>270</td>\n",
              "      <td>375</td>\n",
              "      <td>225</td>\n",
              "      <td>185</td>\n",
              "      <td>110</td>\n",
              "      <td>2095</td>\n",
              "    </tr>\n",
              "  </tbody>\n",
              "</table>\n",
              "</div>\n",
              "      <button class=\"colab-df-convert\" onclick=\"convertToInteractive('df-2c676174-b19c-44b3-82b0-e1ab4cfc7e65')\"\n",
              "              title=\"Convert this dataframe to an interactive table.\"\n",
              "              style=\"display:none;\">\n",
              "        \n",
              "  <svg xmlns=\"http://www.w3.org/2000/svg\" height=\"24px\"viewBox=\"0 0 24 24\"\n",
              "       width=\"24px\">\n",
              "    <path d=\"M0 0h24v24H0V0z\" fill=\"none\"/>\n",
              "    <path d=\"M18.56 5.44l.94 2.06.94-2.06 2.06-.94-2.06-.94-.94-2.06-.94 2.06-2.06.94zm-11 1L8.5 8.5l.94-2.06 2.06-.94-2.06-.94L8.5 2.5l-.94 2.06-2.06.94zm10 10l.94 2.06.94-2.06 2.06-.94-2.06-.94-.94-2.06-.94 2.06-2.06.94z\"/><path d=\"M17.41 7.96l-1.37-1.37c-.4-.4-.92-.59-1.43-.59-.52 0-1.04.2-1.43.59L10.3 9.45l-7.72 7.72c-.78.78-.78 2.05 0 2.83L4 21.41c.39.39.9.59 1.41.59.51 0 1.02-.2 1.41-.59l7.78-7.78 2.81-2.81c.8-.78.8-2.07 0-2.86zM5.41 20L4 18.59l7.72-7.72 1.47 1.35L5.41 20z\"/>\n",
              "  </svg>\n",
              "      </button>\n",
              "      \n",
              "  <style>\n",
              "    .colab-df-container {\n",
              "      display:flex;\n",
              "      flex-wrap:wrap;\n",
              "      gap: 12px;\n",
              "    }\n",
              "\n",
              "    .colab-df-convert {\n",
              "      background-color: #E8F0FE;\n",
              "      border: none;\n",
              "      border-radius: 50%;\n",
              "      cursor: pointer;\n",
              "      display: none;\n",
              "      fill: #1967D2;\n",
              "      height: 32px;\n",
              "      padding: 0 0 0 0;\n",
              "      width: 32px;\n",
              "    }\n",
              "\n",
              "    .colab-df-convert:hover {\n",
              "      background-color: #E2EBFA;\n",
              "      box-shadow: 0px 1px 2px rgba(60, 64, 67, 0.3), 0px 1px 3px 1px rgba(60, 64, 67, 0.15);\n",
              "      fill: #174EA6;\n",
              "    }\n",
              "\n",
              "    [theme=dark] .colab-df-convert {\n",
              "      background-color: #3B4455;\n",
              "      fill: #D2E3FC;\n",
              "    }\n",
              "\n",
              "    [theme=dark] .colab-df-convert:hover {\n",
              "      background-color: #434B5C;\n",
              "      box-shadow: 0px 1px 3px 1px rgba(0, 0, 0, 0.15);\n",
              "      filter: drop-shadow(0px 1px 2px rgba(0, 0, 0, 0.3));\n",
              "      fill: #FFFFFF;\n",
              "    }\n",
              "  </style>\n",
              "\n",
              "      <script>\n",
              "        const buttonEl =\n",
              "          document.querySelector('#df-2c676174-b19c-44b3-82b0-e1ab4cfc7e65 button.colab-df-convert');\n",
              "        buttonEl.style.display =\n",
              "          google.colab.kernel.accessAllowed ? 'block' : 'none';\n",
              "\n",
              "        async function convertToInteractive(key) {\n",
              "          const element = document.querySelector('#df-2c676174-b19c-44b3-82b0-e1ab4cfc7e65');\n",
              "          const dataTable =\n",
              "            await google.colab.kernel.invokeFunction('convertToInteractive',\n",
              "                                                     [key], {});\n",
              "          if (!dataTable) return;\n",
              "\n",
              "          const docLinkHtml = 'Like what you see? Visit the ' +\n",
              "            '<a target=\"_blank\" href=https://colab.research.google.com/notebooks/data_table.ipynb>data table notebook</a>'\n",
              "            + ' to learn more about interactive tables.';\n",
              "          element.innerHTML = '';\n",
              "          dataTable['output_type'] = 'display_data';\n",
              "          await google.colab.output.renderOutput(dataTable, element);\n",
              "          const docLink = document.createElement('div');\n",
              "          docLink.innerHTML = docLinkHtml;\n",
              "          element.appendChild(docLink);\n",
              "        }\n",
              "      </script>\n",
              "    </div>\n",
              "  </div>\n",
              "  "
            ]
          },
          "metadata": {},
          "execution_count": 36
        }
      ]
    },
    {
      "cell_type": "code",
      "source": [
        "model.objective.deactivate()"
      ],
      "metadata": {
        "colab": {
          "base_uri": "https://localhost:8080/"
        },
        "id": "STDXrX9KX7dA",
        "outputId": "8cc41fdf-4610-4257-cad8-4afbf5782e90"
      },
      "execution_count": null,
      "outputs": [
        {
          "output_type": "execute_result",
          "data": {
            "text/plain": [
              "<bound method ActiveComponentData.deactivate of <pyomo.core.base.objective.ScalarObjective object at 0x7fb4706e0980>>"
            ]
          },
          "metadata": {},
          "execution_count": 37
        }
      ]
    },
    {
      "cell_type": "code",
      "source": [
        "model.objective = Objective(expr=sum(data_csvfile1.iloc[i,j+1]*model.x[i,j] for i in row_indices for j in col_indices),sense=minimize)"
      ],
      "metadata": {
        "id": "8KKVZy3BQYPc",
        "colab": {
          "base_uri": "https://localhost:8080/"
        },
        "outputId": "0d1de9e9-ed25-4f90-dae2-dca09dd61d84"
      },
      "execution_count": null,
      "outputs": [
        {
          "output_type": "stream",
          "name": "stderr",
          "text": [
            "WARNING:pyomo.core:Implicitly replacing the Component attribute objective (type=<class 'pyomo.core.base.objective.ScalarObjective'>) on block unknown with a new Component (type=<class 'pyomo.core.base.objective.ScalarObjective'>).\n",
            "This is usually indicative of a modelling error.\n",
            "To avoid this warning, use block.del_component() and block.add_component().\n"
          ]
        }
      ]
    },
    {
      "cell_type": "code",
      "source": [],
      "metadata": {
        "id": "SiftxbG6ZKPY"
      },
      "execution_count": null,
      "outputs": []
    },
    {
      "cell_type": "code",
      "source": [
        "model.pprint()"
      ],
      "metadata": {
        "id": "C7CLlANsQYW7",
        "colab": {
          "base_uri": "https://localhost:8080/"
        },
        "outputId": "bd3173ea-59de-41a6-8e05-68146a8488c1"
      },
      "execution_count": null,
      "outputs": [
        {
          "output_type": "stream",
          "name": "stdout",
          "text": [
            "4 Set Declarations\n",
            "    constraint_index : Size=1, Index=None, Ordered=Insertion\n",
            "        Key  : Dimen : Domain : Size : Members\n",
            "        None :     1 :    Any :   16 : {1, 2, 3, 4, 5, 6, 7, 8, 9, 10, 11, 12, 13, 14, 15, 16}\n",
            "    x_index : Size=1, Index=None, Ordered=True\n",
            "        Key  : Dimen : Domain              : Size : Members\n",
            "        None :     2 : x_index_0*x_index_1 :   64 : {(0, 0), (0, 1), (0, 2), (0, 3), (0, 4), (0, 5), (0, 6), (0, 7), (1, 0), (1, 1), (1, 2), (1, 3), (1, 4), (1, 5), (1, 6), (1, 7), (2, 0), (2, 1), (2, 2), (2, 3), (2, 4), (2, 5), (2, 6), (2, 7), (3, 0), (3, 1), (3, 2), (3, 3), (3, 4), (3, 5), (3, 6), (3, 7), (4, 0), (4, 1), (4, 2), (4, 3), (4, 4), (4, 5), (4, 6), (4, 7), (5, 0), (5, 1), (5, 2), (5, 3), (5, 4), (5, 5), (5, 6), (5, 7), (6, 0), (6, 1), (6, 2), (6, 3), (6, 4), (6, 5), (6, 6), (6, 7), (7, 0), (7, 1), (7, 2), (7, 3), (7, 4), (7, 5), (7, 6), (7, 7)}\n",
            "    x_index_0 : Size=1, Index=None, Ordered=Insertion\n",
            "        Key  : Dimen : Domain : Size : Members\n",
            "        None :     1 :    Any :    8 : {0, 1, 2, 3, 4, 5, 6, 7}\n",
            "    x_index_1 : Size=1, Index=None, Ordered=Insertion\n",
            "        Key  : Dimen : Domain : Size : Members\n",
            "        None :     1 :    Any :    8 : {0, 1, 2, 3, 4, 5, 6, 7}\n",
            "\n",
            "1 Var Declarations\n",
            "    x : Size=64, Index=x_index\n",
            "        Key    : Lower : Value : Upper : Fixed : Stale : Domain\n",
            "        (0, 0) :     0 :   0.0 :  None : False : False : NonNegativeReals\n",
            "        (0, 1) :     0 : 300.0 :  None : False : False : NonNegativeReals\n",
            "        (0, 2) :     0 :   0.0 :  None : False : False : NonNegativeReals\n",
            "        (0, 3) :     0 :   0.0 :  None : False : False : NonNegativeReals\n",
            "        (0, 4) :     0 :   0.0 :  None : False : False : NonNegativeReals\n",
            "        (0, 5) :     0 :  45.0 :  None : False : False : NonNegativeReals\n",
            "        (0, 6) :     0 :   5.0 :  None : False : False : NonNegativeReals\n",
            "        (0, 7) :     0 :   0.0 :  None : False : False : NonNegativeReals\n",
            "        (1, 0) :     0 :   0.0 :  None : False : False : NonNegativeReals\n",
            "        (1, 1) :     0 :   0.0 :  None : False : False : NonNegativeReals\n",
            "        (1, 2) :     0 : 120.0 :  None : False : False : NonNegativeReals\n",
            "        (1, 3) :     0 :   0.0 :  None : False : False : NonNegativeReals\n",
            "        (1, 4) :     0 :  65.0 :  None : False : False : NonNegativeReals\n",
            "        (1, 5) :     0 :   0.0 :  None : False : False : NonNegativeReals\n",
            "        (1, 6) :     0 :   0.0 :  None : False : False : NonNegativeReals\n",
            "        (1, 7) :     0 :   0.0 :  None : False : False : NonNegativeReals\n",
            "        (2, 0) :     0 :   0.0 :  None : False : False : NonNegativeReals\n",
            "        (2, 1) :     0 :   0.0 :  None : False : False : NonNegativeReals\n",
            "        (2, 2) :     0 : 305.0 :  None : False : False : NonNegativeReals\n",
            "        (2, 3) :     0 :   0.0 :  None : False : False : NonNegativeReals\n",
            "        (2, 4) :     0 :   0.0 :  None : False : False : NonNegativeReals\n",
            "        (2, 5) :     0 :   0.0 :  None : False : False : NonNegativeReals\n",
            "        (2, 6) :     0 :   0.0 :  None : False : False : NonNegativeReals\n",
            "        (2, 7) :     0 :   0.0 :  None : False : False : NonNegativeReals\n",
            "        (3, 0) :     0 :   0.0 :  None : False : False : NonNegativeReals\n",
            "        (3, 1) :     0 :   0.0 :  None : False : False : NonNegativeReals\n",
            "        (3, 2) :     0 :   0.0 :  None : False : False : NonNegativeReals\n",
            "        (3, 3) :     0 :  95.0 :  None : False : False : NonNegativeReals\n",
            "        (3, 4) :     0 :   0.0 :  None : False : False : NonNegativeReals\n",
            "        (3, 5) :     0 :  85.0 :  None : False : False : NonNegativeReals\n",
            "        (3, 6) :     0 :   0.0 :  None : False : False : NonNegativeReals\n",
            "        (3, 7) :     0 :   0.0 :  None : False : False : NonNegativeReals\n",
            "        (4, 0) :     0 :   0.0 :  None : False : False : NonNegativeReals\n",
            "        (4, 1) :     0 :   0.0 :  None : False : False : NonNegativeReals\n",
            "        (4, 2) :     0 :   0.0 :  None : False : False : NonNegativeReals\n",
            "        (4, 3) :     0 :   0.0 :  None : False : False : NonNegativeReals\n",
            "        (4, 4) :     0 :   0.0 :  None : False : False : NonNegativeReals\n",
            "        (4, 5) :     0 :  95.0 :  None : False : False : NonNegativeReals\n",
            "        (4, 6) :     0 :   0.0 :  None : False : False : NonNegativeReals\n",
            "        (4, 7) :     0 : 110.0 :  None : False : False : NonNegativeReals\n",
            "        (5, 0) :     0 :   0.0 :  None : False : False : NonNegativeReals\n",
            "        (5, 1) :     0 :   0.0 :  None : False : False : NonNegativeReals\n",
            "        (5, 2) :     0 :   0.0 :  None : False : False : NonNegativeReals\n",
            "        (5, 3) :     0 : 175.0 :  None : False : False : NonNegativeReals\n",
            "        (5, 4) :     0 :   0.0 :  None : False : False : NonNegativeReals\n",
            "        (5, 5) :     0 :   0.0 :  None : False : False : NonNegativeReals\n",
            "        (5, 6) :     0 :   0.0 :  None : False : False : NonNegativeReals\n",
            "        (5, 7) :     0 :   0.0 :  None : False : False : NonNegativeReals\n",
            "        (6, 0) :     0 : 205.0 :  None : False : False : NonNegativeReals\n",
            "        (6, 1) :     0 :   0.0 :  None : False : False : NonNegativeReals\n",
            "        (6, 2) :     0 :   0.0 :  None : False : False : NonNegativeReals\n",
            "        (6, 3) :     0 :   0.0 :  None : False : False : NonNegativeReals\n",
            "        (6, 4) :     0 :   0.0 :  None : False : False : NonNegativeReals\n",
            "        (6, 5) :     0 :   0.0 :  None : False : False : NonNegativeReals\n",
            "        (6, 6) :     0 : 120.0 :  None : False : False : NonNegativeReals\n",
            "        (6, 7) :     0 :   0.0 :  None : False : False : NonNegativeReals\n",
            "        (7, 0) :     0 :   0.0 :  None : False : False : NonNegativeReals\n",
            "        (7, 1) :     0 :   0.0 :  None : False : False : NonNegativeReals\n",
            "        (7, 2) :     0 :   0.0 :  None : False : False : NonNegativeReals\n",
            "        (7, 3) :     0 :   0.0 :  None : False : False : NonNegativeReals\n",
            "        (7, 4) :     0 : 310.0 :  None : False : False : NonNegativeReals\n",
            "        (7, 5) :     0 :   0.0 :  None : False : False : NonNegativeReals\n",
            "        (7, 6) :     0 :  60.0 :  None : False : False : NonNegativeReals\n",
            "        (7, 7) :     0 :   0.0 :  None : False : False : NonNegativeReals\n",
            "\n",
            "1 Objective Declarations\n",
            "    objective : Size=1, Index=None, Active=True\n",
            "        Key  : Active : Sense    : Expression\n",
            "        None :   True : minimize : 827*x[0,0] + 817*x[0,1] + 1470*x[0,2] + 2272*x[0,3] + 1615*x[0,4] + 3143*x[0,5] + 1264*x[0,6] + 4465*x[0,7] + 559*x[1,0] + 1832*x[1,1] + 751*x[1,2] + 3772*x[1,3] + 637*x[1,4] + 3773*x[1,5] + 1856*x[1,6] + 5459*x[1,7] + 1109*x[2,0] + 2443*x[2,1] + 577*x[2,2] + 3865*x[2,3] + 798*x[2,4] + 3521*x[2,5] + 1984*x[2,6] + 5303*x[2,7] + 2943*x[3,0] + 1471*x[3,1] + 4676*x[3,2] + 1337*x[3,3] + 2702*x[3,4] + 2741*x[3,5] + 2482*x[3,6] + 4148*x[3,7] + 3742*x[4,0] + 3089*x[4,1] + 2931*x[4,2] + 3199*x[4,3] + 2226*x[4,4] + 1739*x[4,5] + 1691*x[4,6] + 2128*x[4,7] + 2353*x[5,0] + 1160*x[5,1] + 3295*x[5,2] + 500000*x[5,3] + 2369*x[5,4] + 2365*x[5,5] + 1293*x[5,6] + 3642*x[5,7] + 1356*x[6,0] + 1617*x[6,1] + 2045*x[6,2] + 2941*x[6,3] + 2334*x[6,4] + 4151*x[6,5] + 1937*x[6,6] + 4287*x[6,7] + 195*x[7,0] + 1862*x[7,1] + 1331*x[7,2] + 2921*x[7,3] + 402*x[7,4] + 2825*x[7,5] + 563*x[7,6] + 4441*x[7,7]\n",
            "\n",
            "1 Constraint Declarations\n",
            "    constraint : Size=16, Index=constraint_index, Active=True\n",
            "        Key : Lower : Body                                                                  : Upper : Active\n",
            "          1 :  -Inf : x[0,0] + x[0,1] + x[0,2] + x[0,3] + x[0,4] + x[0,5] + x[0,6] + x[0,7] : 350.0 :   True\n",
            "          2 :  -Inf : x[1,0] + x[1,1] + x[1,2] + x[1,3] + x[1,4] + x[1,5] + x[1,6] + x[1,7] : 185.0 :   True\n",
            "          3 :  -Inf : x[2,0] + x[2,1] + x[2,2] + x[2,3] + x[2,4] + x[2,5] + x[2,6] + x[2,7] : 305.0 :   True\n",
            "          4 :  -Inf : x[3,0] + x[3,1] + x[3,2] + x[3,3] + x[3,4] + x[3,5] + x[3,6] + x[3,7] : 180.0 :   True\n",
            "          5 :  -Inf : x[4,0] + x[4,1] + x[4,2] + x[4,3] + x[4,4] + x[4,5] + x[4,6] + x[4,7] : 205.0 :   True\n",
            "          6 :  -Inf : x[5,0] + x[5,1] + x[5,2] + x[5,3] + x[5,4] + x[5,5] + x[5,6] + x[5,7] : 175.0 :   True\n",
            "          7 :  -Inf : x[6,0] + x[6,1] + x[6,2] + x[6,3] + x[6,4] + x[6,5] + x[6,6] + x[6,7] : 325.0 :   True\n",
            "          8 :  -Inf : x[7,0] + x[7,1] + x[7,2] + x[7,3] + x[7,4] + x[7,5] + x[7,6] + x[7,7] : 370.0 :   True\n",
            "          9 : 205.0 : x[0,0] + x[1,0] + x[2,0] + x[3,0] + x[4,0] + x[5,0] + x[6,0] + x[7,0] : 205.0 :   True\n",
            "         10 : 300.0 : x[0,1] + x[1,1] + x[2,1] + x[3,1] + x[4,1] + x[5,1] + x[6,1] + x[7,1] : 300.0 :   True\n",
            "         11 : 425.0 : x[0,2] + x[1,2] + x[2,2] + x[3,2] + x[4,2] + x[5,2] + x[6,2] + x[7,2] : 425.0 :   True\n",
            "         12 : 270.0 : x[0,3] + x[1,3] + x[2,3] + x[3,3] + x[4,3] + x[5,3] + x[6,3] + x[7,3] : 270.0 :   True\n",
            "         13 : 375.0 : x[0,4] + x[1,4] + x[2,4] + x[3,4] + x[4,4] + x[5,4] + x[6,4] + x[7,4] : 375.0 :   True\n",
            "         14 : 225.0 : x[0,5] + x[1,5] + x[2,5] + x[3,5] + x[4,5] + x[5,5] + x[6,5] + x[7,5] : 225.0 :   True\n",
            "         15 : 185.0 : x[0,6] + x[1,6] + x[2,6] + x[3,6] + x[4,6] + x[5,6] + x[6,6] + x[7,6] : 185.0 :   True\n",
            "         16 : 110.0 : x[0,7] + x[1,7] + x[2,7] + x[3,7] + x[4,7] + x[5,7] + x[6,7] + x[7,7] : 110.0 :   True\n",
            "\n",
            "7 Declarations: x_index_0 x_index_1 x_index x constraint_index constraint objective\n"
          ]
        }
      ]
    },
    {
      "cell_type": "code",
      "source": [
        "!apt-get install -y -qq coinor-cbc"
      ],
      "metadata": {
        "id": "WMdUHLMoYOft"
      },
      "execution_count": null,
      "outputs": []
    },
    {
      "cell_type": "code",
      "source": [
        "opt_cbc= SolverFactory('cbc',)"
      ],
      "metadata": {
        "id": "y3vdltgrYg2c"
      },
      "execution_count": null,
      "outputs": []
    },
    {
      "cell_type": "code",
      "source": [
        "result = opt_cbc.solve(model)\n",
        "print('solver statuas:',result.solver.status)\n",
        "print('solver termination condition:',result.solver.termination_condition)"
      ],
      "metadata": {
        "colab": {
          "base_uri": "https://localhost:8080/"
        },
        "id": "1pVMXj4wYqKF",
        "outputId": "53ceb958-6f54-4e0c-88e8-b55a4e4faac9"
      },
      "execution_count": null,
      "outputs": [
        {
          "output_type": "stream",
          "name": "stdout",
          "text": [
            "solver statuas: ok\n",
            "solver termination condition: optimal\n"
          ]
        }
      ]
    },
    {
      "cell_type": "code",
      "source": [
        "#displaty solution\n",
        "print('\\nObjective=',model.objective())\n",
        "print('\\n decision variable')\n",
        "for i  in row_indices:\n",
        "  for j in col_indices:\n",
        "    print('number of the traspoted',data_csvfile1['Warehouses'][i],data_csvfile1.columns[j+1],':',model.x[i,j].value)\n",
        "print('\\nconstraint')\n",
        "model.constraint.display()"
      ],
      "metadata": {
        "colab": {
          "base_uri": "https://localhost:8080/"
        },
        "id": "VYVWTAIpYwDZ",
        "outputId": "0a7f74d3-973d-43b0-d545-8590a0fda1df"
      },
      "execution_count": null,
      "outputs": [
        {
          "output_type": "stream",
          "name": "stdout",
          "text": [
            "\n",
            "Objective= 2380570.0\n",
            "\n",
            " decision variable\n",
            "number of the traspoted Ahmedabad Hassan : 0.0\n",
            "number of the traspoted Ahmedabad Jodhpur : 300.0\n",
            "number of the traspoted Ahmedabad Trichy : 0.0\n",
            "number of the traspoted Ahmedabad Simla : 0.0\n",
            "number of the traspoted Ahmedabad Markets Vijayawada : 0.0\n",
            "number of the traspoted Ahmedabad Dibrugarh : 0.0\n",
            "number of the traspoted Ahmedabad Raipur : 50.0\n",
            "number of the traspoted Ahmedabad Agartala : 0.0\n",
            "number of the traspoted Bengaluru Hassan : 0.0\n",
            "number of the traspoted Bengaluru Jodhpur : 0.0\n",
            "number of the traspoted Bengaluru Trichy : 120.0\n",
            "number of the traspoted Bengaluru Simla : 0.0\n",
            "number of the traspoted Bengaluru Markets Vijayawada : 65.0\n",
            "number of the traspoted Bengaluru Dibrugarh : 0.0\n",
            "number of the traspoted Bengaluru Raipur : 0.0\n",
            "number of the traspoted Bengaluru Agartala : 0.0\n",
            "number of the traspoted Chennai Hassan : 0.0\n",
            "number of the traspoted Chennai Jodhpur : 0.0\n",
            "number of the traspoted Chennai Trichy : 305.0\n",
            "number of the traspoted Chennai Simla : 0.0\n",
            "number of the traspoted Chennai Markets Vijayawada : 0.0\n",
            "number of the traspoted Chennai Dibrugarh : 0.0\n",
            "number of the traspoted Chennai Raipur : 0.0\n",
            "number of the traspoted Chennai Agartala : 0.0\n",
            "number of the traspoted Delhi Hassan : 0.0\n",
            "number of the traspoted Delhi Jodhpur : 0.0\n",
            "number of the traspoted Delhi Trichy : 0.0\n",
            "number of the traspoted Delhi Simla : 180.0\n",
            "number of the traspoted Delhi Markets Vijayawada : 0.0\n",
            "number of the traspoted Delhi Dibrugarh : 0.0\n",
            "number of the traspoted Delhi Raipur : 0.0\n",
            "number of the traspoted Delhi Agartala : 0.0\n",
            "number of the traspoted Kolkata Hassan : 0.0\n",
            "number of the traspoted Kolkata Jodhpur : 0.0\n",
            "number of the traspoted Kolkata Trichy : 0.0\n",
            "number of the traspoted Kolkata Simla : 0.0\n",
            "number of the traspoted Kolkata Markets Vijayawada : 0.0\n",
            "number of the traspoted Kolkata Dibrugarh : 95.0\n",
            "number of the traspoted Kolkata Raipur : 0.0\n",
            "number of the traspoted Kolkata Agartala : 110.0\n",
            "number of the traspoted Lucknow Hassan : 0.0\n",
            "number of the traspoted Lucknow Jodhpur : 0.0\n",
            "number of the traspoted Lucknow Trichy : 0.0\n",
            "number of the traspoted Lucknow Simla : 0.0\n",
            "number of the traspoted Lucknow Markets Vijayawada : 0.0\n",
            "number of the traspoted Lucknow Dibrugarh : 130.0\n",
            "number of the traspoted Lucknow Raipur : 45.0\n",
            "number of the traspoted Lucknow Agartala : 0.0\n",
            "number of the traspoted Mumbai Hassan : 205.0\n",
            "number of the traspoted Mumbai Jodhpur : 0.0\n",
            "number of the traspoted Mumbai Trichy : 0.0\n",
            "number of the traspoted Mumbai Simla : 90.0\n",
            "number of the traspoted Mumbai Markets Vijayawada : 0.0\n",
            "number of the traspoted Mumbai Dibrugarh : 0.0\n",
            "number of the traspoted Mumbai Raipur : 30.0\n",
            "number of the traspoted Mumbai Agartala : 0.0\n",
            "number of the traspoted Hyderabad Hassan : 0.0\n",
            "number of the traspoted Hyderabad Jodhpur : 0.0\n",
            "number of the traspoted Hyderabad Trichy : 0.0\n",
            "number of the traspoted Hyderabad Simla : 0.0\n",
            "number of the traspoted Hyderabad Markets Vijayawada : 310.0\n",
            "number of the traspoted Hyderabad Dibrugarh : 0.0\n",
            "number of the traspoted Hyderabad Raipur : 60.0\n",
            "number of the traspoted Hyderabad Agartala : 0.0\n",
            "\n",
            "constraint\n",
            "constraint : Size=16\n",
            "    Key : Lower : Body  : Upper\n",
            "      1 :  None : 350.0 : 350.0\n",
            "      2 :  None : 185.0 : 185.0\n",
            "      3 :  None : 305.0 : 305.0\n",
            "      4 :  None : 180.0 : 180.0\n",
            "      5 :  None : 205.0 : 205.0\n",
            "      6 :  None : 175.0 : 175.0\n",
            "      7 :  None : 325.0 : 325.0\n",
            "      8 :  None : 370.0 : 370.0\n",
            "      9 : 205.0 : 205.0 : 205.0\n",
            "     10 : 300.0 : 300.0 : 300.0\n",
            "     11 : 425.0 : 425.0 : 425.0\n",
            "     12 : 270.0 : 270.0 : 270.0\n",
            "     13 : 375.0 : 375.0 : 375.0\n",
            "     14 : 225.0 : 225.0 : 225.0\n",
            "     15 : 185.0 : 185.0 : 185.0\n",
            "     16 : 110.0 : 110.0 : 110.0\n"
          ]
        }
      ]
    },
    {
      "cell_type": "markdown",
      "source": [
        "9)the tolat cost are 2380570.0\n",
        "\n",
        " decision variable\n",
        "number of the traspoted Ahmedabad Jodhpur : 300.0\n",
        "\n",
        "number of the traspoted Ahmedabad Raipur : 50.0\n",
        "number of the traspoted Bengaluru Trichy : 120.0\n",
        "number of the traspoted Bengaluru Markets Vijayawada : 65.0\n",
        "\n",
        "number of the traspoted Chennai Trichy : 305.0\n",
        "\n",
        "\n",
        "number of the traspoted Delhi Simla : 180.0\n",
        "\n",
        "\n",
        "number of the traspoted Kolkata Dibrugarh : 95.0\n",
        "number of the traspoted Kolkata Agartala : 110.0\n",
        "\n",
        "number of the traspoted Lucknow Markets Vijayawada : 0.0\n",
        "number of the traspoted Lucknow Dibrugarh : 130.0\n",
        "number of the traspoted Lucknow Raipur : 45.0\n",
        "\n",
        "number of the traspoted Mumbai Hassan : 205.0\n",
        "0\n",
        "number of the traspoted Mumbai Simla : 90.0\n",
        "\n",
        "number of the traspoted Mumbai Raipur : 30.0\n",
        "\n",
        "number of the traspoted Hyderabad Markets Vijayawada : 310.0\n",
        "\n",
        "number of the traspoted Hyderabad Raipur : 60.0\n",
        "comment:the cost is incresing when e the Lucknow-Simla link is disrupted and no transportation the solution are exist but this solution are   not optmial solution"
      ],
      "metadata": {
        "id": "UZ8BnL95om-2"
      }
    },
    {
      "cell_type": "markdown",
      "source": [
        "10)Suppose in addition to Lucknow-Simla link, the Kolkata-Dibrugarh link and Delhi-Raipur\n",
        "link are disrupted and no transportation is possible along these links as well:\n",
        "\n",
        "take a large value  all of  this route , since it is maximum cost and minimisation problem ,the solution doesn't include this \n",
        " now new obje function are\n",
        "          True : minimize : 827*x[0,0] + 817*x[0,1] + 1470*x[0,2] + 2272*x[0,3] + 1615*x[0,4] + 3143*x[0,5] + 1264*x[0,6] + 4465*x[0,7] + 559*x[1,0] + 1832*x[1,1] + 751*x[1,2] + 3772*x[1,3] + 637*x[1,4] + 3773*x[1,5] + 1856*x[1,6] + 5459*x[1,7] + 1109*x[2,0] + 2443*x[2,1] + 577*x[2,2] + 3865*x[2,3] + 798*x[2,4] + 3521*x[2,5] + 1984*x[2,6] + 5303*x[2,7] + 2943*x[3,0] + 1471*x[3,1] + 4676*x[3,2] + 1337*x[3,3] + 2702*x[3,4] + 2741*x[3,5] + 700000*x[3,6] + 4148*x[3,7] + 3742*x[4,0] + 3089*x[4,1] + 2931*x[4,2] + 3199*x[4,3] + 2226*x[4,4] + 600000*x[4,5] + 1691*x[4,6] + 2128*x[4,7] + 2353*x[5,0] + 1160*x[5,1] + 3295*x[5,2] + 500000*x[5,3] + 2369*x[5,4] + 2365*x[5,5] + 1293*x[5,6] + 3642*x[5,7] + 1356*x[6,0] + 1617*x[6,1] + 2045*x[6,2] + 2941*x[6,3] + 2334*x[6,4] + 4151*x[6,5] + 1937*x[6,6] + 4287*x[6,7] + 195*x[7,0] + 1862*x[7,1] + 1331*x[7,2] + 2921*x[7,3] + 402*x[7,4] + 2825*x[7,5] + 563*x[7,6] + 4441*x[7,7]\n"
      ],
      "metadata": {
        "id": "usAA9a8JRl9k"
      }
    },
    {
      "cell_type": "code",
      "source": [
        "\n",
        "data_csvfile2= pd.read_csv('_lab6 ex1-3.csv')"
      ],
      "metadata": {
        "id": "LNsI-ZJmabas"
      },
      "execution_count": null,
      "outputs": []
    },
    {
      "cell_type": "code",
      "source": [
        "model.objective.deactivate()"
      ],
      "metadata": {
        "colab": {
          "base_uri": "https://localhost:8080/"
        },
        "id": "Ducu42L2abzy",
        "outputId": "c19ba359-4eb6-47d4-e1db-5bca486ee761"
      },
      "execution_count": null,
      "outputs": [
        {
          "output_type": "execute_result",
          "data": {
            "text/plain": [
              "<bound method ActiveComponentData.deactivate of <pyomo.core.base.objective.ScalarObjective object at 0x7fb478e96360>>"
            ]
          },
          "metadata": {},
          "execution_count": 45
        }
      ]
    },
    {
      "cell_type": "code",
      "source": [
        "model.objective = Objective(expr=sum(data_csvfile2.iloc[i,j+1]*model.x[i,j] for i in row_indices for j in col_indices),sense=minimize)"
      ],
      "metadata": {
        "colab": {
          "base_uri": "https://localhost:8080/"
        },
        "id": "uwNsbQieajn0",
        "outputId": "76c7874b-51e6-4b1f-a6c3-01f505e7b49c"
      },
      "execution_count": null,
      "outputs": [
        {
          "output_type": "stream",
          "name": "stderr",
          "text": [
            "WARNING:pyomo.core:Implicitly replacing the Component attribute objective (type=<class 'pyomo.core.base.objective.ScalarObjective'>) on block unknown with a new Component (type=<class 'pyomo.core.base.objective.ScalarObjective'>).\n",
            "This is usually indicative of a modelling error.\n",
            "To avoid this warning, use block.del_component() and block.add_component().\n"
          ]
        }
      ]
    },
    {
      "cell_type": "code",
      "source": [
        "model.pprint()"
      ],
      "metadata": {
        "colab": {
          "base_uri": "https://localhost:8080/"
        },
        "id": "S4CK8Uhga-O9",
        "outputId": "5c433112-311e-405a-fc75-da76bcde8ba2"
      },
      "execution_count": null,
      "outputs": [
        {
          "output_type": "stream",
          "name": "stdout",
          "text": [
            "4 Set Declarations\n",
            "    constraint_index : Size=1, Index=None, Ordered=Insertion\n",
            "        Key  : Dimen : Domain : Size : Members\n",
            "        None :     1 :    Any :   16 : {1, 2, 3, 4, 5, 6, 7, 8, 9, 10, 11, 12, 13, 14, 15, 16}\n",
            "    x_index : Size=1, Index=None, Ordered=True\n",
            "        Key  : Dimen : Domain              : Size : Members\n",
            "        None :     2 : x_index_0*x_index_1 :   64 : {(0, 0), (0, 1), (0, 2), (0, 3), (0, 4), (0, 5), (0, 6), (0, 7), (1, 0), (1, 1), (1, 2), (1, 3), (1, 4), (1, 5), (1, 6), (1, 7), (2, 0), (2, 1), (2, 2), (2, 3), (2, 4), (2, 5), (2, 6), (2, 7), (3, 0), (3, 1), (3, 2), (3, 3), (3, 4), (3, 5), (3, 6), (3, 7), (4, 0), (4, 1), (4, 2), (4, 3), (4, 4), (4, 5), (4, 6), (4, 7), (5, 0), (5, 1), (5, 2), (5, 3), (5, 4), (5, 5), (5, 6), (5, 7), (6, 0), (6, 1), (6, 2), (6, 3), (6, 4), (6, 5), (6, 6), (6, 7), (7, 0), (7, 1), (7, 2), (7, 3), (7, 4), (7, 5), (7, 6), (7, 7)}\n",
            "    x_index_0 : Size=1, Index=None, Ordered=Insertion\n",
            "        Key  : Dimen : Domain : Size : Members\n",
            "        None :     1 :    Any :    8 : {0, 1, 2, 3, 4, 5, 6, 7}\n",
            "    x_index_1 : Size=1, Index=None, Ordered=Insertion\n",
            "        Key  : Dimen : Domain : Size : Members\n",
            "        None :     1 :    Any :    8 : {0, 1, 2, 3, 4, 5, 6, 7}\n",
            "\n",
            "1 Var Declarations\n",
            "    x : Size=64, Index=x_index\n",
            "        Key    : Lower : Value : Upper : Fixed : Stale : Domain\n",
            "        (0, 0) :     0 :   0.0 :  None : False : False : NonNegativeReals\n",
            "        (0, 1) :     0 : 300.0 :  None : False : False : NonNegativeReals\n",
            "        (0, 2) :     0 :   0.0 :  None : False : False : NonNegativeReals\n",
            "        (0, 3) :     0 :   0.0 :  None : False : False : NonNegativeReals\n",
            "        (0, 4) :     0 :   0.0 :  None : False : False : NonNegativeReals\n",
            "        (0, 5) :     0 :   0.0 :  None : False : False : NonNegativeReals\n",
            "        (0, 6) :     0 :  50.0 :  None : False : False : NonNegativeReals\n",
            "        (0, 7) :     0 :   0.0 :  None : False : False : NonNegativeReals\n",
            "        (1, 0) :     0 :   0.0 :  None : False : False : NonNegativeReals\n",
            "        (1, 1) :     0 :   0.0 :  None : False : False : NonNegativeReals\n",
            "        (1, 2) :     0 : 120.0 :  None : False : False : NonNegativeReals\n",
            "        (1, 3) :     0 :   0.0 :  None : False : False : NonNegativeReals\n",
            "        (1, 4) :     0 :  65.0 :  None : False : False : NonNegativeReals\n",
            "        (1, 5) :     0 :   0.0 :  None : False : False : NonNegativeReals\n",
            "        (1, 6) :     0 :   0.0 :  None : False : False : NonNegativeReals\n",
            "        (1, 7) :     0 :   0.0 :  None : False : False : NonNegativeReals\n",
            "        (2, 0) :     0 :   0.0 :  None : False : False : NonNegativeReals\n",
            "        (2, 1) :     0 :   0.0 :  None : False : False : NonNegativeReals\n",
            "        (2, 2) :     0 : 305.0 :  None : False : False : NonNegativeReals\n",
            "        (2, 3) :     0 :   0.0 :  None : False : False : NonNegativeReals\n",
            "        (2, 4) :     0 :   0.0 :  None : False : False : NonNegativeReals\n",
            "        (2, 5) :     0 :   0.0 :  None : False : False : NonNegativeReals\n",
            "        (2, 6) :     0 :   0.0 :  None : False : False : NonNegativeReals\n",
            "        (2, 7) :     0 :   0.0 :  None : False : False : NonNegativeReals\n",
            "        (3, 0) :     0 :   0.0 :  None : False : False : NonNegativeReals\n",
            "        (3, 1) :     0 :   0.0 :  None : False : False : NonNegativeReals\n",
            "        (3, 2) :     0 :   0.0 :  None : False : False : NonNegativeReals\n",
            "        (3, 3) :     0 : 180.0 :  None : False : False : NonNegativeReals\n",
            "        (3, 4) :     0 :   0.0 :  None : False : False : NonNegativeReals\n",
            "        (3, 5) :     0 :   0.0 :  None : False : False : NonNegativeReals\n",
            "        (3, 6) :     0 :   0.0 :  None : False : False : NonNegativeReals\n",
            "        (3, 7) :     0 :   0.0 :  None : False : False : NonNegativeReals\n",
            "        (4, 0) :     0 :   0.0 :  None : False : False : NonNegativeReals\n",
            "        (4, 1) :     0 :   0.0 :  None : False : False : NonNegativeReals\n",
            "        (4, 2) :     0 :   0.0 :  None : False : False : NonNegativeReals\n",
            "        (4, 3) :     0 :   0.0 :  None : False : False : NonNegativeReals\n",
            "        (4, 4) :     0 :   0.0 :  None : False : False : NonNegativeReals\n",
            "        (4, 5) :     0 :  95.0 :  None : False : False : NonNegativeReals\n",
            "        (4, 6) :     0 :   0.0 :  None : False : False : NonNegativeReals\n",
            "        (4, 7) :     0 : 110.0 :  None : False : False : NonNegativeReals\n",
            "        (5, 0) :     0 :   0.0 :  None : False : False : NonNegativeReals\n",
            "        (5, 1) :     0 :   0.0 :  None : False : False : NonNegativeReals\n",
            "        (5, 2) :     0 :   0.0 :  None : False : False : NonNegativeReals\n",
            "        (5, 3) :     0 :   0.0 :  None : False : False : NonNegativeReals\n",
            "        (5, 4) :     0 :   0.0 :  None : False : False : NonNegativeReals\n",
            "        (5, 5) :     0 : 130.0 :  None : False : False : NonNegativeReals\n",
            "        (5, 6) :     0 :  45.0 :  None : False : False : NonNegativeReals\n",
            "        (5, 7) :     0 :   0.0 :  None : False : False : NonNegativeReals\n",
            "        (6, 0) :     0 : 205.0 :  None : False : False : NonNegativeReals\n",
            "        (6, 1) :     0 :   0.0 :  None : False : False : NonNegativeReals\n",
            "        (6, 2) :     0 :   0.0 :  None : False : False : NonNegativeReals\n",
            "        (6, 3) :     0 :  90.0 :  None : False : False : NonNegativeReals\n",
            "        (6, 4) :     0 :   0.0 :  None : False : False : NonNegativeReals\n",
            "        (6, 5) :     0 :   0.0 :  None : False : False : NonNegativeReals\n",
            "        (6, 6) :     0 :  30.0 :  None : False : False : NonNegativeReals\n",
            "        (6, 7) :     0 :   0.0 :  None : False : False : NonNegativeReals\n",
            "        (7, 0) :     0 :   0.0 :  None : False : False : NonNegativeReals\n",
            "        (7, 1) :     0 :   0.0 :  None : False : False : NonNegativeReals\n",
            "        (7, 2) :     0 :   0.0 :  None : False : False : NonNegativeReals\n",
            "        (7, 3) :     0 :   0.0 :  None : False : False : NonNegativeReals\n",
            "        (7, 4) :     0 : 310.0 :  None : False : False : NonNegativeReals\n",
            "        (7, 5) :     0 :   0.0 :  None : False : False : NonNegativeReals\n",
            "        (7, 6) :     0 :  60.0 :  None : False : False : NonNegativeReals\n",
            "        (7, 7) :     0 :   0.0 :  None : False : False : NonNegativeReals\n",
            "\n",
            "1 Objective Declarations\n",
            "    objective : Size=1, Index=None, Active=True\n",
            "        Key  : Active : Sense    : Expression\n",
            "        None :   True : minimize : 827*x[0,0] + 817*x[0,1] + 1470*x[0,2] + 2272*x[0,3] + 1615*x[0,4] + 3143*x[0,5] + 1264*x[0,6] + 4465*x[0,7] + 559*x[1,0] + 1832*x[1,1] + 751*x[1,2] + 3772*x[1,3] + 637*x[1,4] + 3773*x[1,5] + 1856*x[1,6] + 5459*x[1,7] + 1109*x[2,0] + 2443*x[2,1] + 577*x[2,2] + 3865*x[2,3] + 798*x[2,4] + 3521*x[2,5] + 1984*x[2,6] + 5303*x[2,7] + 2943*x[3,0] + 1471*x[3,1] + 4676*x[3,2] + 1337*x[3,3] + 2702*x[3,4] + 2741*x[3,5] + 700000*x[3,6] + 4148*x[3,7] + 3742*x[4,0] + 3089*x[4,1] + 2931*x[4,2] + 3199*x[4,3] + 2226*x[4,4] + 600000*x[4,5] + 1691*x[4,6] + 2128*x[4,7] + 2353*x[5,0] + 1160*x[5,1] + 3295*x[5,2] + 500000*x[5,3] + 2369*x[5,4] + 2365*x[5,5] + 1293*x[5,6] + 3642*x[5,7] + 1356*x[6,0] + 1617*x[6,1] + 2045*x[6,2] + 2941*x[6,3] + 2334*x[6,4] + 4151*x[6,5] + 1937*x[6,6] + 4287*x[6,7] + 195*x[7,0] + 1862*x[7,1] + 1331*x[7,2] + 2921*x[7,3] + 402*x[7,4] + 2825*x[7,5] + 563*x[7,6] + 4441*x[7,7]\n",
            "\n",
            "1 Constraint Declarations\n",
            "    constraint : Size=16, Index=constraint_index, Active=True\n",
            "        Key : Lower : Body                                                                  : Upper : Active\n",
            "          1 :  -Inf : x[0,0] + x[0,1] + x[0,2] + x[0,3] + x[0,4] + x[0,5] + x[0,6] + x[0,7] : 350.0 :   True\n",
            "          2 :  -Inf : x[1,0] + x[1,1] + x[1,2] + x[1,3] + x[1,4] + x[1,5] + x[1,6] + x[1,7] : 185.0 :   True\n",
            "          3 :  -Inf : x[2,0] + x[2,1] + x[2,2] + x[2,3] + x[2,4] + x[2,5] + x[2,6] + x[2,7] : 305.0 :   True\n",
            "          4 :  -Inf : x[3,0] + x[3,1] + x[3,2] + x[3,3] + x[3,4] + x[3,5] + x[3,6] + x[3,7] : 180.0 :   True\n",
            "          5 :  -Inf : x[4,0] + x[4,1] + x[4,2] + x[4,3] + x[4,4] + x[4,5] + x[4,6] + x[4,7] : 205.0 :   True\n",
            "          6 :  -Inf : x[5,0] + x[5,1] + x[5,2] + x[5,3] + x[5,4] + x[5,5] + x[5,6] + x[5,7] : 175.0 :   True\n",
            "          7 :  -Inf : x[6,0] + x[6,1] + x[6,2] + x[6,3] + x[6,4] + x[6,5] + x[6,6] + x[6,7] : 325.0 :   True\n",
            "          8 :  -Inf : x[7,0] + x[7,1] + x[7,2] + x[7,3] + x[7,4] + x[7,5] + x[7,6] + x[7,7] : 370.0 :   True\n",
            "          9 : 205.0 : x[0,0] + x[1,0] + x[2,0] + x[3,0] + x[4,0] + x[5,0] + x[6,0] + x[7,0] : 205.0 :   True\n",
            "         10 : 300.0 : x[0,1] + x[1,1] + x[2,1] + x[3,1] + x[4,1] + x[5,1] + x[6,1] + x[7,1] : 300.0 :   True\n",
            "         11 : 425.0 : x[0,2] + x[1,2] + x[2,2] + x[3,2] + x[4,2] + x[5,2] + x[6,2] + x[7,2] : 425.0 :   True\n",
            "         12 : 270.0 : x[0,3] + x[1,3] + x[2,3] + x[3,3] + x[4,3] + x[5,3] + x[6,3] + x[7,3] : 270.0 :   True\n",
            "         13 : 375.0 : x[0,4] + x[1,4] + x[2,4] + x[3,4] + x[4,4] + x[5,4] + x[6,4] + x[7,4] : 375.0 :   True\n",
            "         14 : 225.0 : x[0,5] + x[1,5] + x[2,5] + x[3,5] + x[4,5] + x[5,5] + x[6,5] + x[7,5] : 225.0 :   True\n",
            "         15 : 185.0 : x[0,6] + x[1,6] + x[2,6] + x[3,6] + x[4,6] + x[5,6] + x[6,6] + x[7,6] : 185.0 :   True\n",
            "         16 : 110.0 : x[0,7] + x[1,7] + x[2,7] + x[3,7] + x[4,7] + x[5,7] + x[6,7] + x[7,7] : 110.0 :   True\n",
            "\n",
            "7 Declarations: x_index_0 x_index_1 x_index x constraint_index constraint objective\n"
          ]
        }
      ]
    },
    {
      "cell_type": "code",
      "source": [
        "!apt-get install -y -qq coinor-cbc"
      ],
      "metadata": {
        "id": "3BgGf6fRa-jS"
      },
      "execution_count": null,
      "outputs": []
    },
    {
      "cell_type": "code",
      "source": [
        "opt_cbc= SolverFactory('cbc',)"
      ],
      "metadata": {
        "id": "0HfciVC0bW3N"
      },
      "execution_count": null,
      "outputs": []
    },
    {
      "cell_type": "code",
      "source": [
        "result = opt_cbc.solve(model)\n",
        "print('solver statuas:',result.solver.status)\n",
        "print('solver termination condition:',result.solver.termination_condition)"
      ],
      "metadata": {
        "colab": {
          "base_uri": "https://localhost:8080/"
        },
        "id": "B_p_iVx8bhue",
        "outputId": "540d7fa7-836f-48f6-f3d3-fce50ff2fcc9"
      },
      "execution_count": null,
      "outputs": [
        {
          "output_type": "stream",
          "name": "stdout",
          "text": [
            "solver statuas: ok\n",
            "solver termination condition: optimal\n"
          ]
        }
      ]
    },
    {
      "cell_type": "code",
      "source": [
        "#displaty solution\n",
        "print('\\nObjective=',model.objective())\n",
        "print('\\n decision variable')\n",
        "for i  in row_indices:\n",
        "  for j in col_indices:\n",
        "    print('number of the traspoted',data_csvfile2['Warehouses'][i],data_csvfile2.columns[j+1],':',model.x[i,j].value)\n",
        "print('\\nconstraint')\n",
        "model.constraint.display()"
      ],
      "metadata": {
        "colab": {
          "base_uri": "https://localhost:8080/"
        },
        "id": "eCgoyVLTbnP5",
        "outputId": "4d4b14a4-03c4-439d-f963-3ac6a849226a"
      },
      "execution_count": null,
      "outputs": [
        {
          "output_type": "stream",
          "name": "stdout",
          "text": [
            "\n",
            "Objective= 2518200.0\n",
            "\n",
            " decision variable\n",
            "number of the traspoted Ahmedabad Hassan : 0.0\n",
            "number of the traspoted Ahmedabad Jodhpur : 300.0\n",
            "number of the traspoted Ahmedabad Trichy : 0.0\n",
            "number of the traspoted Ahmedabad Simla : 0.0\n",
            "number of the traspoted Ahmedabad Markets Vijayawada : 0.0\n",
            "number of the traspoted Ahmedabad Dibrugarh : 50.0\n",
            "number of the traspoted Ahmedabad Raipur : 0.0\n",
            "number of the traspoted Ahmedabad Agartala : 0.0\n",
            "number of the traspoted Bengaluru Hassan : 0.0\n",
            "number of the traspoted Bengaluru Jodhpur : 0.0\n",
            "number of the traspoted Bengaluru Trichy : 120.0\n",
            "number of the traspoted Bengaluru Simla : 0.0\n",
            "number of the traspoted Bengaluru Markets Vijayawada : 65.0\n",
            "number of the traspoted Bengaluru Dibrugarh : 0.0\n",
            "number of the traspoted Bengaluru Raipur : 0.0\n",
            "number of the traspoted Bengaluru Agartala : 0.0\n",
            "number of the traspoted Chennai Hassan : 0.0\n",
            "number of the traspoted Chennai Jodhpur : 0.0\n",
            "number of the traspoted Chennai Trichy : 305.0\n",
            "number of the traspoted Chennai Simla : 0.0\n",
            "number of the traspoted Chennai Markets Vijayawada : 0.0\n",
            "number of the traspoted Chennai Dibrugarh : 0.0\n",
            "number of the traspoted Chennai Raipur : 0.0\n",
            "number of the traspoted Chennai Agartala : 0.0\n",
            "number of the traspoted Delhi Hassan : 0.0\n",
            "number of the traspoted Delhi Jodhpur : 0.0\n",
            "number of the traspoted Delhi Trichy : 0.0\n",
            "number of the traspoted Delhi Simla : 180.0\n",
            "number of the traspoted Delhi Markets Vijayawada : 0.0\n",
            "number of the traspoted Delhi Dibrugarh : 0.0\n",
            "number of the traspoted Delhi Raipur : 0.0\n",
            "number of the traspoted Delhi Agartala : 0.0\n",
            "number of the traspoted Kolkata Hassan : 0.0\n",
            "number of the traspoted Kolkata Jodhpur : 0.0\n",
            "number of the traspoted Kolkata Trichy : 0.0\n",
            "number of the traspoted Kolkata Simla : 0.0\n",
            "number of the traspoted Kolkata Markets Vijayawada : 0.0\n",
            "number of the traspoted Kolkata Dibrugarh : 0.0\n",
            "number of the traspoted Kolkata Raipur : 95.0\n",
            "number of the traspoted Kolkata Agartala : 110.0\n",
            "number of the traspoted Lucknow Hassan : 0.0\n",
            "number of the traspoted Lucknow Jodhpur : 0.0\n",
            "number of the traspoted Lucknow Trichy : 0.0\n",
            "number of the traspoted Lucknow Simla : 0.0\n",
            "number of the traspoted Lucknow Markets Vijayawada : 0.0\n",
            "number of the traspoted Lucknow Dibrugarh : 175.0\n",
            "number of the traspoted Lucknow Raipur : 0.0\n",
            "number of the traspoted Lucknow Agartala : 0.0\n",
            "number of the traspoted Mumbai Hassan : 205.0\n",
            "number of the traspoted Mumbai Jodhpur : 0.0\n",
            "number of the traspoted Mumbai Trichy : 0.0\n",
            "number of the traspoted Mumbai Simla : 90.0\n",
            "number of the traspoted Mumbai Markets Vijayawada : 0.0\n",
            "number of the traspoted Mumbai Dibrugarh : 0.0\n",
            "number of the traspoted Mumbai Raipur : 30.0\n",
            "number of the traspoted Mumbai Agartala : 0.0\n",
            "number of the traspoted Hyderabad Hassan : 0.0\n",
            "number of the traspoted Hyderabad Jodhpur : 0.0\n",
            "number of the traspoted Hyderabad Trichy : 0.0\n",
            "number of the traspoted Hyderabad Simla : 0.0\n",
            "number of the traspoted Hyderabad Markets Vijayawada : 310.0\n",
            "number of the traspoted Hyderabad Dibrugarh : 0.0\n",
            "number of the traspoted Hyderabad Raipur : 60.0\n",
            "number of the traspoted Hyderabad Agartala : 0.0\n",
            "\n",
            "constraint\n",
            "constraint : Size=16\n",
            "    Key : Lower : Body  : Upper\n",
            "      1 :  None : 350.0 : 350.0\n",
            "      2 :  None : 185.0 : 185.0\n",
            "      3 :  None : 305.0 : 305.0\n",
            "      4 :  None : 180.0 : 180.0\n",
            "      5 :  None : 205.0 : 205.0\n",
            "      6 :  None : 175.0 : 175.0\n",
            "      7 :  None : 325.0 : 325.0\n",
            "      8 :  None : 370.0 : 370.0\n",
            "      9 : 205.0 : 205.0 : 205.0\n",
            "     10 : 300.0 : 300.0 : 300.0\n",
            "     11 : 425.0 : 425.0 : 425.0\n",
            "     12 : 270.0 : 270.0 : 270.0\n",
            "     13 : 375.0 : 375.0 : 375.0\n",
            "     14 : 225.0 : 225.0 : 225.0\n",
            "     15 : 185.0 : 185.0 : 185.0\n",
            "     16 : 110.0 : 110.0 : 110.0\n"
          ]
        }
      ]
    },
    {
      "cell_type": "markdown",
      "source": [
        "11)\n",
        "the tolat cost 2518200.0\n",
        "\n",
        " decision variable\n",
        "number of the traspoted Ahmedabad Jodhpur : 300.0\n",
        "\n",
        "number of the traspoted Ahmedabad Dibrugarh : 50.0\n",
        "\n",
        "number of the traspoted Bengaluru Trichy : 120.0\n",
        "\n",
        "number of the traspoted Chennai Trichy : 305.0\n",
        "0\n",
        "number of the traspoted Delhi Simla : 180.0\n",
        "\n",
        "\n",
        "number of the traspoted Kolkata Raipur : 95.0\n",
        "number of the traspoted Kolkata Agartala : 110.0\n",
        "\n",
        "number of the traspoted Lucknow Dibrugarh : 175.0\n",
        "\n",
        "number of the traspoted Mumbai Hassan : 205.0\n",
        "\n",
        "number of the traspoted Mumbai Simla : 90.0\n",
        "\n",
        "number of the traspoted Mumbai Raipur : 30.0\n",
        "\n",
        "number of the traspoted Hyderabad Markets Vijayawada : 310.0\n",
        "number of the traspoted Hyderabad Raipur : 60.0\n",
        ",\n",
        "\n",
        "objervation:Lucknow-Simla link, the Kolkata-Dibrugarh link and Delhi-Raipur\n",
        "link are disrupted and no transportation is possible along these links as well,\n",
        " the cost are incerseing , then this is not optimal solution"
      ],
      "metadata": {
        "id": "mVEU3-kbnWMq"
      }
    },
    {
      "cell_type": "code",
      "source": [],
      "metadata": {
        "id": "ulfzRX3Lwgex"
      },
      "execution_count": null,
      "outputs": []
    },
    {
      "cell_type": "markdown",
      "source": [],
      "metadata": {
        "id": "VWgQD3X-RGyV"
      }
    },
    {
      "cell_type": "code",
      "source": [],
      "metadata": {
        "id": "1Z8AHHBowgjD"
      },
      "execution_count": null,
      "outputs": []
    },
    {
      "cell_type": "code",
      "source": [],
      "metadata": {
        "id": "N7rL5LV1wi9N"
      },
      "execution_count": null,
      "outputs": []
    },
    {
      "cell_type": "code",
      "source": [],
      "metadata": {
        "id": "QwvmlOkkwlvk"
      },
      "execution_count": null,
      "outputs": []
    }
  ],
  "metadata": {
    "colab": {
      "provenance": []
    },
    "kernelspec": {
      "display_name": "Python 3",
      "name": "python3"
    },
    "language_info": {
      "name": "python"
    }
  },
  "nbformat": 4,
  "nbformat_minor": 0
}